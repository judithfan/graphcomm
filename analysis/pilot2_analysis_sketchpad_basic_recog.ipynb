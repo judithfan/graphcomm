{
 "cells": [
  {
   "cell_type": "code",
   "execution_count": 1,
   "metadata": {
    "collapsed": true
   },
   "outputs": [],
   "source": [
    "import os\n",
    "import urllib, cStringIO\n",
    "\n",
    "import pymongo as pm\n",
    "\n",
    "import matplotlib\n",
    "from matplotlib import pylab, mlab, pyplot\n",
    "%matplotlib inline\n",
    "from IPython.core.pylabtools import figsize, getfigs\n",
    "plt = pyplot\n",
    "import seaborn as sns\n",
    "sns.set_context('poster')\n",
    "sns.set_style('white')\n",
    "\n",
    "import numpy as np\n",
    "from __future__ import division\n",
    "import scipy.stats as stats\n",
    "import pandas as pd\n",
    "import json\n",
    "import re\n",
    "\n",
    "from PIL import Image\n",
    "import base64\n",
    "import json\n",
    "\n",
    "import analysis_helpers as h\n",
    "reload(h)\n",
    "\n",
    "## get standardized object list\n",
    "categories = ['bird','car','chair','dog']\n",
    "obj_list = []\n",
    "for cat in categories:\n",
    "    for i,j in h.objcat.iteritems():\n",
    "        if j==cat:\n",
    "            obj_list.append(i)        "
   ]
  },
  {
   "cell_type": "code",
   "execution_count": 2,
   "metadata": {
    "collapsed": false
   },
   "outputs": [],
   "source": [
    "# directory & file hierarchy\n",
    "iterationName = 'pilot2'\n",
    "exp_path = './'\n",
    "analysis_dir = os.getcwd()\n",
    "data_dir = os.path.abspath(os.path.join(os.getcwd(),'../../..','data',exp_path))\n",
    "exp_dir = './'\n",
    "sketch_dir = os.path.abspath(os.path.join(os.getcwd(),'../../..','analysis',exp_path,'sketches','pilot2'))"
   ]
  },
  {
   "cell_type": "code",
   "execution_count": 3,
   "metadata": {
    "collapsed": true
   },
   "outputs": [],
   "source": [
    "# set vars \n",
    "auth = pd.read_csv('auth.txt', header = None) # this auth.txt file contains the password for the sketchloop user\n",
    "pswd = auth.values[0][0]\n",
    "user = 'sketchloop'\n",
    "host = 'rxdhawkins.me' ## cocolab ip address\n",
    "\n",
    "# have to fix this to be able to analyze from local\n",
    "import pymongo as pm\n",
    "conn = pm.MongoClient('mongodb://sketchloop:' + pswd + '@127.0.0.1')\n",
    "db = conn['3dObjects']\n",
    "coll = db['sketchpad_basic_recog']\n",
    "\n",
    "stimdb = conn['stimuli']\n",
    "stimcoll = stimdb['sketchpad_basic_pilot2_sketches']"
   ]
  },
  {
   "cell_type": "code",
   "execution_count": 4,
   "metadata": {
    "collapsed": false
   },
   "outputs": [
    {
     "name": "stdout",
     "output_type": "stream",
     "text": [
      "2849 sketches in the stimuli db that have been retrieved at least once\n",
      "27382 records in the recognition experiment database\n",
      "312 unique workers.\n"
     ]
    }
   ],
   "source": [
    "## How many sketches have been retrieved at least once? equivalent to: coll.find({'numGames':{'$exists':1}}).count()\n",
    "x = stimcoll.find({'numGames':{'$gte':0}}).count()\n",
    "y = coll.count()\n",
    "print '{} sketches in the stimuli db that have been retrieved at least once'.format(x)\n",
    "print '{} records in the recognition experiment database'.format(y)\n",
    "### \"pilot2\" of recog experiment run on Sunday April 22 2018\n",
    "print '{} unique workers.'.format(len(coll.find({'iterationName': {'$in': ['pilot0', 'pilot1', 'pilot2']}}).distinct('wID')))"
   ]
  },
  {
   "cell_type": "code",
   "execution_count": null,
   "metadata": {
    "collapsed": true
   },
   "outputs": [],
   "source": []
  },
  {
   "cell_type": "markdown",
   "metadata": {},
   "source": [
    "### preprocess recognition task data"
   ]
  },
  {
   "cell_type": "code",
   "execution_count": null,
   "metadata": {
    "collapsed": false
   },
   "outputs": [],
   "source": [
    "## retrieve records from db\n",
    "## notes: \n",
    "## pilot0 = no feedback onscreen\n",
    "## pilot1 = bonus point counter onscreen\n",
    "\n",
    "\n",
    "## make lists from db\n",
    "gameID = []\n",
    "target = []\n",
    "choice = []\n",
    "correct = []\n",
    "correct_class = []\n",
    "rt = []\n",
    "fname = []\n",
    "\n",
    "d1 = []\n",
    "d2 = []\n",
    "d3 = []\n",
    "target_category = []\n",
    "chosen_category = []\n",
    "condition = []\n",
    "drawDuration = []\n",
    "original_gameID = []\n",
    "viewer_correct = []\n",
    "viewer_choice = []\n",
    "viewer_RT = []\n",
    "mean_intensity = []\n",
    "num_strokes = []\n",
    "\n",
    "bad_sessions = ['1571-00d11ddf-96e7-4aae-ba09-1a338b328c0e','9770-2f360e9a-7a07-4026-9c36-18b558c1da21']\n",
    "a = coll.find({'iterationName': {'$in': ['pilot0', 'pilot1', 'pilot2']}}).sort('gameID').batch_size(50)\n",
    "\n",
    "counter = 0\n",
    "for rec in a:\n",
    "    if rec['gameID'] not in bad_sessions:\n",
    "        try:\n",
    "            if counter%500==0:\n",
    "                print '{} out of {} records analyzed.'.format(counter,a.count())\n",
    "            if rec['target'] is not None:\n",
    "                gameID.append(rec['gameID'])\n",
    "                target.append(rec['target'])\n",
    "                choice.append(rec['choice'])\n",
    "                correct.append(rec['correct'])\n",
    "                rt.append(rec['rt'])\n",
    "                f = rec['sketch'].split('/')[-1]\n",
    "                fname.append(f)\n",
    "                chosen_category.append(h.objcat[rec['choice']])\n",
    "\n",
    "                ## match up with corresponding record in stimuli collection\n",
    "                b = stimcoll.find({'fname_no_target':f})[0]\n",
    "                assert stimcoll.find({'fname_no_target':f}).count()==1\n",
    "                d1.append(b['Distractor1'])\n",
    "                d2.append(b['Distractor2'])\n",
    "                d3.append(b['Distractor2'])\n",
    "                target_category.append(b['category'])\n",
    "                correct_class.append(h.objcat[rec['choice']]==b['category'])\n",
    "                condition.append(b['condition'])\n",
    "                drawDuration.append(b['drawDuration'])\n",
    "                original_gameID.append(b['gameID'])\n",
    "                viewer_correct.append(b['outcome'])\n",
    "                viewer_choice.append(b['response'])\n",
    "                viewer_RT.append(b['viewerRT'])\n",
    "                mean_intensity.append(b['mean_intensity'])  \n",
    "                num_strokes.append(b['numStrokes'])    \n",
    "                counter += 1\n",
    "        except:\n",
    "            print 'Something went wrong with {} {}'.format(rec['gameID'],rec['trialNum'])\n",
    "            pass"
   ]
  },
  {
   "cell_type": "code",
   "execution_count": null,
   "metadata": {
    "collapsed": true
   },
   "outputs": [],
   "source": []
  },
  {
   "cell_type": "code",
   "execution_count": null,
   "metadata": {
    "collapsed": false
   },
   "outputs": [],
   "source": [
    "## organize data into dataframe\n",
    "X = pd.DataFrame([gameID,target,choice,correct,rt,fname,d1,d2,d3,target_category,chosen_category,condition,drawDuration, \\\n",
    "                 original_gameID,viewer_correct,viewer_choice,viewer_RT,mean_intensity,num_strokes,correct_class])\n",
    "X = X.transpose()\n",
    "X.columns = ['gameID','target','choice','correct','rt','fname','d1','d2','d3','target_category','chosen_category','condition','drawDuration', \\\n",
    "            'original_gameID','viewer_correct','viewer_choice','viewer_RT','mean_intensity','num_strokes','correct_class']\n",
    "print '{} annotations saved.'.format(X.shape[0])\n",
    "\n",
    "## save proto version of X as X0\n",
    "X0 = X"
   ]
  },
  {
   "cell_type": "code",
   "execution_count": null,
   "metadata": {
    "collapsed": true
   },
   "outputs": [],
   "source": []
  },
  {
   "cell_type": "code",
   "execution_count": null,
   "metadata": {
    "collapsed": false
   },
   "outputs": [],
   "source": [
    "## remove NaN rows from data matrix (no target recorded)\n",
    "X = X[X['target'].isin(obj_list)]\n",
    "\n",
    "## filter out games that were particularly low accuracy \n",
    "X['correct']=pd.to_numeric(X['correct'])\n",
    "acc = X.groupby('gameID')['correct'].mean().reset_index()\n",
    "acc_games = acc[acc['correct']>0.25]['gameID'] ## amounts to around 6% of data ## np.percentile(acc['correct'].values,6)\n",
    "X = X[X['gameID'].isin(acc_games)]\n",
    "\n",
    "## filter out responses that took too long, or too short\n",
    "too_fast = 1000\n",
    "too_slow = 30000\n",
    "X = X[(X['rt']>=too_fast) & (X['rt']<=too_slow)]\n",
    "\n",
    "print '{} annotations retained.'.format(X.shape[0])"
   ]
  },
  {
   "cell_type": "code",
   "execution_count": null,
   "metadata": {
    "collapsed": true
   },
   "outputs": [],
   "source": [
    "## save out to CSV\n",
    "X.to_csv('./sketchpad_basic_recog_group_data_2.csv')"
   ]
  },
  {
   "cell_type": "code",
   "execution_count": null,
   "metadata": {
    "collapsed": true
   },
   "outputs": [],
   "source": []
  },
  {
   "cell_type": "markdown",
   "metadata": {},
   "source": [
    "### basic performance measures "
   ]
  },
  {
   "cell_type": "code",
   "execution_count": 5,
   "metadata": {
    "collapsed": true
   },
   "outputs": [],
   "source": [
    "## load in CSV\n",
    "X = pd.read_csv('./sketchpad_basic_recog_group_data_2.csv')"
   ]
  },
  {
   "cell_type": "code",
   "execution_count": 6,
   "metadata": {
    "collapsed": true
   },
   "outputs": [],
   "source": [
    "if not os.path.exists('./plots'):\n",
    "    os.makedirs('./plots')"
   ]
  },
  {
   "cell_type": "code",
   "execution_count": 7,
   "metadata": {
    "collapsed": false
   },
   "outputs": [
    {
     "name": "stdout",
     "output_type": "stream",
     "text": [
      "Number of sessions: 422\n"
     ]
    }
   ],
   "source": [
    "## how many sessions (proxy for number of observers) do we have?\n",
    "print 'Number of sessions: {}'.format(len(np.unique(X.gameID.values)))"
   ]
  },
  {
   "cell_type": "code",
   "execution_count": null,
   "metadata": {
    "collapsed": false
   },
   "outputs": [],
   "source": []
  },
  {
   "cell_type": "code",
   "execution_count": 9,
   "metadata": {
    "collapsed": false
   },
   "outputs": [
    {
     "data": {
      "image/png": "[encoded data removed]",
      "text/plain": [
       "<Figure size 432x432 with 1 Axes>"
      ]
     },
     "metadata": {},
     "output_type": "display_data"
    }
   ],
   "source": [
    "### histogram of annotations per sketch\n",
    "fig = plt.figure(figsize=(6,6))\n",
    "x = X.groupby('fname')['gameID'].count().reset_index()\n",
    "h = sns.distplot(x['gameID'].values,bins=16,kde=False)\n",
    "plt.xlim(0,15)\n",
    "xt = plt.xticks(np.arange(0,16))\n",
    "plt.xlabel('number of annotations')\n",
    "plt.ylabel('number of sketches')\n",
    "plt.tight_layout()\n",
    "plt.savefig('./plots/num_annotations_per_sketch.pdf')"
   ]
  },
  {
   "cell_type": "code",
   "execution_count": 10,
   "metadata": {
    "collapsed": false
   },
   "outputs": [
    {
     "name": "stdout",
     "output_type": "stream",
     "text": [
      "  condition   correct\n",
      "0    closer  0.567835\n",
      "1   further  0.383790\n",
      "  condition  correct_class\n",
      "0    closer       0.984680\n",
      "1   further       0.979875\n"
     ]
    }
   ],
   "source": [
    "## what is object-level accuracy broken out condition?\n",
    "print X.groupby('condition')['correct'].apply(lambda x: np.mean(x)).reset_index()\n",
    "\n",
    "## what is class-level accuracy?\n",
    "print X.groupby('condition')['correct_class'].apply(lambda x: np.mean(x)).reset_index()"
   ]
  },
  {
   "cell_type": "code",
   "execution_count": null,
   "metadata": {
    "collapsed": true
   },
   "outputs": [],
   "source": []
  },
  {
   "cell_type": "code",
   "execution_count": 11,
   "metadata": {
    "collapsed": false
   },
   "outputs": [
    {
     "name": "stdout",
     "output_type": "stream",
     "text": [
      "condition\n",
      "closer     12206\n",
      "further    12770\n",
      "Name: correct, dtype: int64\n",
      "condition\n",
      "closer     6931\n",
      "further    4901\n",
      "Name: correct, dtype: int64\n"
     ]
    }
   ],
   "source": [
    "print X.groupby('condition')['correct'].count()\n",
    "print X.groupby('condition')['correct'].sum()"
   ]
  },
  {
   "cell_type": "code",
   "execution_count": 12,
   "metadata": {
    "collapsed": false
   },
   "outputs": [
    {
     "name": "stdout",
     "output_type": "stream",
     "text": [
      "Z stat for difference between two proportions (binomially distributed): 29.1189416267\n"
     ]
    }
   ],
   "source": [
    "#### are the two proportions different?\n",
    "p1 = X.groupby('condition')['correct'].apply(lambda x: np.mean(x))['closer']\n",
    "p2 = X.groupby('condition')['correct'].apply(lambda x: np.mean(x))['further']\n",
    "n1 = X.groupby('condition')['correct'].count()['closer']\n",
    "n2 = X.groupby('condition')['correct'].count()['further']\n",
    "p_hat = ((n1*p1)+(n2*p2))/(n1+n2)\n",
    "z = (p1 - p2) / (np.sqrt(p_hat * (1 - p_hat) * (1/n1 + 1/n2)))\n",
    "print 'Z stat for difference between two proportions (binomially distributed): {}'.format(z)"
   ]
  },
  {
   "cell_type": "code",
   "execution_count": 13,
   "metadata": {
    "collapsed": false
   },
   "outputs": [
    {
     "name": "stdout",
     "output_type": "stream",
     "text": [
      "Closer proportion diff from chance? p = 0.0\n",
      "Further proportion diff from chance? p = 0.0\n"
     ]
    }
   ],
   "source": [
    "import scipy\n",
    "p = scipy.stats.binom_test(p1*n1, n=n1, p=1/32, alternative='two-sided')\n",
    "print 'Closer proportion diff from chance? p = {}'.format(p)\n",
    "\n",
    "p = scipy.stats.binom_test(p2*n2, n=n2, p=1/32, alternative='two-sided')\n",
    "print 'Further proportion diff from chance? p = {}'.format(p)"
   ]
  },
  {
   "cell_type": "code",
   "execution_count": null,
   "metadata": {
    "collapsed": false
   },
   "outputs": [],
   "source": []
  },
  {
   "cell_type": "code",
   "execution_count": 14,
   "metadata": {
    "collapsed": false
   },
   "outputs": [
    {
     "name": "stderr",
     "output_type": "stream",
     "text": [
      "/Users/judithfan/Library/Python/2.7/lib/python/site-packages/seaborn/categorical.py:3666: UserWarning: The `factorplot` function has been renamed to `catplot`. The original name will be removed in a future release. Please update your code. Note that the default `kind` in `factorplot` (`'point'`) has changed `'strip'` in `catplot`.\n",
      "  warnings.warn(msg)\n",
      "/Users/judithfan/Library/Python/2.7/lib/python/site-packages/scipy/stats/stats.py:1713: FutureWarning: Using a non-tuple sequence for multidimensional indexing is deprecated; use `arr[tuple(seq)]` instead of `arr[seq]`. In the future this will be interpreted as an array index, `arr[np.array(seq)]`, which will result either in an error or a different result.\n",
      "  return np.add.reduce(sorted[indexer] * weights, axis=axis) / sumval\n"
     ]
    },
    {
     "data": {
      "text/plain": [
       "<Figure size 288x288 with 0 Axes>"
      ]
     },
     "metadata": {},
     "output_type": "display_data"
    },
    {
     "data": {
      "image/png": "[encoded data removed]",
      "text/plain": [
       "<Figure size 503.075x360 with 1 Axes>"
      ]
     },
     "metadata": {},
     "output_type": "display_data"
    }
   ],
   "source": [
    "## plot recognition accuracy by condition\n",
    "sns.set_context('poster')\n",
    "fig = plt.figure(figsize=(4,4))\n",
    "redgld=[(0.8, 0.2, 0.2),(0.9, 0.7, 0.3)]\n",
    "sns.factorplot(y='correct',\n",
    "                x='target_category',\n",
    "                hue='condition',\n",
    "                hue_order=['closer','further'],\n",
    "                order=['bird','car','chair','dog'],\n",
    "                data=X,kind='bar',palette=redgld)\n",
    "plt.ylim([0,1])\n",
    "plt.ylabel('proportion correct')\n",
    "plt.xlabel('category')\n",
    "h = plt.axhline(1/32,linestyle='dashed',color='black')\n",
    "plt.savefig('./plots/accuracy_by_category_and_condition.pdf')\n",
    "# plt.close(fig)"
   ]
  },
  {
   "cell_type": "code",
   "execution_count": 18,
   "metadata": {
    "collapsed": false
   },
   "outputs": [
    {
     "data": {
      "text/plain": [
       "<Figure size 144x288 with 0 Axes>"
      ]
     },
     "metadata": {},
     "output_type": "display_data"
    },
    {
     "data": {
      "image/png": "[encoded data removed]",
      "text/plain": [
       "<Figure size 196.56x302.4 with 1 Axes>"
      ]
     },
     "metadata": {},
     "output_type": "display_data"
    }
   ],
   "source": [
    "## plot recognition accuracy by condition\n",
    "plt.figure(figsize=(2,4))\n",
    "# sns.set_context('poster')\n",
    "redgld=[(0.8, 0.2, 0.2),(0.9, 0.7, 0.3)]\n",
    "sns.factorplot(y='correct',\n",
    "                x='condition',\n",
    "#                 hue='condition',\n",
    "                order=['further','closer'],\n",
    "#                 order=['bird','car','chair','dog'],\n",
    "                data=X,kind='bar',palette=redgld, height=4.2, aspect=0.65)\n",
    "plt.ylim([0,1])\n",
    "plt.ylabel('proportion correct')\n",
    "plt.xlabel('category')\n",
    "h = plt.axhline(1/32,linestyle='dashed',color='black')\n",
    "plt.tight_layout()\n",
    "plt.savefig('./plots/accuracy_by_condition.pdf')\n",
    "plt.savefig('../manuscript/figures/raw/accuracy_by_condition.pdf')\n",
    "plt.close(fig)"
   ]
  },
  {
   "cell_type": "code",
   "execution_count": 19,
   "metadata": {
    "collapsed": false
   },
   "outputs": [
    {
     "data": {
      "image/png": "[encoded data removed]",
      "text/plain": [
       "<Figure size 503.075x360 with 1 Axes>"
      ]
     },
     "metadata": {},
     "output_type": "display_data"
    }
   ],
   "source": [
    "## plot RT by condition\n",
    "sns.set_context('poster')\n",
    "# fig = plt.figure(figsize=(8,8))\n",
    "fig = plt.figure(figsize=(4,4))\n",
    "redgld=[(0.8, 0.2, 0.2),(0.9, 0.7, 0.3)]\n",
    "sns.factorplot(y='rt',\n",
    "                x='target_category',\n",
    "                hue='condition',\n",
    "                data=X,kind='bar',palette=redgld)\n",
    "plt.ylim([0,8000])\n",
    "plt.ylabel('RT')\n",
    "plt.xlabel('category')\n",
    "plt.savefig('./plots/RT_by_category_and_condition.pdf')\n",
    "plt.close(fig)"
   ]
  },
  {
   "cell_type": "code",
   "execution_count": 20,
   "metadata": {
    "collapsed": false
   },
   "outputs": [
    {
     "name": "stdout",
     "output_type": "stream",
     "text": [
      "condition\n",
      "closer     4525.5\n",
      "further    4672.0\n",
      "Name: rt, dtype: float64\n"
     ]
    }
   ],
   "source": [
    "print X.groupby('condition')['rt'].apply(lambda x: np.median(x))"
   ]
  },
  {
   "cell_type": "code",
   "execution_count": 21,
   "metadata": {
    "collapsed": true
   },
   "outputs": [],
   "source": [
    "# X.groupby(['gameID','condition'])['correct'].apply(lambda x: np.mean(x))\n",
    "# X.groupby(['gameID'])['correct'].apply(lambda x: np.mean(x))"
   ]
  },
  {
   "cell_type": "code",
   "execution_count": 22,
   "metadata": {
    "collapsed": true
   },
   "outputs": [],
   "source": [
    "## plot accuracy by condition and game (individual differences)\n",
    "#X.groupby(['gameID','condition'])['correct'].apply(lambda x: np.mean(x))\n",
    "\n",
    "## subset by full games only\n",
    "all_games = np.unique(X.gameID.values)\n",
    "full_games = [i for i in all_games if np.sum(X['gameID']==i)>50]\n",
    "_X = X[X['gameID'].isin(full_games)]\n",
    "\n",
    "game_acc_close = _X[_X['condition']=='closer'].groupby('gameID')['correct'].apply(lambda x: np.mean(x))\n",
    "game_acc_far = _X[_X['condition']=='further'].groupby('gameID')['correct'].apply(lambda x: np.mean(x))\n",
    "fig = plt.figure(figsize=(6,6))\n",
    "plt.scatter(game_acc_close,game_acc_far)\n",
    "plt.xlim([0,1])\n",
    "plt.ylim([0,1])\n",
    "plt.plot([0,1],[0,1],linestyle='dashed')\n",
    "plt.title('accuracy by condition and game')\n",
    "plt.xlabel('close accuracy')\n",
    "plt.ylabel('far accuracy')\n",
    "plt.savefig('./plots/accuracy_by_condition_and_game.pdf')\n",
    "plt.close(fig)"
   ]
  },
  {
   "cell_type": "code",
   "execution_count": null,
   "metadata": {
    "collapsed": true
   },
   "outputs": [],
   "source": []
  },
  {
   "cell_type": "code",
   "execution_count": null,
   "metadata": {
    "collapsed": true
   },
   "outputs": [],
   "source": []
  },
  {
   "cell_type": "code",
   "execution_count": 23,
   "metadata": {
    "collapsed": true
   },
   "outputs": [],
   "source": [
    "sns.set_context('poster')\n",
    "objs = np.unique(X['target'].values)\n",
    "objs = [o for o in objs if o is not None]\n",
    "obj_acc_close = X[X['condition']=='closer'].groupby('target')['correct'].apply(lambda x: np.mean(x))\n",
    "obj_acc_far = X[X['condition']=='further'].groupby('target')['correct'].apply(lambda x: np.mean(x))\n",
    "fig = plt.figure(figsize=(6,6))\n",
    "plt.scatter(obj_acc_close,obj_acc_far,color='gray')\n",
    "for i, txt in enumerate(objs):\n",
    "    plt.annotate(txt, (obj_acc_close[i],obj_acc_far[i]))\n",
    "plt.xlim([0,1])\n",
    "plt.ylim([0,1]) \n",
    "plt.plot([0,1],[0,1],linestyle='dashed',color='gray')\n",
    "plt.xlabel('close accuracy',fontsize=30)\n",
    "plt.ylabel('far accuracy',fontsize=30)\n",
    "# plt.title('accuracy by condition and object',fontsize=30)\n",
    "plt.savefig('./plots/accuracy_by_condition_and_object.pdf')\n",
    "plt.close(fig)"
   ]
  },
  {
   "cell_type": "code",
   "execution_count": 24,
   "metadata": {
    "collapsed": true
   },
   "outputs": [],
   "source": [
    "objs = np.unique(X['target'].values)\n",
    "objs = [o for o in objs if o is not None]\n",
    "obj_acc_close = X[X['condition']=='closer'].groupby('target')['rt'].apply(lambda x: np.mean(x))\n",
    "obj_acc_far = X[X['condition']=='further'].groupby('target')['rt'].apply(lambda x: np.mean(x))\n",
    "fig = plt.figure(figsize=(6,6))\n",
    "plt.scatter(obj_acc_close,obj_acc_far)\n",
    "# for i, txt in enumerate(objs):\n",
    "#     plt.annotate(txt, (obj_acc_close[i],obj_acc_far[i]))\n",
    "\n",
    "plt.xlim([0,15000])\n",
    "plt.ylim([0,15000])\n",
    "plt.plot([0,15000],[0,15000],linestyle='dashed')\n",
    "plt.xlabel('close RT')\n",
    "plt.ylabel('far RT')\n",
    "plt.title('RT by condition and object')\n",
    "plt.savefig('./plots/RT_by_condition_and_object.pdf')\n",
    "plt.close(fig)"
   ]
  },
  {
   "cell_type": "code",
   "execution_count": 25,
   "metadata": {
    "collapsed": true
   },
   "outputs": [],
   "source": [
    "## subset by full games only\n",
    "all_games = np.unique(X.gameID.values)\n",
    "full_games = [i for i in all_games if np.sum(X['gameID']==i)>50]\n",
    "_X = X[X['gameID'].isin(full_games)]\n",
    "\n",
    "game_acc_close = _X[_X['condition']=='closer'].groupby('gameID')['rt'].apply(lambda x: np.median(x))\n",
    "game_acc_far = _X[_X['condition']=='further'].groupby('gameID')['rt'].apply(lambda x: np.median(x))\n",
    "fig = plt.figure(figsize=(6,6))\n",
    "plt.scatter(game_acc_close,game_acc_far)\n",
    "# plt.xlim([0,20000])\n",
    "# plt.ylim([0,20000])\n",
    "# plt.plot([0,20000],[0,20000],linestyle='dashed')\n",
    "plt.title('RT by condition and game')\n",
    "plt.xlabel('close RT')\n",
    "plt.ylabel('far RT')\n",
    "plt.savefig('./plots/RT_by_condition_and_game.pdf')\n",
    "plt.close(fig)"
   ]
  },
  {
   "cell_type": "code",
   "execution_count": 26,
   "metadata": {
    "collapsed": true
   },
   "outputs": [],
   "source": [
    "## subset by full games only\n",
    "all_games = np.unique(X.gameID.values)\n",
    "full_games = [i for i in all_games if np.sum(X['gameID']==i)>50]\n",
    "_X = X[X['gameID'].isin(full_games)]\n",
    "\n",
    "acc = _X.groupby('gameID')['correct'].apply(lambda x: np.mean(x))\n",
    "rt = _X.groupby('gameID')['rt'].apply(lambda x: np.mean(x))\n",
    "fig = plt.figure(figsize=(6,6))\n",
    "plt.scatter(acc,rt)\n",
    "plt.xlabel('accuracy')\n",
    "plt.ylabel('RT')\n",
    "plt.title('RT vs. accuracy by game')\n",
    "plt.savefig('./plots/RT_vs_accuracy_by_game.pdf')\n",
    "plt.close(fig)"
   ]
  },
  {
   "cell_type": "code",
   "execution_count": null,
   "metadata": {
    "collapsed": true
   },
   "outputs": [],
   "source": []
  },
  {
   "cell_type": "code",
   "execution_count": 27,
   "metadata": {
    "collapsed": true
   },
   "outputs": [],
   "source": [
    "# Y = X.groupby(['target','condition'])['correct'].apply(lambda x: np.mean(x))"
   ]
  },
  {
   "cell_type": "markdown",
   "metadata": {},
   "source": [
    "### make confusion matrix"
   ]
  },
  {
   "cell_type": "code",
   "execution_count": 28,
   "metadata": {
    "collapsed": true
   },
   "outputs": [],
   "source": [
    "import analysis_helpers as h\n",
    "reload(h)\n",
    "\n",
    "## get standardized object list\n",
    "categories = ['bird','car','chair','dog']\n",
    "obj_list = []\n",
    "for cat in categories:\n",
    "    for i,j in h.objcat.iteritems():\n",
    "        if j==cat:\n",
    "            obj_list.append(i)        "
   ]
  },
  {
   "cell_type": "markdown",
   "metadata": {},
   "source": [
    "##### all sketches"
   ]
  },
  {
   "cell_type": "code",
   "execution_count": 29,
   "metadata": {
    "collapsed": true
   },
   "outputs": [],
   "source": [
    "## initialize confusion matrix\n",
    "confusion = np.zeros((len(obj_list),len(obj_list)))\n",
    "\n",
    "## generate confusion matrix by incrementing in each cell\n",
    "for i,d in X.iterrows():\n",
    "    targ_ind = obj_list.index(d['target'])\n",
    "    choice_ind = obj_list.index(d['choice'])\n",
    "    confusion[targ_ind,choice_ind] += 1\n",
    "    \n",
    "## normalized confusion matrix    \n",
    "normed = np.zeros((len(obj_list),len(obj_list)))\n",
    "for i in np.arange(len(confusion)):\n",
    "    normed[i,:] = confusion[i,:]/np.sum(confusion[i,:])    \n",
    "    \n",
    "## plot confusion matrix\n",
    "from matplotlib import cm\n",
    "fig = plt.figure(figsize=(8,8))\n",
    "ax = plt.subplot(111)\n",
    "cax = ax.matshow(normed,vmin=0,vmax=1,cmap=cm.viridis)\n",
    "plt.xticks(range(len(normed)), obj_list, fontsize=12,rotation='vertical')\n",
    "plt.yticks(range(len(normed)), obj_list, fontsize=12)\n",
    "plt.colorbar(cax,shrink=0.8)\n",
    "plt.tight_layout()\n",
    "plt.savefig('./plots/confusion_matrix_all.pdf')\n",
    "plt.close(fig)"
   ]
  },
  {
   "cell_type": "markdown",
   "metadata": {},
   "source": [
    "##### divided by condition"
   ]
  },
  {
   "cell_type": "code",
   "execution_count": 30,
   "metadata": {
    "collapsed": true
   },
   "outputs": [],
   "source": [
    "conds = ['closer','further']\n",
    "\n",
    "for cond in conds:\n",
    "    ## initialize confusion matrix \n",
    "    confusion = np.zeros((len(obj_list),len(obj_list)))\n",
    "\n",
    "    _X = X[X['condition']==cond]\n",
    "    ## generate confusion matrix by incrementing in each cell\n",
    "    for i,d in _X.iterrows():\n",
    "        targ_ind = obj_list.index(d['target'])\n",
    "        choice_ind = obj_list.index(d['choice'])\n",
    "        confusion[targ_ind,choice_ind] += 1\n",
    "\n",
    "    ## normalized confusion matrix    \n",
    "    normed = np.zeros((len(obj_list),len(obj_list)))\n",
    "    for i in np.arange(len(confusion)):\n",
    "        normed[i,:] = confusion[i,:]/np.sum(confusion[i,:])    \n",
    "\n",
    "    ## plot confusion matrix\n",
    "    from matplotlib import cm\n",
    "    fig = plt.figure(figsize=(8,8))\n",
    "    ax = plt.subplot(111)\n",
    "    cax = ax.matshow(normed,vmin=0,vmax=1,cmap=cm.viridis)\n",
    "    plt.xticks(range(len(normed)), obj_list, fontsize=12,rotation='vertical')\n",
    "    plt.yticks(range(len(normed)), obj_list, fontsize=12)\n",
    "    plt.colorbar(cax,shrink=0.8)\n",
    "    plt.tight_layout()\n",
    "    plt.savefig('./plots/confusion_matrix_{}.pdf'.format(cond))\n",
    "    plt.close(fig)"
   ]
  },
  {
   "cell_type": "markdown",
   "metadata": {},
   "source": [
    "##### plot difference between close and far conditions"
   ]
  },
  {
   "cell_type": "code",
   "execution_count": 31,
   "metadata": {
    "collapsed": true
   },
   "outputs": [],
   "source": [
    "conds = ['closer','further']\n",
    "normed = np.zeros((len(obj_list),len(obj_list),2))\n",
    "\n",
    "for k,cond in enumerate(conds):\n",
    "    ## initialize confusion matrix \n",
    "    confusion = np.zeros((len(obj_list),len(obj_list)))\n",
    "\n",
    "    _X = X[X['condition']==cond]\n",
    "    ## generate confusion matrix by incrementing in each cell\n",
    "    for i,d in _X.iterrows():\n",
    "        targ_ind = obj_list.index(d['target'])\n",
    "        choice_ind = obj_list.index(d['choice'])\n",
    "        confusion[targ_ind,choice_ind] += 1\n",
    "\n",
    "    ## normalized confusion matrix    \n",
    "    for i in np.arange(len(confusion)):\n",
    "        normed[i,:,k] = confusion[i,:]/np.sum(confusion[i,:])    \n",
    "\n",
    "## plot difference in confusion matrix\n",
    "from matplotlib import cm\n",
    "fig = plt.figure(figsize=(8,8))\n",
    "ax = plt.subplot(111)\n",
    "cax = ax.matshow(normed[:,:,0]-normed[:,:,1],vmin=-0.2,vmax=0.2,cmap=cm.BrBG)\n",
    "plt.xticks(range(len(normed)), obj_list, fontsize=12,rotation='vertical')\n",
    "plt.yticks(range(len(normed)), obj_list, fontsize=12)\n",
    "plt.colorbar(cax,shrink=0.8)\n",
    "plt.tight_layout()\n",
    "plt.savefig('./plots/confusion_matrix_close_minus_far.pdf')\n",
    "plt.close(fig)\n",
    "\n",
    "# save out to npy \n",
    "np.save('./human_confusion.npy',normed)"
   ]
  },
  {
   "cell_type": "code",
   "execution_count": null,
   "metadata": {
    "collapsed": false
   },
   "outputs": [],
   "source": []
  },
  {
   "cell_type": "code",
   "execution_count": 33,
   "metadata": {
    "collapsed": false
   },
   "outputs": [
    {
     "data": {
      "text/plain": [
       "Text(0.5,1,'diff diagonal')"
      ]
     },
     "execution_count": 33,
     "metadata": {},
     "output_type": "execute_result"
    },
    {
     "data": {
      "image/png": "[encoded data removed]",
      "text/plain": [
       "<Figure size 432x288 with 1 Axes>"
      ]
     },
     "metadata": {},
     "output_type": "display_data"
    }
   ],
   "source": [
    "## plot diagonals of diff between confusion matrices\n",
    "h = plt.hist(np.diagonal(normed[:,:,0]-normed[:,:,1]),20)\n",
    "plt.xlim(-0.5,0.5)\n",
    "plt.axvline(0,linestyle='dashed',color='black')\n",
    "plt.title('diff diagonal')"
   ]
  },
  {
   "cell_type": "code",
   "execution_count": null,
   "metadata": {
    "collapsed": true
   },
   "outputs": [],
   "source": [
    "## save out object order \n",
    "x = pd.DataFrame([obj_list])\n",
    "x = x.transpose()\n",
    "x.columns = ['object']\n",
    "x.to_csv('./human_confusion_object_order.csv')"
   ]
  },
  {
   "cell_type": "code",
   "execution_count": null,
   "metadata": {
    "collapsed": true
   },
   "outputs": [],
   "source": [
    "## save out idealized human confusion \n",
    "def gen_block_diagonal(num_blocks,num_objs):\n",
    "    '''\n",
    "    num_blocks = how many square blocks do you want?\n",
    "    num_objs = number of rows in resulting matrix (equal to number of columns)\n",
    "    '''\n",
    "    assert num_objs%num_blocks==0\n",
    "    tmp = np.zeros([num_objs,num_objs])\n",
    "    ub = map(int,np.linspace(0,num_objs,num_blocks+1)[1:])\n",
    "    lb = map(int,np.linspace(0,num_objs,num_blocks+1)[:-1])\n",
    "    partitions = zip(lb,ub)\n",
    "    for l,u in partitions:\n",
    "        tmp[l:u,l:u] = 1\n",
    "    out = np.zeros([num_objs,num_objs])\n",
    "    for i,row in enumerate(tmp):\n",
    "        out[i] = row/np.sum(row)\n",
    "    return out\n",
    "\n",
    "idealized = np.zeros([32,32,2])\n",
    "idealized[:,:,0] = np.identity(32)\n",
    "idealized[:,:,1] = gen_block_diagonal(4,32)\n",
    "\n",
    "# save out to npy \n",
    "np.save('./human_confusion_idealized.npy',idealized)"
   ]
  },
  {
   "cell_type": "code",
   "execution_count": null,
   "metadata": {
    "collapsed": true
   },
   "outputs": [],
   "source": []
  },
  {
   "cell_type": "code",
   "execution_count": null,
   "metadata": {
    "collapsed": true
   },
   "outputs": [],
   "source": []
  },
  {
   "cell_type": "markdown",
   "metadata": {},
   "source": [
    "### explore relationship between cost and similarity"
   ]
  },
  {
   "cell_type": "code",
   "execution_count": null,
   "metadata": {
    "collapsed": true
   },
   "outputs": [],
   "source": [
    "w = pd.read_csv('../models/bdaInput/sketchData_fixedPose_splitbyobject_multimodal_fc6_pilot2_costOutliersRemoved.csv')\n",
    "w2 = pd.read_csv('../models/bdaInput/sketchData_fixedPose_splitbyobject_multimodal_fc6_pilot2_costOutliersRemoved_full.csv')\n",
    "s = load_json('../models/refModule/json/similarity-splitbyobject-multimodal_fc6.json')"
   ]
  },
  {
   "cell_type": "code",
   "execution_count": null,
   "metadata": {
    "collapsed": true
   },
   "outputs": [],
   "source": [
    "sim = []\n",
    "cost_duration = []\n",
    "cost_intensity = []\n",
    "cost_strokes = []\n",
    "for i,d in w.iterrows():\n",
    "    sim.append(s[d['Target']][d['sketchLabel']])\n",
    "    cost_duration.append(w2[w2['sketch_label']==d['sketchLabel']]['rescaled_drawDuration'].values[0])\n",
    "    cost_intensity.append(w2[w2['sketch_label']==d['sketchLabel']]['rescaled_mean_intensity'].values[0])\n",
    "    cost_strokes.append(w2[w2['sketch_label']==d['sketchLabel']]['rescaled_numStrokes'].values[0])    \n",
    "    \n",
    "    \n",
    "w = w.assign(sim=pd.Series(sim).values)\n",
    "w = w.assign(cost_duration=pd.Series(cost_duration).values)\n",
    "w = w.assign(cost_intensity=pd.Series(cost_intensity).values)\n",
    "w = w.assign(cost_strokes=pd.Series(cost_strokes).values)\n"
   ]
  },
  {
   "cell_type": "code",
   "execution_count": null,
   "metadata": {
    "collapsed": true
   },
   "outputs": [],
   "source": [
    "sns.swarmplot(x='sim',\n",
    "             y='cost_intensity',\n",
    "             data=w,\n",
    "             hue='condition')\n"
   ]
  },
  {
   "cell_type": "code",
   "execution_count": null,
   "metadata": {
    "collapsed": true
   },
   "outputs": [],
   "source": [
    "close_inds = w['condition']=='closer'\n",
    "far_inds = w['condition']=='further'\n",
    "print np.corrcoef(w[close_inds]['cost_intensity'],w[close_inds]['sim'])[0,1]\n",
    "print np.corrcoef(w[far_inds]['cost_intensity'],w[far_inds]['sim'])[0,1]\n",
    "\n",
    "print np.corrcoef(w[close_inds]['cost_duration'],w[close_inds]['sim'])[0,1]\n",
    "print np.corrcoef(w[far_inds]['cost_duration'],w[far_inds]['sim'])[0,1]\n",
    "\n",
    "print np.corrcoef(w[close_inds]['cost_strokes'],w[close_inds]['sim'])[0,1]\n",
    "print np.corrcoef(w[far_inds]['cost_strokes'],w[far_inds]['sim'])[0,1]"
   ]
  },
  {
   "cell_type": "markdown",
   "metadata": {},
   "source": [
    "### Get MAP param values from bdaOutput"
   ]
  },
  {
   "cell_type": "code",
   "execution_count": null,
   "metadata": {
    "collapsed": true
   },
   "outputs": [],
   "source": [
    "path_to_bdaoutput = '../models/bdaOutput'"
   ]
  },
  {
   "cell_type": "code",
   "execution_count": null,
   "metadata": {
    "collapsed": false
   },
   "outputs": [],
   "source": [
    "marp = 'human_combined_cost_alldataParams.csv'\n",
    "pragmatic_cost = pd.read_csv(os.path.join(path_to_bdaoutput,marp))\n",
    "pragmatic_cost"
   ]
  },
  {
   "cell_type": "code",
   "execution_count": null,
   "metadata": {
    "collapsed": false
   },
   "outputs": [],
   "source": [
    "marp = 'human_S0_cost_alldataParams.csv'\n",
    "literal_cost = pd.read_csv(os.path.join(path_to_bdaoutput,marp))\n",
    "literal_cost"
   ]
  },
  {
   "cell_type": "code",
   "execution_count": null,
   "metadata": {
    "collapsed": false
   },
   "outputs": [],
   "source": [
    "marp = 'human_combined_nocost_alldataParams.csv'\n",
    "pragmatic_nocost = pd.read_csv(os.path.join(path_to_bdaoutput,marp))\n",
    "pragmatic_nocost"
   ]
  },
  {
   "cell_type": "code",
   "execution_count": null,
   "metadata": {
    "collapsed": false
   },
   "outputs": [],
   "source": [
    "marp = 'human_S0_nocost_alldataParams.csv'\n",
    "literal_nocost = pd.read_csv(os.path.join(path_to_bdaoutput,marp))\n",
    "literal_nocost"
   ]
  },
  {
   "cell_type": "code",
   "execution_count": null,
   "metadata": {
    "collapsed": true
   },
   "outputs": [],
   "source": [
    "prag_zoo = ['pragmatic','pragmatic','literal','literal']\n",
    "prod_zoo = ['cost','nocost','cost','nocost']\n",
    "perc_zoo = ['human','human','human','human']\n",
    "ll = [pragmatic_cost['logLikelihood'].values[0],\n",
    "      pragmatic_nocost['logLikelihood'].values[0],      \n",
    "      literal_cost['logLikelihood'].values[0],\n",
    "      literal_nocost['logLikelihood'].values[0]]\n",
    "LL = pd.DataFrame([ll,prag_zoo,prod_zoo,perc_zoo])\n",
    "LL = LL.transpose()\n",
    "LL.columns=['logLikelihood','pragmatics','production','perception']"
   ]
  },
  {
   "cell_type": "code",
   "execution_count": null,
   "metadata": {
    "collapsed": true
   },
   "outputs": [],
   "source": [
    "if not os.path.exists('./plots'):\n",
    "    os.makedirs('./plots')\n",
    "    \n",
    "sns.factorplot(data=LL,x='pragmatics',y='logLikelihood',hue='production',kind='bar',palette='Paired')\n",
    "plt.ylabel('log likelihood')\n",
    "plt.ylim([-14000,0])\n",
    "plt.savefig('./plots/loglikelihood_models_fullaxes.pdf')\n",
    "plt.close()\n",
    "\n",
    "sns.factorplot(data=LL,x='pragmatics',y='logLikelihood',hue='production',kind='bar',palette='Paired')\n",
    "plt.ylabel('log likelihood')\n",
    "plt.ylim([-12000,-11800])\n",
    "plt.savefig('./plots/loglikelihood_models_zoomed.pdf')\n",
    "plt.close()"
   ]
  },
  {
   "cell_type": "code",
   "execution_count": null,
   "metadata": {
    "collapsed": false
   },
   "outputs": [],
   "source": [
    "pragmatic_cost"
   ]
  },
  {
   "cell_type": "code",
   "execution_count": null,
   "metadata": {
    "collapsed": false
   },
   "outputs": [],
   "source": [
    "param_table = pd.concat([pragmatic_cost,pragmatic_nocost,literal_cost,literal_nocost],axis=0)\\\n",
    "[['perception','pragmatics','production','alpha','simScaling','pragWeight','costWeight','logLikelihood']]\n",
    "param_table"
   ]
  },
  {
   "cell_type": "code",
   "execution_count": null,
   "metadata": {
    "collapsed": true
   },
   "outputs": [],
   "source": []
  },
  {
   "cell_type": "markdown",
   "metadata": {},
   "source": [
    "## Explore model predictions and do model comparison"
   ]
  },
  {
   "cell_type": "code",
   "execution_count": null,
   "metadata": {
    "collapsed": false
   },
   "outputs": [],
   "source": [
    "## helpers\n",
    "def sumlogprob(a,b):\n",
    "    if (a > b):\n",
    "        return a + np.log1p(np.exp(b-a))\n",
    "    else:\n",
    "        return b + np.log1p(np.exp(a-b))  \n",
    "    \n",
    "dogs = sorted(['weimaraner', 'chihuahua', 'basset', 'doberman', 'bloodhound', 'bullmastiff', 'goldenretriever', 'pug'])\n",
    "chairs = sorted(['leather', 'straight', 'squat', 'sling', 'woven', 'waiting', 'inlay','knob'])\n",
    "birds = sorted(['crow', 'pigeon', 'robin', 'sparrow', 'tomtit', 'nightingale', 'bluejay', 'cuckoo'])\n",
    "cars = sorted(['beetle', 'bluesport', 'brown', 'white', 'redsport', 'redantique', 'hatchback', 'bluesedan'])\n",
    "\n",
    "def flatten(x):\n",
    "    return [item for sublist in x for item in sublist]\n",
    "\n",
    "def make_category_by_obj_palette():\n",
    "    import itertools\n",
    "    col = []\n",
    "    for j in sns.color_palette(\"hls\", 4):\n",
    "        col.append([i for i in itertools.repeat(j, 8)])\n",
    "    return flatten(col)\n",
    "\n",
    "colors = sns.color_palette(\"Dark2\")\n",
    "sns.palplot(sns.color_palette(\"Dark2\"))"
   ]
  },
  {
   "cell_type": "code",
   "execution_count": null,
   "metadata": {
    "collapsed": true
   },
   "outputs": [],
   "source": [
    "## define relevant paths\n",
    "path_to_bda_output = '../models/bdaOutput'"
   ]
  },
  {
   "cell_type": "markdown",
   "metadata": {},
   "source": [
    "### which model do you want to visualize? "
   ]
  },
  {
   "cell_type": "code",
   "execution_count": null,
   "metadata": {
    "collapsed": true
   },
   "outputs": [],
   "source": [
    "## define menu of model options\n",
    "zoo = ['pragmatic_cost','literal_cost','pragmatic_nocost','literal_nocost']\n",
    "\n",
    "predFiles = ['human_combined_costPredictives.csv','human_S0_costPredictives.csv',\\\n",
    "        'human_combined_nocostPredictives.csv','human_S0_nocostPredictives.csv']\n",
    "\n",
    "model_dict = dict(zip(zoo,predFiles))\n",
    "\n",
    "## which model do you want to make visualizations for?\n",
    "this_model = 'pragmatic_cost'\n",
    "\n",
    "## load in predictives for this model\n",
    "predictives = pd.read_csv(os.path.join(path_to_bda_output,model_dict[this_model]))\n",
    "\n",
    "### various preprocessing\n",
    "predictives = predictives.drop(['trueSketch'],axis=1) ## remove some columns\n",
    "predictives = predictives.rename(index=str,columns={'coarseGrainedTrueSketch':'trueSketch','coarseGrainedPossibleSketch':'predSketch'})\n",
    "predictives['trueCondition'], predictives['trueSketchTarget'] = predictives['trueSketch'].str.split('_', 1).str\n",
    "predictives['predCondition'], predictives['predSketchTarget'] = predictives['predSketch'].str.split('_', 1).str"
   ]
  },
  {
   "cell_type": "markdown",
   "metadata": {},
   "source": [
    "#### coarse aggregation: higher probability assigned to true condition than false?"
   ]
  },
  {
   "cell_type": "code",
   "execution_count": null,
   "metadata": {
    "collapsed": false
   },
   "outputs": [],
   "source": [
    "PP = predictives.groupby(['trueSketch', 'trueCondition', 'predCondition'])['modelProb'].\\\n",
    "apply(lambda x: reduce(sumlogprob,x) - np.log(len(x))).\\\n",
    "groupby(['trueCondition','predCondition']).\\\n",
    "apply(lambda x: np.sum(np.exp(x)))\n",
    "\n",
    "## plot it\n",
    "colors = sns.color_palette(\"Dark2\")\n",
    "sns.set_context('poster')\n",
    "Y = pd.DataFrame(PP)\n",
    "Y.reset_index(inplace=True)\n",
    "g = sns.factorplot(x=\"trueCondition\", \n",
    "                   y=\"modelProb\", \n",
    "                   hue=\"predCondition\", \n",
    "                   data=Y,\n",
    "                   size=6, kind=\"bar\", palette=colors)\n",
    "plt.ylim([0,1])\n",
    "plt.axhline(0.5,linestyle=':',color='k')\n",
    "plt.ylabel('model probability',fontsize=24)\n",
    "plt.xlabel('true condition',fontsize=24)\n",
    "plt.savefig('./plots/context_effect_by_condition_bars_{}.pdf'.format(this_model))"
   ]
  },
  {
   "cell_type": "code",
   "execution_count": null,
   "metadata": {
    "collapsed": true
   },
   "outputs": [],
   "source": []
  },
  {
   "cell_type": "code",
   "execution_count": null,
   "metadata": {
    "collapsed": false
   },
   "outputs": [],
   "source": [
    "PP = predictives.groupby(['trueSketch', 'predSketch'])['modelProb'].\\\n",
    "apply(lambda x: reduce(sumlogprob,x) - np.log(len(x))).\\\n",
    "groupby(['trueSketch','predSketch']).\\\n",
    "apply(lambda x: np.sum(np.exp(x)))\n",
    "PP.shape"
   ]
  },
  {
   "cell_type": "code",
   "execution_count": null,
   "metadata": {
    "collapsed": false
   },
   "outputs": [],
   "source": [
    "PP = pd.DataFrame(PP)\n",
    "PP.reset_index(inplace=True)\n",
    "print PP[PP['trueSketch']=='closer_basset']['modelProb'].sum() ## should be close to 1"
   ]
  },
  {
   "cell_type": "code",
   "execution_count": null,
   "metadata": {
    "collapsed": true
   },
   "outputs": [],
   "source": []
  },
  {
   "cell_type": "code",
   "execution_count": null,
   "metadata": {
    "collapsed": true
   },
   "outputs": [],
   "source": [
    "close_pref = []\n",
    "far_pref = []\n",
    "congruent_pref = []\n",
    "for i,obj in enumerate(obj_list):\n",
    "\n",
    "    ## TCPC = \"true close; predicted close\"\n",
    "    ## TCPF = \"true close; predicted far\"\n",
    "    ## TFPF = \"true far; predicted far\"\n",
    "    ## TFPC = \"true far: predicted close\"\n",
    "    TCPC = PP[(PP['trueSketch']=='closer_{}'.format(obj)) &\\\n",
    "              (PP['predSketch']=='closer_{}'.format(obj))]['modelProb'].values[0]\n",
    "    TCPF = PP[(PP['trueSketch']=='closer_{}'.format(obj)) &\\\n",
    "              (PP['predSketch']=='further_{}'.format(obj))]['modelProb'].values[0]\n",
    "    TFPF = PP[(PP['trueSketch']=='further_{}'.format(obj)) &\\\n",
    "              (PP['predSketch']=='further_{}'.format(obj))]['modelProb'].values[0]\n",
    "    TFPC = PP[(PP['trueSketch']=='further_{}'.format(obj)) &\\\n",
    "              (PP['predSketch']=='closer_{}'.format(obj))]['modelProb'].values[0]\n",
    "\n",
    "    close_pref.append(np.log(TCPC) - np.log(TCPF))\n",
    "    far_pref.append(np.log(TFPF) - np.log(TFPC))\n",
    "    congruent_pref.append(np.log(TCPC) - np.log(TCPF) + np.log(TFPF) - np.log(TFPC))\n",
    "#     close_pref.append(TCPC/TCPF)\n",
    "#     far_pref.append(TFPF/TFPC)\n",
    "#     congruent_pref.append((TCPC*TFPF)/(TCPF*TFPC))    "
   ]
  },
  {
   "cell_type": "code",
   "execution_count": null,
   "metadata": {
    "collapsed": true
   },
   "outputs": [],
   "source": [
    "B = pd.DataFrame([close_pref,far_pref,congruent_pref,obj_list])\n",
    "B = B.transpose()\n",
    "B.columns = ['close_pref','far_pref','congruent_pref','object']"
   ]
  },
  {
   "cell_type": "code",
   "execution_count": null,
   "metadata": {
    "collapsed": false,
    "scrolled": false
   },
   "outputs": [],
   "source": [
    "colors32 = make_category_by_obj_palette()\n",
    "fig = plt.figure(figsize=(10,6))\n",
    "sns.barplot(data=B,\n",
    "            x='object',\n",
    "            y='congruent_pref',\n",
    "            palette=colors32)\n",
    "h = plt.xticks(range(len(obj_list)), obj_list, fontsize=16,rotation='vertical')\n",
    "plt.ylim([-6,6])\n",
    "plt.ylabel('log odds ratio',fontsize=24)\n",
    "plt.title('predicting congruent sketch type (close vs. far) in context',fontsize=22)\n",
    "plt.tight_layout()\n",
    "plt.savefig('./plots/log_odds_ratio_congruent_sketch_type_in_context_{}.pdf'.format(this_model))"
   ]
  },
  {
   "cell_type": "code",
   "execution_count": null,
   "metadata": {
    "collapsed": false
   },
   "outputs": [],
   "source": [
    "np.mean(B['congruent_pref'].values)"
   ]
  },
  {
   "cell_type": "code",
   "execution_count": null,
   "metadata": {
    "collapsed": true
   },
   "outputs": [],
   "source": []
  },
  {
   "cell_type": "code",
   "execution_count": null,
   "metadata": {
    "collapsed": true
   },
   "outputs": [],
   "source": []
  },
  {
   "cell_type": "code",
   "execution_count": null,
   "metadata": {
    "collapsed": false
   },
   "outputs": [],
   "source": [
    "predictives.groupby(['trueSketch','predSketch'])['modelProb']"
   ]
  },
  {
   "cell_type": "code",
   "execution_count": null,
   "metadata": {
    "collapsed": true
   },
   "outputs": [],
   "source": []
  },
  {
   "cell_type": "markdown",
   "metadata": {},
   "source": [
    "#### generate 4096x7ish dataframe with log probabilities already aggregated at course condition&object level"
   ]
  },
  {
   "cell_type": "code",
   "execution_count": null,
   "metadata": {
    "collapsed": true
   },
   "outputs": [],
   "source": [
    "## get dataframe with probability assigned to every sketch category, for each sketch category\n",
    "P = predictives.groupby(['trueSketch','predSketch'])['modelProb'].\\\n",
    "apply(lambda x: reduce(sumlogprob,x) - np.log(len(x)))\n",
    "\n",
    "## generate 4096x7ish dataframe with log probabilities already aggregated at course condition&object level\n",
    "P = pd.DataFrame(P)\n",
    "P.reset_index(inplace=True)\n",
    "P['trueCondition'], P['trueSketchTarget'] = P['trueSketch'].str.split('_', 1).str\n",
    "P['predCondition'], P['predSketchTarget'] = P['predSketch'].str.split('_', 1).str\n"
   ]
  },
  {
   "cell_type": "markdown",
   "metadata": {},
   "source": [
    "#### calculate proportion of objects for which model able to predict correct condition+obj sketch category"
   ]
  },
  {
   "cell_type": "code",
   "execution_count": null,
   "metadata": {
    "collapsed": true
   },
   "outputs": [],
   "source": [
    "## calculate proportion of objects for which model able to predict correct condition+obj sketch category\n",
    "## i.e., put in top k, for various values of k\n",
    "from __future__ import division\n",
    "objs = np.unique(P['trueSketchTarget'].values)\n",
    "conds = np.unique(P['trueCondition'].values)\n",
    "\n",
    "Counter = []\n",
    "Conds = []\n",
    "K = []\n",
    "for cond in conds:\n",
    "    print 'Analyzing {}'.format(cond)\n",
    "    for k in np.arange(1,64):\n",
    "        counter = 0\n",
    "        for obj in objs:    \n",
    "            Q = P[(P['trueSketchTarget']==obj) & (P['trueCondition']==cond)].\\\n",
    "            nlargest(k,'modelProb')[['trueSketch','predSketch','trueCondition','modelProb']]  \n",
    "            counter += np.sum(Q['predSketch']==Q['trueSketch'])\n",
    "        Counter.append(counter/len(objs))\n",
    "        Conds.append(cond)\n",
    "        K.append(k)\n",
    "\n",
    "## make dataframe         \n",
    "D = pd.DataFrame([Counter,Conds,K])\n",
    "D = D.transpose()\n",
    "D.columns = ['prop','condition','k']"
   ]
  },
  {
   "cell_type": "code",
   "execution_count": null,
   "metadata": {
    "collapsed": true
   },
   "outputs": [],
   "source": [
    "## plot it\n",
    "krange = 15 ## how many values of k to plot\n",
    "sns.set_context('talk')\n",
    "fig = plt.figjure(figsize=(9,4))\n",
    "sns.pointplot(x='k',y='prop',hue='condition',data=D,markers='.',palette=colors)\n",
    "plt.xlim([0,krange])\n",
    "plt.ylabel('proportion',fontsize=24)\n",
    "plt.xlabel('k',fontsize=24)\n",
    "plt.title('proportion of objects for which model predicts correct sketch type within top k')\n",
    "plt.ylim([0,1.05])\n",
    "plt.tight_layout()\n",
    "plt.savefig('./plots/proportion_correct_sketch_type_in_top_k_{}.pdf'.format(this_model))"
   ]
  },
  {
   "cell_type": "code",
   "execution_count": null,
   "metadata": {
    "collapsed": true
   },
   "outputs": [],
   "source": []
  },
  {
   "cell_type": "code",
   "execution_count": null,
   "metadata": {
    "collapsed": true
   },
   "outputs": [],
   "source": [
    "## plots from recognition experiment -- close vs. far accuracy gap, and then by obj or category\n",
    "## confusion matrix"
   ]
  },
  {
   "cell_type": "code",
   "execution_count": null,
   "metadata": {
    "collapsed": true
   },
   "outputs": [],
   "source": [
    "###todo: loglikelihood plot, coarse by context x condition, then by object, then the k plot"
   ]
  },
  {
   "cell_type": "code",
   "execution_count": null,
   "metadata": {
    "collapsed": true
   },
   "outputs": [],
   "source": [
    "### next: use some of this stuff to train embedding, also make predictions about viewer so we can\n",
    "## effectively fit all behavior in this task"
   ]
  },
  {
   "cell_type": "code",
   "execution_count": null,
   "metadata": {
    "collapsed": true
   },
   "outputs": [],
   "source": []
  },
  {
   "cell_type": "markdown",
   "metadata": {},
   "source": [
    "### april 20 2018: make synthetic annotations to test whether cleaner annotations help"
   ]
  },
  {
   "cell_type": "code",
   "execution_count": null,
   "metadata": {
    "collapsed": true
   },
   "outputs": [],
   "source": [
    "OBJECT_TO_CATEGORY = {\n",
    "    'basset': 'dog', 'beetle': 'car', 'bloodhound': 'dog', 'bluejay': 'bird',\n",
    "    'bluesedan': 'car', 'bluesport': 'car', 'brown': 'car', 'bullmastiff': 'dog',\n",
    "    'chihuahua': 'dog', 'crow': 'bird', 'cuckoo': 'bird', 'doberman': 'dog',\n",
    "    'goldenretriever': 'dog', 'hatchback': 'car', 'inlay': 'chair', 'knob': 'chair',\n",
    "    'leather': 'chair', 'nightingale': 'bird', 'pigeon': 'bird', 'pug': 'dog',\n",
    "    'redantique': 'car', 'redsport': 'car', 'robin': 'bird', 'sling': 'chair',\n",
    "    'sparrow': 'bird', 'squat': 'chair', 'straight': 'chair', 'tomtit': 'bird',\n",
    "    'waiting': 'chair', 'weimaraner': 'dog', 'white': 'car', 'woven': 'chair',\n",
    "}\n",
    "\n",
    "CATEGORY_TO_OBJECT = {\n",
    "    'dog': ['basset', 'bloodhound', 'bullmastiff', 'chihuahua', 'doberman', 'goldenretriever', 'pug', 'weimaraner'],\n",
    "    'car': ['beetle', 'bluesedan', 'bluesport', 'brown', 'hatchback', 'redantique', 'redsport', 'white'],\n",
    "    'bird': ['bluejay', 'crow', 'cuckoo', 'nightingale', 'pigeon', 'robin', 'sparrow', 'tomtit'],\n",
    "    'chair': ['inlay', 'knob', 'leather', 'sling', 'squat', 'straight', 'waiting', 'woven'],\n",
    "}"
   ]
  },
  {
   "cell_type": "code",
   "execution_count": null,
   "metadata": {
    "collapsed": true
   },
   "outputs": [],
   "source": [
    "## extract just the tuples of fname and choice\n",
    "y = pd.read_csv('./sketchpad_basic_recog_group_data_2_augmented.csv')\n",
    "y = y.drop(['Unnamed: 0','Unnamed: 0.1','Unnamed: 0.1.1'],axis=1)\n",
    "z = zip(y['fname'].values,y['choice'].values)"
   ]
  },
  {
   "cell_type": "code",
   "execution_count": null,
   "metadata": {
    "collapsed": true
   },
   "outputs": [],
   "source": [
    "y.columns"
   ]
  },
  {
   "cell_type": "code",
   "execution_count": null,
   "metadata": {
    "collapsed": true
   },
   "outputs": [],
   "source": [
    "import random\n",
    "synth_choice = []\n",
    "for i,d in y.iterrows():\n",
    "    if d['condition'] == 'closer': \n",
    "        cointoss = np.random.uniform(low=0,high=1)                \n",
    "        if cointoss <= 0.9:\n",
    "            synth_choice.append(d['target']) ## append correct object\n",
    "        else:            \n",
    "            cat = OBJECT_TO_CATEGORY[d['target']]\n",
    "            synth_choice.append(np.random.choice(CATEGORY_TO_OBJECT[cat])) ## sometimes sample from elsewhere in class                             \n",
    "    else: ## further\n",
    "        cointoss = np.random.uniform(low=0,high=1)                \n",
    "        if cointoss <= 0.25:\n",
    "            synth_choice.append(d['target']) ## append correct object\n",
    "        else:            \n",
    "            cat = OBJECT_TO_CATEGORY[d['target']]\n",
    "            synth_choice.append(np.random.choice(CATEGORY_TO_OBJECT[cat])) ## sometimes sample from elsewhere in class"
   ]
  },
  {
   "cell_type": "code",
   "execution_count": null,
   "metadata": {
    "collapsed": true
   },
   "outputs": [],
   "source": [
    "y['synth_choice'] = synth_choice\n",
    "y.to_csv('./sketchpad_basic_recog_group_data_augmented_with_synthetic_labels.csv')"
   ]
  },
  {
   "cell_type": "code",
   "execution_count": null,
   "metadata": {
    "collapsed": true
   },
   "outputs": [],
   "source": []
  },
  {
   "cell_type": "code",
   "execution_count": null,
   "metadata": {
    "collapsed": true
   },
   "outputs": [],
   "source": [
    "## checks\n",
    "print sum((y['condition']=='closer') & (y['synth_choice']==y['target'])) / sum(y['condition']=='closer')\n",
    "print sum((y['condition']=='further') & (y['synth_choice']==y['target'])) / sum(y['condition']=='closer')"
   ]
  },
  {
   "cell_type": "code",
   "execution_count": null,
   "metadata": {
    "collapsed": true
   },
   "outputs": [],
   "source": [
    "z = []\n",
    "for j in np.arange(5):\n",
    "    synth_choice = []\n",
    "    for i,d in y.iterrows():\n",
    "        if d['condition'] == 'closer': \n",
    "            cointoss = np.random.uniform(low=0,high=1)                \n",
    "            if cointoss <= 0.9:\n",
    "                synth_choice.append(d['target']) ## append correct object\n",
    "            else:            \n",
    "                cat = OBJECT_TO_CATEGORY[d['target']]\n",
    "                synth_choice.append(np.random.choice(CATEGORY_TO_OBJECT[cat])) ## sometimes sample from elsewhere in class                             \n",
    "        else: ## further\n",
    "            cointoss = np.random.uniform(low=0,high=1)                \n",
    "            if cointoss <= 0.25:\n",
    "                synth_choice.append(d['target']) ## append correct object\n",
    "            else:            \n",
    "                cat = OBJECT_TO_CATEGORY[d['target']]\n",
    "                synth_choice.append(np.random.choice(CATEGORY_TO_OBJECT[cat])) ## sometimes sample from elsewhere in class\n",
    "\n",
    "    y['synth_choice'] = synth_choice\n",
    "    if len(z)==0:\n",
    "        z = y\n",
    "    else:\n",
    "        z = pd.concat([z,y])\n"
   ]
  },
  {
   "cell_type": "code",
   "execution_count": null,
   "metadata": {
    "collapsed": true
   },
   "outputs": [],
   "source": [
    "z.to_csv('./sketchpad_basic_recog_group_data_augmented_with_synthetic_labels_5x.csv')"
   ]
  },
  {
   "cell_type": "code",
   "execution_count": null,
   "metadata": {
    "collapsed": true
   },
   "outputs": [],
   "source": []
  },
  {
   "cell_type": "code",
   "execution_count": null,
   "metadata": {
    "collapsed": true
   },
   "outputs": [],
   "source": []
  }
 ],
 "metadata": {
  "kernelspec": {
   "display_name": "Python 2",
   "language": "python",
   "name": "python2"
  },
  "language_info": {
   "codemirror_mode": {
    "name": "ipython",
    "version": 2
   },
   "file_extension": ".py",
   "mimetype": "text/x-python",
   "name": "python",
   "nbconvert_exporter": "python",
   "pygments_lexer": "ipython2",
   "version": "2.7.13"
  }
 },
 "nbformat": 4,
 "nbformat_minor": 1
}
