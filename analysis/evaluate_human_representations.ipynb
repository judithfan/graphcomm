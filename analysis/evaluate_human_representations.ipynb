{
 "cells": [
  {
   "cell_type": "code",
   "execution_count": 1,
   "metadata": {
    "collapsed": true
   },
   "outputs": [],
   "source": [
    "import os\n",
    "import urllib, cStringIO\n",
    "\n",
    "import pymongo as pm\n",
    "\n",
    "import matplotlib\n",
    "from matplotlib import pylab, mlab, pyplot\n",
    "%matplotlib inline\n",
    "from IPython.core.pylabtools import figsize, getfigs\n",
    "plt = pyplot\n",
    "import seaborn as sns\n",
    "sns.set_context('poster')\n",
    "sns.set_style('white')\n",
    "\n",
    "import numpy as np\n",
    "from __future__ import division\n",
    "import scipy.stats as stats\n",
    "import pandas as pd\n",
    "import json\n",
    "import re\n",
    "\n",
    "from PIL import Image\n",
    "import base64\n",
    "import json"
   ]
  },
  {
   "cell_type": "markdown",
   "metadata": {},
   "source": [
    "### read in human annotations csv (prepped in pilot2_analysis_sketchpad_basic_recog.ipynb)"
   ]
  },
  {
   "cell_type": "code",
   "execution_count": 20,
   "metadata": {
    "collapsed": false
   },
   "outputs": [
    {
     "name": "stdout",
     "output_type": "stream",
     "text": [
      "Shape of un-augmented (additional columns) annotation csv: (24976, 21)\n",
      "Shape of augmented annotation csv: (24976, 23)\n"
     ]
    }
   ],
   "source": [
    "X = pd.read_csv('./sketchpad_basic_recog_group_data_2.csv')\n",
    "print 'Shape of un-augmented (additional columns) annotation csv: {}'.format(X.shape)\n",
    "\n",
    "X = pd.read_csv('./sketchpad_basic_recog_group_data_2_augmented.csv')\n",
    "print 'Shape of augmented annotation csv: {}'.format(X.shape)"
   ]
  },
  {
   "cell_type": "markdown",
   "metadata": {},
   "source": [
    "### prep similarity jsons for evaluation by passing forward to RSA"
   ]
  },
  {
   "cell_type": "markdown",
   "metadata": {},
   "source": [
    "Format for json is a dictionary of dictionaries, where each top-level key refers to one of the renders, e.g. \"cuckoo\". For each render, you can look up the similarity with each sketch, referenced with an abbreviated ID taken by trimming the last 12-character string, and appending an underscore, and the trial number. E.g., 'gameID_9903-d6e6a9ff-a878-4bee-b2d5-26e2e239460a_trial_9.npy' ==> '26e2e239460a_9'"
   ]
  },
  {
   "cell_type": "code",
   "execution_count": 40,
   "metadata": {
    "collapsed": false
   },
   "outputs": [],
   "source": [
    "def load_json(json_path):\n",
    "    with open(json_path) as fp:\n",
    "        data = json.load(fp)  \n",
    "    return data\n",
    "\n",
    "def simplify_sketch(path): ## example path: 'gameID_9903-d6e6a9ff-a878-4bee-b2d5-26e2e239460a_trial_9.npy' ==> '26e2e239460a_9'\n",
    "    path = '_'.join(os.path.splitext(os.path.basename(path))[0].split('_')[1:])\n",
    "    path = path.split('-')[-1]\n",
    "    path = path.replace('_trial', '')\n",
    "    return path\n",
    "\n",
    "def add_simplified_ids(X):\n",
    "    ## add renderID and sketchID to dataframen\n",
    "    sketchID = []\n",
    "    for i,d in X.iterrows():\n",
    "        sketchID.append(simplify_sketch(d['fname']))\n",
    "    X['sketchID'] = sketchID    \n",
    "    return X\n",
    "\n",
    "\n",
    "from collections import Counter\n",
    "import analysis_helpers as h\n",
    "reload(h)\n",
    "## get standardized object list\n",
    "categories = ['bird','car','chair','dog']\n",
    "obj_list = []\n",
    "for cat in categories:\n",
    "    for i,j in h.objcat.iteritems():\n",
    "        if j==cat:\n",
    "            obj_list.append(i)  "
   ]
  },
  {
   "cell_type": "code",
   "execution_count": 22,
   "metadata": {
    "collapsed": false
   },
   "outputs": [],
   "source": [
    "## add sketchid to the dataframe\n",
    "X = add_simplified_ids(X)"
   ]
  },
  {
   "cell_type": "code",
   "execution_count": null,
   "metadata": {
    "collapsed": true
   },
   "outputs": [],
   "source": [
    "## compute similarities for each sketch based on annotations"
   ]
  },
  {
   "cell_type": "code",
   "execution_count": 61,
   "metadata": {
    "collapsed": false
   },
   "outputs": [],
   "source": [
    "render_list = obj_list\n",
    "sketch_list = np.unique(X['fname'])"
   ]
  },
  {
   "cell_type": "code",
   "execution_count": null,
   "metadata": {
    "collapsed": false
   },
   "outputs": [],
   "source": []
  },
  {
   "cell_type": "code",
   "execution_count": 62,
   "metadata": {
    "collapsed": false
   },
   "outputs": [
    {
     "name": "stdout",
     "output_type": "stream",
     "text": [
      "0 sparrow\n",
      "1 crow\n",
      "2 pigeon\n",
      "3 cuckoo\n",
      "4 bluejay\n",
      "5 nightingale\n",
      "6 tomtit\n",
      "7 robin\n",
      "8 redsport\n",
      "9 beetle\n",
      "10 bluesport\n",
      "11 redantique\n",
      "12 white\n",
      "13 brown\n",
      "14 hatchback\n",
      "15 bluesedan\n",
      "16 knob\n",
      "17 squat\n",
      "18 waiting\n",
      "19 inlay\n",
      "20 sling\n",
      "21 straight\n",
      "22 leather\n",
      "23 woven\n",
      "24 bullmastiff\n",
      "25 weimaraner\n",
      "26 doberman\n",
      "27 goldenretriever\n",
      "28 basset\n",
      "29 pug\n",
      "30 chihuahua\n",
      "31 bloodhound\n"
     ]
    }
   ],
   "source": [
    "out_json = {}\n",
    "for i, this_render in enumerate(render_list):\n",
    "    print i, this_render\n",
    "    out_json[this_render] = {}\n",
    "    for j,this_sketch in enumerate(sketch_list):        \n",
    "        counts = np.zeros(len(obj_list)) ## initialize the probability vector\n",
    "        choices = X[X['fname']==this_sketch]['choice'].values ## get list of all choices\n",
    "\n",
    "        ## get counter dictionary\n",
    "        cdict = Counter(choices)\n",
    "        ## populate count vector accordingly\n",
    "        for i,o in enumerate(obj_list):\n",
    "            if o in cdict:\n",
    "                counts[i] = cdict[o]\n",
    "\n",
    "        ## get probability vector by dividing by sum\n",
    "        prob = counts/np.sum(counts)\n",
    "        out_json[this_render][this_sketch] = prob[i]\n",
    "        "
   ]
  },
  {
   "cell_type": "code",
   "execution_count": 48,
   "metadata": {
    "collapsed": false
   },
   "outputs": [],
   "source": []
  },
  {
   "cell_type": "code",
   "execution_count": null,
   "metadata": {
    "collapsed": false
   },
   "outputs": [],
   "source": []
  },
  {
   "cell_type": "code",
   "execution_count": null,
   "metadata": {
    "collapsed": false
   },
   "outputs": [],
   "source": [
    "# ## generate big json dictionary of dictionaries\n",
    "# from __future__ import division\n",
    "# out_json = {}\n",
    "# for i,this_render in enumerate(render_list):\n",
    "#     print i, this_render\n",
    "#     out_json[this_render] = {}\n",
    "#     for i,d in this_SM.iterrows():\n",
    "#         this_sketch = d['sketchID']\n",
    "#         _render = str(this_render.split('_')[-1])\n",
    "#         this_similarity = (d[_render]+1.00000001)/2 #### transform similarities to (0,1) scale!\n",
    "#         out_json[this_render][this_sketch] = this_similarity"
   ]
  },
  {
   "cell_type": "code",
   "execution_count": null,
   "metadata": {
    "collapsed": true
   },
   "outputs": [],
   "source": []
  },
  {
   "cell_type": "markdown",
   "metadata": {},
   "source": [
    "### generate cost dictionaries"
   ]
  },
  {
   "cell_type": "code",
   "execution_count": null,
   "metadata": {
    "collapsed": true
   },
   "outputs": [],
   "source": []
  },
  {
   "cell_type": "code",
   "execution_count": null,
   "metadata": {
    "collapsed": true
   },
   "outputs": [],
   "source": []
  },
  {
   "cell_type": "markdown",
   "metadata": {},
   "source": [
    "### generate condition-lookup.json to be able to pair sketches with condition"
   ]
  },
  {
   "cell_type": "code",
   "execution_count": null,
   "metadata": {
    "collapsed": true
   },
   "outputs": [],
   "source": []
  }
 ],
 "metadata": {
  "kernelspec": {
   "display_name": "Python 2",
   "language": "python",
   "name": "python2"
  },
  "language_info": {
   "codemirror_mode": {
    "name": "ipython",
    "version": 2
   },
   "file_extension": ".py",
   "mimetype": "text/x-python",
   "name": "python",
   "nbconvert_exporter": "python",
   "pygments_lexer": "ipython2",
   "version": "2.7.13"
  }
 },
 "nbformat": 4,
 "nbformat_minor": 1
}
