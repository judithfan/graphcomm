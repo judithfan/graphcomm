{
 "cells": [
  {
   "cell_type": "code",
   "execution_count": 43,
   "metadata": {},
   "outputs": [],
   "source": [
    "import os\n",
    "import urllib, cStringIO\n",
    "\n",
    "import pymongo as pm\n",
    "\n",
    "from IPython.display import clear_output\n",
    "\n",
    "import matplotlib\n",
    "from matplotlib import pylab, mlab, pyplot\n",
    "%matplotlib inline\n",
    "from IPython.core.pylabtools import figsize, getfigs\n",
    "plt = pyplot\n",
    "import seaborn as sns\n",
    "sns.set_context('poster')\n",
    "sns.set_style('white')\n",
    "\n",
    "import numpy as np\n",
    "from __future__ import division\n",
    "import scipy.stats as stats\n",
    "import pandas as pd\n",
    "import json\n",
    "import re\n",
    "\n",
    "from PIL import Image\n",
    "import base64\n",
    "import json\n",
    "import analysis_helpers as h\n",
    "reload(h)\n",
    "\n",
    "## get standardized object list\n",
    "categories = ['bird','car','chair','dog']\n",
    "obj_list = []\n",
    "for cat in categories:\n",
    "    for i,j in h.objcat.iteritems():\n",
    "        if j==cat:\n",
    "            obj_list.append(i)   "
   ]
  },
  {
   "cell_type": "markdown",
   "metadata": {},
   "source": [
    "### load in model param posterior (bdaOutput/**splitbyobjectParams.csv)"
   ]
  },
  {
   "cell_type": "markdown",
   "metadata": {},
   "source": [
    "#### make loglikelihood plot for human encoder version"
   ]
  },
  {
   "cell_type": "code",
   "execution_count": 44,
   "metadata": {},
   "outputs": [
    {
     "data": {
      "image/png": "[encoded data removed]",
      "text/plain": [
       "<Figure size 360x360 with 1 Axes>"
      ]
     },
     "metadata": {},
     "output_type": "display_data"
    }
   ],
   "source": [
    "model_prefixes = ['human']\n",
    "PP = h.model_comparison_bars(model_prefixes,adaptor_type='human')\n",
    "h.plot_human_bars(PP)"
   ]
  },
  {
   "cell_type": "code",
   "execution_count": 21,
   "metadata": {},
   "outputs": [
    {
     "data": {
      "text/html": [
       "<div>\n",
       "<style scoped>\n",
       "    .dataframe tbody tr th:only-of-type {\n",
       "        vertical-align: middle;\n",
       "    }\n",
       "\n",
       "    .dataframe tbody tr th {\n",
       "        vertical-align: top;\n",
       "    }\n",
       "\n",
       "    .dataframe thead th {\n",
       "        text-align: right;\n",
       "    }\n",
       "</style>\n",
       "<table border=\"1\" class=\"dataframe\">\n",
       "  <thead>\n",
       "    <tr style=\"text-align: right;\">\n",
       "      <th></th>\n",
       "      <th>model</th>\n",
       "      <th>logLikelihood</th>\n",
       "      <th>perception</th>\n",
       "      <th>pragmatics</th>\n",
       "      <th>production</th>\n",
       "    </tr>\n",
       "  </thead>\n",
       "  <tbody>\n",
       "    <tr>\n",
       "      <th>0</th>\n",
       "      <td>human_S0_cost</td>\n",
       "      <td>-280.872004</td>\n",
       "      <td>human</td>\n",
       "      <td>S0</td>\n",
       "      <td>cost</td>\n",
       "    </tr>\n",
       "    <tr>\n",
       "      <th>1</th>\n",
       "      <td>human_S0_nocost</td>\n",
       "      <td>-302.543329</td>\n",
       "      <td>human</td>\n",
       "      <td>S0</td>\n",
       "      <td>nocost</td>\n",
       "    </tr>\n",
       "    <tr>\n",
       "      <th>2</th>\n",
       "      <td>human_combined_cost</td>\n",
       "      <td>-232.667310</td>\n",
       "      <td>human</td>\n",
       "      <td>combined</td>\n",
       "      <td>cost</td>\n",
       "    </tr>\n",
       "    <tr>\n",
       "      <th>3</th>\n",
       "      <td>human_combined_nocost</td>\n",
       "      <td>-254.589197</td>\n",
       "      <td>human</td>\n",
       "      <td>combined</td>\n",
       "      <td>nocost</td>\n",
       "    </tr>\n",
       "  </tbody>\n",
       "</table>\n",
       "</div>"
      ],
      "text/plain": [
       "                   model  logLikelihood perception pragmatics production\n",
       "0          human_S0_cost    -280.872004      human         S0       cost\n",
       "1        human_S0_nocost    -302.543329      human         S0     nocost\n",
       "2    human_combined_cost    -232.667310      human   combined       cost\n",
       "3  human_combined_nocost    -254.589197      human   combined     nocost"
      ]
     },
     "execution_count": 21,
     "metadata": {},
     "output_type": "execute_result"
    }
   ],
   "source": [
    "PP"
   ]
  },
  {
   "cell_type": "code",
   "execution_count": null,
   "metadata": {},
   "outputs": [],
   "source": []
  },
  {
   "cell_type": "markdown",
   "metadata": {},
   "source": [
    "#### make loglikelihood plot for multimodal convnet encoder version"
   ]
  },
  {
   "cell_type": "code",
   "execution_count": 50,
   "metadata": {},
   "outputs": [
    {
     "data": {
      "text/html": [
       "<div>\n",
       "<style scoped>\n",
       "    .dataframe tbody tr th:only-of-type {\n",
       "        vertical-align: middle;\n",
       "    }\n",
       "\n",
       "    .dataframe tbody tr th {\n",
       "        vertical-align: top;\n",
       "    }\n",
       "\n",
       "    .dataframe thead th {\n",
       "        text-align: right;\n",
       "    }\n",
       "</style>\n",
       "<table border=\"1\" class=\"dataframe\">\n",
       "  <thead>\n",
       "    <tr style=\"text-align: right;\">\n",
       "      <th></th>\n",
       "      <th>model</th>\n",
       "      <th>logLikelihood</th>\n",
       "      <th>adaptor</th>\n",
       "      <th>perception</th>\n",
       "      <th>pragmatics</th>\n",
       "      <th>production</th>\n",
       "    </tr>\n",
       "  </thead>\n",
       "  <tbody>\n",
       "    <tr>\n",
       "      <th>0</th>\n",
       "      <td>multimodal_fc6_S0_cost</td>\n",
       "      <td>-565.695717</td>\n",
       "      <td>multimodal</td>\n",
       "      <td>fc6</td>\n",
       "      <td>S0</td>\n",
       "      <td>cost</td>\n",
       "    </tr>\n",
       "    <tr>\n",
       "      <th>1</th>\n",
       "      <td>multimodal_fc6_S0_nocost</td>\n",
       "      <td>-567.651735</td>\n",
       "      <td>multimodal</td>\n",
       "      <td>fc6</td>\n",
       "      <td>S0</td>\n",
       "      <td>nocost</td>\n",
       "    </tr>\n",
       "    <tr>\n",
       "      <th>2</th>\n",
       "      <td>multimodal_fc6_combined_cost</td>\n",
       "      <td>-479.642148</td>\n",
       "      <td>multimodal</td>\n",
       "      <td>fc6</td>\n",
       "      <td>combined</td>\n",
       "      <td>cost</td>\n",
       "    </tr>\n",
       "    <tr>\n",
       "      <th>3</th>\n",
       "      <td>multimodal_fc6_combined_nocost</td>\n",
       "      <td>-485.533552</td>\n",
       "      <td>multimodal</td>\n",
       "      <td>fc6</td>\n",
       "      <td>combined</td>\n",
       "      <td>nocost</td>\n",
       "    </tr>\n",
       "  </tbody>\n",
       "</table>\n",
       "</div>"
      ],
      "text/plain": [
       "                            model  logLikelihood     adaptor perception  \\\n",
       "0          multimodal_fc6_S0_cost    -565.695717  multimodal        fc6   \n",
       "1        multimodal_fc6_S0_nocost    -567.651735  multimodal        fc6   \n",
       "2    multimodal_fc6_combined_cost    -479.642148  multimodal        fc6   \n",
       "3  multimodal_fc6_combined_nocost    -485.533552  multimodal        fc6   \n",
       "\n",
       "  pragmatics production  \n",
       "0         S0       cost  \n",
       "1         S0     nocost  \n",
       "2   combined       cost  \n",
       "3   combined     nocost  "
      ]
     },
     "execution_count": 50,
     "metadata": {},
     "output_type": "execute_result"
    }
   ],
   "source": [
    "adaptor_type = 'multimodal_fc6'\n",
    "split_type = '1'\n",
    "model_prefixes = [adaptor_type]\n",
    "PP = h.model_comparison_bars(model_prefixes,adaptor_type=adaptor_type,split_type='balancedavg{}'.format(split_type))\n",
    "# h.plot_multimodal_bars(PP)\n",
    "PP"
   ]
  },
  {
   "cell_type": "code",
   "execution_count": 28,
   "metadata": {},
   "outputs": [
    {
     "data": {
      "text/html": [
       "<div>\n",
       "<style scoped>\n",
       "    .dataframe tbody tr th:only-of-type {\n",
       "        vertical-align: middle;\n",
       "    }\n",
       "\n",
       "    .dataframe tbody tr th {\n",
       "        vertical-align: top;\n",
       "    }\n",
       "\n",
       "    .dataframe thead th {\n",
       "        text-align: right;\n",
       "    }\n",
       "</style>\n",
       "<table border=\"1\" class=\"dataframe\">\n",
       "  <thead>\n",
       "    <tr style=\"text-align: right;\">\n",
       "      <th></th>\n",
       "      <th>model</th>\n",
       "      <th>logLikelihood</th>\n",
       "      <th>adaptor</th>\n",
       "      <th>perception</th>\n",
       "      <th>pragmatics</th>\n",
       "      <th>production</th>\n",
       "    </tr>\n",
       "  </thead>\n",
       "  <tbody>\n",
       "    <tr>\n",
       "      <th>0</th>\n",
       "      <td>multimodal_conv42_S0_cost</td>\n",
       "      <td>-761.169886</td>\n",
       "      <td>multimodal</td>\n",
       "      <td>conv42</td>\n",
       "      <td>S0</td>\n",
       "      <td>cost</td>\n",
       "    </tr>\n",
       "    <tr>\n",
       "      <th>1</th>\n",
       "      <td>multimodal_conv42_S0_nocost</td>\n",
       "      <td>-764.507610</td>\n",
       "      <td>multimodal</td>\n",
       "      <td>conv42</td>\n",
       "      <td>S0</td>\n",
       "      <td>nocost</td>\n",
       "    </tr>\n",
       "    <tr>\n",
       "      <th>2</th>\n",
       "      <td>multimodal_conv42_combined_cost</td>\n",
       "      <td>-761.189535</td>\n",
       "      <td>multimodal</td>\n",
       "      <td>conv42</td>\n",
       "      <td>combined</td>\n",
       "      <td>cost</td>\n",
       "    </tr>\n",
       "    <tr>\n",
       "      <th>3</th>\n",
       "      <td>multimodal_conv42_combined_nocost</td>\n",
       "      <td>-707.762607</td>\n",
       "      <td>multimodal</td>\n",
       "      <td>conv42</td>\n",
       "      <td>combined</td>\n",
       "      <td>nocost</td>\n",
       "    </tr>\n",
       "  </tbody>\n",
       "</table>\n",
       "</div>"
      ],
      "text/plain": [
       "                               model  logLikelihood     adaptor perception  \\\n",
       "0          multimodal_conv42_S0_cost    -761.169886  multimodal     conv42   \n",
       "1        multimodal_conv42_S0_nocost    -764.507610  multimodal     conv42   \n",
       "2    multimodal_conv42_combined_cost    -761.189535  multimodal     conv42   \n",
       "3  multimodal_conv42_combined_nocost    -707.762607  multimodal     conv42   \n",
       "\n",
       "  pragmatics production  \n",
       "0         S0       cost  \n",
       "1         S0     nocost  \n",
       "2   combined       cost  \n",
       "3   combined     nocost  "
      ]
     },
     "execution_count": 28,
     "metadata": {},
     "output_type": "execute_result"
    }
   ],
   "source": [
    "adaptor_type = 'multimodal_conv42'\n",
    "split_type = '1'\n",
    "model_prefixes = ['multimodal_conv42']\n",
    "PP = h.model_comparison_bars(model_prefixes,adaptor_type=adaptor_type,split_type='balancedavg{}'.format(split_type))\n",
    "# h.plot_multimodal_bars(PP)\n",
    "PP"
   ]
  },
  {
   "cell_type": "code",
   "execution_count": 29,
   "metadata": {},
   "outputs": [
    {
     "data": {
      "text/html": [
       "<div>\n",
       "<style scoped>\n",
       "    .dataframe tbody tr th:only-of-type {\n",
       "        vertical-align: middle;\n",
       "    }\n",
       "\n",
       "    .dataframe tbody tr th {\n",
       "        vertical-align: top;\n",
       "    }\n",
       "\n",
       "    .dataframe thead th {\n",
       "        text-align: right;\n",
       "    }\n",
       "</style>\n",
       "<table border=\"1\" class=\"dataframe\">\n",
       "  <thead>\n",
       "    <tr style=\"text-align: right;\">\n",
       "      <th></th>\n",
       "      <th>model</th>\n",
       "      <th>logLikelihood</th>\n",
       "      <th>adaptor</th>\n",
       "      <th>perception</th>\n",
       "      <th>pragmatics</th>\n",
       "      <th>production</th>\n",
       "    </tr>\n",
       "  </thead>\n",
       "  <tbody>\n",
       "    <tr>\n",
       "      <th>0</th>\n",
       "      <td>multimodal_pool1_S0_cost</td>\n",
       "      <td>-1125.238673</td>\n",
       "      <td>multimodal</td>\n",
       "      <td>pool1</td>\n",
       "      <td>S0</td>\n",
       "      <td>cost</td>\n",
       "    </tr>\n",
       "    <tr>\n",
       "      <th>1</th>\n",
       "      <td>multimodal_pool1_S0_nocost</td>\n",
       "      <td>-1125.261847</td>\n",
       "      <td>multimodal</td>\n",
       "      <td>pool1</td>\n",
       "      <td>S0</td>\n",
       "      <td>nocost</td>\n",
       "    </tr>\n",
       "    <tr>\n",
       "      <th>2</th>\n",
       "      <td>multimodal_pool1_combined_cost</td>\n",
       "      <td>-1108.363346</td>\n",
       "      <td>multimodal</td>\n",
       "      <td>pool1</td>\n",
       "      <td>combined</td>\n",
       "      <td>cost</td>\n",
       "    </tr>\n",
       "    <tr>\n",
       "      <th>3</th>\n",
       "      <td>multimodal_pool1_combined_nocost</td>\n",
       "      <td>-1108.785184</td>\n",
       "      <td>multimodal</td>\n",
       "      <td>pool1</td>\n",
       "      <td>combined</td>\n",
       "      <td>nocost</td>\n",
       "    </tr>\n",
       "  </tbody>\n",
       "</table>\n",
       "</div>"
      ],
      "text/plain": [
       "                              model  logLikelihood     adaptor perception  \\\n",
       "0          multimodal_pool1_S0_cost   -1125.238673  multimodal      pool1   \n",
       "1        multimodal_pool1_S0_nocost   -1125.261847  multimodal      pool1   \n",
       "2    multimodal_pool1_combined_cost   -1108.363346  multimodal      pool1   \n",
       "3  multimodal_pool1_combined_nocost   -1108.785184  multimodal      pool1   \n",
       "\n",
       "  pragmatics production  \n",
       "0         S0       cost  \n",
       "1         S0     nocost  \n",
       "2   combined       cost  \n",
       "3   combined     nocost  "
      ]
     },
     "execution_count": 29,
     "metadata": {},
     "output_type": "execute_result"
    }
   ],
   "source": [
    "adaptor_type = 'multimodal_pool1'\n",
    "split_type = '1'\n",
    "# model_prefixes = ['multimodal_pool1','multimodal_conv42','multimodal_fc6']\n",
    "model_prefixes = ['multimodal_pool1']\n",
    "PP = h.model_comparison_bars(model_prefixes,adaptor_type=adaptor_type,split_type='balancedavg{}'.format(split_type))\n",
    "# h.plot_multimodal_bars(PP)\n",
    "PP"
   ]
  },
  {
   "cell_type": "markdown",
   "metadata": {
    "collapsed": true
   },
   "source": [
    "#### check that distribution of log likelihoods is higher for the cost version of the model vs. nocost version"
   ]
  },
  {
   "cell_type": "code",
   "execution_count": null,
   "metadata": {},
   "outputs": [],
   "source": [
    "h.check_mean_LL_for_cost_vs_nocost(model_prefixes=['multimodal_fc6'],\n",
    "                                     adaptor_type = 'multimodal_fc6',\n",
    "                                     split_type='balancedavg1',\n",
    "                                     plot=True)"
   ]
  },
  {
   "cell_type": "markdown",
   "metadata": {
    "collapsed": true
   },
   "source": [
    "### Run evaluate to get scores on the test set"
   ]
  },
  {
   "cell_type": "code",
   "execution_count": null,
   "metadata": {
    "collapsed": true
   },
   "outputs": [],
   "source": [
    "### FIRST STEP:\n",
    "### iterate through Params and write back out in \"flattened\" form\n",
    "reload(h)\n",
    "reallyRun = 0\n",
    "if reallyRun:\n",
    "    h.flatten_param_posterior(adaptor_types = ['multimodal_pool1','multimodal_conv42','multimodal_fc6', 'human'],\n",
    "                              verbosity=1)"
   ]
  },
  {
   "cell_type": "code",
   "execution_count": 60,
   "metadata": {},
   "outputs": [
    {
     "data": {
      "text/plain": [
       "<module 'analysis_helpers' from 'analysis_helpers.py'>"
      ]
     },
     "execution_count": 60,
     "metadata": {},
     "output_type": "execute_result"
    }
   ],
   "source": [
    "#### SECOND STEP: Go to RSA.py and run evaluate on all of the models and splits\n",
    "### e.g.,\n",
    "### python RSA.py --wppl evaluate --perception human --pragmatics combined --production cost --split_type balancedavg1 balancedavg2 balancedavg3 balancedavg4 balancedavg5\n",
    "### python RSA.py --wppl evaluate --perception multimodal_fc6 --pragmatics combined --production cost --split_type balancedavg1 balancedavg2 balancedavg3 balancedavg4 balancedavg5\n",
    "### python RSA.py --wppl evaluate --perception multimodal_conv42 --pragmatics combined --production cost --split_type balancedavg1 balancedavg2 balancedavg3 balancedavg4 balancedavg5\n",
    "### python RSA.py --wppl evaluate --perception multimodal_fc6 --pragmatics S0 --production cost --split_type balancedavg1 balancedavg2 balancedavg3 balancedavg4 balancedavg5\n",
    "### python RSA.py --wppl evaluate --perception multimodal_fc6 --pragmatics combined --production nocost --split_type balancedavg1 balancedavg2 balancedavg3 balancedavg4 balancedavg5"
   ]
  },
  {
   "cell_type": "markdown",
   "metadata": {
    "collapsed": true
   },
   "source": [
    "### check model predictions \n",
    "\n",
    "- retrieval\n",
    "- cost plot"
   ]
  },
  {
   "cell_type": "code",
   "execution_count": 62,
   "metadata": {},
   "outputs": [],
   "source": [
    "### prior to running bda-enumerate, wouldn't it help to get a sense for the extreme values\n",
    "### in the param posterior for each model, for each split to make sure our grid covers \n",
    "### everywhere where there is some mass in the posterior?\n",
    "reload(h)\n",
    "reallyRun = 0\n",
    "if reallyRun:\n",
    "    h.get_sense_for_param_range_across_splits()"
   ]
  },
  {
   "cell_type": "code",
   "execution_count": null,
   "metadata": {},
   "outputs": [],
   "source": []
  },
  {
   "cell_type": "code",
   "execution_count": null,
   "metadata": {
    "collapsed": true
   },
   "outputs": [],
   "source": []
  },
  {
   "cell_type": "code",
   "execution_count": null,
   "metadata": {},
   "outputs": [
    {
     "name": "stdout",
     "output_type": "stream",
     "text": [
      "Currently evaluating human_combined_cost balancedavg2\n",
      "85 | sample ID: 85 \n"
     ]
    }
   ],
   "source": [
    "import analysis_helpers as h\n",
    "reload(h)\n",
    "\n",
    "split_types = ['balancedavg1','balancedavg2','balancedavg3','balancedavg4','balancedavg5']\n",
    "\n",
    "model_space = ['human_combined_cost','multimodal_fc6_combined_cost','multimodal_conv42_combined_cost',\n",
    "              'multimodal_fc6_S0_cost','multimodal_fc6_combined_nocost']\n",
    "\n",
    "# ## define paths to model predictions\n",
    "# split_type = 'balancedavg1'\n",
    "# model = 'multimodal_conv42_combined_cost'\n",
    "\n",
    "for model in model_space:\n",
    "    for split_type in split_types[1:]:\n",
    "\n",
    "        path_to_evaluate = '/data2/jefan/sketchpad_basic_model_output/evaluateOutput/{}_{}'.format(model,split_type)\n",
    "        pred_files = [os.path.join(path_to_evaluate,i) for i in os.listdir(path_to_evaluate)]\n",
    "\n",
    "        ## get file with params from this model\n",
    "        if model.split('_')[0]=='human':\n",
    "            bdaOutDir = '_'.join(model.split('_')[:1]) + '_{}'.format(split_type)\n",
    "        else:\n",
    "            bdaOutDir = '_'.join(model.split('_')[:2]) + '_{}'.format(split_type)\n",
    "        params_fname = model + '_' + split_type + 'ParamsFlattened.csv'\n",
    "        params_path = os.path.join('../models/bdaOutput',bdaOutDir,'flattened',params_fname)\n",
    "        params = pd.read_csv(params_path)\n",
    "        assert np.round(np.sum(np.exp(params.posteriorProb.values)),12)==1\n",
    "\n",
    "        ## get list of all predictives (accepted MCMC samples) and\n",
    "        h.sort_filelist(pred_files) ## sort pred_files into human ordering\n",
    "\n",
    "\n",
    "        Obj = []\n",
    "        Cond = []\n",
    "        TargetRank = []\n",
    "        FoilRank = []\n",
    "        Logprob = []\n",
    "        SampleID = []\n",
    "        Trial = []\n",
    "        Adaptor = []\n",
    "\n",
    "        ## loop through MCMC samples\n",
    "        for i,this_sample in enumerate(pred_files):\n",
    "            print 'Currently evaluating {} {}'.format(model,split_type)\n",
    "            print'{} | sample ID: {} '.format(i,int(this_sample.split('/')[-1].split('Predictives.csv')[0]))\n",
    "\n",
    "            ## read in predictions from this sample        \n",
    "            sample_preds = pd.read_csv(this_sample)\n",
    "            sample_ind = int(this_sample.split('/')[-1].split('Predictives.csv')[0]) ## index of MCMC sample\n",
    "            clear_output(wait=True)        \n",
    "\n",
    "            ## get params that generated these predictions\n",
    "        #     simScaling = params.iloc[sample_ind]['simScaling']\n",
    "        #     pragWeight = params.iloc[sample_ind]['pragWeight']\n",
    "        #     costWeight = params.iloc[sample_ind]['costWeight']\n",
    "        #     infWeight = params.iloc[sample_ind]['infWeight']    \n",
    "        #     posteriorProb = params.iloc[sample_ind]['posteriorProb']\n",
    "        #     logLikelihood = params.iloc[sample_ind]['logLikelihood']        \n",
    "\n",
    "            ## get congruent/incongruent context log odds for each sketch\n",
    "            trials = np.unique(sample_preds['game'].values)\n",
    "\n",
    "            for this_trial in trials:\n",
    "                ## subset the rows that correspond to this particular trial\n",
    "                trial_inds = sample_preds['game']==this_trial\n",
    "                these_rows = sample_preds[trial_inds]\n",
    "\n",
    "                assert np.round(sum(np.exp(these_rows['modelProb'].values)),6)==1\n",
    "\n",
    "                ## sort the 64 sketch categories by model probability \n",
    "                sorted_rows = these_rows.sort_values(by=['modelProb'],ascending=False).reset_index()\n",
    "\n",
    "                ## get target rank, logprob, prob\n",
    "                target = np.unique(sorted_rows['TrueSketch'].values)[0]\n",
    "                if target.split('_')[0]=='closer':\n",
    "                    foil = 'further_{}'.format(target.split('_')[1])\n",
    "                elif target.split('_')[0]=='further':\n",
    "                    foil = 'closer_{}'.format(target.split('_')[1])\n",
    "                target_rank = sorted_rows.index[sorted_rows['PossibleSketch']==target].tolist()[0]+1\n",
    "                foil_rank = sorted_rows.index[sorted_rows['PossibleSketch']==foil].tolist()[0]+1\n",
    "                target_logprob = sorted_rows.iloc[target_rank]['modelProb']\n",
    "                target_prob = np.exp(target_logprob)\n",
    "                obj = sorted_rows.iloc[target_rank]['Target']\n",
    "                condition = sorted_rows.iloc[target_rank]['condition']    \n",
    "                Obj.append(obj)\n",
    "                Cond.append(condition)\n",
    "                TargetRank.append(target_rank)\n",
    "                FoilRank.append(foil_rank)\n",
    "                Logprob.append(target_logprob)\n",
    "                SampleID.append(sample_ind)\n",
    "                Trial.append(this_trial)\n",
    "                Adaptor.append(model)\n",
    "\n",
    "\n",
    "        ## make dataframe\n",
    "        print 'Now making dataframe'\n",
    "        X = pd.DataFrame([Obj,Cond,TargetRank,FoilRank,Logprob,SampleID,Trial,Adaptor])\n",
    "        X = X.transpose()\n",
    "        X.columns = ['object','condition','target_rank','foil_rank','logprob','sample_ind','trial','adaptor']\n",
    "        if not os.path.exists('./csv'):\n",
    "            os.makedirs('./csv')\n",
    "        X.to_csv('./csv/{}_{}_predictions.csv'.format(model,split_type))     \n",
    "        print 'Dataframe successfully saved out.'"
   ]
  },
  {
   "cell_type": "markdown",
   "metadata": {
    "collapsed": true
   },
   "source": [
    "#### now read in predictions and compute retrieval performance"
   ]
  },
  {
   "cell_type": "code",
   "execution_count": 61,
   "metadata": {
    "collapsed": true
   },
   "outputs": [],
   "source": [
    "def convert_numeric(X):\n",
    "    ## make numeric types for aggregation\n",
    "    X['target_rank'] = pd.to_numeric(X['target_rank'])\n",
    "    X['foil_rank'] = pd.to_numeric(X['foil_rank'])\n",
    "    X['logprob'] = pd.to_numeric(X['logprob'])\n",
    "    return X\n",
    "\n",
    "def add_diff_rank(X):\n",
    "    X['diff_rank'] = X['target_rank'] - X['foil_rank']\n",
    "    X['sign_diff_rank'] = X['diff_rank']<0\n",
    "    return X"
   ]
  },
  {
   "cell_type": "code",
   "execution_count": 77,
   "metadata": {
    "collapsed": true
   },
   "outputs": [],
   "source": [
    "H = pd.read_csv('./csv/human_combined_cost_balancedavg1_predictions.csv')\n",
    "M = pd.read_csv('./csv/multimodal_fc6_combined_cost_balancedavg1_predictions.csv')\n",
    "M0 = pd.read_csv('./csv/multimodal_conv42_combined_cost_balancedavg1_predictions.csv')\n",
    "M1 = pd.read_csv('./csv/multimodal_fc6_S0_cost_balancedavg1_predictions.csv')\n",
    "M2 = pd.read_csv('./csv/multimodal_fc6_combined_nocost_balancedavg1_predictions.csv')\n",
    "\n",
    "### some preprocessing\n",
    "H = add_diff_rank(convert_numeric(H))\n",
    "M = add_diff_rank(convert_numeric(M))\n",
    "M0 = add_diff_rank(convert_numeric(M0))\n",
    "M1 = add_diff_rank(convert_numeric(M1))\n",
    "M2 = add_diff_rank(convert_numeric(M2))\n",
    "\n",
    "### add name of adaptor to the dataframe\n",
    "adaptor = list(np.tile('human_combined_cost',len(H)))\n",
    "H = H.assign(adaptor=pd.Series(adaptor).values)\n",
    "\n",
    "adaptor = list(np.tile('multimodal_fc6_combined_cost',len(H)))\n",
    "M = M.assign(adaptor=pd.Series(adaptor).values)\n",
    "\n",
    "adaptor = list(np.tile('multimodal_conv42_combined_cost',len(H)))\n",
    "M0 = M0.assign(adaptor=pd.Series(adaptor).values)\n",
    "\n",
    "adaptor = list(np.tile('multimodal_fc6_S0_cost',len(H)))\n",
    "M1 = M1.assign(adaptor=pd.Series(adaptor).values)\n",
    "\n",
    "adaptor = list(np.tile('multimodal_fc6_combined_nocost',len(H)))\n",
    "M2 = M2.assign(adaptor=pd.Series(adaptor).values)"
   ]
  },
  {
   "cell_type": "code",
   "execution_count": 4,
   "metadata": {},
   "outputs": [
    {
     "data": {
      "text/plain": [
       "<matplotlib.text.Text at 0x7f07f9277f50>"
      ]
     },
     "execution_count": 4,
     "metadata": {},
     "output_type": "execute_result"
    },
    {
     "data": {
      "image/png": "[encoded data removed]",
      "text/plain": [
       "<matplotlib.figure.Figure at 0x7f07f9540650>"
      ]
     },
     "metadata": {},
     "output_type": "display_data"
    }
   ],
   "source": [
    "## what is the rank of the correct sketch category vs. wrong context condition, but correct object\n",
    "fig = plt.figure(figsize=(12,12))\n",
    "plt.suptitle('target vs. foil rank by object, marginalizing over MCMC samples')\n",
    "plt.subplot(231)\n",
    "targ = pd.DataFrame(H.groupby(['object'])['target_rank'].mean())['target_rank'].values\n",
    "foil = pd.DataFrame(H.groupby(['object'])['foil_rank'].mean())['foil_rank'].values\n",
    "h = plt.scatter(targ,foil,s=24)\n",
    "plt.plot([1,14],[1,14],color='k',linestyle='dashed')\n",
    "plt.xlim([1,14])\n",
    "plt.ylim([1,14])\n",
    "plt.xlabel('target rank')\n",
    "plt.ylabel('foil rank')\n",
    "plt.title('human')\n",
    "plt.subplot(232)\n",
    "targ = pd.DataFrame(M.groupby(['object'])['target_rank'].mean())['target_rank'].values\n",
    "foil = pd.DataFrame(M.groupby(['object'])['foil_rank'].mean())['foil_rank'].values\n",
    "h = plt.scatter(targ,foil,s=24)\n",
    "plt.plot([1,14],[1,14],color='k',linestyle='dashed')\n",
    "plt.xlim([1,14])\n",
    "plt.ylim([1,14])\n",
    "plt.xlabel('target rank')\n",
    "plt.ylabel('foil rank')\n",
    "plt.title('model')\n",
    "plt.subplot(233)\n",
    "targ = pd.DataFrame(M0.groupby(['object'])['target_rank'].mean())['target_rank'].values\n",
    "foil = pd.DataFrame(M0.groupby(['object'])['foil_rank'].mean())['foil_rank'].values\n",
    "h = plt.scatter(targ,foil,s=24)\n",
    "plt.plot([1,14],[1,14],color='k',linestyle='dashed')\n",
    "# plt.xlim([1,14])\n",
    "# plt.ylim([1,14])\n",
    "plt.xlabel('target rank')\n",
    "plt.ylabel('foil rank')\n",
    "plt.title('model conv42')\n",
    "plt.subplot(234)\n",
    "targ = pd.DataFrame(M1.groupby(['object'])['target_rank'].mean())['target_rank'].values\n",
    "foil = pd.DataFrame(M1.groupby(['object'])['foil_rank'].mean())['foil_rank'].values\n",
    "h = plt.scatter(targ,foil,s=24)\n",
    "plt.plot([1,14],[1,14],color='k',linestyle='dashed')\n",
    "# plt.xlim([1,14])\n",
    "# plt.ylim([1,14])\n",
    "plt.xlabel('target rank')\n",
    "plt.ylabel('foil rank')\n",
    "plt.title('model S0')\n",
    "plt.subplot(235)\n",
    "targ = pd.DataFrame(M2.groupby(['object'])['target_rank'].mean())['target_rank'].values\n",
    "foil = pd.DataFrame(M2.groupby(['object'])['foil_rank'].mean())['foil_rank'].values\n",
    "h = plt.scatter(targ,foil,s=24)\n",
    "plt.plot([1,14],[1,14],color='k',linestyle='dashed')\n",
    "# plt.xlim([1,14])\n",
    "# plt.ylim([1,14])\n",
    "plt.xlabel('target rank')\n",
    "plt.ylabel('foil rank')\n",
    "plt.title('model nocost')"
   ]
  },
  {
   "cell_type": "code",
   "execution_count": null,
   "metadata": {
    "collapsed": true
   },
   "outputs": [],
   "source": []
  },
  {
   "cell_type": "code",
   "execution_count": 5,
   "metadata": {},
   "outputs": [
    {
     "name": "stdout",
     "output_type": "stream",
     "text": [
      "1.6374420289855072 1.8757282608695651\n",
      "3.3430072463768115 4.101047101449275\n",
      "5.852333333333333 6.350438405797101\n",
      "3.9001376811594204 3.994496376811594\n",
      "3.760268115942029 3.439394927536232\n"
     ]
    }
   ],
   "source": [
    "print H['target_rank'].mean(), H['foil_rank'].mean()\n",
    "print M['target_rank'].mean(), M['foil_rank'].mean()\n",
    "print M0['target_rank'].mean(), M0['foil_rank'].mean()\n",
    "print M1['target_rank'].mean(), M1['foil_rank'].mean()\n",
    "print M2['target_rank'].mean(), M2['foil_rank'].mean()"
   ]
  },
  {
   "cell_type": "code",
   "execution_count": 50,
   "metadata": {},
   "outputs": [
    {
     "name": "stdout",
     "output_type": "stream",
     "text": [
      "0.59697826087\n",
      "0.638528985507\n",
      "0.516076086957\n",
      "0.505695652174\n",
      "0.507275362319\n"
     ]
    }
   ],
   "source": [
    "# h = plt.hist(M['target_rank'] - M['foil_rank'],50)\n",
    "print sum((H['target_rank'] - H['foil_rank'])<0)/len(M)\n",
    "print sum((M['target_rank'] - M['foil_rank'])<0)/len(M)\n",
    "print sum((M0['target_rank'] - M0['foil_rank'])<0)/len(M)\n",
    "print sum((M1['target_rank'] - M1['foil_rank'])<0)/len(M)\n",
    "print sum((M2['target_rank'] - M2['foil_rank'])<0)/len(M)"
   ]
  },
  {
   "cell_type": "code",
   "execution_count": 122,
   "metadata": {
    "collapsed": true
   },
   "outputs": [],
   "source": [
    "def get_avg_rank_across_samples(X):\n",
    "    '''\n",
    "    make another dataframe which computes, for each MCMC sample, the average rank of the target\n",
    "    (congruent context category)\n",
    "    '''\n",
    "    XM = pd.DataFrame(X.groupby('sample_ind')['target_rank'].mean()).reset_index()\n",
    "    adaptor = np.unique(X['adaptor'].values)[0]\n",
    "    adaptor = list(np.tile(adaptor,len(XM)))\n",
    "    XM = XM.assign(adaptor=pd.Series(adaptor).values)    \n",
    "    return XM\n",
    "                      "
   ]
  },
  {
   "cell_type": "code",
   "execution_count": 123,
   "metadata": {},
   "outputs": [],
   "source": [
    "HU,MU,M0U,M1U,M2U = map(get_avg_rank_across_samples,[H,M,M0,M1,M2])"
   ]
  },
  {
   "cell_type": "code",
   "execution_count": null,
   "metadata": {},
   "outputs": [],
   "source": []
  },
  {
   "cell_type": "code",
   "execution_count": 147,
   "metadata": {},
   "outputs": [
    {
     "data": {
      "image/png": "[encoded data removed]",
      "text/plain": [
       "<matplotlib.figure.Figure at 0x7f07f6c44410>"
      ]
     },
     "metadata": {},
     "output_type": "display_data"
    }
   ],
   "source": [
    "## plot average rank \n",
    "fig = plt.figure(figsize=(4,8))\n",
    "ax = fig.add_subplot(111)\n",
    "U = pd.concat([HU,MU,M0U,M1U,M2U],axis=0)\n",
    "sns.barplot(data=U,\n",
    "            x='adaptor',\n",
    "            y='target_rank',\n",
    "            ci='sd',\n",
    "            order=['human_combined_cost','multimodal_fc6_combined_cost',\n",
    "                   'multimodal_fc6_S0_cost','multimodal_fc6_combined_nocost',\n",
    "                   'multimodal_conv42_combined_cost'])\n",
    "plt.ylabel('mean rank of congruent sketch')\n",
    "plt.ylim([1,8])\n",
    "xticklabels=['Context Cost Human','Context Cost HighAdaptor',\n",
    "             'NoContext Cost HighAdaptor','Context NoCost HighAdaptor',\n",
    "             'Context Cost MidAdaptor']\n",
    "plt.xlabel('')\n",
    "l = ax.set_xticklabels(xticklabels, rotation = 90, ha=\"left\")\n",
    "plt.tight_layout()"
   ]
  },
  {
   "cell_type": "code",
   "execution_count": null,
   "metadata": {
    "collapsed": true
   },
   "outputs": [],
   "source": []
  },
  {
   "cell_type": "code",
   "execution_count": 86,
   "metadata": {},
   "outputs": [],
   "source": [
    "def get_prop_congruent(X):\n",
    "    '''\n",
    "    make another data frame that computes, for each MCMC sample, the proportion of trials \n",
    "    on which model assigns better rank to congruent sketch than sketch from opposite context category ('foil')\n",
    "    '''\n",
    "    XM = pd.DataFrame(X.groupby('sample_ind')['sign_diff_rank'].apply(lambda x: sum(x)/len(x))).reset_index()\n",
    "    adaptor = np.unique(X['adaptor'].values)[0]\n",
    "    adaptor = list(np.tile(adaptor,len(XM)))\n",
    "    XM = XM.assign(adaptor=pd.Series(adaptor).values)    \n",
    "    return XM\n",
    "\n",
    "HD,MD,M0D,M1D,M2D = map(get_prop_congruent,[H,M,M0,M1,M2])\n"
   ]
  },
  {
   "cell_type": "code",
   "execution_count": 87,
   "metadata": {},
   "outputs": [],
   "source": []
  },
  {
   "cell_type": "code",
   "execution_count": 115,
   "metadata": {},
   "outputs": [
    {
     "data": {
      "text/plain": [
       "<matplotlib.text.Text at 0x7f07b42d2850>"
      ]
     },
     "execution_count": 115,
     "metadata": {},
     "output_type": "execute_result"
    },
    {
     "data": {
      "image/png": "[encoded data removed]",
      "text/plain": [
       "<matplotlib.figure.Figure at 0x7f07b42eb110>"
      ]
     },
     "metadata": {},
     "output_type": "display_data"
    }
   ],
   "source": [
    "## plot proportion of trials for which context-congruent sketch preferred over incongruent sketch\n",
    "D = pd.concat([HD,MD,M0D,M1D,M2D],axis=0)\n",
    "fig = plt.figure(figsize=(4,8))\n",
    "sns.barplot(data=D,\n",
    "            x='adaptor',\n",
    "            y='sign_diff_rank',ci='sd')\n",
    "plt.axhline(y=0.5,linestyle='dashed',color='k')\n",
    "plt.ylim([0,1])\n",
    "plt.ylabel('proportion context-congruent sketch preferred')"
   ]
  },
  {
   "cell_type": "code",
   "execution_count": null,
   "metadata": {},
   "outputs": [],
   "source": []
  },
  {
   "cell_type": "code",
   "execution_count": null,
   "metadata": {
    "collapsed": true
   },
   "outputs": [],
   "source": []
  },
  {
   "cell_type": "code",
   "execution_count": null,
   "metadata": {
    "collapsed": true
   },
   "outputs": [],
   "source": []
  },
  {
   "cell_type": "code",
   "execution_count": 752,
   "metadata": {},
   "outputs": [
    {
     "name": "stdout",
     "output_type": "stream",
     "text": [
      "evaluating 750\n",
      "multimodal_fc6_combined_nocost balancedavg1\n"
     ]
    }
   ],
   "source": [
    "### make a \"top-k\" plot (what percentage of sketches in the top k)\n",
    "\n",
    "model_space = ['human_combined_cost','multimodal_fc6_combined_cost','multimodal_conv42_combined_cost',\n",
    "              'multimodal_fc6_S0_cost','multimodal_fc6_combined_nocost']\n",
    "\n",
    "dfs = H,M,M0,M1,M2\n",
    "\n",
    "model_df_dict = dict(zip(model_space,dfs))\n",
    "\n",
    "for j,model in enumerate(model_space):\n",
    "    print '{} evaluating {}'.format(j,model)\n",
    "    clear_output(wait=True)        \n",
    "    D = model_df_dict[model]   \n",
    "    \n",
    "    sample_inds = np.unique(D.sample_ind.values)\n",
    "    prop = []\n",
    "    sid = []\n",
    "    K = []\n",
    "    for i,sample_ind in enumerate(sample_inds):\n",
    "        if i%250==0:\n",
    "            print 'evaluating {}'.format(i)\n",
    "        these_rows = D[D['sample_ind']==sample_ind]\n",
    "        num_trials = these_rows.shape[0]\n",
    "        for k in np.arange(1,65):\n",
    "            prop.append(sum(these_rows['target_rank']<=k)/num_trials)\n",
    "            sid.append(sample_ind)\n",
    "            K.append(k)\n",
    "\n",
    "    ## make dataframe and save out\n",
    "    sid = map(int,sid)\n",
    "    K = map(int,K)\n",
    "    adaptor = list(np.tile(model,len(sid)))\n",
    "    Q = pd.DataFrame([prop,sid,K,adaptor])\n",
    "    Q = Q.transpose()\n",
    "    Q.columns = ['prop','ind','k','adaptor']\n",
    "    print model, split_type\n",
    "    Q.to_csv('./csv/{}_{}_topk.csv'.format(model,split_type),index=False)        "
   ]
  },
  {
   "cell_type": "code",
   "execution_count": null,
   "metadata": {
    "collapsed": true
   },
   "outputs": [],
   "source": []
  },
  {
   "cell_type": "code",
   "execution_count": 6,
   "metadata": {
    "collapsed": true
   },
   "outputs": [],
   "source": [
    "## aggregate across comparison models\n",
    "QH = pd.read_csv('./csv/human_combined_cost_balancedavg1_topk.csv')\n",
    "QM = pd.read_csv('./csv/multimodal_fc6_combined_cost_balancedavg1_topk.csv')\n",
    "QM0 = pd.read_csv('./csv/multimodal_conv42_combined_cost_balancedavg1_topk.csv')\n",
    "QM1 = pd.read_csv('./csv/multimodal_fc6_S0_cost_balancedavg1_topk.csv')\n",
    "QM2 = pd.read_csv('./csv/multimodal_fc6_combined_nocost_balancedavg1_topk.csv')\n",
    "Q = pd.concat([QH,QM0,QM1,QM2,QM],axis=0)"
   ]
  },
  {
   "cell_type": "code",
   "execution_count": null,
   "metadata": {
    "collapsed": true
   },
   "outputs": [],
   "source": []
  },
  {
   "cell_type": "code",
   "execution_count": null,
   "metadata": {
    "collapsed": true
   },
   "outputs": [],
   "source": []
  },
  {
   "cell_type": "code",
   "execution_count": 24,
   "metadata": {},
   "outputs": [
    {
     "data": {
      "text/plain": [
       "<matplotlib.legend.Legend at 0x7f07e0c2f950>"
      ]
     },
     "execution_count": 24,
     "metadata": {},
     "output_type": "execute_result"
    },
    {
     "data": {
      "image/png": "[encoded data removed]",
      "text/plain": [
       "<matplotlib.figure.Figure at 0x7f07e0c2ffd0>"
      ]
     },
     "metadata": {},
     "output_type": "display_data"
    }
   ],
   "source": [
    "## plot it\n",
    "krange = 64 ## how many values of k to plot\n",
    "sns.set_context('poster')\n",
    "fig = plt.figure(figsize=(8,8))\n",
    "colors = [(0.2,0.2,0.2),(0.8,0.3,0.3),(0.3,0.3,0.8),(0.5,0.5,0.5),(0.6,0.2,0.6)]\n",
    "sns.pointplot(x='k',\n",
    "              y='prop',\n",
    "              hue='adaptor',\n",
    "              data=Q,\n",
    "              palette=colors,\n",
    "              markers = '.',\n",
    "              ci='sd',              \n",
    "              join=True)\n",
    "plt.ylabel('proportion',fontsize=24)\n",
    "plt.xlabel('k',fontsize=24)\n",
    "plt.title('% correct within top k')\n",
    "plt.ylim([0,1.1])\n",
    "# plt.xlim([-0.1,krange])\n",
    "plt.xlim([0,18])\n",
    "# locs, labels = plt.xticks(np.linspace(0,krange-1,9),map(int,np.linspace(0,krange-1,9)+1),fontsize=16)\n",
    "plt.tight_layout()\n",
    "plt.legend()"
   ]
  },
  {
   "cell_type": "code",
   "execution_count": null,
   "metadata": {
    "collapsed": true
   },
   "outputs": [],
   "source": []
  },
  {
   "cell_type": "code",
   "execution_count": null,
   "metadata": {
    "collapsed": true
   },
   "outputs": [],
   "source": []
  },
  {
   "cell_type": "code",
   "execution_count": 117,
   "metadata": {},
   "outputs": [
    {
     "data": {
      "text/plain": [
       "(276000, 11)"
      ]
     },
     "execution_count": 117,
     "metadata": {},
     "output_type": "execute_result"
    }
   ],
   "source": []
  },
  {
   "cell_type": "code",
   "execution_count": null,
   "metadata": {},
   "outputs": [],
   "source": []
  },
  {
   "cell_type": "code",
   "execution_count": null,
   "metadata": {},
   "outputs": [],
   "source": []
  },
  {
   "cell_type": "code",
   "execution_count": null,
   "metadata": {
    "collapsed": true
   },
   "outputs": [],
   "source": []
  },
  {
   "cell_type": "code",
   "execution_count": null,
   "metadata": {
    "collapsed": true
   },
   "outputs": [],
   "source": [
    "### show the average cost (time, strokes, ink) for average model prediction"
   ]
  },
  {
   "cell_type": "code",
   "execution_count": null,
   "metadata": {
    "collapsed": true
   },
   "outputs": [],
   "source": [
    "split_type = 'balancedavg1'\n",
    "path_to_costs = '/home/jefan/visual_communication_in_context/models/refModule/json/{}'.format(split_type)\n",
    "\n"
   ]
  },
  {
   "cell_type": "code",
   "execution_count": null,
   "metadata": {
    "collapsed": true
   },
   "outputs": [],
   "source": []
  },
  {
   "cell_type": "code",
   "execution_count": null,
   "metadata": {
    "collapsed": true
   },
   "outputs": [],
   "source": []
  },
  {
   "cell_type": "code",
   "execution_count": null,
   "metadata": {
    "collapsed": true
   },
   "outputs": [],
   "source": []
  },
  {
   "cell_type": "code",
   "execution_count": null,
   "metadata": {
    "collapsed": true
   },
   "outputs": [],
   "source": []
  },
  {
   "cell_type": "code",
   "execution_count": null,
   "metadata": {
    "collapsed": true
   },
   "outputs": [],
   "source": []
  },
  {
   "cell_type": "code",
   "execution_count": null,
   "metadata": {
    "collapsed": true
   },
   "outputs": [],
   "source": []
  },
  {
   "cell_type": "code",
   "execution_count": null,
   "metadata": {
    "collapsed": true
   },
   "outputs": [],
   "source": []
  },
  {
   "cell_type": "code",
   "execution_count": null,
   "metadata": {
    "collapsed": true
   },
   "outputs": [],
   "source": []
  },
  {
   "cell_type": "code",
   "execution_count": 25,
   "metadata": {
    "collapsed": true,
    "scrolled": false
   },
   "outputs": [],
   "source": [
    "reallyRun = 0\n",
    "if reallyRun:\n",
    "    import analysis_helpers as h\n",
    "    reload(h)\n",
    "\n",
    "    for this_model in model_zoo:\n",
    "\n",
    "        ## define paths to model predictions\n",
    "        path_to_evaluate = '/data2/jefan/sketchpad_basic_model_output/evaluateOutput'\n",
    "        model_dirname = ('_').join(this_model.split('_')[:4])\n",
    "        pred_path = os.path.join(path_to_evaluate,model_dirname)\n",
    "\n",
    "        ## get file with params from this model\n",
    "        this_params = os.path.join('../models/bdaOutput',this_model)\n",
    "        params = pd.read_csv(this_params)\n",
    "        assert np.round(np.sum(np.exp(params.posteriorProb.values)),12)==1\n",
    "\n",
    "        ## get list of all predictives (accepted MCMC samples)\n",
    "        pred_files = [i for i in os.listdir(pred_path) if i[-15:] =='Predictives.csv']\n",
    "        h.sort_filelist(pred_files) ## sort pred_files into human ordering\n",
    "\n",
    "        X = [] ## initialize giant dataframe that contains predictions from all MCMC samples\n",
    "\n",
    "        ## loop through MCMC samples\n",
    "        for i,this_sample in enumerate(pred_files):\n",
    "            print 'Currently evaluating {}'.format(model_dirname)\n",
    "            print'{} | sample ID: {} '.format(i,int(this_sample.split('Predictives.csv')[0]))\n",
    "            ## read in predictions from this sample\n",
    "            sample_path = os.path.join(pred_path,this_sample)\n",
    "            sample_preds = pd.read_csv(sample_path)\n",
    "            sample_ind = int(this_sample.split('Predictives.csv')[0]) ## index of MCMC sample\n",
    "            clear_output(wait=True)\n",
    "\n",
    "            #### get params that generated these predictions\n",
    "            #alpha = params.iloc[sample_ind]['alpha']\n",
    "            #simScaling = params.iloc[sample_ind]['simScaling']\n",
    "            #pragWeight = params.iloc[sample_ind]['pragWeight']\n",
    "            #costWeight = params.iloc[sample_ind]['costWeight']\n",
    "            posteriorProb = params.iloc[sample_ind]['posteriorProb']\n",
    "            #logLikelihood = params.iloc[sample_ind]['logLikelihood']\n",
    "\n",
    "            ## get congruent/incongruent context log odds for each sketch\n",
    "            sketches = np.unique(sample_preds['trueSketch'].values)\n",
    "            log_odds = []\n",
    "            label = []\n",
    "            condition = []\n",
    "            cp = []\n",
    "            op = []\n",
    "            for this_sketch in sketches:\n",
    "                sketch_inds = sample_preds['trueSketch']==this_sketch\n",
    "                these_rows = sample_preds[sketch_inds]\n",
    "                cond = np.unique(these_rows['condition'].values)[0]\n",
    "                other_cond = [i for i in ['closer','further'] if i != cond][0]\n",
    "                obj = these_rows.iloc[0]['Target'].split('_')[-1]\n",
    "                congruent_prob = these_rows[these_rows['coarseGrainedPossibleSketch']=='{}_{}'.format(cond,obj)]['modelProb'].values[0]\n",
    "                other_prob = these_rows[these_rows['coarseGrainedPossibleSketch']=='{}_{}'.format(other_cond,obj)]['modelProb'].values[0]\n",
    "                log_odds.append(congruent_prob - other_prob)\n",
    "                cp.append(congruent_prob)\n",
    "                op.append(other_prob)\n",
    "                label.append(obj)\n",
    "                condition.append(cond)  \n",
    "\n",
    "            ## make dataframe out of this sample\n",
    "            sampleProb = [posteriorProb]*len(condition) ## take exp of posteriorProb, which is already in log space\n",
    "            sampleInd = [sample_ind]*len(conditiond)\n",
    "            x = pd.DataFrame([sampleInd,sampleProb,condition,label,list(sketches),log_odds,cp,op])\n",
    "            x = x.transpose()\n",
    "            x.columns = ['sample_ind','sample_logprob','condition','label','sketch','odds','congruent_prob','other_prob']\n",
    "            x = x.sort_values(by=['condition','label','sketch'])\n",
    "\n",
    "            ## concatenate dataframes containing log-odds from all MCMC samples\n",
    "            if len(X)==0:\n",
    "                X = x\n",
    "            else:\n",
    "                X = pd.concat([X,x])\n",
    "\n",
    "        # save out   \n",
    "        X.odds = X.odds.astype('float')\n",
    "        X.sample_prob = X.sample_prob.astype('float')\n",
    "        print 'Saving out model predictions for {}'.format(model_dirname)\n",
    "        X.to_csv('./predictions/{}_model_predictions_log_odds.csv'.format(model_dirname))"
   ]
  },
  {
   "cell_type": "code",
   "execution_count": null,
   "metadata": {
    "collapsed": true
   },
   "outputs": [],
   "source": []
  },
  {
   "cell_type": "markdown",
   "metadata": {
    "collapsed": true
   },
   "source": [
    "### analyze pattern of model predictions"
   ]
  },
  {
   "cell_type": "code",
   "execution_count": 551,
   "metadata": {
    "collapsed": true
   },
   "outputs": [],
   "source": [
    "### helpers\n",
    "def bootstrapCI(x,nIter=1000):\n",
    "    '''\n",
    "    input: x is an array\n",
    "    '''\n",
    "    u = []\n",
    "    for i in np.arange(nIter):\n",
    "        inds = np.random.RandomState(i).choice(len(x),len(x))\n",
    "        boot = x[inds]\n",
    "        u.append(np.mean(boot))\n",
    "\n",
    "    u = np.array(u)\n",
    "    p1 = sum(u<0)/len(u) * 2\n",
    "    p2 = sum(u>0)/len(u) * 2\n",
    "    p = np.min([p1,p2])\n",
    "    U = np.mean(u)\n",
    "    lb = np.percentile(u,2.5)\n",
    "    ub = np.percentile(u,97.5)\n",
    "    return U,lb,ub,p\n",
    "\n",
    "def sumlogprob(a,b):\n",
    "    if (a > b):\n",
    "        return a + np.log1p(np.exp(b-a))\n",
    "    else:\n",
    "        return b + np.log1p(np.exp(a-b)) \n",
    "    \n",
    "def flatten(x):\n",
    "    return [item for sublist in x for item in sublist]\n",
    "    \n",
    "    \n",
    "def make_category_by_obj_palette():\n",
    "    import itertools\n",
    "    col = []\n",
    "    for j in sns.color_palette(\"hls\", 4):\n",
    "        col.append([i for i in itertools.repeat(j, 8)])\n",
    "    return flatten(col)    "
   ]
  },
  {
   "cell_type": "code",
   "execution_count": 538,
   "metadata": {},
   "outputs": [
    {
     "name": "stdout",
     "output_type": "stream",
     "text": [
      "0.236 0.166 0.308 0.0 multimodal_full25k_combined_cost\n",
      "0.199 0.126 0.275 0.0 multimodal_full25k_combined_nocost\n",
      "0.203 0.096 0.318 0.0 multimodal_full25k_S0_cost\n",
      "0.163 0.095 0.231 0.0 multimodal_full25k_S0_nocost\n"
     ]
    }
   ],
   "source": [
    "for this_model in ['multimodal_full25k_combined_cost','multimodal_full25k_combined_nocost',\\\n",
    "                  'multimodal_full25k_S0_cost','multimodal_full25k_S0_nocost']:\n",
    "    X = pd.read_csv('./predictions/{}_model_predictions_log_odds.csv'.format(this_model))\n",
    "    try:\n",
    "        X.rename(columns={'sample_prob':'sample_logprob'},inplace=True)\n",
    "    except:\n",
    "        print 'No column called sample_prob'\n",
    "\n",
    "\n",
    "    ## get sample_prob in prob space by exponentiating sample_logprob    \n",
    "    X['sample_prob'] = np.exp(X['sample_logprob'].values)\n",
    "    ## sample_prob is already in prob space, congruent_prob is in log space\n",
    "    X['weighted_congruent_prob'] = X['sample_prob']*np.exp(X['congruent_prob']) \n",
    "    X['weighted_other_prob'] = X['sample_prob']*np.exp(X['other_prob']) \n",
    "\n",
    "    assert np.round(X.groupby('sample_ind')['sample_prob'].mean().sum(),1)==1    \n",
    "\n",
    "    ## which is the MAP sample?\n",
    "    # MAP_sample_ind = X[X['sample_logprob']==np.max(X['sample_logprob'])]['sample_ind'].unique()[0]\n",
    "    # XMAP = X[X['sample_ind']==MAP_sample_ind]\n",
    "\n",
    "    ## make dataframe collapsed down to sketch level marginalizing over parameter values\n",
    "    ## extract weighted congruent_prob and other_prob for each sketch\n",
    "    CP = X.groupby('sketch')['weighted_congruent_prob'].sum().values\n",
    "    OP = X.groupby('sketch')['weighted_other_prob'].sum().values\n",
    "    COND = [i[0] for i in X.groupby('sketch')['condition'].unique().values]\n",
    "    LABEL = [i[0] for i in X.groupby('sketch')['label'].unique().values]\n",
    "    \n",
    "    ## actually make dataframe\n",
    "    P = pd.DataFrame([CP,OP,COND,LABEL]).transpose()\n",
    "    P.columns = ['congruent_prob','other_prob','condition','label']\n",
    "    P.congruent_prob = P.congruent_prob.astype('float')\n",
    "    P.other_prob = P.other_prob.astype('float')\n",
    "    P['total_class_prob'] = P['congruent_prob']+P['other_prob']\n",
    "    P.total_class_prob = P.total_class_prob.astype('float')\n",
    "    P['normalized_congruent_prob'] = P['congruent_prob']/P['total_class_prob']\n",
    "    P['normalized_other_prob'] = P['other_prob']/P['total_class_prob']\n",
    "\n",
    "    log_odds = np.log(P['congruent_prob'].values/P['other_prob'].values)\n",
    "    P = P.assign(log_odds=pd.Series(log_odds).values)\n",
    "    model_name = [this_model]*len(log_odds)\n",
    "    perception = [this_model.split('_')[0]]*len(log_odds)\n",
    "    pragmatics = [this_model.split('_')[-2]]*len(log_odds)\n",
    "    production = [this_model.split('_')[-1]]*len(log_odds)\n",
    "    P = P.assign(model_name = pd.Series(model_name).values) ## add model name to the dataframe\n",
    "    P = P.assign(perception = pd.Series(perception).values)\n",
    "    P = P.assign(pragmatics = pd.Series(pragmatics).values)\n",
    "    P = P.assign(production = pd.Series(production).values) \n",
    "\n",
    "    sketch_id = np.arange(P.shape[0])\n",
    "    P = P.assign(sketch_id = pd.Series(sketch_id).values)\n",
    "    ## write out model decisions\n",
    "    P.to_csv('./predictions/{}_model_predictions_log_odds_sketch_level.csv'.format(this_model),index=False)\n",
    "        \n",
    "    U,lb,ub,p = bootstrapCI(log_odds)    \n",
    "    print np.round(U,3),np.round(lb,3),np.round(ub,3),np.round(p,3), this_model"
   ]
  },
  {
   "cell_type": "code",
   "execution_count": null,
   "metadata": {
    "collapsed": true
   },
   "outputs": [],
   "source": []
  },
  {
   "cell_type": "code",
   "execution_count": null,
   "metadata": {
    "collapsed": true
   },
   "outputs": [],
   "source": []
  },
  {
   "cell_type": "code",
   "execution_count": null,
   "metadata": {
    "collapsed": true
   },
   "outputs": [],
   "source": []
  },
  {
   "cell_type": "markdown",
   "metadata": {},
   "source": [
    "### read in sketcher model predictions collapsed down to sketch level"
   ]
  },
  {
   "cell_type": "code",
   "execution_count": 539,
   "metadata": {
    "collapsed": true
   },
   "outputs": [],
   "source": [
    "PC = pd.read_csv('./predictions/multimodal_full25k_combined_cost_model_predictions_log_odds_sketch_level.csv')\n",
    "PN = pd.read_csv('./predictions/multimodal_full25k_combined_nocost_model_predictions_log_odds_sketch_level.csv')\n",
    "LC = pd.read_csv('./predictions/multimodal_full25k_S0_cost_model_predictions_log_odds_sketch_level.csv')\n",
    "LN = pd.read_csv('./predictions/multimodal_full25k_S0_nocost_model_predictions_log_odds_sketch_level.csv')\n",
    "M = pd.concat([PC,PN,LC,LN],axis=0)\n",
    "M.reset_index(inplace=True)\n",
    "M0 = M[['log_odds','sketch_id','pragmatics','production','model_name']]\n",
    "M0.to_csv('./predictions/multimodal_full25k_all_variants_log_odds_sketch_level.csv')"
   ]
  },
  {
   "cell_type": "code",
   "execution_count": 540,
   "metadata": {},
   "outputs": [
    {
     "data": {
      "text/html": [
       "<div>\n",
       "<style>\n",
       "    .dataframe thead tr:only-child th {\n",
       "        text-align: right;\n",
       "    }\n",
       "\n",
       "    .dataframe thead th {\n",
       "        text-align: left;\n",
       "    }\n",
       "\n",
       "    .dataframe tbody tr th {\n",
       "        vertical-align: top;\n",
       "    }\n",
       "</style>\n",
       "<table border=\"1\" class=\"dataframe\">\n",
       "  <thead>\n",
       "    <tr style=\"text-align: right;\">\n",
       "      <th></th>\n",
       "      <th>index</th>\n",
       "      <th>congruent_prob</th>\n",
       "      <th>other_prob</th>\n",
       "      <th>condition</th>\n",
       "      <th>label</th>\n",
       "      <th>total_class_prob</th>\n",
       "      <th>normalized_congruent_prob</th>\n",
       "      <th>normalized_other_prob</th>\n",
       "      <th>log_odds</th>\n",
       "      <th>model_name</th>\n",
       "      <th>perception</th>\n",
       "      <th>pragmatics</th>\n",
       "      <th>production</th>\n",
       "      <th>sketch_id</th>\n",
       "    </tr>\n",
       "  </thead>\n",
       "  <tbody>\n",
       "    <tr>\n",
       "      <th>0</th>\n",
       "      <td>0</td>\n",
       "      <td>0.325487</td>\n",
       "      <td>0.534660</td>\n",
       "      <td>closer</td>\n",
       "      <td>straight</td>\n",
       "      <td>0.860146</td>\n",
       "      <td>0.378408</td>\n",
       "      <td>0.621592</td>\n",
       "      <td>-0.496309</td>\n",
       "      <td>multimodal_full25k_combined_cost</td>\n",
       "      <td>multimodal</td>\n",
       "      <td>combined</td>\n",
       "      <td>cost</td>\n",
       "      <td>0</td>\n",
       "    </tr>\n",
       "    <tr>\n",
       "      <th>1</th>\n",
       "      <td>1</td>\n",
       "      <td>0.139640</td>\n",
       "      <td>0.091987</td>\n",
       "      <td>closer</td>\n",
       "      <td>leather</td>\n",
       "      <td>0.231627</td>\n",
       "      <td>0.602867</td>\n",
       "      <td>0.397133</td>\n",
       "      <td>0.417424</td>\n",
       "      <td>multimodal_full25k_combined_cost</td>\n",
       "      <td>multimodal</td>\n",
       "      <td>combined</td>\n",
       "      <td>cost</td>\n",
       "      <td>1</td>\n",
       "    </tr>\n",
       "    <tr>\n",
       "      <th>2</th>\n",
       "      <td>2</td>\n",
       "      <td>0.055857</td>\n",
       "      <td>0.051921</td>\n",
       "      <td>further</td>\n",
       "      <td>brown</td>\n",
       "      <td>0.107778</td>\n",
       "      <td>0.518262</td>\n",
       "      <td>0.481738</td>\n",
       "      <td>0.073080</td>\n",
       "      <td>multimodal_full25k_combined_cost</td>\n",
       "      <td>multimodal</td>\n",
       "      <td>combined</td>\n",
       "      <td>cost</td>\n",
       "      <td>2</td>\n",
       "    </tr>\n",
       "    <tr>\n",
       "      <th>3</th>\n",
       "      <td>3</td>\n",
       "      <td>0.076573</td>\n",
       "      <td>0.067624</td>\n",
       "      <td>further</td>\n",
       "      <td>redantique</td>\n",
       "      <td>0.144197</td>\n",
       "      <td>0.531028</td>\n",
       "      <td>0.468972</td>\n",
       "      <td>0.124272</td>\n",
       "      <td>multimodal_full25k_combined_cost</td>\n",
       "      <td>multimodal</td>\n",
       "      <td>combined</td>\n",
       "      <td>cost</td>\n",
       "      <td>3</td>\n",
       "    </tr>\n",
       "    <tr>\n",
       "      <th>4</th>\n",
       "      <td>4</td>\n",
       "      <td>0.178372</td>\n",
       "      <td>0.043862</td>\n",
       "      <td>further</td>\n",
       "      <td>inlay</td>\n",
       "      <td>0.222234</td>\n",
       "      <td>0.802630</td>\n",
       "      <td>0.197370</td>\n",
       "      <td>1.402815</td>\n",
       "      <td>multimodal_full25k_combined_cost</td>\n",
       "      <td>multimodal</td>\n",
       "      <td>combined</td>\n",
       "      <td>cost</td>\n",
       "      <td>4</td>\n",
       "    </tr>\n",
       "  </tbody>\n",
       "</table>\n",
       "</div>"
      ],
      "text/plain": [
       "   index  congruent_prob  other_prob condition       label  total_class_prob  \\\n",
       "0      0        0.325487    0.534660    closer    straight          0.860146   \n",
       "1      1        0.139640    0.091987    closer     leather          0.231627   \n",
       "2      2        0.055857    0.051921   further       brown          0.107778   \n",
       "3      3        0.076573    0.067624   further  redantique          0.144197   \n",
       "4      4        0.178372    0.043862   further       inlay          0.222234   \n",
       "\n",
       "   normalized_congruent_prob  normalized_other_prob  log_odds  \\\n",
       "0                   0.378408               0.621592 -0.496309   \n",
       "1                   0.602867               0.397133  0.417424   \n",
       "2                   0.518262               0.481738  0.073080   \n",
       "3                   0.531028               0.468972  0.124272   \n",
       "4                   0.802630               0.197370  1.402815   \n",
       "\n",
       "                         model_name  perception pragmatics production  \\\n",
       "0  multimodal_full25k_combined_cost  multimodal   combined       cost   \n",
       "1  multimodal_full25k_combined_cost  multimodal   combined       cost   \n",
       "2  multimodal_full25k_combined_cost  multimodal   combined       cost   \n",
       "3  multimodal_full25k_combined_cost  multimodal   combined       cost   \n",
       "4  multimodal_full25k_combined_cost  multimodal   combined       cost   \n",
       "\n",
       "   sketch_id  \n",
       "0          0  \n",
       "1          1  \n",
       "2          2  \n",
       "3          3  \n",
       "4          4  "
      ]
     },
     "execution_count": 540,
     "metadata": {},
     "output_type": "execute_result"
    }
   ],
   "source": [
    "M.head()"
   ]
  },
  {
   "cell_type": "code",
   "execution_count": 579,
   "metadata": {},
   "outputs": [
    {
     "data": {
      "text/plain": [
       "'multimodal_full25k_S0_nocost'"
      ]
     },
     "execution_count": 579,
     "metadata": {},
     "output_type": "execute_result"
    }
   ],
   "source": [
    "this_model"
   ]
  },
  {
   "cell_type": "markdown",
   "metadata": {},
   "source": [
    "#### make multimodal log odds plot"
   ]
  },
  {
   "cell_type": "code",
   "execution_count": 725,
   "metadata": {},
   "outputs": [
    {
     "data": {
      "image/png": "[encoded data removed]",
      "text/plain": [
       "<matplotlib.figure.Figure at 0x7fbacf3bc590>"
      ]
     },
     "metadata": {},
     "output_type": "display_data"
    }
   ],
   "source": [
    "colors = sns.color_palette(\"Dark2\")\n",
    "sns.set_context('poster')\n",
    "sns.catplot(x='pragmatics',\n",
    "               hue='production',\n",
    "               y='log_odds',\n",
    "               data=M, size=6, kind='bar',palette='Paired',ci=68)\n",
    "plt.ylabel('log odds',fontsize=24)\n",
    "plt.xlabel(' ',fontsize=24)\n",
    "locs, labels = plt.xticks([0,1],['context-sensitive','context-insensitive'],fontsize=16)\n",
    "plt.savefig('./plots/{}_context_effect_log_odds_by_model_bars.pdf'.format(this_model.split('_')[0]))"
   ]
  },
  {
   "cell_type": "code",
   "execution_count": 529,
   "metadata": {},
   "outputs": [
    {
     "name": "stdout",
     "output_type": "stream",
     "text": [
      "0.036619062634156097 0.009392008086820242 0.06339017901571752 0.01\n",
      "0.040616846072532485 -0.008445935244348604 0.09445570806948728 0.128\n",
      "0.03274163944637461 -0.02657488732987849 0.08730852232326353 0.262\n"
     ]
    }
   ],
   "source": [
    "diff = PC['log_odds'].values-PN['log_odds'].values\n",
    "U,lb,ub,p = bootstrapCI(diff)\n",
    "print U,lb,ub,p\n",
    "\n",
    "diff = LC['log_odds'].values-LN['log_odds'].values\n",
    "U,lb,ub,p = bootstrapCI(diff)\n",
    "print U,lb,ub,p\n",
    "\n",
    "diff = PC['log_odds'].values-LC['log_odds'].values\n",
    "U,lb,ub,p = bootstrapCI(diff)\n",
    "print U,lb,ub,p"
   ]
  },
  {
   "cell_type": "code",
   "execution_count": null,
   "metadata": {
    "collapsed": true
   },
   "outputs": [],
   "source": []
  },
  {
   "cell_type": "markdown",
   "metadata": {
    "collapsed": true
   },
   "source": [
    "#### broken down by class"
   ]
  },
  {
   "cell_type": "code",
   "execution_count": 581,
   "metadata": {},
   "outputs": [
    {
     "data": {
      "image/png": "[encoded data removed]",
      "text/plain": [
       "<matplotlib.figure.Figure at 0x7fbacf6903d0>"
      ]
     },
     "metadata": {},
     "output_type": "display_data"
    }
   ],
   "source": [
    "colors32 = make_category_by_obj_palette()\n",
    "fig = plt.figure(figsize=(10,6))\n",
    "sns.barplot(data=PC,\n",
    "            x='label',\n",
    "            order=obj_list,\n",
    "            y='log_odds',\n",
    "            palette=colors32,ci=68)\n",
    "h = plt.xticks(range(len(obj_list)), obj_list, fontsize=16,rotation='vertical')\n",
    "plt.ylabel('log odds',fontsize=24)\n",
    "plt.xlabel('')\n",
    "plt.tight_layout()\n",
    "plt.savefig('./plots/{}_log_odds_ratio_congruent_sketch_type_in_context.pdf'.format(this_model.split('_')[0]))"
   ]
  },
  {
   "cell_type": "code",
   "execution_count": null,
   "metadata": {
    "collapsed": true
   },
   "outputs": [],
   "source": [
    "### how log odds behaves\n",
    "p1 = 0.27*2.7*2.7\n",
    "p2 = 0.1\n",
    "print np.log(p1/p2)"
   ]
  },
  {
   "cell_type": "code",
   "execution_count": null,
   "metadata": {
    "collapsed": true
   },
   "outputs": [],
   "source": []
  },
  {
   "cell_type": "markdown",
   "metadata": {
    "collapsed": true
   },
   "source": [
    "#### calculate proportion of objects for which model able to predict correct condition+obj sketch category"
   ]
  },
  {
   "cell_type": "code",
   "execution_count": 627,
   "metadata": {
    "collapsed": true
   },
   "outputs": [],
   "source": [
    "_P = pd.read_csv('multimodal_full25k_combined_cost_aggregatedPredictives_longform.csv')"
   ]
  },
  {
   "cell_type": "code",
   "execution_count": 628,
   "metadata": {},
   "outputs": [
    {
     "data": {
      "text/html": [
       "<div>\n",
       "<style>\n",
       "    .dataframe thead tr:only-child th {\n",
       "        text-align: right;\n",
       "    }\n",
       "\n",
       "    .dataframe thead th {\n",
       "        text-align: left;\n",
       "    }\n",
       "\n",
       "    .dataframe tbody tr th {\n",
       "        vertical-align: top;\n",
       "    }\n",
       "</style>\n",
       "<table border=\"1\" class=\"dataframe\">\n",
       "  <thead>\n",
       "    <tr style=\"text-align: right;\">\n",
       "      <th></th>\n",
       "      <th>trueSketch</th>\n",
       "      <th>possibleSketch</th>\n",
       "      <th>coarseGrainedTrueSketch</th>\n",
       "      <th>weighted</th>\n",
       "    </tr>\n",
       "  </thead>\n",
       "  <tbody>\n",
       "    <tr>\n",
       "      <th>0</th>\n",
       "      <td>08711b390cfc_17</td>\n",
       "      <td>closer_basset</td>\n",
       "      <td>closer_straight</td>\n",
       "      <td>-8.651603</td>\n",
       "    </tr>\n",
       "    <tr>\n",
       "      <th>1</th>\n",
       "      <td>08711b390cfc_17</td>\n",
       "      <td>closer_beetle</td>\n",
       "      <td>closer_straight</td>\n",
       "      <td>-10.721931</td>\n",
       "    </tr>\n",
       "    <tr>\n",
       "      <th>2</th>\n",
       "      <td>08711b390cfc_17</td>\n",
       "      <td>closer_bloodhound</td>\n",
       "      <td>closer_straight</td>\n",
       "      <td>-13.805462</td>\n",
       "    </tr>\n",
       "    <tr>\n",
       "      <th>3</th>\n",
       "      <td>08711b390cfc_17</td>\n",
       "      <td>closer_bluejay</td>\n",
       "      <td>closer_straight</td>\n",
       "      <td>-11.182569</td>\n",
       "    </tr>\n",
       "    <tr>\n",
       "      <th>4</th>\n",
       "      <td>08711b390cfc_17</td>\n",
       "      <td>closer_bluesedan</td>\n",
       "      <td>closer_straight</td>\n",
       "      <td>-14.089705</td>\n",
       "    </tr>\n",
       "  </tbody>\n",
       "</table>\n",
       "</div>"
      ],
      "text/plain": [
       "        trueSketch     possibleSketch coarseGrainedTrueSketch   weighted\n",
       "0  08711b390cfc_17      closer_basset         closer_straight  -8.651603\n",
       "1  08711b390cfc_17      closer_beetle         closer_straight -10.721931\n",
       "2  08711b390cfc_17  closer_bloodhound         closer_straight -13.805462\n",
       "3  08711b390cfc_17     closer_bluejay         closer_straight -11.182569\n",
       "4  08711b390cfc_17   closer_bluesedan         closer_straight -14.089705"
      ]
     },
     "execution_count": 628,
     "metadata": {},
     "output_type": "execute_result"
    }
   ],
   "source": [
    "_P.head()"
   ]
  },
  {
   "cell_type": "code",
   "execution_count": 632,
   "metadata": {
    "collapsed": true
   },
   "outputs": [],
   "source": [
    "## get dataframe with probability assigned to every sketch category, for each sketch category\n",
    "P = _P.groupby(['coarseGrainedTrueSketch','possibleSketch'])['weighted'].\\\n",
    "apply(lambda x: reduce(sumlogprob,x) - np.log(len(x)))\n",
    "\n",
    "## generate 4096x7ish dataframe with log probabilities already aggregated at course condition&object level\n",
    "P = pd.DataFrame(P)\n",
    "P.reset_index(inplace=True)\n",
    "P['trueCondition'], P['trueSketchTarget'] = P['coarseGrainedTrueSketch'].str.split('_', 1).str\n",
    "P['predCondition'], P['predSketchTarget'] = P['possibleSketch'].str.split('_', 1).str"
   ]
  },
  {
   "cell_type": "code",
   "execution_count": 636,
   "metadata": {},
   "outputs": [
    {
     "data": {
      "text/html": [
       "<div>\n",
       "<style>\n",
       "    .dataframe thead tr:only-child th {\n",
       "        text-align: right;\n",
       "    }\n",
       "\n",
       "    .dataframe thead th {\n",
       "        text-align: left;\n",
       "    }\n",
       "\n",
       "    .dataframe tbody tr th {\n",
       "        vertical-align: top;\n",
       "    }\n",
       "</style>\n",
       "<table border=\"1\" class=\"dataframe\">\n",
       "  <thead>\n",
       "    <tr style=\"text-align: right;\">\n",
       "      <th></th>\n",
       "      <th>coarseGrainedTrueSketch</th>\n",
       "      <th>possibleSketch</th>\n",
       "      <th>weighted</th>\n",
       "      <th>trueCondition</th>\n",
       "      <th>trueSketchTarget</th>\n",
       "      <th>predCondition</th>\n",
       "      <th>predSketchTarget</th>\n",
       "    </tr>\n",
       "  </thead>\n",
       "  <tbody>\n",
       "    <tr>\n",
       "      <th>0</th>\n",
       "      <td>closer_basset</td>\n",
       "      <td>closer_basset</td>\n",
       "      <td>-2.348282</td>\n",
       "      <td>closer</td>\n",
       "      <td>basset</td>\n",
       "      <td>closer</td>\n",
       "      <td>basset</td>\n",
       "    </tr>\n",
       "    <tr>\n",
       "      <th>1</th>\n",
       "      <td>closer_basset</td>\n",
       "      <td>closer_beetle</td>\n",
       "      <td>-3.609396</td>\n",
       "      <td>closer</td>\n",
       "      <td>basset</td>\n",
       "      <td>closer</td>\n",
       "      <td>beetle</td>\n",
       "    </tr>\n",
       "    <tr>\n",
       "      <th>2</th>\n",
       "      <td>closer_basset</td>\n",
       "      <td>closer_bloodhound</td>\n",
       "      <td>-3.296828</td>\n",
       "      <td>closer</td>\n",
       "      <td>basset</td>\n",
       "      <td>closer</td>\n",
       "      <td>bloodhound</td>\n",
       "    </tr>\n",
       "    <tr>\n",
       "      <th>3</th>\n",
       "      <td>closer_basset</td>\n",
       "      <td>closer_bluejay</td>\n",
       "      <td>-7.167444</td>\n",
       "      <td>closer</td>\n",
       "      <td>basset</td>\n",
       "      <td>closer</td>\n",
       "      <td>bluejay</td>\n",
       "    </tr>\n",
       "    <tr>\n",
       "      <th>4</th>\n",
       "      <td>closer_basset</td>\n",
       "      <td>closer_bluesedan</td>\n",
       "      <td>-3.989862</td>\n",
       "      <td>closer</td>\n",
       "      <td>basset</td>\n",
       "      <td>closer</td>\n",
       "      <td>bluesedan</td>\n",
       "    </tr>\n",
       "  </tbody>\n",
       "</table>\n",
       "</div>"
      ],
      "text/plain": [
       "  coarseGrainedTrueSketch     possibleSketch  weighted trueCondition  \\\n",
       "0           closer_basset      closer_basset -2.348282        closer   \n",
       "1           closer_basset      closer_beetle -3.609396        closer   \n",
       "2           closer_basset  closer_bloodhound -3.296828        closer   \n",
       "3           closer_basset     closer_bluejay -7.167444        closer   \n",
       "4           closer_basset   closer_bluesedan -3.989862        closer   \n",
       "\n",
       "  trueSketchTarget predCondition predSketchTarget  \n",
       "0           basset        closer           basset  \n",
       "1           basset        closer           beetle  \n",
       "2           basset        closer       bloodhound  \n",
       "3           basset        closer          bluejay  \n",
       "4           basset        closer        bluesedan  "
      ]
     },
     "execution_count": 636,
     "metadata": {},
     "output_type": "execute_result"
    }
   ],
   "source": [
    "P.head()"
   ]
  },
  {
   "cell_type": "code",
   "execution_count": 639,
   "metadata": {},
   "outputs": [
    {
     "data": {
      "text/plain": [
       "'closer'"
      ]
     },
     "execution_count": 639,
     "metadata": {},
     "output_type": "execute_result"
    }
   ],
   "source": []
  },
  {
   "cell_type": "code",
   "execution_count": 650,
   "metadata": {},
   "outputs": [
    {
     "name": "stdout",
     "output_type": "stream",
     "text": [
      "Analyzing closer\n",
      "Analyzing further\n"
     ]
    }
   ],
   "source": [
    "## calculate proportion of objects for which model able to predict correct condition+obj sketch category\n",
    "## i.e., put in top k, for various values of k\n",
    "from __future__ import division\n",
    "objs = np.unique(P['trueSketchTarget'].values)\n",
    "conds = np.unique(P['trueCondition'].values)\n",
    "\n",
    "Counter = []\n",
    "Conds = []\n",
    "K = []\n",
    "for cond in conds:\n",
    "    print 'Analyzing {}'.format(cond)\n",
    "    for k in np.arange(1,64):\n",
    "        counter = 0\n",
    "        for obj in objs:    \n",
    "            Q = P[(P['trueSketchTarget']==obj) & (P['trueCondition']==cond)].\\\n",
    "            nlargest(k,'weighted')[['coarseGrainedTrueSketch','possibleSketch','trueCondition','weighted']]  \n",
    "            counter += np.sum(Q['possibleSketch']==Q['coarseGrainedTrueSketch'])\n",
    "        Counter.append(counter/len(objs))\n",
    "        Conds.append(cond)\n",
    "        K.append(k)"
   ]
  },
  {
   "cell_type": "code",
   "execution_count": 651,
   "metadata": {
    "collapsed": true
   },
   "outputs": [],
   "source": [
    "## make dataframe         \n",
    "D = pd.DataFrame([Counter,Conds,K])\n",
    "D = D.transpose()\n",
    "D.columns = ['prop','condition','k']"
   ]
  },
  {
   "cell_type": "code",
   "execution_count": null,
   "metadata": {
    "collapsed": true
   },
   "outputs": [],
   "source": []
  },
  {
   "cell_type": "code",
   "execution_count": null,
   "metadata": {
    "collapsed": true
   },
   "outputs": [],
   "source": []
  },
  {
   "cell_type": "code",
   "execution_count": 678,
   "metadata": {},
   "outputs": [
    {
     "data": {
      "image/png": "[encoded data removed]",
      "text/plain": [
       "<matplotlib.figure.Figure at 0x7fbace3f8a90>"
      ]
     },
     "metadata": {},
     "output_type": "display_data"
    }
   ],
   "source": [
    "## plot it\n",
    "krange = 64 ## how many values of k to plot\n",
    "sns.set_context('talk')\n",
    "fig = plt.figure(figsize=(9,4))\n",
    "# sns.pointplot(x='k',y='prop',hue='condition',data=D,markers='.',palette=colors)\n",
    "sns.pointplot(x='k',y='prop',data=D,markers='.',palette=[(0.8,0.4,0.4)])\n",
    "plt.xlim([0,krange])\n",
    "plt.ylabel('proportion',fontsize=24)\n",
    "plt.xlabel('k',fontsize=24)\n",
    "plt.title('proportion of objects for which model predicts correct sketch type within top k')\n",
    "plt.ylim([0,1.1])\n",
    "locs, labels = plt.xticks(np.linspace(0,krange-1,9),map(int,np.linspace(0,krange-1,9)+1),fontsize=16)\n",
    "plt.tight_layout()\n",
    "plt.savefig('./plots/{}_proportion_correct_sketch_type_in_top_k.pdf'.format(this_model))"
   ]
  },
  {
   "cell_type": "code",
   "execution_count": null,
   "metadata": {
    "collapsed": true
   },
   "outputs": [],
   "source": []
  },
  {
   "cell_type": "code",
   "execution_count": null,
   "metadata": {
    "collapsed": true
   },
   "outputs": [],
   "source": []
  },
  {
   "cell_type": "code",
   "execution_count": null,
   "metadata": {
    "collapsed": true
   },
   "outputs": [],
   "source": []
  },
  {
   "cell_type": "code",
   "execution_count": null,
   "metadata": {
    "collapsed": true
   },
   "outputs": [],
   "source": []
  },
  {
   "cell_type": "code",
   "execution_count": null,
   "metadata": {
    "collapsed": true
   },
   "outputs": [],
   "source": []
  },
  {
   "cell_type": "code",
   "execution_count": null,
   "metadata": {
    "collapsed": true
   },
   "outputs": [],
   "source": []
  },
  {
   "cell_type": "code",
   "execution_count": null,
   "metadata": {
    "collapsed": true
   },
   "outputs": [],
   "source": []
  },
  {
   "cell_type": "code",
   "execution_count": null,
   "metadata": {
    "collapsed": true
   },
   "outputs": [],
   "source": []
  },
  {
   "cell_type": "code",
   "execution_count": null,
   "metadata": {
    "collapsed": true
   },
   "outputs": [],
   "source": []
  }
 ],
 "metadata": {
  "kernelspec": {
   "display_name": "Python 2",
   "language": "python",
   "name": "python2"
  },
  "language_info": {
   "codemirror_mode": {
    "name": "ipython",
    "version": 2
   },
   "file_extension": ".py",
   "mimetype": "text/x-python",
   "name": "python",
   "nbconvert_exporter": "python",
   "pygments_lexer": "ipython2",
   "version": "2.7.12"
  }
 },
 "nbformat": 4,
 "nbformat_minor": 1
}
