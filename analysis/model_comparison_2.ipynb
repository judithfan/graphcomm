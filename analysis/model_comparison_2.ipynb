{
 "cells": [
  {
   "cell_type": "code",
   "execution_count": 1,
   "metadata": {},
   "outputs": [],
   "source": [
    "import os\n",
    "import urllib, cStringIO\n",
    "\n",
    "import pymongo as pm\n",
    "\n",
    "from IPython.display import clear_output\n",
    "\n",
    "import matplotlib\n",
    "from matplotlib import pylab, mlab, pyplot\n",
    "%matplotlib inline\n",
    "from IPython.core.pylabtools import figsize, getfigs\n",
    "plt = pyplot\n",
    "import seaborn as sns\n",
    "sns.set_context('poster')\n",
    "sns.set_style('white')\n",
    "\n",
    "import numpy as np\n",
    "from __future__ import division\n",
    "import scipy.stats as stats\n",
    "import pandas as pd\n",
    "import json\n",
    "import re\n",
    "\n",
    "from PIL import Image\n",
    "import base64\n",
    "import analysis_helpers as h\n",
    "reload(h)\n",
    "\n",
    "## get standardized object list\n",
    "categories = ['bird','car','chair','dog']\n",
    "obj_list = []\n",
    "for cat in categories:\n",
    "    for i,j in h.objcat.iteritems():\n",
    "        if j==cat:\n",
    "            obj_list.append(i)   "
   ]
  },
  {
   "cell_type": "markdown",
   "metadata": {},
   "source": [
    "### load in model param posterior (bdaOutput/**splitbyobjectParams.csv)"
   ]
  },
  {
   "cell_type": "markdown",
   "metadata": {},
   "source": [
    "#### make loglikelihood plot for human encoder version"
   ]
  },
  {
   "cell_type": "code",
   "execution_count": 2,
   "metadata": {},
   "outputs": [
    {
     "data": {
      "image/png": "[encoded data removed]",
      "text/plain": [
       "<Figure size 360x360 with 1 Axes>"
      ]
     },
     "metadata": {},
     "output_type": "display_data"
    }
   ],
   "source": [
    "model_prefixes = ['human']\n",
    "PP = h.model_comparison_bars(model_prefixes,adaptor_type='human')\n",
    "h.plot_human_bars(PP)"
   ]
  },
  {
   "cell_type": "code",
   "execution_count": 3,
   "metadata": {},
   "outputs": [
    {
     "data": {
      "text/html": [
       "<div>\n",
       "<style scoped>\n",
       "    .dataframe tbody tr th:only-of-type {\n",
       "        vertical-align: middle;\n",
       "    }\n",
       "\n",
       "    .dataframe tbody tr th {\n",
       "        vertical-align: top;\n",
       "    }\n",
       "\n",
       "    .dataframe thead th {\n",
       "        text-align: right;\n",
       "    }\n",
       "</style>\n",
       "<table border=\"1\" class=\"dataframe\">\n",
       "  <thead>\n",
       "    <tr style=\"text-align: right;\">\n",
       "      <th></th>\n",
       "      <th>model</th>\n",
       "      <th>logLikelihood</th>\n",
       "      <th>perception</th>\n",
       "      <th>pragmatics</th>\n",
       "      <th>production</th>\n",
       "    </tr>\n",
       "  </thead>\n",
       "  <tbody>\n",
       "    <tr>\n",
       "      <th>0</th>\n",
       "      <td>human_S0_cost</td>\n",
       "      <td>-280.872004</td>\n",
       "      <td>human</td>\n",
       "      <td>S0</td>\n",
       "      <td>cost</td>\n",
       "    </tr>\n",
       "    <tr>\n",
       "      <th>1</th>\n",
       "      <td>human_S0_nocost</td>\n",
       "      <td>-302.543329</td>\n",
       "      <td>human</td>\n",
       "      <td>S0</td>\n",
       "      <td>nocost</td>\n",
       "    </tr>\n",
       "    <tr>\n",
       "      <th>2</th>\n",
       "      <td>human_combined_cost</td>\n",
       "      <td>-232.667310</td>\n",
       "      <td>human</td>\n",
       "      <td>combined</td>\n",
       "      <td>cost</td>\n",
       "    </tr>\n",
       "    <tr>\n",
       "      <th>3</th>\n",
       "      <td>human_combined_nocost</td>\n",
       "      <td>-254.589197</td>\n",
       "      <td>human</td>\n",
       "      <td>combined</td>\n",
       "      <td>nocost</td>\n",
       "    </tr>\n",
       "  </tbody>\n",
       "</table>\n",
       "</div>"
      ],
      "text/plain": [
       "                   model  logLikelihood perception pragmatics production\n",
       "0          human_S0_cost    -280.872004      human         S0       cost\n",
       "1        human_S0_nocost    -302.543329      human         S0     nocost\n",
       "2    human_combined_cost    -232.667310      human   combined       cost\n",
       "3  human_combined_nocost    -254.589197      human   combined     nocost"
      ]
     },
     "execution_count": 3,
     "metadata": {},
     "output_type": "execute_result"
    }
   ],
   "source": [
    "PP"
   ]
  },
  {
   "cell_type": "markdown",
   "metadata": {},
   "source": [
    "#### make loglikelihood plot for multimodal convnet encoder version"
   ]
  },
  {
   "cell_type": "code",
   "execution_count": 4,
   "metadata": {},
   "outputs": [
    {
     "data": {
      "text/html": [
       "<div>\n",
       "<style scoped>\n",
       "    .dataframe tbody tr th:only-of-type {\n",
       "        vertical-align: middle;\n",
       "    }\n",
       "\n",
       "    .dataframe tbody tr th {\n",
       "        vertical-align: top;\n",
       "    }\n",
       "\n",
       "    .dataframe thead th {\n",
       "        text-align: right;\n",
       "    }\n",
       "</style>\n",
       "<table border=\"1\" class=\"dataframe\">\n",
       "  <thead>\n",
       "    <tr style=\"text-align: right;\">\n",
       "      <th></th>\n",
       "      <th>model</th>\n",
       "      <th>logLikelihood</th>\n",
       "      <th>adaptor</th>\n",
       "      <th>perception</th>\n",
       "      <th>pragmatics</th>\n",
       "      <th>production</th>\n",
       "    </tr>\n",
       "  </thead>\n",
       "  <tbody>\n",
       "    <tr>\n",
       "      <th>0</th>\n",
       "      <td>multimodal_fc6_S0_cost</td>\n",
       "      <td>-565.695717</td>\n",
       "      <td>multimodal</td>\n",
       "      <td>fc6</td>\n",
       "      <td>S0</td>\n",
       "      <td>cost</td>\n",
       "    </tr>\n",
       "    <tr>\n",
       "      <th>1</th>\n",
       "      <td>multimodal_fc6_S0_nocost</td>\n",
       "      <td>-567.651735</td>\n",
       "      <td>multimodal</td>\n",
       "      <td>fc6</td>\n",
       "      <td>S0</td>\n",
       "      <td>nocost</td>\n",
       "    </tr>\n",
       "    <tr>\n",
       "      <th>2</th>\n",
       "      <td>multimodal_fc6_combined_cost</td>\n",
       "      <td>-479.642148</td>\n",
       "      <td>multimodal</td>\n",
       "      <td>fc6</td>\n",
       "      <td>combined</td>\n",
       "      <td>cost</td>\n",
       "    </tr>\n",
       "    <tr>\n",
       "      <th>3</th>\n",
       "      <td>multimodal_fc6_combined_nocost</td>\n",
       "      <td>-485.533552</td>\n",
       "      <td>multimodal</td>\n",
       "      <td>fc6</td>\n",
       "      <td>combined</td>\n",
       "      <td>nocost</td>\n",
       "    </tr>\n",
       "  </tbody>\n",
       "</table>\n",
       "</div>"
      ],
      "text/plain": [
       "                            model  logLikelihood     adaptor perception  \\\n",
       "0          multimodal_fc6_S0_cost    -565.695717  multimodal        fc6   \n",
       "1        multimodal_fc6_S0_nocost    -567.651735  multimodal        fc6   \n",
       "2    multimodal_fc6_combined_cost    -479.642148  multimodal        fc6   \n",
       "3  multimodal_fc6_combined_nocost    -485.533552  multimodal        fc6   \n",
       "\n",
       "  pragmatics production  \n",
       "0         S0       cost  \n",
       "1         S0     nocost  \n",
       "2   combined       cost  \n",
       "3   combined     nocost  "
      ]
     },
     "execution_count": 4,
     "metadata": {},
     "output_type": "execute_result"
    }
   ],
   "source": [
    "adaptor_type = 'multimodal_fc6'\n",
    "split_type = 'balancedavg1'\n",
    "model_prefixes = [adaptor_type]\n",
    "PP = h.model_comparison_bars(model_prefixes,adaptor_type=adaptor_type,split_type=split_type)\n",
    "# h.plot_multimodal_bars(PP)\n",
    "PP"
   ]
  },
  {
   "cell_type": "code",
   "execution_count": 5,
   "metadata": {},
   "outputs": [
    {
     "data": {
      "text/html": [
       "<div>\n",
       "<style scoped>\n",
       "    .dataframe tbody tr th:only-of-type {\n",
       "        vertical-align: middle;\n",
       "    }\n",
       "\n",
       "    .dataframe tbody tr th {\n",
       "        vertical-align: top;\n",
       "    }\n",
       "\n",
       "    .dataframe thead th {\n",
       "        text-align: right;\n",
       "    }\n",
       "</style>\n",
       "<table border=\"1\" class=\"dataframe\">\n",
       "  <thead>\n",
       "    <tr style=\"text-align: right;\">\n",
       "      <th></th>\n",
       "      <th>model</th>\n",
       "      <th>logLikelihood</th>\n",
       "      <th>adaptor</th>\n",
       "      <th>perception</th>\n",
       "      <th>pragmatics</th>\n",
       "      <th>production</th>\n",
       "    </tr>\n",
       "  </thead>\n",
       "  <tbody>\n",
       "    <tr>\n",
       "      <th>0</th>\n",
       "      <td>multimodal_conv42_S0_cost</td>\n",
       "      <td>-761.169886</td>\n",
       "      <td>multimodal</td>\n",
       "      <td>conv42</td>\n",
       "      <td>S0</td>\n",
       "      <td>cost</td>\n",
       "    </tr>\n",
       "    <tr>\n",
       "      <th>1</th>\n",
       "      <td>multimodal_conv42_S0_nocost</td>\n",
       "      <td>-764.507610</td>\n",
       "      <td>multimodal</td>\n",
       "      <td>conv42</td>\n",
       "      <td>S0</td>\n",
       "      <td>nocost</td>\n",
       "    </tr>\n",
       "    <tr>\n",
       "      <th>2</th>\n",
       "      <td>multimodal_conv42_combined_cost</td>\n",
       "      <td>-761.189535</td>\n",
       "      <td>multimodal</td>\n",
       "      <td>conv42</td>\n",
       "      <td>combined</td>\n",
       "      <td>cost</td>\n",
       "    </tr>\n",
       "    <tr>\n",
       "      <th>3</th>\n",
       "      <td>multimodal_conv42_combined_nocost</td>\n",
       "      <td>-707.762607</td>\n",
       "      <td>multimodal</td>\n",
       "      <td>conv42</td>\n",
       "      <td>combined</td>\n",
       "      <td>nocost</td>\n",
       "    </tr>\n",
       "  </tbody>\n",
       "</table>\n",
       "</div>"
      ],
      "text/plain": [
       "                               model  logLikelihood     adaptor perception  \\\n",
       "0          multimodal_conv42_S0_cost    -761.169886  multimodal     conv42   \n",
       "1        multimodal_conv42_S0_nocost    -764.507610  multimodal     conv42   \n",
       "2    multimodal_conv42_combined_cost    -761.189535  multimodal     conv42   \n",
       "3  multimodal_conv42_combined_nocost    -707.762607  multimodal     conv42   \n",
       "\n",
       "  pragmatics production  \n",
       "0         S0       cost  \n",
       "1         S0     nocost  \n",
       "2   combined       cost  \n",
       "3   combined     nocost  "
      ]
     },
     "execution_count": 5,
     "metadata": {},
     "output_type": "execute_result"
    }
   ],
   "source": [
    "adaptor_type = 'multimodal_conv42'\n",
    "split_type = 'balancedavg1'\n",
    "model_prefixes = ['multimodal_conv42']\n",
    "PP = h.model_comparison_bars(model_prefixes,adaptor_type=adaptor_type,split_type=split_type)\n",
    "# h.plot_multimodal_bars(PP)\n",
    "PP"
   ]
  },
  {
   "cell_type": "code",
   "execution_count": 6,
   "metadata": {},
   "outputs": [
    {
     "data": {
      "text/html": [
       "<div>\n",
       "<style scoped>\n",
       "    .dataframe tbody tr th:only-of-type {\n",
       "        vertical-align: middle;\n",
       "    }\n",
       "\n",
       "    .dataframe tbody tr th {\n",
       "        vertical-align: top;\n",
       "    }\n",
       "\n",
       "    .dataframe thead th {\n",
       "        text-align: right;\n",
       "    }\n",
       "</style>\n",
       "<table border=\"1\" class=\"dataframe\">\n",
       "  <thead>\n",
       "    <tr style=\"text-align: right;\">\n",
       "      <th></th>\n",
       "      <th>model</th>\n",
       "      <th>logLikelihood</th>\n",
       "      <th>adaptor</th>\n",
       "      <th>perception</th>\n",
       "      <th>pragmatics</th>\n",
       "      <th>production</th>\n",
       "    </tr>\n",
       "  </thead>\n",
       "  <tbody>\n",
       "    <tr>\n",
       "      <th>0</th>\n",
       "      <td>multimodal_pool1_S0_cost</td>\n",
       "      <td>-1125.238673</td>\n",
       "      <td>multimodal</td>\n",
       "      <td>pool1</td>\n",
       "      <td>S0</td>\n",
       "      <td>cost</td>\n",
       "    </tr>\n",
       "    <tr>\n",
       "      <th>1</th>\n",
       "      <td>multimodal_pool1_S0_nocost</td>\n",
       "      <td>-1125.261847</td>\n",
       "      <td>multimodal</td>\n",
       "      <td>pool1</td>\n",
       "      <td>S0</td>\n",
       "      <td>nocost</td>\n",
       "    </tr>\n",
       "    <tr>\n",
       "      <th>2</th>\n",
       "      <td>multimodal_pool1_combined_cost</td>\n",
       "      <td>-1108.363346</td>\n",
       "      <td>multimodal</td>\n",
       "      <td>pool1</td>\n",
       "      <td>combined</td>\n",
       "      <td>cost</td>\n",
       "    </tr>\n",
       "    <tr>\n",
       "      <th>3</th>\n",
       "      <td>multimodal_pool1_combined_nocost</td>\n",
       "      <td>-1108.785184</td>\n",
       "      <td>multimodal</td>\n",
       "      <td>pool1</td>\n",
       "      <td>combined</td>\n",
       "      <td>nocost</td>\n",
       "    </tr>\n",
       "  </tbody>\n",
       "</table>\n",
       "</div>"
      ],
      "text/plain": [
       "                              model  logLikelihood     adaptor perception  \\\n",
       "0          multimodal_pool1_S0_cost   -1125.238673  multimodal      pool1   \n",
       "1        multimodal_pool1_S0_nocost   -1125.261847  multimodal      pool1   \n",
       "2    multimodal_pool1_combined_cost   -1108.363346  multimodal      pool1   \n",
       "3  multimodal_pool1_combined_nocost   -1108.785184  multimodal      pool1   \n",
       "\n",
       "  pragmatics production  \n",
       "0         S0       cost  \n",
       "1         S0     nocost  \n",
       "2   combined       cost  \n",
       "3   combined     nocost  "
      ]
     },
     "execution_count": 6,
     "metadata": {},
     "output_type": "execute_result"
    }
   ],
   "source": [
    "adaptor_type = 'multimodal_pool1'\n",
    "split_type = 'balancedavg1'\n",
    "# model_prefixes = ['multimodal_pool1','multimodal_conv42','multimodal_fc6']\n",
    "model_prefixes = ['multimodal_pool1']\n",
    "PP = h.model_comparison_bars(model_prefixes,adaptor_type=adaptor_type,split_type=split_type)\n",
    "# h.plot_multimodal_bars(PP)\n",
    "PP"
   ]
  },
  {
   "cell_type": "markdown",
   "metadata": {
    "collapsed": true
   },
   "source": [
    "#### check that distribution of log likelihoods is higher for the cost version of the model vs. nocost version"
   ]
  },
  {
   "cell_type": "code",
   "execution_count": 7,
   "metadata": {},
   "outputs": [],
   "source": [
    "reallyRun = 0\n",
    "if reallyRun:\n",
    "    h.check_mean_LL_for_cost_vs_nocost(model_prefixes=['multimodal_fc6'],\n",
    "                                         adaptor_type = 'multimodal_fc6',\n",
    "                                         split_type='balancedavg1',\n",
    "                                         plot=True)"
   ]
  },
  {
   "cell_type": "markdown",
   "metadata": {
    "collapsed": true
   },
   "source": [
    "### Run evaluate to get scores on the test set"
   ]
  },
  {
   "cell_type": "code",
   "execution_count": 8,
   "metadata": {},
   "outputs": [],
   "source": [
    "### FIRST STEP:\n",
    "### iterate through Params and write back out in \"flattened\" form\n",
    "reload(h)\n",
    "reallyRun = 0\n",
    "if reallyRun:\n",
    "    h.flatten_param_posterior(adaptor_types = ['multimodal_pool1','multimodal_conv42','multimodal_fc6', 'human'],\n",
    "                              verbosity=1)"
   ]
  },
  {
   "cell_type": "code",
   "execution_count": 9,
   "metadata": {},
   "outputs": [],
   "source": [
    "#### SECOND STEP: Go to RSA.py and run evaluate on all of the models and splits\n",
    "### e.g.,\n",
    "### python RSA.py --wppl evaluate --perception human --pragmatics combined --production cost --split_type balancedavg1 balancedavg2 balancedavg3 balancedavg4 balancedavg5\n",
    "### python RSA.py --wppl evaluate --perception multimodal_fc6 --pragmatics combined --production cost --split_type balancedavg1 balancedavg2 balancedavg3 balancedavg4 balancedavg5\n",
    "### python RSA.py --wppl evaluate --perception multimodal_conv42 --pragmatics combined --production cost --split_type balancedavg1 balancedavg2 balancedavg3 balancedavg4 balancedavg5\n",
    "### python RSA.py --wppl evaluate --perception multimodal_fc6 --pragmatics S0 --production cost --split_type balancedavg1 balancedavg2 balancedavg3 balancedavg4 balancedavg5\n",
    "### python RSA.py --wppl evaluate --perception multimodal_fc6 --pragmatics combined --production nocost --split_type balancedavg1 balancedavg2 balancedavg3 balancedavg4 balancedavg5"
   ]
  },
  {
   "cell_type": "code",
   "execution_count": 10,
   "metadata": {},
   "outputs": [],
   "source": [
    "### OPTIONAL: prior to running bda-enumerate, wouldn't it help to get a sense for the extreme values\n",
    "### in the param posterior for each model, for each split to make sure our grid covers \n",
    "### everywhere where there is some mass in the posterior?\n",
    "reload(h)\n",
    "reallyRun = 0\n",
    "if reallyRun:\n",
    "    h.get_sense_for_param_range_across_splits()"
   ]
  },
  {
   "cell_type": "markdown",
   "metadata": {
    "collapsed": true
   },
   "source": [
    "## check model predictions "
   ]
  },
  {
   "cell_type": "markdown",
   "metadata": {
    "collapsed": true
   },
   "source": [
    "- Run the script `./get_all_model_predictions.py`, which is a wrapper around \n",
    "this script, `./generate_model_predictions.py` to generate csv files that \n",
    "summarize key statistics of interest (e.g., target rank, cost)\n",
    "from model predictions, for each model and data split.\n",
    "- Next, assess retrieval performance (i.e., rank of correct sketch category)\n",
    "- Also assess sketch cost across conditions"
   ]
  },
  {
   "cell_type": "markdown",
   "metadata": {
    "collapsed": true
   },
   "source": [
    "#### read in predictions and compute retrieval performance"
   ]
  },
  {
   "cell_type": "code",
   "execution_count": 11,
   "metadata": {},
   "outputs": [
    {
     "data": {
      "text/plain": [
       "<module 'analysis_helpers' from 'analysis_helpers.pyc'>"
      ]
     },
     "execution_count": 11,
     "metadata": {},
     "output_type": "execute_result"
    }
   ],
   "source": [
    "import analysis_helpers as h\n",
    "reload(h)"
   ]
  },
  {
   "cell_type": "code",
   "execution_count": 12,
   "metadata": {},
   "outputs": [
    {
     "name": "stdout",
     "output_type": "stream",
     "text": [
      "\n",
      "    Load all model predictions from all five splits into a dictionary called P.\n",
      "    P is a nested dictionary containing all predictions dataframes for all five primary models of interest and five splits.    \n",
      "    P.keys() = ['multimodal_conv42_combined_cost', 'human_combined_cost', 'multimodal_fc6_combined_cost', 'multimodal_fc6_S0_cost', 'multimodal_fc6_combined_nocost']\n",
      "    Nested inside each model are dataframes containing model predictions from each split.    \n",
      "    \n"
     ]
    }
   ],
   "source": [
    "print h.load_all_model_preds.__doc__"
   ]
  },
  {
   "cell_type": "code",
   "execution_count": 13,
   "metadata": {},
   "outputs": [
    {
     "name": "stdout",
     "output_type": "stream",
     "text": [
      "Loading model preds from: human_combined_cost\n",
      "Loading model preds from: multimodal_fc6_combined_cost\n",
      "Loading model preds from: multimodal_conv42_combined_cost\n",
      "Loading model preds from: multimodal_fc6_S0_cost\n",
      "Loading model preds from: multimodal_fc6_combined_nocost\n"
     ]
    }
   ],
   "source": [
    "P = h.load_all_model_preds(verbosity=1)"
   ]
  },
  {
   "cell_type": "code",
   "execution_count": null,
   "metadata": {},
   "outputs": [],
   "source": [
    "# for i in np.arange(1,6):\n",
    "#     _P = P['human_combined_cost']['balancedavg{}'.format(i)]\n",
    "#     print _P.groupby('condition')['cost'].mean()"
   ]
  },
  {
   "cell_type": "markdown",
   "metadata": {},
   "source": [
    "### Visualize model predictions separately for each split"
   ]
  },
  {
   "cell_type": "markdown",
   "metadata": {},
   "source": [
    "- `split_types = ['balancedavg1','balancedavg2','balancedavg3','balancedavg4','balancedavg5']`\n",
    "\n",
    "- `model_space = ['human_combined_cost','multimodal_fc6_combined_cost','multimodal_conv42_combined_cost',`\n",
    "`'multimodal_fc6_S0_cost','multimodal_fc6_combined_nocost']`\n",
    "\n",
    "- `H = human_combined_cost`\n",
    "- `M = multimodal_fc6_combined_cost`\n",
    "- `M0 = multimodal_conv42_combined_cost` \n",
    "    - \"effect of perception\"\n",
    "- `M1 = multimodal_fc6_S0_cost` \n",
    "    - \"effect of pragmatics/context\"\n",
    "- `M2 = multimodal_fc6_combined_nocost` \n",
    "    - \"effect of production/cost\""
   ]
  },
  {
   "cell_type": "code",
   "execution_count": null,
   "metadata": {},
   "outputs": [],
   "source": [
    "import analysis_helpers as h\n",
    "reload(h)\n",
    "sns.set_context('talk')\n",
    "\n",
    "split_type = 'balancedavg1'"
   ]
  },
  {
   "cell_type": "markdown",
   "metadata": {},
   "source": [
    "#### What is the rank of the correct sketch category (correct object + correct context) vs. wrong sketch category (correct object + wrong context)?"
   ]
  },
  {
   "cell_type": "code",
   "execution_count": null,
   "metadata": {},
   "outputs": [],
   "source": [
    "h.plot_target_vs_foil_rank_by_object(P,split_type=split_type)"
   ]
  },
  {
   "cell_type": "markdown",
   "metadata": {},
   "source": [
    "#### Generate bar plot of average rank (out of 64) of correct sketch category, by model, for a particular split."
   ]
  },
  {
   "cell_type": "code",
   "execution_count": null,
   "metadata": {},
   "outputs": [],
   "source": [
    "h.plot_avg_rank_all_models(P,split_type=split_type)"
   ]
  },
  {
   "cell_type": "markdown",
   "metadata": {},
   "source": [
    "#### Generate bar plot of proportion of trials for which context-congruent sketch preferred over incongruent sketch."
   ]
  },
  {
   "cell_type": "code",
   "execution_count": null,
   "metadata": {},
   "outputs": [],
   "source": [
    "h.plot_prop_congruent_all_models(P,split_type=split_type)"
   ]
  },
  {
   "cell_type": "markdown",
   "metadata": {
    "collapsed": true
   },
   "source": [
    "#### make a \"top-k\" plot (what percentage of sketches in the top k)"
   ]
  },
  {
   "cell_type": "code",
   "execution_count": null,
   "metadata": {},
   "outputs": [],
   "source": [
    "reallyRun = 0\n",
    "if reallyRun:\n",
    "    h.get_top_k_predictions(P,split_type=split_type,verbosity=1)"
   ]
  },
  {
   "cell_type": "code",
   "execution_count": null,
   "metadata": {},
   "outputs": [],
   "source": [
    "import analysis_helpers as h\n",
    "reload(h)\n",
    "h.plot_topk_all_models()"
   ]
  },
  {
   "cell_type": "markdown",
   "metadata": {},
   "source": [
    "#### What is the average sketch cost by condition and model type?"
   ]
  },
  {
   "cell_type": "code",
   "execution_count": null,
   "metadata": {},
   "outputs": [],
   "source": [
    "### show the average cost (time, strokes, ink) for average model prediction"
   ]
  },
  {
   "cell_type": "code",
   "execution_count": null,
   "metadata": {},
   "outputs": [],
   "source": [
    "split_type = 'balancedavg1'"
   ]
  },
  {
   "cell_type": "code",
   "execution_count": null,
   "metadata": {},
   "outputs": [],
   "source": [
    "import analysis_helpers as h\n",
    "reload(h)\n",
    "HU,MU,M0U,M1U,M2U = h.get_avg_cost_all_models(P, split_type=split_type)"
   ]
  },
  {
   "cell_type": "code",
   "execution_count": null,
   "metadata": {},
   "outputs": [],
   "source": [
    "sns.set_context('talk')\n",
    "fig = plt.figure(figsize=(6,8))\n",
    "ax = fig.add_subplot(111)\n",
    "U = pd.concat([HU,MU,M0U,M1U,M2U],axis=0)\n",
    "sns.barplot(data=U,\n",
    "            x='adaptor',\n",
    "            y='cost',\n",
    "            hue='condition',\n",
    "            ci='sd',\n",
    "            order=['human_combined_cost','multimodal_fc6_combined_cost',\n",
    "                   'multimodal_fc6_S0_cost','multimodal_fc6_combined_nocost','multimodal_conv42_combined_cost'])\n",
    "plt.ylabel('normalized sketch duration')\n",
    "plt.ylim([0,0.4])\n",
    "xticklabels=['Context Cost Human','Context Cost HighAdaptor',\n",
    "             'NoContext Cost HighAdaptor','Context NoCost HighAdaptor', 'Context Cost MidAdaptor']\n",
    "plt.xlabel('')\n",
    "l = ax.set_xticklabels(xticklabels, rotation = 90, ha=\"left\")\n",
    "plt.legend(bbox_to_anchor=(1., 1.))\n",
    "plt.tight_layout()"
   ]
  },
  {
   "cell_type": "code",
   "execution_count": null,
   "metadata": {},
   "outputs": [],
   "source": []
  },
  {
   "cell_type": "code",
   "execution_count": null,
   "metadata": {},
   "outputs": [],
   "source": []
  },
  {
   "cell_type": "markdown",
   "metadata": {},
   "source": [
    "### Load in bootstrapped model predictions\n",
    "\n",
    "- First, you want to run `python get_all_bootstrapped_model_predictions.py` to generate a bunch of bootvec output in the directory `bootstrap_results`.\n",
    "\n",
    "- Next, follow the below code to generate visualizations of estimates of statistics of interest."
   ]
  },
  {
   "cell_type": "code",
   "execution_count": 14,
   "metadata": {},
   "outputs": [
    {
     "data": {
      "text/plain": [
       "<module 'analysis_helpers' from 'analysis_helpers.pyc'>"
      ]
     },
     "execution_count": 14,
     "metadata": {},
     "output_type": "execute_result"
    }
   ],
   "source": [
    "import analysis_helpers as h\n",
    "reload(h)"
   ]
  },
  {
   "cell_type": "code",
   "execution_count": 15,
   "metadata": {},
   "outputs": [
    {
     "name": "stdout",
     "output_type": "stream",
     "text": [
      "There are 300 files in the bootstrap_results directory.\n"
     ]
    }
   ],
   "source": [
    "## load in boot filelist\n",
    "boot_files = h.load_and_check_bootstrapped_model_preds()\n",
    "\n",
    "## generate dataframe from boot filelist\n",
    "B = h.generate_bootstrap_model_preds_dataframe(boot_files, out_dir='./bootstrap_results')"
   ]
  },
  {
   "cell_type": "markdown",
   "metadata": {},
   "source": [
    "### Visualize model predictions aggregating across splits"
   ]
  },
  {
   "cell_type": "code",
   "execution_count": 16,
   "metadata": {},
   "outputs": [],
   "source": [
    "split_types = ['balancedavg1','balancedavg2','balancedavg3','balancedavg4','balancedavg5']\n",
    "\n",
    "model_space = ['human_combined_cost','multimodal_fc6_combined_cost','multimodal_conv42_combined_cost',\n",
    "               'multimodal_fc6_S0_cost','multimodal_fc6_combined_nocost']\n",
    "\n",
    "vois = list(np.unique(B.var_of_interest.values))"
   ]
  },
  {
   "cell_type": "markdown",
   "metadata": {},
   "source": [
    "#### Generate bar plot of average rank (out of 64) of correct sketch category, by model, across splits."
   ]
  },
  {
   "cell_type": "code",
   "execution_count": 17,
   "metadata": {},
   "outputs": [
    {
     "data": {
      "text/plain": [
       "<module 'analysis_helpers' from 'analysis_helpers.pyc'>"
      ]
     },
     "execution_count": 17,
     "metadata": {},
     "output_type": "execute_result"
    }
   ],
   "source": [
    "import analysis_helpers as h\n",
    "reload(h)"
   ]
  },
  {
   "cell_type": "code",
   "execution_count": 18,
   "metadata": {},
   "outputs": [
    {
     "data": {
      "image/png": "[encoded data removed]",
      "text/plain": [
       "<Figure size 432x432 with 1 Axes>"
      ]
     },
     "metadata": {},
     "output_type": "display_data"
    }
   ],
   "source": [
    "reload(h)\n",
    "## make dataframe\n",
    "R = h.generate_aggregated_estimate_dataframe(B,\n",
    "                                             condition_list = ['all'],\n",
    "                                             model_space=model_space,\n",
    "                                             split_types=split_types,\n",
    "                                             var_of_interest='target_rank')\n",
    "\n",
    "## make plot \n",
    "h.plot_average_target_rank_across_splits(R,\n",
    "                                         var_of_interest='target_rank',\n",
    "                                         condition_list = ['all'],\n",
    "                                         model_space=model_space,\n",
    "                                         split_types=split_types,\n",
    "                                         condition='all',\n",
    "                                         sns_context='talk',\n",
    "                                         figsize=(6,6),\n",
    "                                         errbar_multiplier=1.,\n",
    "                                         ylabel='rank of correct sketch')"
   ]
  },
  {
   "cell_type": "markdown",
   "metadata": {},
   "source": [
    "#### generate barplot for prop congruent sketch category aggregated across splits"
   ]
  },
  {
   "cell_type": "code",
   "execution_count": 19,
   "metadata": {},
   "outputs": [
    {
     "data": {
      "image/png": "[encoded data removed]",
      "text/plain": [
       "<Figure size 432x432 with 1 Axes>"
      ]
     },
     "metadata": {},
     "output_type": "display_data"
    }
   ],
   "source": [
    "reload(h)\n",
    "## make dataframe\n",
    "R = h.generate_aggregated_estimate_dataframe(B,\n",
    "                                             condition_list = ['all'],\n",
    "                                             model_space=model_space,\n",
    "                                             split_types=split_types,\n",
    "                                             var_of_interest='sign_diff_rank')\n",
    "\n",
    "## make plot\n",
    "h.plot_prop_congruent_across_splits(R,\n",
    "                                      var_of_interest='sign_diff_rank',\n",
    "                                      condition_list = ['all'],\n",
    "                                      model_space=model_space,\n",
    "                                      split_types=split_types,\n",
    "                                      condition='all',\n",
    "                                      sns_context='talk',\n",
    "                                      figsize=(6,6),\n",
    "                                      errbar_multiplier=1.,\n",
    "                                      ylabel='proportion congruent context preferred')"
   ]
  },
  {
   "cell_type": "markdown",
   "metadata": {},
   "source": [
    "#### make barplot of cost x condition aggregated across splits "
   ]
  },
  {
   "cell_type": "code",
   "execution_count": 20,
   "metadata": {},
   "outputs": [
    {
     "data": {
      "image/png": "[encoded data removed]",
      "text/plain": [
       "<Figure size 432x432 with 1 Axes>"
      ]
     },
     "metadata": {},
     "output_type": "display_data"
    }
   ],
   "source": [
    "reload(h)\n",
    "## make dataframe\n",
    "R = h.generate_aggregated_estimate_dataframe(B,\n",
    "                                             condition_list = ['closer','further'],\n",
    "                                             model_space=model_space,\n",
    "                                             split_types=split_types,\n",
    "                                             var_of_interest='cost')\n",
    "\n",
    "## make plot\n",
    "h.plot_cost_by_condition_across_splits(R,\n",
    "                                  var_of_interest='cost',\n",
    "                                  condition_list = ['closer','further'],\n",
    "                                  model_space=model_space,\n",
    "                                  split_types=split_types,\n",
    "                                  condition='all',\n",
    "                                  sns_context='talk',\n",
    "                                  figsize=(6,6),\n",
    "                                  errbar_multiplier=1.,\n",
    "                                  ylabel='predicted sketch cost')"
   ]
  },
  {
   "cell_type": "code",
   "execution_count": null,
   "metadata": {
    "scrolled": false
   },
   "outputs": [],
   "source": []
  },
  {
   "cell_type": "code",
   "execution_count": null,
   "metadata": {},
   "outputs": [],
   "source": []
  },
  {
   "cell_type": "code",
   "execution_count": null,
   "metadata": {},
   "outputs": [],
   "source": []
  },
  {
   "cell_type": "code",
   "execution_count": null,
   "metadata": {},
   "outputs": [],
   "source": []
  },
  {
   "cell_type": "code",
   "execution_count": null,
   "metadata": {},
   "outputs": [],
   "source": []
  }
 ],
 "metadata": {
  "kernelspec": {
   "display_name": "Python 2",
   "language": "python",
   "name": "python2"
  },
  "language_info": {
   "codemirror_mode": {
    "name": "ipython",
    "version": 2
   },
   "file_extension": ".py",
   "mimetype": "text/x-python",
   "name": "python",
   "nbconvert_exporter": "python",
   "pygments_lexer": "ipython2",
   "version": "2.7.12"
  }
 },
 "nbformat": 4,
 "nbformat_minor": 1
}
