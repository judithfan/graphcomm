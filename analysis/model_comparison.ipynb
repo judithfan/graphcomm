{
 "cells": [
  {
   "cell_type": "code",
   "execution_count": 65,
   "metadata": {
    "collapsed": true
   },
   "outputs": [],
   "source": [
    "import os\n",
    "import urllib, cStringIO\n",
    "\n",
    "import pymongo as pm\n",
    "\n",
    "from IPython.display import clear_output\n",
    "\n",
    "import matplotlib\n",
    "from matplotlib import pylab, mlab, pyplot\n",
    "%matplotlib inline\n",
    "from IPython.core.pylabtools import figsize, getfigs\n",
    "plt = pyplot\n",
    "import seaborn as sns\n",
    "sns.set_context('poster')\n",
    "sns.set_style('white')\n",
    "\n",
    "import numpy as np\n",
    "from __future__ import division\n",
    "import scipy.stats as stats\n",
    "import pandas as pd\n",
    "import json\n",
    "import re\n",
    "\n",
    "from PIL import Image\n",
    "import base64\n",
    "import json\n",
    "import analysis_helpers as h"
   ]
  },
  {
   "cell_type": "code",
   "execution_count": null,
   "metadata": {
    "collapsed": true
   },
   "outputs": [],
   "source": []
  },
  {
   "cell_type": "markdown",
   "metadata": {},
   "source": [
    "### load in model param posterior (bdaOutput/**splitbyobjectParams.csv)"
   ]
  },
  {
   "cell_type": "code",
   "execution_count": 214,
   "metadata": {},
   "outputs": [],
   "source": [
    "## define set of models to compare\n",
    "model_prefixes = ['human_full25k','sketch_avg_full25k','sketch_unroll_full25k']\n",
    "all_param_paths = sorted(os.listdir('../models/bdaOutput'))\n",
    "model_zoo = [i for i in all_param_paths for pre in model_prefixes if pre in i]\n",
    "model_zoo = [i for i in model_zoo if i[-1] != '~']\n",
    "assert len(model_zoo) == 18"
   ]
  },
  {
   "cell_type": "code",
   "execution_count": null,
   "metadata": {},
   "outputs": [],
   "source": []
  },
  {
   "cell_type": "code",
   "execution_count": 215,
   "metadata": {
    "collapsed": true
   },
   "outputs": [],
   "source": [
    "import analysis_helpers as h\n",
    "reload(h)\n",
    "\n",
    "LL = []\n",
    "model_name = []\n",
    "for this_model in model_zoo:\n",
    "\n",
    "    ## define paths to model predictions\n",
    "    path_to_evaluate = '../models/evaluateOutput'\n",
    "    if this_model.split('_')[0]=='sketch':\n",
    "        model_dirname = ('_').join(this_model.split('_')[:5])\n",
    "    else:\n",
    "        model_dirname = ('_').join(this_model.split('_')[:4])\n",
    "    pred_path = os.path.join(path_to_evaluate,model_dirname)\n",
    "\n",
    "    ## get file with params from this model\n",
    "    this_params = os.path.join('../models/bdaOutput',this_model)\n",
    "    params = pd.read_csv(this_params)\n",
    "    assert np.round(np.sum(np.exp(params.posteriorProb.values)),12)==1\n",
    "    ## append MAP LL\n",
    "    LL.append(params.sort_values(by=['logLikelihood'],ascending=False).iloc[0]['logLikelihood'])\n",
    "    model_name.append(model_dirname)"
   ]
  },
  {
   "cell_type": "code",
   "execution_count": 218,
   "metadata": {},
   "outputs": [
    {
     "data": {
      "text/html": [
       "<div>\n",
       "<style>\n",
       "    .dataframe thead tr:only-child th {\n",
       "        text-align: right;\n",
       "    }\n",
       "\n",
       "    .dataframe thead th {\n",
       "        text-align: left;\n",
       "    }\n",
       "\n",
       "    .dataframe tbody tr th {\n",
       "        vertical-align: top;\n",
       "    }\n",
       "</style>\n",
       "<table border=\"1\" class=\"dataframe\">\n",
       "  <thead>\n",
       "    <tr style=\"text-align: right;\">\n",
       "      <th></th>\n",
       "      <th>model</th>\n",
       "      <th>MAP LL</th>\n",
       "    </tr>\n",
       "  </thead>\n",
       "  <tbody>\n",
       "    <tr>\n",
       "      <th>0</th>\n",
       "      <td>human_full25k_S0_cost</td>\n",
       "      <td>-2466.286167</td>\n",
       "    </tr>\n",
       "    <tr>\n",
       "      <th>1</th>\n",
       "      <td>human_full25k_S0_nocost</td>\n",
       "      <td>-2477.907423</td>\n",
       "    </tr>\n",
       "    <tr>\n",
       "      <th>2</th>\n",
       "      <td>human_full25k_S1_cost</td>\n",
       "      <td>-2349.261145</td>\n",
       "    </tr>\n",
       "    <tr>\n",
       "      <th>3</th>\n",
       "      <td>human_full25k_S1_nocost</td>\n",
       "      <td>-2351.422788</td>\n",
       "    </tr>\n",
       "    <tr>\n",
       "      <th>4</th>\n",
       "      <td>human_full25k_combined_cost</td>\n",
       "      <td>-2341.915029</td>\n",
       "    </tr>\n",
       "    <tr>\n",
       "      <th>5</th>\n",
       "      <td>human_full25k_combined_nocost</td>\n",
       "      <td>-2344.332791</td>\n",
       "    </tr>\n",
       "    <tr>\n",
       "      <th>6</th>\n",
       "      <td>sketch_avg_full25k_S0_cost</td>\n",
       "      <td>-2836.211896</td>\n",
       "    </tr>\n",
       "    <tr>\n",
       "      <th>7</th>\n",
       "      <td>sketch_avg_full25k_S0_nocost</td>\n",
       "      <td>-2837.680703</td>\n",
       "    </tr>\n",
       "    <tr>\n",
       "      <th>8</th>\n",
       "      <td>sketch_avg_full25k_S1_cost</td>\n",
       "      <td>-2724.930818</td>\n",
       "    </tr>\n",
       "    <tr>\n",
       "      <th>9</th>\n",
       "      <td>sketch_avg_full25k_S1_nocost</td>\n",
       "      <td>-2725.427277</td>\n",
       "    </tr>\n",
       "    <tr>\n",
       "      <th>10</th>\n",
       "      <td>sketch_avg_full25k_combined_cost</td>\n",
       "      <td>-2701.455835</td>\n",
       "    </tr>\n",
       "    <tr>\n",
       "      <th>11</th>\n",
       "      <td>sketch_avg_full25k_combined_nocost</td>\n",
       "      <td>-2702.094746</td>\n",
       "    </tr>\n",
       "    <tr>\n",
       "      <th>12</th>\n",
       "      <td>sketch_unroll_full25k_S0_cost</td>\n",
       "      <td>-2855.584280</td>\n",
       "    </tr>\n",
       "    <tr>\n",
       "      <th>13</th>\n",
       "      <td>sketch_unroll_full25k_S0_nocost</td>\n",
       "      <td>-2857.719324</td>\n",
       "    </tr>\n",
       "    <tr>\n",
       "      <th>14</th>\n",
       "      <td>sketch_unroll_full25k_S1_cost</td>\n",
       "      <td>-2796.392474</td>\n",
       "    </tr>\n",
       "    <tr>\n",
       "      <th>15</th>\n",
       "      <td>sketch_unroll_full25k_S1_nocost</td>\n",
       "      <td>-2797.002069</td>\n",
       "    </tr>\n",
       "    <tr>\n",
       "      <th>16</th>\n",
       "      <td>sketch_unroll_full25k_combined_cost</td>\n",
       "      <td>-2788.403473</td>\n",
       "    </tr>\n",
       "    <tr>\n",
       "      <th>17</th>\n",
       "      <td>sketch_unroll_full25k_combined_nocost</td>\n",
       "      <td>-2775.709075</td>\n",
       "    </tr>\n",
       "  </tbody>\n",
       "</table>\n",
       "</div>"
      ],
      "text/plain": [
       "                                    model       MAP LL\n",
       "0                   human_full25k_S0_cost -2466.286167\n",
       "1                 human_full25k_S0_nocost -2477.907423\n",
       "2                   human_full25k_S1_cost -2349.261145\n",
       "3                 human_full25k_S1_nocost -2351.422788\n",
       "4             human_full25k_combined_cost -2341.915029\n",
       "5           human_full25k_combined_nocost -2344.332791\n",
       "6              sketch_avg_full25k_S0_cost -2836.211896\n",
       "7            sketch_avg_full25k_S0_nocost -2837.680703\n",
       "8              sketch_avg_full25k_S1_cost -2724.930818\n",
       "9            sketch_avg_full25k_S1_nocost -2725.427277\n",
       "10       sketch_avg_full25k_combined_cost -2701.455835\n",
       "11     sketch_avg_full25k_combined_nocost -2702.094746\n",
       "12          sketch_unroll_full25k_S0_cost -2855.584280\n",
       "13        sketch_unroll_full25k_S0_nocost -2857.719324\n",
       "14          sketch_unroll_full25k_S1_cost -2796.392474\n",
       "15        sketch_unroll_full25k_S1_nocost -2797.002069\n",
       "16    sketch_unroll_full25k_combined_cost -2788.403473\n",
       "17  sketch_unroll_full25k_combined_nocost -2775.709075"
      ]
     },
     "execution_count": 218,
     "metadata": {},
     "output_type": "execute_result"
    }
   ],
   "source": [
    "PP = pd.DataFrame.from_records(zip(model_name,LL))\n",
    "PP.columns=['model','MAP LL']\n",
    "PP"
   ]
  },
  {
   "cell_type": "code",
   "execution_count": null,
   "metadata": {},
   "outputs": [],
   "source": []
  },
  {
   "cell_type": "code",
   "execution_count": null,
   "metadata": {
    "collapsed": true
   },
   "outputs": [],
   "source": []
  },
  {
   "cell_type": "code",
   "execution_count": null,
   "metadata": {
    "collapsed": true
   },
   "outputs": [],
   "source": []
  },
  {
   "cell_type": "code",
   "execution_count": null,
   "metadata": {
    "collapsed": true
   },
   "outputs": [],
   "source": []
  },
  {
   "cell_type": "code",
   "execution_count": null,
   "metadata": {
    "collapsed": true
   },
   "outputs": [],
   "source": []
  },
  {
   "cell_type": "code",
   "execution_count": null,
   "metadata": {
    "collapsed": true
   },
   "outputs": [],
   "source": []
  },
  {
   "cell_type": "code",
   "execution_count": null,
   "metadata": {
    "scrolled": true
   },
   "outputs": [
    {
     "name": "stdout",
     "output_type": "stream",
     "text": [
      "Currently evaluating human_full25k_S0_nocost\n",
      "154 | sample ID: 154 \n"
     ]
    }
   ],
   "source": [
    "import analysis_helpers as h\n",
    "reload(h)\n",
    "\n",
    "for this_model in model_zoo:\n",
    "\n",
    "    ## define paths to model predictions\n",
    "    path_to_evaluate = '../models/evaluateOutput'\n",
    "    model_dirname = ('_').join(this_model.split('_')[:4])\n",
    "    pred_path = os.path.join(path_to_evaluate,model_dirname)\n",
    "\n",
    "    ## get file with params from this model\n",
    "    this_params = os.path.join('../models/bdaOutput',this_model)\n",
    "    params = pd.read_csv(this_params)\n",
    "    assert np.round(np.sum(np.exp(params.posteriorProb.values)),12)==1\n",
    "\n",
    "    ## get list of all predictives (accepted MCMC samples)\n",
    "    pred_files = [i for i in os.listdir(pred_path) if i[-15:] =='Predictives.csv']\n",
    "    h.sort_filelist(pred_files) ## sort pred_files into human ordering\n",
    "\n",
    "    X = [] ## initialize giant dataframe that contains predictions from all MCMC samples\n",
    "\n",
    "    ## loop through MCMC samples\n",
    "    for i,this_sample in enumerate(pred_files):\n",
    "        print 'Currently evaluating {}'.format(model_dirname)\n",
    "        print'{} | sample ID: {} '.format(i,int(this_sample.split('Predictives.csv')[0]))\n",
    "        ## read in predictions from this sample\n",
    "        sample_path = os.path.join(pred_path,this_sample)\n",
    "        sample_preds = pd.read_csv(sample_path)\n",
    "        sample_ind = int(this_sample.split('Predictives.csv')[0]) ## index of MCMC sample\n",
    "        clear_output(wait=True)\n",
    "\n",
    "        #### get params that generated these predictions\n",
    "        #alpha = params.iloc[sample_ind]['alpha']\n",
    "        #simScaling = params.iloc[sample_ind]['simScaling']\n",
    "        #pragWeight = params.iloc[sample_ind]['pragWeight']\n",
    "        #costWeight = params.iloc[sample_ind]['costWeight']\n",
    "        posteriorProb = params.iloc[sample_ind]['posteriorProb']\n",
    "        #logLikelihood = params.iloc[sample_ind]['logLikelihood']\n",
    "\n",
    "        ## get congruent/incongruent context log odds for each sketch\n",
    "        sketches = np.unique(sample_preds['trueSketch'].values)\n",
    "        log_odds = []\n",
    "        label = []\n",
    "        condition = []\n",
    "        for this_sketch in sketches:\n",
    "            sketch_inds = sample_preds['trueSketch']==this_sketch\n",
    "            these_rows = sample_preds[sketch_inds]\n",
    "            cond = np.unique(these_rows['condition'].values)[0]\n",
    "            other_cond = [i for i in ['closer','further'] if i != cond][0]\n",
    "            obj = these_rows.iloc[0]['Target'].split('_')[-1]\n",
    "            congruent_prob = these_rows[these_rows['coarseGrainedPossibleSketch']=='{}_{}'.format(cond,obj)]['modelProb'].values[0]\n",
    "            other_prob = these_rows[these_rows['coarseGrainedPossibleSketch']=='{}_{}'.format(other_cond,obj)]['modelProb'].values[0]\n",
    "            log_odds.append(congruent_prob - other_prob)\n",
    "            label.append(obj)\n",
    "            condition.append(cond)  \n",
    "\n",
    "        ## make dataframe out of this sample\n",
    "        sampleProb = [posteriorProb]*len(condition)\n",
    "        sampleInd = [sample_ind]*len(condition)\n",
    "        x = pd.DataFrame([sampleInd,sampleProb,condition,label,list(sketches),log_odds])\n",
    "        x = x.transpose()\n",
    "        x.columns = ['sample_ind','sample_prob','condition','label','sketch','odds']\n",
    "        x = x.sort_values(by=['condition','label','sketch'])   \n",
    "\n",
    "        ## concatenate dataframes containing log-odds from all MCMC samples\n",
    "        if len(X)==0:\n",
    "            X = x\n",
    "        else:\n",
    "            X = pd.concat([X,x])\n",
    "\n",
    "    # save out            \n",
    "    X.odds = X.odds.astype('float')\n",
    "    X.sample_prob = X.sample_prob.astype('float')\n",
    "    print 'Saving out model predictions for {}'.format(model_dirname)\n",
    "    X.to_csv('{}_model_predictions_log_odds.csv'.format(model_dirname))            "
   ]
  },
  {
   "cell_type": "code",
   "execution_count": null,
   "metadata": {},
   "outputs": [],
   "source": []
  },
  {
   "cell_type": "code",
   "execution_count": null,
   "metadata": {},
   "outputs": [],
   "source": []
  },
  {
   "cell_type": "code",
   "execution_count": 72,
   "metadata": {},
   "outputs": [
    {
     "name": "stdout",
     "output_type": "stream",
     "text": [
      "0.190543137206 log odds in favor of picking sketch from congruent-context\n"
     ]
    }
   ],
   "source": [
    "pp = X.groupby(['sample_ind'])['sample_prob'].mean().apply(lambda x: np.exp(x)) ## posterior probs\n",
    "lo = X.groupby(['sample_ind'])['odds'].mean() ## log odds\n",
    "odds_overall = np.sum(pp*lo)\n",
    "print '{} log odds in favor of picking sketch from congruent-context'.format(odds_overall)"
   ]
  },
  {
   "cell_type": "code",
   "execution_count": null,
   "metadata": {
    "collapsed": true
   },
   "outputs": [],
   "source": []
  },
  {
   "cell_type": "code",
   "execution_count": null,
   "metadata": {
    "collapsed": true
   },
   "outputs": [],
   "source": []
  },
  {
   "cell_type": "code",
   "execution_count": null,
   "metadata": {
    "collapsed": true
   },
   "outputs": [],
   "source": []
  },
  {
   "cell_type": "code",
   "execution_count": null,
   "metadata": {
    "collapsed": true
   },
   "outputs": [],
   "source": []
  },
  {
   "cell_type": "code",
   "execution_count": null,
   "metadata": {
    "collapsed": true
   },
   "outputs": [],
   "source": []
  },
  {
   "cell_type": "code",
   "execution_count": null,
   "metadata": {
    "collapsed": true
   },
   "outputs": [],
   "source": []
  },
  {
   "cell_type": "code",
   "execution_count": 73,
   "metadata": {},
   "outputs": [
    {
     "name": "stdout",
     "output_type": "stream",
     "text": [
      "536 fea038f4c9b8_9\n"
     ]
    }
   ],
   "source": [
    "weighted_odds = []\n",
    "unweighted_odds = []\n",
    "for i,sketch in enumerate(sketches):\n",
    "    print '{} {}'.format(i,sketch)\n",
    "    Y = X[X['sketch']==sketch]\n",
    "    product = Y.apply(lambda x: x['odds'] * np.exp(x['sample_prob']), axis=1)\n",
    "    weighted_odds.append(np.sum(product))\n",
    "    unweighted_odds.append(Y['odds'].mean())\n",
    "    clear_output(wait=True)\n"
   ]
  },
  {
   "cell_type": "code",
   "execution_count": null,
   "metadata": {},
   "outputs": [],
   "source": []
  },
  {
   "cell_type": "code",
   "execution_count": 78,
   "metadata": {},
   "outputs": [],
   "source": [
    "odds_files = [i for i in os.listdir(os.getcwd()) if '_log_odds.csv' in i]"
   ]
  },
  {
   "cell_type": "code",
   "execution_count": 81,
   "metadata": {},
   "outputs": [
    {
     "name": "stdout",
     "output_type": "stream",
     "text": [
      "human_full25k_S1_nocost_model_predictions_log_odds.csv\n",
      "0.1958156126 log odds in favor of picking sketch from congruent-context\n",
      "fc6_combined_cost_model_predictions_log_odds.csv\n",
      "0.0481207532728 log odds in favor of picking sketch from congruent-context\n",
      "human_full25k_combined_cost_model_predictions_log_odds.csv\n",
      "0.216662949181 log odds in favor of picking sketch from congruent-context\n",
      "human_full25k_S1_cost_model_predictions_log_odds.csv\n",
      "0.213898221543 log odds in favor of picking sketch from congruent-context\n",
      "human_full25k_combined_nocost_model_predictions_log_odds.csv\n",
      "0.190543137206 log odds in favor of picking sketch from congruent-context\n",
      "human_full25k_S0_cost_model_predictions_log_odds.csv\n",
      "0.199894888702 log odds in favor of picking sketch from congruent-context\n",
      "human_full25k_S0_nocost_model_predictions_log_odds.csv\n",
      "0.180512981228 log odds in favor of picking sketch from congruent-context\n"
     ]
    }
   ],
   "source": [
    "for odd in odds_files:\n",
    "    Z = pd.read_csv(odd)\n",
    "    pp = Z.groupby(['sample_ind'])['sample_prob'].mean().apply(lambda x: np.exp(x)) ## posterior probs\n",
    "    lo = Z.groupby(['sample_ind'])['odds'].mean() ## log odds\n",
    "    odds_overall = np.sum(pp*lo)\n",
    "    print odd\n",
    "    print '{} log odds in favor of picking sketch from congruent-context'.format(odds_overall)    \n",
    "    "
   ]
  },
  {
   "cell_type": "code",
   "execution_count": 85,
   "metadata": {},
   "outputs": [
    {
     "data": {
      "text/html": [
       "<div>\n",
       "<style>\n",
       "    .dataframe thead tr:only-child th {\n",
       "        text-align: right;\n",
       "    }\n",
       "\n",
       "    .dataframe thead th {\n",
       "        text-align: left;\n",
       "    }\n",
       "\n",
       "    .dataframe tbody tr th {\n",
       "        vertical-align: top;\n",
       "    }\n",
       "</style>\n",
       "<table border=\"1\" class=\"dataframe\">\n",
       "  <thead>\n",
       "    <tr style=\"text-align: right;\">\n",
       "      <th></th>\n",
       "      <th>id</th>\n",
       "      <th>perception</th>\n",
       "      <th>pragmatics</th>\n",
       "      <th>production</th>\n",
       "      <th>simScaling</th>\n",
       "      <th>pragWeight</th>\n",
       "      <th>costWeight</th>\n",
       "      <th>infWeight</th>\n",
       "      <th>logLikelihood</th>\n",
       "      <th>posteriorProb</th>\n",
       "    </tr>\n",
       "  </thead>\n",
       "  <tbody>\n",
       "    <tr>\n",
       "      <th>0</th>\n",
       "      <td>0</td>\n",
       "      <td>sketch_avg_full25k</td>\n",
       "      <td>S0</td>\n",
       "      <td>cost</td>\n",
       "      <td>1</td>\n",
       "      <td>0</td>\n",
       "      <td>1.057553</td>\n",
       "      <td>7.920750</td>\n",
       "      <td>-2839.225666</td>\n",
       "      <td>-6.907755</td>\n",
       "    </tr>\n",
       "    <tr>\n",
       "      <th>1</th>\n",
       "      <td>1</td>\n",
       "      <td>sketch_avg_full25k</td>\n",
       "      <td>S0</td>\n",
       "      <td>cost</td>\n",
       "      <td>1</td>\n",
       "      <td>0</td>\n",
       "      <td>1.057553</td>\n",
       "      <td>7.973481</td>\n",
       "      <td>-2839.731495</td>\n",
       "      <td>-6.907755</td>\n",
       "    </tr>\n",
       "    <tr>\n",
       "      <th>2</th>\n",
       "      <td>2</td>\n",
       "      <td>sketch_avg_full25k</td>\n",
       "      <td>S0</td>\n",
       "      <td>cost</td>\n",
       "      <td>1</td>\n",
       "      <td>0</td>\n",
       "      <td>1.057553</td>\n",
       "      <td>7.905505</td>\n",
       "      <td>-2839.091641</td>\n",
       "      <td>-6.907755</td>\n",
       "    </tr>\n",
       "    <tr>\n",
       "      <th>3</th>\n",
       "      <td>3</td>\n",
       "      <td>sketch_avg_full25k</td>\n",
       "      <td>S0</td>\n",
       "      <td>cost</td>\n",
       "      <td>1</td>\n",
       "      <td>0</td>\n",
       "      <td>0.990464</td>\n",
       "      <td>7.905505</td>\n",
       "      <td>-2838.842320</td>\n",
       "      <td>-6.907755</td>\n",
       "    </tr>\n",
       "    <tr>\n",
       "      <th>4</th>\n",
       "      <td>4</td>\n",
       "      <td>sketch_avg_full25k</td>\n",
       "      <td>S0</td>\n",
       "      <td>cost</td>\n",
       "      <td>1</td>\n",
       "      <td>0</td>\n",
       "      <td>1.033421</td>\n",
       "      <td>7.905505</td>\n",
       "      <td>-2838.997192</td>\n",
       "      <td>-6.907755</td>\n",
       "    </tr>\n",
       "  </tbody>\n",
       "</table>\n",
       "</div>"
      ],
      "text/plain": [
       "   id          perception pragmatics production  simScaling  pragWeight  \\\n",
       "0   0  sketch_avg_full25k         S0       cost           1           0   \n",
       "1   1  sketch_avg_full25k         S0       cost           1           0   \n",
       "2   2  sketch_avg_full25k         S0       cost           1           0   \n",
       "3   3  sketch_avg_full25k         S0       cost           1           0   \n",
       "4   4  sketch_avg_full25k         S0       cost           1           0   \n",
       "\n",
       "   costWeight  infWeight  logLikelihood  posteriorProb  \n",
       "0    1.057553   7.920750   -2839.225666      -6.907755  \n",
       "1    1.057553   7.973481   -2839.731495      -6.907755  \n",
       "2    1.057553   7.905505   -2839.091641      -6.907755  \n",
       "3    0.990464   7.905505   -2838.842320      -6.907755  \n",
       "4    1.033421   7.905505   -2838.997192      -6.907755  "
      ]
     },
     "execution_count": 85,
     "metadata": {},
     "output_type": "execute_result"
    }
   ],
   "source": [
    "params.head()"
   ]
  },
  {
   "cell_type": "code",
   "execution_count": 158,
   "metadata": {},
   "outputs": [],
   "source": [
    "np.exp(params['posteriorProb'])*1000"
   ]
  },
  {
   "cell_type": "code",
   "execution_count": null,
   "metadata": {},
   "outputs": [],
   "source": []
  },
  {
   "cell_type": "code",
   "execution_count": null,
   "metadata": {},
   "outputs": [],
   "source": []
  },
  {
   "cell_type": "code",
   "execution_count": 170,
   "metadata": {},
   "outputs": [],
   "source": [
    "def gen_samples_from_posterior(params,nSamples=1000):\n",
    "    duples = np.exp(params['posteriorProb'])*nSamples.values\n",
    "    S = []\n",
    "    for i,d in params.iterrows():\n",
    "        _s = d      "
   ]
  },
  {
   "cell_type": "code",
   "execution_count": null,
   "metadata": {
    "collapsed": true
   },
   "outputs": [],
   "source": []
  },
  {
   "cell_type": "code",
   "execution_count": null,
   "metadata": {
    "collapsed": true
   },
   "outputs": [],
   "source": []
  },
  {
   "cell_type": "code",
   "execution_count": 96,
   "metadata": {},
   "outputs": [],
   "source": [
    "def sumlogprob(a,b):\n",
    "    if (a > b):\n",
    "        return a + np.log1p(np.exp(b-a))\n",
    "    else:\n",
    "        return b + np.log1p(np.exp(a-b))  "
   ]
  },
  {
   "cell_type": "code",
   "execution_count": null,
   "metadata": {
    "collapsed": true
   },
   "outputs": [],
   "source": []
  },
  {
   "cell_type": "code",
   "execution_count": 151,
   "metadata": {},
   "outputs": [],
   "source": [
    "PP = params.groupby('logLikelihood')['logLikelihood'].\\\n",
    "apply(lambda x: reduce(sumlogprob,x) - np.log(len(x)))"
   ]
  },
  {
   "cell_type": "code",
   "execution_count": null,
   "metadata": {},
   "outputs": [],
   "source": []
  },
  {
   "cell_type": "code",
   "execution_count": null,
   "metadata": {
    "collapsed": true
   },
   "outputs": [],
   "source": []
  },
  {
   "cell_type": "code",
   "execution_count": null,
   "metadata": {
    "collapsed": true
   },
   "outputs": [],
   "source": []
  },
  {
   "cell_type": "code",
   "execution_count": 171,
   "metadata": {},
   "outputs": [
    {
     "name": "stdout",
     "output_type": "stream",
     "text": [
      "../models/bdaOutput/human_full25k_combined_cost_splitbyobjectParams.csv\n"
     ]
    },
    {
     "data": {
      "text/html": [
       "<div>\n",
       "<style>\n",
       "    .dataframe thead tr:only-child th {\n",
       "        text-align: right;\n",
       "    }\n",
       "\n",
       "    .dataframe thead th {\n",
       "        text-align: left;\n",
       "    }\n",
       "\n",
       "    .dataframe tbody tr th {\n",
       "        vertical-align: top;\n",
       "    }\n",
       "</style>\n",
       "<table border=\"1\" class=\"dataframe\">\n",
       "  <thead>\n",
       "    <tr style=\"text-align: right;\">\n",
       "      <th></th>\n",
       "      <th>id</th>\n",
       "      <th>perception</th>\n",
       "      <th>pragmatics</th>\n",
       "      <th>production</th>\n",
       "      <th>simScaling</th>\n",
       "      <th>pragWeight</th>\n",
       "      <th>costWeight</th>\n",
       "      <th>infWeight</th>\n",
       "      <th>logLikelihood</th>\n",
       "      <th>posteriorProb</th>\n",
       "    </tr>\n",
       "  </thead>\n",
       "  <tbody>\n",
       "    <tr>\n",
       "      <th>0</th>\n",
       "      <td>0</td>\n",
       "      <td>human_full25k</td>\n",
       "      <td>combined</td>\n",
       "      <td>cost</td>\n",
       "      <td>11.135331</td>\n",
       "      <td>0.103684</td>\n",
       "      <td>4.657400</td>\n",
       "      <td>7.359281</td>\n",
       "      <td>-2497.545380</td>\n",
       "      <td>-6.907755</td>\n",
       "    </tr>\n",
       "    <tr>\n",
       "      <th>1</th>\n",
       "      <td>1</td>\n",
       "      <td>human_full25k</td>\n",
       "      <td>combined</td>\n",
       "      <td>cost</td>\n",
       "      <td>11.135331</td>\n",
       "      <td>0.101625</td>\n",
       "      <td>4.657400</td>\n",
       "      <td>7.359281</td>\n",
       "      <td>-2497.685102</td>\n",
       "      <td>-6.907755</td>\n",
       "    </tr>\n",
       "    <tr>\n",
       "      <th>2</th>\n",
       "      <td>2</td>\n",
       "      <td>human_full25k</td>\n",
       "      <td>combined</td>\n",
       "      <td>cost</td>\n",
       "      <td>11.135331</td>\n",
       "      <td>0.101625</td>\n",
       "      <td>4.615136</td>\n",
       "      <td>7.359281</td>\n",
       "      <td>-2496.987912</td>\n",
       "      <td>-5.809143</td>\n",
       "    </tr>\n",
       "    <tr>\n",
       "      <th>3</th>\n",
       "      <td>3</td>\n",
       "      <td>human_full25k</td>\n",
       "      <td>combined</td>\n",
       "      <td>cost</td>\n",
       "      <td>11.135331</td>\n",
       "      <td>0.101625</td>\n",
       "      <td>4.685571</td>\n",
       "      <td>7.359281</td>\n",
       "      <td>-2498.155587</td>\n",
       "      <td>-6.907755</td>\n",
       "    </tr>\n",
       "    <tr>\n",
       "      <th>4</th>\n",
       "      <td>4</td>\n",
       "      <td>human_full25k</td>\n",
       "      <td>combined</td>\n",
       "      <td>cost</td>\n",
       "      <td>11.135331</td>\n",
       "      <td>0.101625</td>\n",
       "      <td>4.598153</td>\n",
       "      <td>7.359281</td>\n",
       "      <td>-2496.710694</td>\n",
       "      <td>-6.907755</td>\n",
       "    </tr>\n",
       "  </tbody>\n",
       "</table>\n",
       "</div>"
      ],
      "text/plain": [
       "   id     perception pragmatics production  simScaling  pragWeight  \\\n",
       "0   0  human_full25k   combined       cost   11.135331    0.103684   \n",
       "1   1  human_full25k   combined       cost   11.135331    0.101625   \n",
       "2   2  human_full25k   combined       cost   11.135331    0.101625   \n",
       "3   3  human_full25k   combined       cost   11.135331    0.101625   \n",
       "4   4  human_full25k   combined       cost   11.135331    0.101625   \n",
       "\n",
       "   costWeight  infWeight  logLikelihood  posteriorProb  \n",
       "0    4.657400   7.359281   -2497.545380      -6.907755  \n",
       "1    4.657400   7.359281   -2497.685102      -6.907755  \n",
       "2    4.615136   7.359281   -2496.987912      -5.809143  \n",
       "3    4.685571   7.359281   -2498.155587      -6.907755  \n",
       "4    4.598153   7.359281   -2496.710694      -6.907755  "
      ]
     },
     "execution_count": 171,
     "metadata": {},
     "output_type": "execute_result"
    }
   ],
   "source": [
    "this_params = os.path.join('../models/bdaOutput',model_zoo[4])\n",
    "params = pd.read_csv(this_params)\n",
    "print this_params\n",
    "params.head()"
   ]
  },
  {
   "cell_type": "code",
   "execution_count": 172,
   "metadata": {},
   "outputs": [
    {
     "data": {
      "image/png": "[encoded data removed]",
      "text/plain": [
       "<matplotlib.figure.Figure at 0x7fbe947a3810>"
      ]
     },
     "metadata": {},
     "output_type": "display_data"
    }
   ],
   "source": [
    "h = sns.distplot(params['simScaling'])"
   ]
  },
  {
   "cell_type": "code",
   "execution_count": 173,
   "metadata": {},
   "outputs": [
    {
     "data": {
      "image/png": "[encoded data removed]",
      "text/plain": [
       "<matplotlib.figure.Figure at 0x7fbeba2dbb90>"
      ]
     },
     "metadata": {},
     "output_type": "display_data"
    }
   ],
   "source": [
    "h = sns.distplot(params['pragWeight'])"
   ]
  },
  {
   "cell_type": "code",
   "execution_count": 177,
   "metadata": {},
   "outputs": [
    {
     "name": "stdout",
     "output_type": "stream",
     "text": [
      "4.685570931635403\n"
     ]
    },
    {
     "data": {
      "image/png": "[encoded data removed]",
      "text/plain": [
       "<matplotlib.figure.Figure at 0x7fbe88534790>"
      ]
     },
     "metadata": {},
     "output_type": "display_data"
    }
   ],
   "source": [
    "sns.set_context('paper')\n",
    "h = sns.distplot(params['costWeight'])\n",
    "print max(params['costWeight'])"
   ]
  },
  {
   "cell_type": "code",
   "execution_count": 175,
   "metadata": {},
   "outputs": [
    {
     "data": {
      "image/png": "[encoded data removed]",
      "text/plain": [
       "<matplotlib.figure.Figure at 0x7fbeba3577d0>"
      ]
     },
     "metadata": {},
     "output_type": "display_data"
    }
   ],
   "source": [
    "h = sns.distplot(params['infWeight'])\n",
    "p"
   ]
  },
  {
   "cell_type": "code",
   "execution_count": null,
   "metadata": {
    "collapsed": true
   },
   "outputs": [],
   "source": []
  },
  {
   "cell_type": "code",
   "execution_count": null,
   "metadata": {
    "collapsed": true
   },
   "outputs": [],
   "source": []
  },
  {
   "cell_type": "code",
   "execution_count": null,
   "metadata": {
    "collapsed": true
   },
   "outputs": [],
   "source": []
  }
 ],
 "metadata": {
  "kernelspec": {
   "display_name": "Python 2",
   "language": "python",
   "name": "python2"
  },
  "language_info": {
   "codemirror_mode": {
    "name": "ipython",
    "version": 2
   },
   "file_extension": ".py",
   "mimetype": "text/x-python",
   "name": "python",
   "nbconvert_exporter": "python",
   "pygments_lexer": "ipython2",
   "version": "2.7.12"
  }
 },
 "nbformat": 4,
 "nbformat_minor": 1
}
