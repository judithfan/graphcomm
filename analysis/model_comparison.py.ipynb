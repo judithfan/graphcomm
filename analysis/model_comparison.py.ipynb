{
 "cells": [
  {
   "cell_type": "code",
   "execution_count": 1,
   "metadata": {
    "collapsed": true
   },
   "outputs": [],
   "source": [
    "import os\n",
    "import urllib, cStringIO\n",
    "\n",
    "import pymongo as pm\n",
    "\n",
    "import matplotlib\n",
    "from matplotlib import pylab, mlab, pyplot\n",
    "%matplotlib inline\n",
    "from IPython.core.pylabtools import figsize, getfigs\n",
    "plt = pyplot\n",
    "import seaborn as sns\n",
    "sns.set_context('poster')\n",
    "sns.set_style('white')\n",
    "\n",
    "import numpy as np\n",
    "from __future__ import division\n",
    "import scipy.stats as stats\n",
    "import pandas as pd\n",
    "import json\n",
    "import re\n",
    "\n",
    "from PIL import Image\n",
    "import base64\n",
    "import json"
   ]
  },
  {
   "cell_type": "code",
   "execution_count": null,
   "metadata": {
    "collapsed": true
   },
   "outputs": [],
   "source": []
  },
  {
   "cell_type": "markdown",
   "metadata": {},
   "source": [
    "### load in model param posterior (bdaOutput/**splitbyobjectParams.csv)"
   ]
  },
  {
   "cell_type": "code",
   "execution_count": 34,
   "metadata": {},
   "outputs": [
    {
     "name": "stdout",
     "output_type": "stream",
     "text": [
      "Currently evaluating human_full25k_S1_cost\n"
     ]
    }
   ],
   "source": [
    "## define set of models to compare\n",
    "model_prefixes = ['human_full25k','sketch_avg_full25k','sketch_unroll_full25k']\n",
    "all_param_paths = sorted(os.listdir('../models/bdaOutput'))\n",
    "model_zoo = [i for i in all_param_paths for pre in model_prefixes if pre in i]\n",
    "this_model = model_zoo[2]\n",
    "\n",
    "## define paths to model predictions\n",
    "path_to_evaluate = '../models/evaluateOutput'\n",
    "model_dirname = ('_').join(this_model.split('_')[:4])\n",
    "pred_path = os.path.join(path_to_evaluate,model_dirname)\n",
    "print 'Currently evaluating {}'.format(model_dirname)\n",
    "\n",
    "## get file with params from this model\n",
    "this_params = os.path.join('../models/bdaOutput',this_model)\n",
    "params = pd.read_csv(this_params)\n",
    "assert np.round(np.sum(np.exp(params.posteriorProb.values)),12)==1\n",
    "\n",
    "## get list of all predictives (accepted MCMC samples)\n",
    "pred_files = [i for i in os.listdir(pred_path) if i[-15:] =='Predictives.csv']"
   ]
  },
  {
   "cell_type": "code",
   "execution_count": 27,
   "metadata": {},
   "outputs": [],
   "source": []
  },
  {
   "cell_type": "code",
   "execution_count": 30,
   "metadata": {},
   "outputs": [
    {
     "data": {
      "text/plain": [
       "899"
      ]
     },
     "execution_count": 30,
     "metadata": {},
     "output_type": "execute_result"
    }
   ],
   "source": [
    "len(pred_files)"
   ]
  },
  {
   "cell_type": "code",
   "execution_count": null,
   "metadata": {},
   "outputs": [],
   "source": []
  },
  {
   "cell_type": "code",
   "execution_count": null,
   "metadata": {
    "collapsed": true
   },
   "outputs": [],
   "source": []
  }
 ],
 "metadata": {
  "kernelspec": {
   "display_name": "Python 2",
   "language": "python",
   "name": "python2"
  },
  "language_info": {
   "codemirror_mode": {
    "name": "ipython",
    "version": 2
   },
   "file_extension": ".py",
   "mimetype": "text/x-python",
   "name": "python",
   "nbconvert_exporter": "python",
   "pygments_lexer": "ipython2",
   "version": "2.7.12"
  }
 },
 "nbformat": 4,
 "nbformat_minor": 1
}
