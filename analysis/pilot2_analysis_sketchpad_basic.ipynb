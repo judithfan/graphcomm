{
 "cells": [
  {
   "cell_type": "code",
   "execution_count": 2,
   "metadata": {
    "collapsed": false
   },
   "outputs": [
    {
     "data": {
      "text/plain": [
       "<module 'analysis_helpers' from 'analysis_helpers.pyc'>"
      ]
     },
     "execution_count": 2,
     "metadata": {},
     "output_type": "execute_result"
    }
   ],
   "source": [
    "import os\n",
    "import urllib, cStringIO\n",
    "\n",
    "import pymongo as pm\n",
    "\n",
    "import matplotlib\n",
    "from matplotlib import pylab, mlab, pyplot\n",
    "%matplotlib inline\n",
    "from IPython.core.pylabtools import figsize, getfigs\n",
    "plt = pyplot\n",
    "import seaborn as sns\n",
    "sns.set_context('poster')\n",
    "sns.set_style('white')\n",
    "\n",
    "import numpy as np\n",
    "from __future__ import division\n",
    "import scipy.stats as stats\n",
    "import pandas as pd\n",
    "import json\n",
    "import re\n",
    "\n",
    "from PIL import Image\n",
    "import base64\n",
    "\n",
    "import analysis_helpers as h\n",
    "reload(h)"
   ]
  },
  {
   "cell_type": "code",
   "execution_count": 3,
   "metadata": {
    "collapsed": false
   },
   "outputs": [],
   "source": [
    "# directory & file hierarchy\n",
    "iterationName = 'pilot2'\n",
    "exp_path = './'\n",
    "analysis_dir = os.getcwd()\n",
    "data_dir = os.path.abspath(os.path.join(os.getcwd(),'../../..','data',exp_path))\n",
    "exp_dir = './'\n",
    "sketch_dir = os.path.abspath(os.path.join(os.getcwd(),'../../..','analysis',exp_path,'sketches','pilot2'))"
   ]
  },
  {
   "cell_type": "code",
   "execution_count": 5,
   "metadata": {
    "collapsed": false
   },
   "outputs": [],
   "source": [
    "# set vars \n",
    "auth = pd.read_csv('auth.txt', header = None) # this auth.txt file contains the password for the sketchloop user\n",
    "pswd = auth.values[0][0]\n",
    "user = 'sketchloop'\n",
    "host = 'rxdhawkins.me' ## cocolab ip address\n",
    "\n",
    "# have to fix this to be able to analyze from local\n",
    "import pymongo as pm\n",
    "conn = pm.MongoClient('mongodb://sketchloop:' + pswd + '@127.0.0.1')\n",
    "db = conn['3dObjects']\n",
    "coll = db['sketchpad_basic']"
   ]
  },
  {
   "cell_type": "code",
   "execution_count": null,
   "metadata": {
    "collapsed": false
   },
   "outputs": [],
   "source": []
  },
  {
   "cell_type": "code",
   "execution_count": null,
   "metadata": {
    "collapsed": false
   },
   "outputs": [],
   "source": []
  },
  {
   "cell_type": "code",
   "execution_count": 6,
   "metadata": {
    "collapsed": false
   },
   "outputs": [
    {
     "name": "stdout",
     "output_type": "stream",
     "text": [
      "34620 stroke records in the database.\n",
      "3220 clickedObj records in the database.\n"
     ]
    }
   ],
   "source": [
    "S = coll.find({ '$and': [{'iterationName':'pilot2'}, {'eventType': 'stroke'}]}).sort('time')\n",
    "C = coll.find({ '$and': [{'iterationName':'pilot2'}, {'eventType': 'clickedObj'}]}).sort('time')\n",
    "print str(S.count()) + ' stroke records in the database.'\n",
    "print str(C.count()) + ' clickedObj records in the database.'"
   ]
  },
  {
   "cell_type": "code",
   "execution_count": 7,
   "metadata": {
    "collapsed": false
   },
   "outputs": [],
   "source": [
    "# print unique gameid's\n",
    "unique_gameids = coll.find({ '$and': [{'iterationName':'pilot2'}, {'eventType': 'clickedObj'}]}).sort('time').distinct('gameid')\n",
    "# print map(str,unique_gameids)\n",
    "\n",
    "# filter out  records that match researcher ID's\n",
    "jefan = ['A1MMCS8S8CTWKU','A1MMCS8S8CTWKV','A1MMCS8S8CTWKS']\n",
    "hawkrobe = ['A1BOIDKD33QSDK']\n",
    "researchers = jefan + hawkrobe\n",
    "workers = [i for i in coll.find({'iterationName':'pilot2'}).distinct('workerId') if i not in researchers]"
   ]
  },
  {
   "cell_type": "code",
   "execution_count": 24,
   "metadata": {
    "collapsed": false,
    "scrolled": false
   },
   "outputs": [
    {
     "name": "stdout",
     "output_type": "stream",
     "text": [
      "0  6 stroke\n",
      "2 A3FC 32 stroke\n",
      "2 A1PT 32 clickedObj\n",
      "3 A2CF 32 stroke\n",
      "3 A1DI 32 clickedObj\n",
      "4 A2IK 32 stroke\n",
      "4 A3AN 32 clickedObj\n",
      "5 AW49 32 stroke\n",
      "5 A2EY 32 clickedObj\n",
      "6 A1LD 32 stroke\n",
      "6 A2FY 32 clickedObj\n",
      "7 A3T9 32 stroke\n",
      "7 A3SD 32 clickedObj\n",
      "8 A3P5 32 stroke\n",
      "8 A2H0 32 clickedObj\n",
      "9 A1YB 32 stroke\n",
      "9 A1WJ 32 clickedObj\n",
      "10 A1H9 32 stroke\n",
      "10 A3W4 32 clickedObj\n",
      "11 A2Q3 32 stroke\n",
      "11 A30V 32 clickedObj\n",
      "12 ANVX 32 stroke\n",
      "12 A1F8 32 clickedObj\n",
      "13 AMPM 2 stroke\n",
      "13 AK77 1 clickedObj\n",
      "14 A2AM 32 stroke\n",
      "14 A2HG 32 clickedObj\n",
      "15 A2ET 32 stroke\n",
      "15 A3NV 32 clickedObj\n",
      "16 A319 32 stroke\n",
      "16 A1WI 32 clickedObj\n",
      "17 AU34 32 stroke\n",
      "17 A1JX 32 clickedObj\n",
      "18 A3F6 32 stroke\n",
      "18 A1KJ 32 clickedObj\n",
      "19 A23B 32 stroke\n",
      "19 A3NK 32 clickedObj\n",
      "20 A1PM 32 stroke\n",
      "20 A3BK 32 clickedObj\n",
      "21 A1US 32 stroke\n",
      "21 A3RX 32 clickedObj\n",
      "22 A22Q 32 stroke\n",
      "22 A1TG 32 clickedObj\n",
      "23 AX9D 32 stroke\n",
      "23 AO33 32 clickedObj\n",
      "24 A3MY 32 stroke\n",
      "24 A3MY 32 clickedObj\n",
      "25 A1AK 32 stroke\n",
      "25 A3JF 32 clickedObj\n",
      "26 A2OJ 32 stroke\n",
      "26 AFWK 32 clickedObj\n",
      "27 A1A1 32 stroke\n",
      "27 A3BU 32 clickedObj\n",
      "28 A1QH 32 stroke\n",
      "28 A4J7 32 clickedObj\n",
      "29 A1WY 32 stroke\n",
      "29 A1CU 32 clickedObj\n",
      "30 A1H1 32 stroke\n",
      "30 A27Z 32 clickedObj\n",
      "31 A120 32 stroke\n",
      "31 A12M 32 clickedObj\n",
      "32 A161 5 stroke\n",
      "32 A1H4 4 clickedObj\n",
      "33 A3O5 32 stroke\n",
      "33 ABL3 32 clickedObj\n",
      "34 A3EW 32 stroke\n",
      "34 ASIB 32 clickedObj\n",
      "35 A1NZ 32 stroke\n",
      "35 AYSG 32 clickedObj\n",
      "36 A23B 32 stroke\n",
      "36 A1SI 32 clickedObj\n",
      "37 AAEZ 32 stroke\n",
      "37 AZJT 32 clickedObj\n",
      "38 A3F9 14 stroke\n",
      "38 A2DL 13 clickedObj\n",
      "39 AVQI 32 stroke\n",
      "39 A3OB 32 clickedObj\n",
      "40 A1MD 18 stroke\n",
      "40 A397 18 clickedObj\n",
      "41 AVI7 4 stroke\n",
      "41 A1UJ 4 clickedObj\n",
      "42 AVBR 32 stroke\n",
      "42 A110 32 clickedObj\n",
      "43 A19I 32 stroke\n",
      "43 A3MY 32 clickedObj\n",
      "44 AOTS 32 stroke\n",
      "44 AQGQ 32 clickedObj\n",
      "45 A1ZW 32 stroke\n",
      "45 A1O4 32 clickedObj\n",
      "46 A3TD 32 stroke\n",
      "46 A2RK 32 clickedObj\n",
      "47 A3EQ 32 stroke\n",
      "47 A37E 32 clickedObj\n",
      "48 A24U 32 stroke\n",
      "48 A2OL 32 clickedObj\n",
      "49 A35N 32 stroke\n",
      "49 A1MT 32 clickedObj\n",
      "50 A2PY 32 stroke\n",
      "50 A24H 32 clickedObj\n",
      "51 A23T 32 stroke\n",
      "51 AHPQ 32 clickedObj\n",
      "52 A3F9 32 stroke\n",
      "52 A1US 32 clickedObj\n",
      "53 A1W0 32 stroke\n",
      "53 AII1 32 clickedObj\n",
      "54 ATHS 32 stroke\n",
      "54 A2BQ 32 clickedObj\n",
      "55 A2EO 32 stroke\n",
      "55 A2XV 32 clickedObj\n",
      "56 A1OL 32 stroke\n",
      "56 AOPX 32 clickedObj\n",
      "57 A1ZI 32 stroke\n",
      "57 A34Q 32 clickedObj\n",
      "58 A2BP 32 stroke\n",
      "58 A1VF 32 clickedObj\n",
      "59 A2N3 32 stroke\n",
      "59 A2GO 32 clickedObj\n",
      "60 A14Y 32 stroke\n",
      "60 A2M6 32 clickedObj\n",
      "61 A38L 32 stroke\n",
      "61 A3PP 32 clickedObj\n",
      "62 A2M6 15 stroke\n",
      "62 A3MI 14 clickedObj\n",
      "63 AVCL 32 stroke\n",
      "63 A166 32 clickedObj\n",
      "64 A331 32 stroke\n",
      "64 A1RZ 32 clickedObj\n",
      "65 A3U6 32 stroke\n",
      "65 A3EL 32 clickedObj\n",
      "66 ATOV 32 stroke\n",
      "66 A3TX 32 clickedObj\n",
      "67 AE5Q 32 stroke\n",
      "67 A1NL 32 clickedObj\n",
      "68 A2LM 32 stroke\n",
      "68 AOMT 32 clickedObj\n",
      "69 A3IG 7 stroke\n",
      "69 A1HY 6 clickedObj\n",
      "70 A1F1 32 stroke\n",
      "70 A2RP 32 clickedObj\n",
      "71 A2V2 32 stroke\n",
      "71 A1AK 32 clickedObj\n",
      "72  1 stroke\n",
      "73 A2LG 32 stroke\n",
      "73 A1EK 32 clickedObj\n",
      "74 A1VO 2 stroke\n",
      "74 A2SM 1 clickedObj\n",
      "75 A2MZ 32 stroke\n",
      "75 A1L9 32 clickedObj\n",
      "76 A2D7 32 stroke\n",
      "76 A1LO 32 clickedObj\n",
      "77 A18N 32 stroke\n",
      "77 A1P3 32 clickedObj\n",
      "78 A12I 32 stroke\n",
      "78 AIW8 32 clickedObj\n",
      "79 A31Y 32 stroke\n",
      "79 A23K 32 clickedObj\n",
      "80 A1P0 32 stroke\n",
      "80 A1UZ 32 clickedObj\n",
      "81 A230 32 stroke\n",
      "81 A30B 32 clickedObj\n",
      "82 AYLY 32 stroke\n",
      "82 A3KE 32 clickedObj\n",
      "83 A26M 32 stroke\n",
      "83 AZJE 32 clickedObj\n",
      "84 A3UE 32 stroke\n",
      "84 A1Z3 32 clickedObj\n",
      "85 A38N 32 stroke\n",
      "85 AHZP 32 clickedObj\n",
      "86 A1CS 32 stroke\n",
      "86 ACGZ 32 clickedObj\n",
      "87 A3RU 32 stroke\n",
      "87 A1KR 32 clickedObj\n",
      "88 A2FI 32 stroke\n",
      "88 APF1 32 clickedObj\n",
      "89 A1DI 32 stroke\n",
      "89 A2AG 32 clickedObj\n",
      "90 A1MS 32 stroke\n",
      "90 AZ2H 32 clickedObj\n",
      "91 AT3N 32 stroke\n",
      "91 A2SS 32 clickedObj\n",
      "92 A1YC 32 stroke\n",
      "92 A1OP 32 clickedObj\n",
      "93 A1Z2 32 stroke\n",
      "93 A17P 32 clickedObj\n",
      "94 A2AY 32 stroke\n",
      "94 A3HN 32 clickedObj\n",
      "95 A27A 32 stroke\n",
      "95 A2WC 32 clickedObj\n",
      "96 A2Z7 32 stroke\n",
      "96 A1DL 32 clickedObj\n",
      "97 ABEJ 32 stroke\n",
      "97 A385 32 clickedObj\n",
      "98 A13U 32 stroke\n",
      "98 A2KJ 32 clickedObj\n",
      "99 A3CQ 32 stroke\n",
      "99 A3LT 32 clickedObj\n",
      "100 AEF9 32 stroke\n",
      "100 A17J 32 clickedObj\n",
      "101 AALU 3 stroke\n",
      "101 A3DY 2 clickedObj\n",
      "102 A2MD 13 stroke\n",
      "102 A31M 12 clickedObj\n",
      "103 AXZB 32 stroke\n",
      "103 A1GK 32 clickedObj\n",
      "104 A1H5 32 stroke\n",
      "104 A15O 32 clickedObj\n",
      "105 A24N 13 stroke\n",
      "105 AFQG 13 clickedObj\n",
      "106 A2ZS 8 stroke\n",
      "106 A1U3 8 clickedObj\n",
      "107 A2GB 12 stroke\n",
      "107 A3JG 12 clickedObj\n",
      "108 A2SH 8 stroke\n",
      "108 A2DF 8 clickedObj\n",
      "109 A3IJ 9 stroke\n",
      "109 A24L 8 clickedObj\n",
      "110 A4T5 9 stroke\n",
      "110 A1IQ 8 clickedObj\n",
      "111 A1CY 6 stroke\n",
      "111 A2DV 5 clickedObj\n",
      "112 ALKQ 3 stroke\n",
      "112 A3OE 2 clickedObj\n",
      "113 A30J 32 stroke\n",
      "113 A3W6 32 clickedObj\n",
      "114 A2VW 32 stroke\n",
      "114 A2OV 32 clickedObj\n",
      "115 A101 32 stroke\n",
      "115 AX17 32 clickedObj\n",
      "116 A3HS 32 stroke\n",
      "116 A11T 32 clickedObj\n",
      "   ===========   \n",
      "93 valid gameIDs (# complete games).\n"
     ]
    }
   ],
   "source": [
    "valid_gameids = []\n",
    "for i,g in enumerate(unique_gameids):\n",
    "    W = coll.find({ '$and': [{'gameid': g}]}).distinct('workerId')\n",
    "    for w in W:\n",
    "        if w in workers:\n",
    "            X = coll.find({ '$and': [{'workerId': w}, {'gameid': g}]}).distinct('trialNum') ## # of trials completed\n",
    "            eventType = coll.find({ '$and': [{'workerId': w}]}).distinct('eventType')\n",
    "            print i, w[:4], len(X), str(eventType[0])\n",
    "            if (str(eventType[0])=='clickedObj') & (len(X)==32):\n",
    "                valid_gameids.append(g)\n",
    "print '   ===========   '\n",
    "\n",
    "## filter if the pair cheated by writing words or using other symbols\n",
    "cheaty = ['8155-e46a25a3-9259-4b76-80e9-5bd79b6bdd97','6224-ab96ed5c-2a98-477c-aae2-7398b9e5b237',\\\n",
    "         '5595-a00b8109-1910-43c4-9f14-00eb4945ac70','1697-7ab5b295-fae8-4f62-8cbd-72aa0e23b10e']\n",
    "motor = ['2829-820b338d-5720-4964-bd22-8ba38329569d'] # this person made multiples in several of their sketches, and appeared to suffer from strong tremors\n",
    "unfiltered_gameids = valid_gameids\n",
    "valid_gameids = [i for i in valid_gameids if i not in cheaty]\n",
    "valid_gameids = [i for i in valid_gameids if i not in motor]\n",
    "\n",
    "print str(len(valid_gameids)) + ' valid gameIDs (# complete games).'\n",
    "\n",
    "df = pd.DataFrame([valid_gameids])\n",
    "df = df.transpose()\n",
    "df.columns=['valid_gameids']\n",
    "df.to_csv('valid_gameids_pilot2.csv')\n",
    "\n",
    "df = pd.DataFrame([unfiltered_gameids])\n",
    "df = df.transpose()\n",
    "df.columns=['unfiltered_gameids']\n",
    "df.to_csv('unfiltered_gameids_pilot2.csv')"
   ]
  },
  {
   "cell_type": "code",
   "execution_count": 25,
   "metadata": {
    "collapsed": false
   },
   "outputs": [],
   "source": []
  },
  {
   "cell_type": "code",
   "execution_count": null,
   "metadata": {
    "collapsed": false
   },
   "outputs": [],
   "source": []
  },
  {
   "cell_type": "code",
   "execution_count": 119,
   "metadata": {
    "collapsed": false
   },
   "outputs": [
    {
     "name": "stdout",
     "output_type": "stream",
     "text": [
      "Analyzing game:  7004-6ff0964c-ff95-40f9-8696-d6a8931c94d5\n",
      "Analyzing game:  6224-40ab6004-b7c1-4d1d-a308-a061099290fc\n",
      "Analyzing game:  8690-8b4e0b59-f3f2-4e43-b4a0-66caff2a72e4\n",
      "Analyzing game:  3230-d1aa5a54-b0ce-4d0d-be06-e49efb324a4b\n",
      "Analyzing game:  6786-9c3169eb-962e-468b-8922-b99247975eb2\n",
      "Analyzing game:  5708-fd15d921-aa1b-46e4-ad51-e0c743c2db0d\n",
      "Analyzing game:  4099-cfa19d59-4f8b-4d34-bd3f-23a1e8c79e67\n",
      "Analyzing game:  9229-923201c3-dd68-4362-8eec-77cb88a647c4\n",
      "Analyzing game:  5331-d3bd334d-3d8c-400e-b3b2-44cd69623cb7\n",
      "Analyzing game:  1593-3cebc49a-ef16-451d-a5a9-aad9b5ac4695\n",
      "Analyzing game:  2323-a9c585ff-0096-4f9c-8be4-e202993c654f\n",
      "Analyzing game:  8154-5d8b5091-2c29-4502-9719-1b295ff55c49\n",
      "Analyzing game:  6592-d354ecd6-f421-4200-98e1-8d7c0ee48a43\n",
      "Analyzing game:  9903-d6e6a9ff-a878-4bee-b2d5-26e2e239460a\n",
      "Analyzing game:  5412-7dc95fb9-5b93-4d9a-bf13-7d349722b687\n",
      "Analyzing game:  5650-cb4a9e85-a383-43f6-83e6-331e286811d1\n",
      "Analyzing game:  3058-fb4fe740-d862-453b-a08f-44375a040165\n",
      "Analyzing game:  0225-fd115f45-542e-4c76-9672-54e60295fc00\n",
      "Analyzing game:  1752-fba5d4af-f103-4e3a-b100-d479bb0a2d11\n",
      "Analyzing game:  6373-a60ef7ba-4340-4fc3-b549-bf974318f61d\n",
      "Analyzing game:  4088-45a9d4bd-2ce2-4404-8743-5d9a30dc38e2\n",
      "Analyzing game:  9451-6c7f6084-1fb9-47c6-a7c2-36a20f2951c5\n",
      "Analyzing game:  1970-1377644d-0742-4343-ae91-737a5b0fbd1f\n",
      "Analyzing game:  4409-c993cc06-d675-4acb-881f-b5377cf24d71\n",
      "Analyzing game:  8196-ad38e7de-f882-4af8-8645-0934a9585321\n",
      "Analyzing game:  0927-5d6c38c2-51c0-44b7-a26e-28ff79b4f377\n",
      "Analyzing game:  7567-ce474df0-a84b-46aa-b23d-c238f8234641\n",
      "Analyzing game:  8297-39d66207-4fb6-430c-8e2b-4f95213b6a55\n",
      "Analyzing game:  6097-bd18a2a0-7f23-4304-890f-cb44cf334fe4\n",
      "Analyzing game:  4471-2bd3bf63-be9f-4c2b-8cf2-a27d10269baa\n",
      "Analyzing game:  3897-71f63429-f74c-42ea-a48e-f21b736affde\n",
      "Analyzing game:  9840-46b175c7-8715-49fe-99a6-0dae8776ef1b\n",
      "Analyzing game:  1610-56ada1db-89be-40bc-a0f2-61e9769b6987\n",
      "Analyzing game:  9488-b896538b-6d64-46b2-b5ff-a4509fb4d9a0\n",
      "Analyzing game:  8033-46b51efe-5b34-4a26-a7f0-a5d08708618a\n",
      "Analyzing game:  3169-1a552a49-44e5-4a78-bed6-72a6aca82625\n",
      "Analyzing game:  7584-c7bb6a5e-cd82-45fc-823a-ada7595a25c5\n",
      "Analyzing game:  8621-ca1f4a87-da08-43dd-96fb-948482e4d94c\n",
      "Analyzing game:  2121-a3dd33f4-82fc-4913-991c-1d372f6923f0\n",
      "Analyzing game:  3257-2f4b83dc-a618-4194-a666-67e8a3f5539d\n",
      "Analyzing game:  7285-f99d9991-de84-43cc-b359-e9de387ab0b5\n",
      "Analyzing game:  1682-6ebee481-ec2e-4624-a5d2-2e74803e940d\n",
      "Analyzing game:  3444-a337b178-b097-4a79-bbf3-e7e2225bac12\n",
      "Analyzing game:  3572-0843efc9-9dec-40f1-879f-2a61d8a3622d\n",
      "Analyzing game:  0075-ad14e50c-f328-451b-82b0-2a7d3b392127\n",
      "Analyzing game:  1227-b0df7616-c762-4bb6-8c0e-fcb7cf68ddba\n",
      "Analyzing game:  3741-3d676fa8-13ae-4785-8a62-7cc820eaccb0\n",
      "Analyzing game:  4546-1d43f895-aec3-43e5-83dd-8069d67a2b47\n",
      "Analyzing game:  5325-5c1c06e3-3674-4ae6-add2-d188a9a7c4b5\n",
      "Analyzing game:  8486-a0a44a5f-4eb9-4924-b2b6-247478e1ce8d\n",
      "Analyzing game:  8901-cec404f6-c1b9-458f-8ab5-3fac34c1563f\n",
      "Analyzing game:  6698-4fc0cc09-7c7a-4adf-95d7-af88c375d43a\n",
      "Analyzing game:  0647-bfcd78e5-085c-4631-a47c-0f3dadf71345\n",
      "Analyzing game:  1695-dcc9fa2e-386a-42cc-a4cb-fbb1a309c5d9\n",
      "Analyzing game:  6500-391008be-12c2-4a97-a943-7bf13a56bbb7\n",
      "Analyzing game:  2475-56c56a85-8926-4355-b02d-9fe236623033\n",
      "Analyzing game:  5707-49e9e7c8-5fe1-4469-9905-4ba89ccde7dd\n",
      "Analyzing game:  2721-f28245be-a3ac-425e-9538-5c0803980807\n",
      "Analyzing game:  2611-14794729-06be-4093-aac5-8a631b1fa894\n",
      "Analyzing game:  5401-eaf89cb8-eaee-4824-949a-f6a80bd05fc3\n",
      "Analyzing game:  4922-1aed9a2a-2e30-4032-9087-500ec1c2d3aa\n",
      "Analyzing game:  2111-7c2c9b7b-6c0b-43e7-b3a9-c9edf26da2a1\n",
      "Analyzing game:  4613-4fa2802d-8f43-4ffd-9a0a-9d29240651d1\n",
      "Analyzing game:  3113-105e6653-7fd1-4451-af00-46bb3145880a\n",
      "Analyzing game:  7988-85f09ac5-8225-48f3-9367-e890cdbb4ffb\n",
      "Analyzing game:  6486-e7055f99-5fec-4fb7-a7fd-7ebf49ba594f\n",
      "Analyzing game:  0773-7fd737ec-3498-4e32-b097-7d7f0b9a0af8\n",
      "Analyzing game:  0303-238b7c04-aff2-417c-b7ab-895bcb3d54b9\n",
      "Analyzing game:  2137-5eb24312-af96-43dc-bb4b-76ac0d817ede\n",
      "Analyzing game:  5148-2dd2d418-6ff6-40f1-ac59-e201d15bc528\n",
      "Analyzing game:  9699-54dcccb8-23c7-45a9-8a18-f3a9ac597eb6\n",
      "Analyzing game:  2107-760dc7ba-9d69-4d14-89ce-16d8e4ed049d\n",
      "Analyzing game:  1649-32db6539-aa0f-4f13-85ad-e1082911fc9f\n",
      "Analyzing game:  8844-b38e583e-3f9a-4f4e-baa2-1ad91742f7d4\n",
      "Analyzing game:  8265-92081336-152b-4a90-bdb4-fea038f4c9b8\n",
      "Analyzing game:  2769-b075d070-88e5-47fe-b275-c49134b19ceb\n",
      "Analyzing game:  7639-4967af0b-721a-46b1-a2ca-3010355ac1f0\n",
      "Analyzing game:  3485-477008c1-e529-4ad0-a62b-df33c782a5e3\n",
      "Analyzing game:  6444-67a3b4d4-43a4-41bb-a9cf-e8739fbe8802\n",
      "Analyzing game:  8484-f49ea84f-5e54-4a64-b793-bed95e9aa1fd\n",
      "Analyzing game:  6311-cd21a68a-f1df-4290-b744-b0c7c7c60ed8\n",
      "Analyzing game:  0834-74e58d84-5f2f-4ffd-8df3-e32076ea5aa1\n",
      "Analyzing game:  2216-946e1652-c7ea-4dc7-8829-129c7cc55176\n",
      "Analyzing game:  5994-c7c61529-a835-4433-9c73-f628a189f385\n",
      "Analyzing game:  7823-f830a2ad-96de-4d1f-a926-5b44d0a625aa\n",
      "Analyzing game:  1783-0c833753-f18a-428d-9d3a-2e37d06f04e6\n",
      "Analyzing game:  7106-d5bbcf75-2894-4656-b1bd-19e73abf8a17\n",
      "Analyzing game:  7311-9dac6fad-97de-467c-932a-e02645c5c647\n",
      "Analyzing game:  0152-6051cc20-5fbc-43f5-8ca3-08711b390cfc\n",
      "Analyzing game:  4609-852cfd4d-44d8-42fc-9c7c-8460ce918f16\n",
      "Analyzing game:  3956-be947e80-531d-42ce-b238-e0b3bd997edf\n",
      "Analyzing game:  1233-33433bd3-d72b-4c2a-9ed0-3e83a80f8e94\n",
      "Analyzing game:  9877-e1c91119-da46-40fa-82fe-17405ca56a3b\n"
     ]
    }
   ],
   "source": [
    "TrialNum = []\n",
    "GameID = []\n",
    "Condition = []\n",
    "Target = []\n",
    "Distractor1 = []\n",
    "Distractor2 = []\n",
    "Distractor3 = []\n",
    "Outcome = []\n",
    "Response = []\n",
    "numStrokes = []\n",
    "drawDuration = [] # in seconds\n",
    "viewerRT = []\n",
    "svgStringLength = [] # sum of svg string for whole sketch\n",
    "svgStringLengthPerStroke = [] # svg string length per stroke\n",
    "numCurvesPerSketch = [] # number of curve segments per sketch\n",
    "numCurvesPerStroke = [] # mean number of curve segments per stroke\n",
    "svgStringStd = [] # std of svg string length across strokes for this sketch\n",
    "Outcome = []\n",
    "Pose = []\n",
    "Svg = []\n",
    "\n",
    "these_gameids = valid_gameids\n",
    "\n",
    "for g in these_gameids:\n",
    "    print 'Analyzing game: ', g\n",
    "\n",
    "    X = coll.find({ '$and': [{'gameid': g}, {'eventType': 'clickedObj'}]}).sort('time')\n",
    "    Y = coll.find({ '$and': [{'gameid': g}, {'eventType': 'stroke'}]}).sort('time')\n",
    "\n",
    "    for t in X:\n",
    "        targetname = t['intendedName']\n",
    "        distractors = [t['object2Name'],t['object3Name'],t['object4Name']]\n",
    "        full_list = [t['intendedName'],t['object2Name'],t['object3Name'],t['object4Name']] \n",
    "        y = coll.find({ '$and': [{'gameid': g}, {'eventType': 'stroke'}, {'trialNum': t['trialNum']}]}).sort('time')\n",
    "        ns = y.count()\n",
    "        numStrokes.append(ns)\n",
    "        drawDuration.append((y.__getitem__(ns-1)['time'] - y.__getitem__(0)['time'])/1000) # in seconds  \n",
    "        y = coll.find({ '$and': [{'gameid': g}, {'eventType': 'stroke'}, {'trialNum': t['trialNum']}]}).sort('time')        \n",
    "        z = coll.find({ '$and': [{'gameid': g}, {'eventType': 'clickedObj'}, {'trialNum': t['trialNum']}]}).sort('time')\n",
    "        viewerRT.append((z.__getitem__(0)['time'] - y.__getitem__(ns-1)['time'])/1000)\n",
    "        ls = [len(_y['svgData']) for _y in y]\n",
    "        svgStringLength.append(reduce(lambda x, y: x + y, ls))\n",
    "        y = coll.find({ '$and': [{'gameid': g}, {'eventType': 'stroke'}, {'trialNum': t['trialNum']}]}).sort('time')\n",
    "        num_curves = [len([m.start() for m in re.finditer('c', _y['svgData'])]) for _y in y]\n",
    "        y = coll.find({ '$and': [{'gameid': g}, {'eventType': 'stroke'}, {'trialNum': t['trialNum']}]}).sort('time')        \n",
    "        _svg = []\n",
    "        for _y in y:\n",
    "            _svg.append(_y['svgData'])\n",
    "        Svg.append(_svg)\n",
    "        numCurvesPerSketch.append(reduce(lambda x, y: x + y, num_curves))\n",
    "        numCurvesPerStroke.append(reduce(lambda x, y: x + y, num_curves)/ns)\n",
    "        svgStringLengthPerStroke.append(reduce(lambda x, y: x + y, ls)/ns)\n",
    "        svgStringStd.append(np.std(ls))\n",
    "        ### aggregate game metadata\n",
    "        TrialNum.append(t['trialNum'])\n",
    "        GameID.append(t['gameid'])        \n",
    "        Target.append(targetname)\n",
    "        Condition.append(t['condition'])\n",
    "        Response.append(t['clickedName'])\n",
    "        Outcome.append(t['correct'])\n",
    "        Distractor1.append(distractors[0])\n",
    "        Distractor2.append(distractors[1])\n",
    "        Distractor3.append(distractors[2])\n",
    "        Pose.append(t['pose'])\n",
    "        "
   ]
  },
  {
   "cell_type": "code",
   "execution_count": 123,
   "metadata": {
    "collapsed": false
   },
   "outputs": [],
   "source": [
    "## compose pandas dataframe from lists\n",
    "iteration = ['pilot2']*len(GameID)\n",
    "\n",
    "_D = pd.DataFrame([GameID,TrialNum,Condition, Target, drawDuration, Outcome, Response, numStrokes, \\\n",
    "                  svgStringLength, svgStringLengthPerStroke, svgStringStd, Distractor1, Distractor2, \\\n",
    "                   Distractor3, Pose, iteration, Svg, viewerRT]) \\\n",
    "\n",
    "D =_D.transpose()\n",
    "D.columns = ['gameID','trialNum','condition', 'target', 'drawDuration','outcome', 'response', \\\n",
    "             'numStrokes', 'svgStringLength', 'svgStringLengthPerStroke', 'svgStringStd', \\\n",
    "            'Distractor1', 'Distractor2', 'Distractor3', 'pose', 'iteration', 'svg','viewerRT']"
   ]
  },
  {
   "cell_type": "code",
   "execution_count": null,
   "metadata": {
    "collapsed": false
   },
   "outputs": [],
   "source": []
  },
  {
   "cell_type": "code",
   "execution_count": 124,
   "metadata": {
    "collapsed": false
   },
   "outputs": [
    {
     "name": "stdout",
     "output_type": "stream",
     "text": [
      "SpearmanrResult(correlation=0.44776639491896947, pvalue=1.0207251141765153e-146)\n"
     ]
    }
   ],
   "source": [
    "## add png to D dataframe\n",
    "png = []\n",
    "for g in these_gameids:\n",
    "    X = coll.find({ '$and': [{'gameid': g}, {'eventType': 'clickedObj'}]}).sort('time')\n",
    "    Y = coll.find({ '$and': [{'gameid': g}, {'eventType': 'stroke'}]}).sort('time')\n",
    "    # print out sketches from all trials from this game\n",
    "    for t in X: \n",
    "        png.append(t['pngString'])\n",
    "D = D.assign(png=pd.Series(png).values)\n",
    "\n",
    "iteration = ['pilot2']*len(D['gameID'].values)\n",
    "D = D.assign(iteration=pd.Series(iteration).values)\n",
    "\n",
    "## add another cost-related dependent measure: mean pixel intensity (amount of ink spilled) -- to handle\n",
    "## some weird glitches in the num stroke count\n",
    "mean_intensity = []\n",
    "imsize = 100\n",
    "numpix = imsize**2\n",
    "thresh = 250\n",
    "\n",
    "for i,_d in D.iterrows():\n",
    "    imgData = _d['png']\n",
    "    filestr = base64.b64decode(imgData)\n",
    "    fname = os.path.join('sketch.png')\n",
    "    with open(fname, \"wb\") as fh:\n",
    "        fh.write(imgData.decode('base64'))\n",
    "    im = Image.open(fname).resize((imsize,imsize))\n",
    "    _im = np.array(im)\n",
    "    mean_intensity.append(len(np.where(_im[:,:,3].flatten()>thresh)[0])/numpix)\n",
    "    \n",
    "# add mean_intensity to the main D dataframe \n",
    "### btw: mean_intensity and numStrokes is about 0.43 spearman correlated.\n",
    "D = D.assign(mean_intensity=pd.Series(mean_intensity).values)\n",
    "print stats.spearmanr(D['mean_intensity'].values,D['numStrokes'].values)\n",
    "\n",
    "category = [h.objcat[t] for t in D.target.values]\n",
    "D = D.assign(category=pd.Series(category).values)\n"
   ]
  },
  {
   "cell_type": "code",
   "execution_count": 125,
   "metadata": {
    "collapsed": false
   },
   "outputs": [
    {
     "name": "stdout",
     "output_type": "stream",
     "text": [
      "Saving out valid games csv\n"
     ]
    }
   ],
   "source": [
    "# save D out as group_data.csv \n",
    "if len(np.unique(D.gameID.values))==len(valid_gameids):\n",
    "    D.to_csv(os.path.join(analysis_dir,'sketchpad_basic_pilot2_group_data.csv'))\n",
    "    print 'Saving out valid games csv'\n",
    "elif len(np.unique(D.gameID.values))==len(unfiltered_gameids):\n",
    "    D.to_csv(os.path.join(analysis_dir,'sketchpad_basic_pilot2_group_data_unfiltered.csv'))\n",
    "    print 'Saving out unfiltered games csv'    "
   ]
  },
  {
   "cell_type": "code",
   "execution_count": null,
   "metadata": {
    "collapsed": false
   },
   "outputs": [],
   "source": []
  },
  {
   "cell_type": "code",
   "execution_count": null,
   "metadata": {
    "collapsed": false
   },
   "outputs": [],
   "source": []
  },
  {
   "cell_type": "code",
   "execution_count": null,
   "metadata": {
    "collapsed": false
   },
   "outputs": [],
   "source": []
  },
  {
   "cell_type": "code",
   "execution_count": null,
   "metadata": {
    "collapsed": true
   },
   "outputs": [],
   "source": []
  },
  {
   "cell_type": "markdown",
   "metadata": {},
   "source": [
    "### Visualize summary stats"
   ]
  },
  {
   "cell_type": "code",
   "execution_count": 129,
   "metadata": {
    "collapsed": false
   },
   "outputs": [],
   "source": [
    "# read group data csv in as D\n",
    "D = pd.read_csv(os.path.join(analysis_dir,'sketchpad_basic_pilot2_group_data.csv'))"
   ]
  },
  {
   "cell_type": "code",
   "execution_count": 136,
   "metadata": {
    "collapsed": false
   },
   "outputs": [],
   "source": [
    "# get summary statistics\n",
    "all_games = np.unique(D['gameID'])\n",
    "further_strokes = []\n",
    "closer_strokes = []\n",
    "further_svgLength = []\n",
    "closer_svgLength = []\n",
    "further_svgStd = []\n",
    "closer_svgStd = []\n",
    "further_svgLengthPS = []\n",
    "closer_svgLengthPS = []\n",
    "further_drawDuration = []\n",
    "closer_drawDuration = []\n",
    "further_accuracy = []\n",
    "closer_accuracy = []\n",
    "closer_meanintensity = []\n",
    "further_meanintensity = []\n",
    "closer_viewerRT = []\n",
    "further_viewerRT = []\n",
    "\n",
    "for game in all_games:    \n",
    "    further_strokes.append(D[(D['gameID']== game) & (D['condition'] == 'further')]['numStrokes'].mean())\n",
    "    closer_strokes.append(D[(D['gameID']== game) & (D['condition'] == 'closer')]['numStrokes'].mean())\n",
    "    further_svgLength.append(D[(D['gameID']== game) & (D['condition'] == 'further')]['svgStringLength'].mean())\n",
    "    closer_svgLength.append(D[(D['gameID']== game) & (D['condition'] == 'closer')]['svgStringLength'].mean())\n",
    "    further_svgStd.append(D[(D['gameID']== game) & (D['condition'] == 'further')]['svgStringStd'].mean())\n",
    "    closer_svgStd.append(D[(D['gameID']== game) & (D['condition'] == 'closer')]['svgStringStd'].mean())    \n",
    "    further_svgLengthPS.append(D[(D['gameID']== game) & (D['condition'] == 'further')]['svgStringLengthPerStroke'].mean())\n",
    "    closer_svgLengthPS.append(D[(D['gameID']== game) & (D['condition'] == 'closer')]['svgStringLengthPerStroke'].mean())\n",
    "    further_drawDuration.append(D[(D['gameID']== game) & (D['condition'] == 'further')]['drawDuration'].mean())\n",
    "    closer_drawDuration.append(D[(D['gameID']== game) & (D['condition'] == 'closer')]['drawDuration'].mean())\n",
    "    further_accuracy.append(D[(D['gameID']== game) & (D['condition'] == 'further')]['outcome'].mean())\n",
    "    closer_accuracy.append(D[(D['gameID']== game) & (D['condition'] == 'closer')]['outcome'].mean())\n",
    "    closer_meanintensity.append(D[(D['gameID']== game) & (D['condition'] == 'closer')]['mean_intensity'].mean())    \n",
    "    further_meanintensity.append(D[(D['gameID']== game) & (D['condition'] == 'further')]['mean_intensity'].mean())        \n",
    "    closer_viewerRT.append(D[(D['gameID']== game) & (D['condition'] == 'closer')]['viewerRT'].mean())    \n",
    "    further_viewerRT.append(D[(D['gameID']== game) & (D['condition'] == 'further')]['viewerRT'].mean())     \n",
    "    \n",
    "further_strokes, closer_strokes, further_svgLength, closer_svgLength, \\\n",
    "further_svgStd, closer_svgStd, further_svgLengthPS, closer_svgLengthPS, \\\n",
    "further_drawDuration, closer_drawDuration, further_accuracy, closer_accuracy, \\\n",
    "closer_meanintensity,further_meanintensity, closer_viewerRT, further_viewerRT = map(np.array, \\\n",
    "[further_strokes, closer_strokes, further_svgLength, closer_svgLength,\\\n",
    " further_svgStd, closer_svgStd, further_svgLengthPS, closer_svgLengthPS, \\\n",
    "further_drawDuration, closer_drawDuration, further_accuracy, closer_accuracy, \\\n",
    "closer_meanintensity, further_meanintensity, closer_viewerRT, further_viewerRT])"
   ]
  },
  {
   "cell_type": "code",
   "execution_count": null,
   "metadata": {
    "collapsed": false
   },
   "outputs": [],
   "source": []
  },
  {
   "cell_type": "code",
   "execution_count": 137,
   "metadata": {
    "collapsed": false
   },
   "outputs": [
    {
     "name": "stdout",
     "output_type": "stream",
     "text": [
      "condition\n",
      "closer     13.538306\n",
      "further     8.077285\n",
      "Name: numStrokes, dtype: float64\n",
      "condition\n",
      "closer     0.053560\n",
      "further    0.041718\n",
      "Name: mean_intensity, dtype: float64\n",
      "condition\n",
      "closer     30.647843\n",
      "further    13.873610\n",
      "Name: drawDuration, dtype: float64\n",
      "condition\n",
      "closer     0.879032\n",
      "further    0.996640\n",
      "Name: outcome, dtype: float64\n",
      "condition\n",
      "closer     8.320626\n",
      "further    6.319662\n",
      "Name: viewerRT, dtype: float64\n"
     ]
    }
   ],
   "source": [
    "def trim_outliers(x):\n",
    "    mu = np.mean(x)\n",
    "    sd = np.std(x)\n",
    "    thresh = mu + sd*3\n",
    "    y = [i for i in x if i<thresh]\n",
    "    return y\n",
    "\n",
    "def bootstrap(w,nIter=50000):\n",
    "    boot = []\n",
    "    for i in np.arange(nIter):\n",
    "        boot.append(np.mean(np.random.choice(w,len(w),replace=True)))\n",
    "    boot = np.array(boot) \n",
    "    p = sum(boot<0)/len(boot)*2\n",
    "    lb = np.percentile(boot,2.5)\n",
    "    ub = np.percentile(boot,97.5)\n",
    "    print 'p = ' + str(sum(boot<0)/len(boot)*2)\n",
    "    return boot, p, lb, ub\n",
    "\n",
    "print D.groupby('condition')['numStrokes'].mean()\n",
    "print D.groupby('condition')['mean_intensity'].mean()\n",
    "print D.groupby('condition')['drawDuration'].mean()\n",
    "print D.groupby('condition')['outcome'].mean()\n",
    "print D.groupby('condition')['viewerRT'].mean()"
   ]
  },
  {
   "cell_type": "code",
   "execution_count": 144,
   "metadata": {
    "collapsed": false
   },
   "outputs": [
    {
     "data": {
      "image/png": "[encoded data removed]",
      "text/plain": [
       "<matplotlib.figure.Figure at 0x121d80e10>"
      ]
     },
     "metadata": {},
     "output_type": "display_data"
    }
   ],
   "source": [
    "plt.figure(figsize=(12.5,4))\n",
    "plt.subplot(1,5,1)\n",
    "ax = sns.barplot(data=D,x='condition',y='numStrokes')\n",
    "plt.ylabel('num strokes')\n",
    "plt.subplot(1,5,2)\n",
    "sns.barplot(data=D,x='condition',y='mean_intensity')\n",
    "plt.ylabel('mean pixel intensity')\n",
    "plt.subplot(1,5,3)\n",
    "sns.barplot(data=D,x='condition',y='outcome')\n",
    "plt.ylabel('accuracy')\n",
    "plt.ylim([0,1.01])\n",
    "plt.subplot(1,5,4)\n",
    "sns.barplot(data=D,x='condition',y='drawDuration')\n",
    "plt.ylabel('draw duration (s)')\n",
    "plt.subplot(1,5,5)\n",
    "ax = sns.barplot(data=D,x='condition',y='viewerRT')\n",
    "plt.ylabel('viewer RT (s)')\n",
    "plt.ylim(0,10)\n",
    "plt.tight_layout()\n",
    "if not os.path.exists('./plots'):\n",
    "    os.makedirs('./plots')\n",
    "plt.savefig('./plots/sketchpad_basic_pilot2_taskperformance.pdf')"
   ]
  },
  {
   "cell_type": "code",
   "execution_count": null,
   "metadata": {
    "collapsed": false
   },
   "outputs": [],
   "source": []
  },
  {
   "cell_type": "code",
   "execution_count": 142,
   "metadata": {
    "collapsed": false
   },
   "outputs": [
    {
     "name": "stdout",
     "output_type": "stream",
     "text": [
      "p = 0.0\n",
      "0.0 3.73185483871 7.86290322581\n",
      "p = 0.0\n",
      "0.0 0.0100284206989 0.0136657476478\n",
      "p = 0.0\n",
      "0.0 14.8556641633 18.7255432124\n",
      "p = 0.0\n",
      "0.0 14.8861206485 18.7259741431\n",
      "p = 0.0\n",
      "0.0 1.25636213038 2.75421896841\n"
     ]
    }
   ],
   "source": [
    "## bootstrapped CI's on main task performance measures\n",
    "boot, p, lb, ub = bootstrap(closer_strokes - further_strokes)\n",
    "print p,lb,ub\n",
    "\n",
    "boot, p, lb, ub = bootstrap(closer_meanintensity - further_meanintensity)\n",
    "print p,lb,ub\n",
    "\n",
    "boot, p, lb, ub = bootstrap(closer_drawDuration - further_drawDuration)\n",
    "print p,lb,ub\n",
    "\n",
    "boot, p, lb, ub = bootstrap(closer_drawDuration - further_drawDuration)\n",
    "print p,lb,ub\n",
    "\n",
    "boot, p, lb, ub = bootstrap(closer_viewerRT - further_viewerRT)\n",
    "print p,lb,ub"
   ]
  },
  {
   "cell_type": "code",
   "execution_count": null,
   "metadata": {
    "collapsed": false
   },
   "outputs": [],
   "source": []
  },
  {
   "cell_type": "code",
   "execution_count": null,
   "metadata": {
    "collapsed": false
   },
   "outputs": [],
   "source": []
  },
  {
   "cell_type": "code",
   "execution_count": null,
   "metadata": {
    "collapsed": false
   },
   "outputs": [],
   "source": [
    "fig = plt.figure(figsize=(10,10))\n",
    "plt.subplot(2,2,1)\n",
    "lb = 0\n",
    "ub = 24\n",
    "plt.plot([lb,ub],[lb,ub],'k--')\n",
    "plt.scatter(closer_strokes,further_strokes,64,(0.8,0.4,0.4))\n",
    "plt.xlim([lb,ub])\n",
    "plt.ylim([lb,ub])\n",
    "plt.title('number of strokes')\n",
    "plt.xlabel('closer')\n",
    "plt.ylabel('further')\n",
    "plt.subplot(2,2,2)\n",
    "lb = 0\n",
    "ub = 3000\n",
    "plt.plot([lb,ub],[lb,ub],'k--')\n",
    "plt.scatter(closer_svgLength,further_svgLength,64,(0.8,0.4,0.4))\n",
    "plt.xlim([lb,ub])\n",
    "plt.ylim([lb,ub])\n",
    "plt.tight_layout()\n",
    "plt.title('svg string length')\n",
    "plt.xlabel('closer')\n",
    "plt.ylabel('further')\n",
    "plt.subplot(2,2,3)\n",
    "lb = 0\n",
    "ub = 300\n",
    "plt.plot([lb,ub],[lb,ub],'k--')\n",
    "plt.scatter(closer_svgStd,further_svgStd,64,(0.8,0.4,0.4))\n",
    "plt.xlim([lb,ub])\n",
    "plt.ylim([lb,ub])\n",
    "plt.title('stroke variability')\n",
    "plt.xlabel('closer')\n",
    "plt.ylabel('further')\n",
    "plt.subplot(2,2,4)\n",
    "lb = 0\n",
    "ub = 300\n",
    "plt.plot([lb,ub],[lb,ub],'k--')\n",
    "plt.scatter(closer_svgLengthPS,further_svgLengthPS,64,(0.8,0.4,0.4))\n",
    "plt.xlim([lb,ub])\n",
    "plt.ylim([lb,ub])\n",
    "plt.tight_layout()\n",
    "plt.title('svg length per stroke')\n",
    "plt.xlabel('closer')\n",
    "plt.ylabel('further')\n",
    "save_out = 1\n",
    "if not os.path.exists('plots'):\n",
    "    os.makedirs('plots')\n",
    "if save_out:\n",
    "    save('plots/svg_summary_scatter_{}'.format(iterationName), ext='pdf', close=False, verbose=True)"
   ]
  },
  {
   "cell_type": "code",
   "execution_count": null,
   "metadata": {
    "collapsed": false
   },
   "outputs": [],
   "source": [
    "fig = plt.figure(figsize=(8,4))\n",
    "lb = 0\n",
    "ub = 1.03\n",
    "plt.subplot(1,2,1)\n",
    "plt.plot([lb,ub],[lb,ub],'k--')\n",
    "plt.scatter(closer_accuracy,further_accuracy,64,(0.8,0.4,0.4))\n",
    "plt.xlim([lb,ub])\n",
    "plt.ylim([lb,ub])\n",
    "plt.title('accuracy')\n",
    "plt.xlabel('closer')\n",
    "plt.ylabel('further')\n",
    "plt.subplot(1,2,2)\n",
    "lb = 0\n",
    "ub = 36\n",
    "plt.plot([lb,ub],[lb,ub],'k--')\n",
    "plt.scatter(closer_drawDuration,further_drawDuration,64,(0.75,0.3,0.2))\n",
    "plt.xlim([lb,ub])\n",
    "plt.ylim([lb,ub])\n",
    "plt.title('draw duration')\n",
    "plt.xlabel('closer')\n",
    "plt.ylabel('further')\n",
    "plt.tight_layout()\n",
    "save_out = 1\n",
    "if save_out:\n",
    "    save('plots/performance_summary_scatter_{}'.format(iterationName), ext='pdf', close=False, verbose=True)"
   ]
  },
  {
   "cell_type": "code",
   "execution_count": null,
   "metadata": {
    "collapsed": false
   },
   "outputs": [],
   "source": [
    "def get_canonical(category):    \n",
    "    stimFile = os.path.join(exp_dir,'stimList_subord.js')\n",
    "    with open(stimFile) as f:\n",
    "        stimList = json.load(f)    \n",
    "    allviews = [i['filename'] for i in stimList if i['basic']==category]\n",
    "    canonical = [a for a in allviews if a[-8:]=='0035.png']    \n",
    "    return canonical\n",
    "\n",
    "def get_actual_pose(subordinate,pose):\n",
    "    stimFile = os.path.join(exp_dir,'stimList_subord.js')\n",
    "    with open(stimFile) as f:\n",
    "        stimList = json.load(f)\n",
    "    inpose = [i['filename'] for i in stimList if (i['subordinate']==subordinate) and (i['pose']==pose)]\n",
    "    return inpose\n",
    "    \n",
    "def get_subord_names(category):\n",
    "    full_names = get_canonical(category)    \n",
    "    return [c.split('_')[2] for c in full_names]\n",
    "\n",
    "def get_basic_names(subordinate):\n",
    "    stimFile = os.path.join(exp_dir,'stimList_subord.js')\n",
    "    with open(stimFile) as f:\n",
    "        stimList = json.load(f)   \n",
    "    allviews = [i['filename'] for i in stimList if i['subordinate']==subordinate]\n",
    "    canonical = [a for a in allviews if a[-8:]=='0035.png']      \n",
    "    return canonical[0].split('_')[0]\n",
    "\n",
    "def build_url_from_category(category):\n",
    "    full_names = get_canonical(category)\n",
    "    url_prefix = 'https://s3.amazonaws.com/sketchloop-images-subord/'\n",
    "    urls = []\n",
    "    for f in full_names:\n",
    "        urls.append(url_prefix + f)\n",
    "    return urls\n",
    "\n",
    "def build_url_from_filenames(filenames):\n",
    "    url_prefix = 'https://s3.amazonaws.com/sketchloop-images-subord/'\n",
    "    urls = []\n",
    "    for f in filenames:\n",
    "        urls.append(url_prefix + f)\n",
    "    return urls\n",
    "\n",
    "def plot_from_url(URL):\n",
    "    file = cStringIO.StringIO(urllib.urlopen(URL).read())\n",
    "    img = Image.open(file)    \n",
    "\n",
    "def plot_gallery(category):\n",
    "    import matplotlib.pyplot as plt\n",
    "    import matplotlib.gridspec as gridspec\n",
    "\n",
    "    plt.figure(figsize = (8,8))\n",
    "    gs1 = gridspec.GridSpec(8, 8)\n",
    "    gs1.update(wspace=0.025, hspace=0.05)\n",
    "\n",
    "    url_prefix = 'https://s3.amazonaws.com/sketchloop-images-subord/'\n",
    "    for (i,c) in enumerate(category):\n",
    "        URL = url_prefix + c\n",
    "        file = cStringIO.StringIO(urllib.urlopen(URL).read())\n",
    "        img = Image.open(file)\n",
    "        p = plt.subplot(3,3,i+1)\n",
    "        plt.imshow(img)\n",
    "        p.get_xaxis().set_ticklabels([])\n",
    "        p.get_yaxis().set_ticklabels([])\n",
    "        p.get_xaxis().set_ticks([])\n",
    "        p.get_yaxis().set_ticks([])\n",
    "        p.set_aspect('equal')\n",
    "        subord = c.split('_')[2]\n",
    "        plt.title(subord)\n",
    "    plt.tight_layout()\n",
    "    "
   ]
  },
  {
   "cell_type": "code",
   "execution_count": null,
   "metadata": {
    "collapsed": false
   },
   "outputs": [],
   "source": []
  },
  {
   "cell_type": "code",
   "execution_count": null,
   "metadata": {
    "collapsed": false
   },
   "outputs": [],
   "source": [
    "## print out sketches with target & distractors from this game\n",
    "import traceback\n",
    "backup_path_images = '/Users/judithfan/Dropbox/stimuli_repository/subordinate_allrotations_6_minified'\n",
    "\n",
    "_valid_gameids = valid_gameids[:3]\n",
    "\n",
    "## get list of all incorrect sketch path names\n",
    "incorrect_trial_paths = []\n",
    "\n",
    "run_this = 0\n",
    "if run_this:\n",
    "#     all_games = click_files\n",
    "    for g in valid_gameids:\n",
    "        print 'Printing out sketches from game: ' + g\n",
    "        _D = D[(D.gameID==g)]\n",
    "        _D = _D.sort_values(by=['target'])\n",
    "        _i = 1\n",
    "        textsize=12\n",
    "        fig = plt.figure(figsize=(16,6))        \n",
    "        for i,_d in _D.iterrows():\n",
    "            imgData = _d['png']\n",
    "            filestr = base64.b64decode(imgData)\n",
    "            target_sketch_dir = os.path.join(analysis_dir,'sketches_pilot2','sketch')\n",
    "            if not os.path.exists(target_sketch_dir):\n",
    "                os.makedirs(target_sketch_dir)\n",
    "            fname = os.path.join(target_sketch_dir,'gameID_' + _d['gameID'] + '_trial_' + str(_d['trialNum']) + '.png')\n",
    "            with open(fname, \"wb\") as fh:\n",
    "                fh.write(imgData.decode('base64'))\n",
    "            textsize = 16\n",
    "            # first plot the target\n",
    "            im = Image.open(fname)\n",
    "            p = plt.subplot(2,4,1)\n",
    "            plt.imshow(im)\n",
    "            sns.set_style('white')\n",
    "            k = p.get_xaxis().set_ticklabels([])\n",
    "            k = p.get_yaxis().set_ticklabels([])\n",
    "            k = p.get_xaxis().set_ticks([])\n",
    "            k = p.get_yaxis().set_ticks([])        \n",
    "            targetname = _d['target']\n",
    "            distractors = [_d['Distractor1'],_d['Distractor2'],_d['Distractor3']]\n",
    "            full_list = [_d['target'],_d['Distractor1'],_d['Distractor2'],_d['Distractor3']] \n",
    "            outcome = _d['outcome']\n",
    "            if _d['outcome']==0:\n",
    "                incorrect_trial_paths.append('gameID_' + _d['gameID'] + '_trial_' + str(_d['trialNum']) + '_' + _d['target'] + '.png')            \n",
    "                        \n",
    "            response = _d['response']        \n",
    "            if outcome == 1:\n",
    "                sides = ['bottom','top','right','left']\n",
    "                for s in sides:\n",
    "                    p.spines[s].set_color((0.4,0.8,0.4))\n",
    "                    p.spines[s].set_linewidth(4)                               \n",
    "            else:\n",
    "                sides = ['bottom','top','right','left']\n",
    "                for s in sides:\n",
    "                    p.spines[s].set_color((0.9,0.2,0.2))\n",
    "                    p.spines[s].set_linewidth(4)                      \n",
    "            plt.title(targetname,fontsize=textsize)\n",
    "            plt.ylabel('v:' + response,fontsize=textsize-2)        \n",
    "        \n",
    "            # fig = plt.figure(figsize=(8,3))\n",
    "            for (i,d) in enumerate(full_list):\n",
    "                if os.path.exists(backup_path_images):\n",
    "                    if hasattr(t, 'pose'):\n",
    "                        fn = os.path.join(backup_path_images,get_actual_pose(d,pose)[0])\n",
    "                    else:\n",
    "                        fn = os.path.join(backup_path_images,get_actual_pose(d,35)[0])\n",
    "                else:\n",
    "                    if hasattr(t, 'pose'):\n",
    "                        pose = t['pose']\n",
    "                        URL = build_url_from_filenames(get_actual_pose(d,pose)[0])\n",
    "                    else:\n",
    "                        URL = full_dict[d]\n",
    "                    fn = cStringIO.StringIO(urllib.urlopen(URL).read())\n",
    "                img = Image.open(fn)\n",
    "                p = plt.subplot(2,4,i+5)\n",
    "                plt.imshow(img)\n",
    "                p.get_xaxis().set_ticklabels([])\n",
    "                p.get_yaxis().set_ticklabels([])\n",
    "                p.get_xaxis().set_ticks([])\n",
    "                p.get_yaxis().set_ticks([])\n",
    "                p.set_aspect('equal')   \n",
    "                plt.title(d)\n",
    "\n",
    "            sketch_dir = os.path.join(analysis_dir,'sketches_pilot2','full_display')\n",
    "            if not os.path.exists(sketch_dir):\n",
    "                os.makedirs(os.path.join(analysis_dir,'sketches_pilot2','full_display'))\n",
    "            filepath = os.path.join(sketch_dir,'gameID_' + _d['gameID'] + '_trial_' + str(_d['trialNum']))\n",
    "            save(filepath, ext='png', close=True, verbose=False)"
   ]
  },
  {
   "cell_type": "code",
   "execution_count": null,
   "metadata": {
    "collapsed": false
   },
   "outputs": [],
   "source": [
    "## save out number of incorrect trial paths\n",
    "print \"Number of incorrect trial paths: {}\".format(str(len(incorrect_trial_paths)))\n",
    "with open('incorrect_trial_paths_pilot2.txt', 'w') as f:\n",
    "    for path in incorrect_trial_paths:\n",
    "        f.write(path + '\\n')"
   ]
  },
  {
   "cell_type": "code",
   "execution_count": null,
   "metadata": {
    "collapsed": false
   },
   "outputs": [],
   "source": []
  },
  {
   "cell_type": "markdown",
   "metadata": {},
   "source": [
    "### Print out sketches in separate folders"
   ]
  },
  {
   "cell_type": "code",
   "execution_count": null,
   "metadata": {
    "collapsed": false
   },
   "outputs": [],
   "source": []
  },
  {
   "cell_type": "code",
   "execution_count": null,
   "metadata": {
    "collapsed": false
   },
   "outputs": [],
   "source": [
    "## print out sketches with target & distractors from this game in separate folders\n",
    "import traceback\n",
    "backup_path_images = '/Users/judithfan/Dropbox/stimuli_repository/subordinate_allrotations_6_minified'\n",
    "\n",
    "_valid_gameids = valid_gameids[:3]\n",
    "\n",
    "target_sketch_dir = os.path.join(analysis_dir,'sketches_pilot2','sketch')\n",
    "target_3D_dir = os.path.join(analysis_dir,'sketches_pilot2','target')\n",
    "distractor1_3D_dir = os.path.join(analysis_dir,'sketches_pilot2','distractor1')\n",
    "distractor2_3D_dir = os.path.join(analysis_dir,'sketches_pilot2','distractor2')\n",
    "distractor3_3D_dir = os.path.join(analysis_dir,'sketches_pilot2','distractor3')\n",
    "out_paths = [target_3D_dir,distractor1_3D_dir,distractor2_3D_dir,distractor3_3D_dir]\n",
    "\n",
    "\n",
    "if not os.path.exists(target_3D_dir):\n",
    "    os.makedirs(os.path.join(analysis_dir,'sketches_pilot2','target'))\n",
    "    os.makedirs(os.path.join(analysis_dir,'sketches_pilot2','distractor1'))\n",
    "    os.makedirs(os.path.join(analysis_dir,'sketches_pilot2','distractor2'))\n",
    "    os.makedirs(os.path.join(analysis_dir,'sketches_pilot2','distractor3'))\n",
    "    os.makedirs(os.path.join(analysis_dir,'sketches_pilot2','sketch'))    \n",
    "\n",
    "run_this = 1\n",
    "if run_this:\n",
    "    for g in valid_gameids:\n",
    "        print 'Printing out sketches from game: ' + g\n",
    "        _D = D[(D.gameID==g)]\n",
    "        _D = _D.sort_values(by=['target'])\n",
    "        _i = 1\n",
    "        textsize=12\n",
    "        fig = plt.figure(figsize=(16,6))        \n",
    "        for i,_d in _D.iterrows():\n",
    "            imgData = _d['png']\n",
    "            filestr = base64.b64decode(imgData)\n",
    "            if not os.path.exists(target_sketch_dir):\n",
    "                os.makedirs(target_sketch_dir)\n",
    "            fname = os.path.join(target_sketch_dir,'gameID_' + _d['gameID'] + '_trial_' + str(_d['trialNum']) + '.png')\n",
    "            with open(fname, \"wb\") as fh:\n",
    "                fh.write(imgData.decode('base64'))\n",
    "            im = Image.open(fname)\n",
    "            im.save(fname)\n",
    "\n",
    "            targetname = _d['target']\n",
    "            distractors = [_d['Distractor1'],_d['Distractor2'],_d['Distractor3']]\n",
    "            full_list = [_d['target'],_d['Distractor1'],_d['Distractor2'],_d['Distractor3']]         \n",
    "            \n",
    "            for (i,d) in enumerate(full_list):\n",
    "                if os.path.exists(backup_path_images):\n",
    "                    if hasattr(t, 'pose'):\n",
    "                        fn = os.path.join(backup_path_images,get_actual_pose(d,pose)[0])\n",
    "                    else:\n",
    "                        fn = os.path.join(backup_path_images,get_actual_pose(d,35)[0])\n",
    "                else:\n",
    "                    if hasattr(t, 'pose'):\n",
    "                        pose = _d['pose']\n",
    "                        URL = build_url_from_filenames(get_actual_pose(d,pose)[0])\n",
    "                    else:\n",
    "                        URL = full_dict[d]\n",
    "                    fn = cStringIO.StringIO(urllib.urlopen(URL).read())\n",
    "                fig = plt.figure(figsize=(8,8))                    \n",
    "                im = Image.open(fn)\n",
    "                im = im.resize((256,256), Image.ANTIALIAS).convert('RGB')                                \n",
    "                out_dirs = [target_3D_dir,distractor1_3D_dir,distractor2_3D_dir,distractor3_3D_dir]                \n",
    "                out_path = os.path.join(out_dirs[i],'gameID_' + _d['gameID'] + '_trial_' + str(_d['trialNum']) + '_' + d + '.png')\n",
    "                im.save(out_path)\n",
    "\n"
   ]
  },
  {
   "cell_type": "code",
   "execution_count": null,
   "metadata": {
    "collapsed": false
   },
   "outputs": [],
   "source": []
  },
  {
   "cell_type": "code",
   "execution_count": 95,
   "metadata": {
    "collapsed": false
   },
   "outputs": [
    {
     "data": {
      "text/plain": [
       "array(['gameID_7004-6ff0964c-ff95-40f9-8696-d6a8931c94d5_trial_3_bluesport.png',\n",
       "       'gameID_7004-6ff0964c-ff95-40f9-8696-d6a8931c94d5_trial_5_pug.png',\n",
       "       'gameID_7004-6ff0964c-ff95-40f9-8696-d6a8931c94d5_trial_6_weimaraner.png',\n",
       "       'gameID_8690-8b4e0b59-f3f2-4e43-b4a0-66caff2a72e4_trial_13_beetle.png',\n",
       "       'gameID_8690-8b4e0b59-f3f2-4e43-b4a0-66caff2a72e4_trial_17_robin.png',\n",
       "       'gameID_8690-8b4e0b59-f3f2-4e43-b4a0-66caff2a72e4_trial_7_sparrow.png',\n",
       "       'gameID_3230-d1aa5a54-b0ce-4d0d-be06-e49efb324a4b_trial_8_bluesport.png',\n",
       "       'gameID_3230-d1aa5a54-b0ce-4d0d-be06-e49efb324a4b_trial_20_nightingale.png',\n",
       "       'gameID_3230-d1aa5a54-b0ce-4d0d-be06-e49efb324a4b_trial_31_white.png',\n",
       "       'gameID_6786-9c3169eb-962e-468b-8922-b99247975eb2_trial_24_bullmastiff.png',\n",
       "       'gameID_4099-cfa19d59-4f8b-4d34-bd3f-23a1e8c79e67_trial_13_bluesedan.png',\n",
       "       'gameID_4099-cfa19d59-4f8b-4d34-bd3f-23a1e8c79e67_trial_5_sparrow.png',\n",
       "       'gameID_9229-923201c3-dd68-4362-8eec-77cb88a647c4_trial_3_hatchback.png',\n",
       "       'gameID_5331-d3bd334d-3d8c-400e-b3b2-44cd69623cb7_trial_11_bullmastiff.png',\n",
       "       'gameID_5331-d3bd334d-3d8c-400e-b3b2-44cd69623cb7_trial_29_chihuahua.png',\n",
       "       'gameID_5331-d3bd334d-3d8c-400e-b3b2-44cd69623cb7_trial_9_redsport.png',\n",
       "       'gameID_2323-a9c585ff-0096-4f9c-8be4-e202993c654f_trial_24_pug.png',\n",
       "       'gameID_6592-d354ecd6-f421-4200-98e1-8d7c0ee48a43_trial_24_leather.png',\n",
       "       'gameID_6592-d354ecd6-f421-4200-98e1-8d7c0ee48a43_trial_22_redsport.png',\n",
       "       'gameID_9903-d6e6a9ff-a878-4bee-b2d5-26e2e239460a_trial_1_bluesport.png',\n",
       "       'gameID_9903-d6e6a9ff-a878-4bee-b2d5-26e2e239460a_trial_2_bullmastiff.png',\n",
       "       'gameID_9903-d6e6a9ff-a878-4bee-b2d5-26e2e239460a_trial_28_chihuahua.png',\n",
       "       'gameID_9903-d6e6a9ff-a878-4bee-b2d5-26e2e239460a_trial_27_sling.png',\n",
       "       'gameID_5412-7dc95fb9-5b93-4d9a-bf13-7d349722b687_trial_11_redsport.png',\n",
       "       'gameID_5412-7dc95fb9-5b93-4d9a-bf13-7d349722b687_trial_31_weimaraner.png',\n",
       "       'gameID_5650-cb4a9e85-a383-43f6-83e6-331e286811d1_trial_1_goldenretriever.png',\n",
       "       'gameID_0225-fd115f45-542e-4c76-9672-54e60295fc00_trial_9_bloodhound.png',\n",
       "       'gameID_0225-fd115f45-542e-4c76-9672-54e60295fc00_trial_5_bluesedan.png',\n",
       "       'gameID_0225-fd115f45-542e-4c76-9672-54e60295fc00_trial_16_bluesport.png',\n",
       "       'gameID_0225-fd115f45-542e-4c76-9672-54e60295fc00_trial_18_brown.png',\n",
       "       'gameID_0225-fd115f45-542e-4c76-9672-54e60295fc00_trial_4_crow.png',\n",
       "       'gameID_0225-fd115f45-542e-4c76-9672-54e60295fc00_trial_24_weimaraner.png',\n",
       "       'gameID_1752-fba5d4af-f103-4e3a-b100-d479bb0a2d11_trial_1_bluesport.png',\n",
       "       'gameID_6373-a60ef7ba-4340-4fc3-b549-bf974318f61d_trial_18_bloodhound.png',\n",
       "       'gameID_6373-a60ef7ba-4340-4fc3-b549-bf974318f61d_trial_17_brown.png',\n",
       "       'gameID_9451-6c7f6084-1fb9-47c6-a7c2-36a20f2951c5_trial_4_bluesport.png',\n",
       "       'gameID_9451-6c7f6084-1fb9-47c6-a7c2-36a20f2951c5_trial_7_brown.png',\n",
       "       'gameID_9451-6c7f6084-1fb9-47c6-a7c2-36a20f2951c5_trial_10_nightingale.png',\n",
       "       'gameID_9451-6c7f6084-1fb9-47c6-a7c2-36a20f2951c5_trial_1_weimaraner.png',\n",
       "       'gameID_1970-1377644d-0742-4343-ae91-737a5b0fbd1f_trial_15_chihuahua.png',\n",
       "       'gameID_4409-c993cc06-d675-4acb-881f-b5377cf24d71_trial_24_pug.png',\n",
       "       'gameID_8196-ad38e7de-f882-4af8-8645-0934a9585321_trial_20_bluesedan.png',\n",
       "       'gameID_8196-ad38e7de-f882-4af8-8645-0934a9585321_trial_22_redsport.png',\n",
       "       'gameID_8196-ad38e7de-f882-4af8-8645-0934a9585321_trial_1_sparrow.png',\n",
       "       'gameID_0927-5d6c38c2-51c0-44b7-a26e-28ff79b4f377_trial_25_nightingale.png',\n",
       "       'gameID_0927-5d6c38c2-51c0-44b7-a26e-28ff79b4f377_trial_7_pigeon.png',\n",
       "       'gameID_7567-ce474df0-a84b-46aa-b23d-c238f8234641_trial_12_crow.png',\n",
       "       'gameID_7567-ce474df0-a84b-46aa-b23d-c238f8234641_trial_15_sparrow.png',\n",
       "       'gameID_8297-39d66207-4fb6-430c-8e2b-4f95213b6a55_trial_1_redsport.png',\n",
       "       'gameID_6097-bd18a2a0-7f23-4304-890f-cb44cf334fe4_trial_15_robin.png',\n",
       "       'gameID_6097-bd18a2a0-7f23-4304-890f-cb44cf334fe4_trial_20_weimaraner.png',\n",
       "       'gameID_6097-bd18a2a0-7f23-4304-890f-cb44cf334fe4_trial_7_white.png',\n",
       "       'gameID_4471-2bd3bf63-be9f-4c2b-8cf2-a27d10269baa_trial_20_bloodhound.png',\n",
       "       'gameID_4471-2bd3bf63-be9f-4c2b-8cf2-a27d10269baa_trial_32_bluesedan.png',\n",
       "       'gameID_4471-2bd3bf63-be9f-4c2b-8cf2-a27d10269baa_trial_27_crow.png',\n",
       "       'gameID_4471-2bd3bf63-be9f-4c2b-8cf2-a27d10269baa_trial_29_goldenretriever.png',\n",
       "       'gameID_4471-2bd3bf63-be9f-4c2b-8cf2-a27d10269baa_trial_18_weimaraner.png',\n",
       "       'gameID_3897-71f63429-f74c-42ea-a48e-f21b736affde_trial_12_beetle.png',\n",
       "       'gameID_3897-71f63429-f74c-42ea-a48e-f21b736affde_trial_26_white.png',\n",
       "       'gameID_1610-56ada1db-89be-40bc-a0f2-61e9769b6987_trial_24_bluesedan.png',\n",
       "       'gameID_1610-56ada1db-89be-40bc-a0f2-61e9769b6987_trial_15_bullmastiff.png',\n",
       "       'gameID_9488-b896538b-6d64-46b2-b5ff-a4509fb4d9a0_trial_25_squat.png',\n",
       "       'gameID_9488-b896538b-6d64-46b2-b5ff-a4509fb4d9a0_trial_7_woven.png',\n",
       "       'gameID_8033-46b51efe-5b34-4a26-a7f0-a5d08708618a_trial_29_brown.png',\n",
       "       'gameID_8033-46b51efe-5b34-4a26-a7f0-a5d08708618a_trial_27_robin.png',\n",
       "       'gameID_8033-46b51efe-5b34-4a26-a7f0-a5d08708618a_trial_16_weimaraner.png',\n",
       "       'gameID_7584-c7bb6a5e-cd82-45fc-823a-ada7595a25c5_trial_27_redsport.png',\n",
       "       'gameID_7584-c7bb6a5e-cd82-45fc-823a-ada7595a25c5_trial_21_white.png',\n",
       "       'gameID_8621-ca1f4a87-da08-43dd-96fb-948482e4d94c_trial_22_beetle.png',\n",
       "       'gameID_8621-ca1f4a87-da08-43dd-96fb-948482e4d94c_trial_10_cuckoo.png',\n",
       "       'gameID_8621-ca1f4a87-da08-43dd-96fb-948482e4d94c_trial_18_sparrow.png',\n",
       "       'gameID_8621-ca1f4a87-da08-43dd-96fb-948482e4d94c_trial_23_weimaraner.png',\n",
       "       'gameID_2121-a3dd33f4-82fc-4913-991c-1d372f6923f0_trial_7_bluesport.png',\n",
       "       'gameID_7285-f99d9991-de84-43cc-b359-e9de387ab0b5_trial_21_bullmastiff.png',\n",
       "       'gameID_1682-6ebee481-ec2e-4624-a5d2-2e74803e940d_trial_4_bloodhound.png',\n",
       "       'gameID_3444-a337b178-b097-4a79-bbf3-e7e2225bac12_trial_28_basset.png',\n",
       "       'gameID_3444-a337b178-b097-4a79-bbf3-e7e2225bac12_trial_8_bluesedan.png',\n",
       "       'gameID_3444-a337b178-b097-4a79-bbf3-e7e2225bac12_trial_19_redsport.png',\n",
       "       'gameID_3572-0843efc9-9dec-40f1-879f-2a61d8a3622d_trial_24_bloodhound.png',\n",
       "       'gameID_3572-0843efc9-9dec-40f1-879f-2a61d8a3622d_trial_4_bluesedan.png',\n",
       "       'gameID_3572-0843efc9-9dec-40f1-879f-2a61d8a3622d_trial_5_brown.png',\n",
       "       'gameID_3572-0843efc9-9dec-40f1-879f-2a61d8a3622d_trial_2_bullmastiff.png',\n",
       "       'gameID_0075-ad14e50c-f328-451b-82b0-2a7d3b392127_trial_29_bluesport.png',\n",
       "       'gameID_0075-ad14e50c-f328-451b-82b0-2a7d3b392127_trial_18_brown.png',\n",
       "       'gameID_0075-ad14e50c-f328-451b-82b0-2a7d3b392127_trial_2_knob.png',\n",
       "       'gameID_1227-b0df7616-c762-4bb6-8c0e-fcb7cf68ddba_trial_21_bloodhound.png',\n",
       "       'gameID_1227-b0df7616-c762-4bb6-8c0e-fcb7cf68ddba_trial_10_robin.png',\n",
       "       'gameID_1227-b0df7616-c762-4bb6-8c0e-fcb7cf68ddba_trial_3_sparrow.png',\n",
       "       'gameID_1227-b0df7616-c762-4bb6-8c0e-fcb7cf68ddba_trial_2_tomtit.png',\n",
       "       'gameID_4546-1d43f895-aec3-43e5-83dd-8069d67a2b47_trial_27_bloodhound.png',\n",
       "       'gameID_4546-1d43f895-aec3-43e5-83dd-8069d67a2b47_trial_20_goldenretriever.png',\n",
       "       'gameID_4546-1d43f895-aec3-43e5-83dd-8069d67a2b47_trial_30_inlay.png',\n",
       "       'gameID_4546-1d43f895-aec3-43e5-83dd-8069d67a2b47_trial_17_nightingale.png',\n",
       "       'gameID_4546-1d43f895-aec3-43e5-83dd-8069d67a2b47_trial_11_sparrow.png',\n",
       "       'gameID_5325-5c1c06e3-3674-4ae6-add2-d188a9a7c4b5_trial_6_chihuahua.png',\n",
       "       'gameID_8901-cec404f6-c1b9-458f-8ab5-3fac34c1563f_trial_3_chihuahua.png',\n",
       "       'gameID_6698-4fc0cc09-7c7a-4adf-95d7-af88c375d43a_trial_3_bluesedan.png',\n",
       "       'gameID_6698-4fc0cc09-7c7a-4adf-95d7-af88c375d43a_trial_8_goldenretriever.png',\n",
       "       'gameID_0647-bfcd78e5-085c-4631-a47c-0f3dadf71345_trial_15_bloodhound.png',\n",
       "       'gameID_1695-dcc9fa2e-386a-42cc-a4cb-fbb1a309c5d9_trial_17_nightingale.png',\n",
       "       'gameID_1695-dcc9fa2e-386a-42cc-a4cb-fbb1a309c5d9_trial_7_robin.png',\n",
       "       'gameID_2829-820b338d-5720-4964-bd22-8ba38329569d_trial_28_brown.png',\n",
       "       'gameID_2829-820b338d-5720-4964-bd22-8ba38329569d_trial_27_redsport.png',\n",
       "       'gameID_2829-820b338d-5720-4964-bd22-8ba38329569d_trial_23_sling.png',\n",
       "       'gameID_2829-820b338d-5720-4964-bd22-8ba38329569d_trial_29_sparrow.png',\n",
       "       'gameID_2829-820b338d-5720-4964-bd22-8ba38329569d_trial_24_straight.png',\n",
       "       'gameID_6500-391008be-12c2-4a97-a943-7bf13a56bbb7_trial_16_bloodhound.png',\n",
       "       'gameID_6500-391008be-12c2-4a97-a943-7bf13a56bbb7_trial_12_weimaraner.png',\n",
       "       'gameID_2475-56c56a85-8926-4355-b02d-9fe236623033_trial_9_knob.png',\n",
       "       'gameID_2475-56c56a85-8926-4355-b02d-9fe236623033_trial_20_leather.png',\n",
       "       'gameID_2475-56c56a85-8926-4355-b02d-9fe236623033_trial_12_squat.png',\n",
       "       'gameID_5707-49e9e7c8-5fe1-4469-9905-4ba89ccde7dd_trial_14_bloodhound.png',\n",
       "       'gameID_5707-49e9e7c8-5fe1-4469-9905-4ba89ccde7dd_trial_31_bluejay.png',\n",
       "       'gameID_5707-49e9e7c8-5fe1-4469-9905-4ba89ccde7dd_trial_7_robin.png',\n",
       "       'gameID_5707-49e9e7c8-5fe1-4469-9905-4ba89ccde7dd_trial_16_sparrow.png',\n",
       "       'gameID_5401-eaf89cb8-eaee-4824-949a-f6a80bd05fc3_trial_3_chihuahua.png',\n",
       "       'gameID_5401-eaf89cb8-eaee-4824-949a-f6a80bd05fc3_trial_20_redantique.png',\n",
       "       'gameID_5401-eaf89cb8-eaee-4824-949a-f6a80bd05fc3_trial_15_weimaraner.png',\n",
       "       'gameID_5401-eaf89cb8-eaee-4824-949a-f6a80bd05fc3_trial_24_white.png',\n",
       "       'gameID_4922-1aed9a2a-2e30-4032-9087-500ec1c2d3aa_trial_19_bloodhound.png',\n",
       "       'gameID_4922-1aed9a2a-2e30-4032-9087-500ec1c2d3aa_trial_23_pug.png',\n",
       "       'gameID_4922-1aed9a2a-2e30-4032-9087-500ec1c2d3aa_trial_28_tomtit.png',\n",
       "       'gameID_4922-1aed9a2a-2e30-4032-9087-500ec1c2d3aa_trial_17_weimaraner.png',\n",
       "       'gameID_2111-7c2c9b7b-6c0b-43e7-b3a9-c9edf26da2a1_trial_17_sling.png',\n",
       "       'gameID_4613-4fa2802d-8f43-4ffd-9a0a-9d29240651d1_trial_7_weimaraner.png',\n",
       "       'gameID_4613-4fa2802d-8f43-4ffd-9a0a-9d29240651d1_trial_14_white.png',\n",
       "       'gameID_3113-105e6653-7fd1-4451-af00-46bb3145880a_trial_4_weimaraner.png',\n",
       "       'gameID_5595-a00b8109-1910-43c4-9f14-00eb4945ac70_trial_14_white.png',\n",
       "       'gameID_6486-e7055f99-5fec-4fb7-a7fd-7ebf49ba594f_trial_4_goldenretriever.png',\n",
       "       'gameID_0773-7fd737ec-3498-4e32-b097-7d7f0b9a0af8_trial_25_brown.png',\n",
       "       'gameID_0773-7fd737ec-3498-4e32-b097-7d7f0b9a0af8_trial_8_chihuahua.png',\n",
       "       'gameID_0773-7fd737ec-3498-4e32-b097-7d7f0b9a0af8_trial_31_nightingale.png',\n",
       "       'gameID_0773-7fd737ec-3498-4e32-b097-7d7f0b9a0af8_trial_30_redsport.png',\n",
       "       'gameID_0773-7fd737ec-3498-4e32-b097-7d7f0b9a0af8_trial_32_weimaraner.png',\n",
       "       'gameID_0303-238b7c04-aff2-417c-b7ab-895bcb3d54b9_trial_7_nightingale.png',\n",
       "       'gameID_0303-238b7c04-aff2-417c-b7ab-895bcb3d54b9_trial_2_white.png',\n",
       "       'gameID_5148-2dd2d418-6ff6-40f1-ac59-e201d15bc528_trial_10_redsport.png',\n",
       "       'gameID_5148-2dd2d418-6ff6-40f1-ac59-e201d15bc528_trial_25_robin.png',\n",
       "       'gameID_5148-2dd2d418-6ff6-40f1-ac59-e201d15bc528_trial_2_sparrow.png',\n",
       "       'gameID_9699-54dcccb8-23c7-45a9-8a18-f3a9ac597eb6_trial_26_beetle.png',\n",
       "       'gameID_9699-54dcccb8-23c7-45a9-8a18-f3a9ac597eb6_trial_23_bluejay.png',\n",
       "       'gameID_9699-54dcccb8-23c7-45a9-8a18-f3a9ac597eb6_trial_30_goldenretriever.png',\n",
       "       'gameID_9699-54dcccb8-23c7-45a9-8a18-f3a9ac597eb6_trial_1_pug.png',\n",
       "       'gameID_9699-54dcccb8-23c7-45a9-8a18-f3a9ac597eb6_trial_27_redsport.png',\n",
       "       'gameID_9699-54dcccb8-23c7-45a9-8a18-f3a9ac597eb6_trial_12_tomtit.png',\n",
       "       'gameID_9699-54dcccb8-23c7-45a9-8a18-f3a9ac597eb6_trial_13_waiting.png',\n",
       "       'gameID_9699-54dcccb8-23c7-45a9-8a18-f3a9ac597eb6_trial_6_weimaraner.png',\n",
       "       'gameID_2107-760dc7ba-9d69-4d14-89ce-16d8e4ed049d_trial_16_chihuahua.png',\n",
       "       'gameID_1649-32db6539-aa0f-4f13-85ad-e1082911fc9f_trial_1_beetle.png',\n",
       "       'gameID_1649-32db6539-aa0f-4f13-85ad-e1082911fc9f_trial_27_bluesedan.png',\n",
       "       'gameID_1649-32db6539-aa0f-4f13-85ad-e1082911fc9f_trial_9_doberman.png',\n",
       "       'gameID_1649-32db6539-aa0f-4f13-85ad-e1082911fc9f_trial_11_goldenretriever.png',\n",
       "       'gameID_1649-32db6539-aa0f-4f13-85ad-e1082911fc9f_trial_32_nightingale.png',\n",
       "       'gameID_8844-b38e583e-3f9a-4f4e-baa2-1ad91742f7d4_trial_16_bluejay.png',\n",
       "       'gameID_8844-b38e583e-3f9a-4f4e-baa2-1ad91742f7d4_trial_3_bluesport.png',\n",
       "       'gameID_8844-b38e583e-3f9a-4f4e-baa2-1ad91742f7d4_trial_10_chihuahua.png',\n",
       "       'gameID_2769-b075d070-88e5-47fe-b275-c49134b19ceb_trial_12_bloodhound.png',\n",
       "       'gameID_2769-b075d070-88e5-47fe-b275-c49134b19ceb_trial_19_bullmastiff.png',\n",
       "       'gameID_7639-4967af0b-721a-46b1-a2ca-3010355ac1f0_trial_21_bloodhound.png',\n",
       "       'gameID_7639-4967af0b-721a-46b1-a2ca-3010355ac1f0_trial_26_crow.png',\n",
       "       'gameID_7639-4967af0b-721a-46b1-a2ca-3010355ac1f0_trial_14_cuckoo.png',\n",
       "       'gameID_7639-4967af0b-721a-46b1-a2ca-3010355ac1f0_trial_2_weimaraner.png',\n",
       "       'gameID_3485-477008c1-e529-4ad0-a62b-df33c782a5e3_trial_14_chihuahua.png',\n",
       "       'gameID_6444-67a3b4d4-43a4-41bb-a9cf-e8739fbe8802_trial_13_brown.png',\n",
       "       'gameID_6444-67a3b4d4-43a4-41bb-a9cf-e8739fbe8802_trial_1_hatchback.png',\n",
       "       'gameID_6444-67a3b4d4-43a4-41bb-a9cf-e8739fbe8802_trial_18_sparrow.png',\n",
       "       'gameID_8484-f49ea84f-5e54-4a64-b793-bed95e9aa1fd_trial_32_bluesedan.png',\n",
       "       'gameID_8484-f49ea84f-5e54-4a64-b793-bed95e9aa1fd_trial_4_sparrow.png',\n",
       "       'gameID_0834-74e58d84-5f2f-4ffd-8df3-e32076ea5aa1_trial_28_bloodhound.png',\n",
       "       'gameID_5994-c7c61529-a835-4433-9c73-f628a189f385_trial_31_bloodhound.png',\n",
       "       'gameID_5994-c7c61529-a835-4433-9c73-f628a189f385_trial_4_bluejay.png',\n",
       "       'gameID_5994-c7c61529-a835-4433-9c73-f628a189f385_trial_26_chihuahua.png',\n",
       "       'gameID_5994-c7c61529-a835-4433-9c73-f628a189f385_trial_2_sparrow.png',\n",
       "       'gameID_5994-c7c61529-a835-4433-9c73-f628a189f385_trial_6_weimaraner.png',\n",
       "       'gameID_7823-f830a2ad-96de-4d1f-a926-5b44d0a625aa_trial_20_beetle.png',\n",
       "       'gameID_7823-f830a2ad-96de-4d1f-a926-5b44d0a625aa_trial_23_bloodhound.png',\n",
       "       'gameID_7823-f830a2ad-96de-4d1f-a926-5b44d0a625aa_trial_11_bluesport.png',\n",
       "       'gameID_7823-f830a2ad-96de-4d1f-a926-5b44d0a625aa_trial_10_crow.png',\n",
       "       'gameID_7823-f830a2ad-96de-4d1f-a926-5b44d0a625aa_trial_6_redantique.png',\n",
       "       'gameID_7823-f830a2ad-96de-4d1f-a926-5b44d0a625aa_trial_16_robin.png',\n",
       "       'gameID_7823-f830a2ad-96de-4d1f-a926-5b44d0a625aa_trial_2_weimaraner.png',\n",
       "       'gameID_1783-0c833753-f18a-428d-9d3a-2e37d06f04e6_trial_16_pigeon.png',\n",
       "       'gameID_1783-0c833753-f18a-428d-9d3a-2e37d06f04e6_trial_21_pug.png',\n",
       "       'gameID_7106-d5bbcf75-2894-4656-b1bd-19e73abf8a17_trial_11_doberman.png',\n",
       "       'gameID_7311-9dac6fad-97de-467c-932a-e02645c5c647_trial_4_beetle.png',\n",
       "       'gameID_7311-9dac6fad-97de-467c-932a-e02645c5c647_trial_14_bullmastiff.png',\n",
       "       'gameID_1697-7ab5b295-fae8-4f62-8cbd-72aa0e23b10e_trial_11_bullmastiff.png',\n",
       "       'gameID_1697-7ab5b295-fae8-4f62-8cbd-72aa0e23b10e_trial_30_redsport.png',\n",
       "       'gameID_1697-7ab5b295-fae8-4f62-8cbd-72aa0e23b10e_trial_5_squat.png',\n",
       "       'gameID_0152-6051cc20-5fbc-43f5-8ca3-08711b390cfc_trial_30_bloodhound.png',\n",
       "       'gameID_0152-6051cc20-5fbc-43f5-8ca3-08711b390cfc_trial_2_bullmastiff.png',\n",
       "       'gameID_4609-852cfd4d-44d8-42fc-9c7c-8460ce918f16_trial_5_bullmastiff.png',\n",
       "       'gameID_1233-33433bd3-d72b-4c2a-9ed0-3e83a80f8e94_trial_30_bluesedan.png',\n",
       "       'gameID_9877-e1c91119-da46-40fa-82fe-17405ca56a3b_trial_12_weimaraner.png'], dtype=object)"
      ]
     },
     "execution_count": 95,
     "metadata": {},
     "output_type": "execute_result"
    }
   ],
   "source": []
  },
  {
   "cell_type": "markdown",
   "metadata": {},
   "source": [
    "## Load in data again to prep for model comparison"
   ]
  },
  {
   "cell_type": "code",
   "execution_count": 97,
   "metadata": {
    "collapsed": false
   },
   "outputs": [
    {
     "name": "stdout",
     "output_type": "stream",
     "text": [
      "(2682, 23)\n",
      "2682 records in merged dataframe\n",
      "194 incorrect trials\n",
      "132 invalid trials\n"
     ]
    }
   ],
   "source": [
    "D = pd.read_csv(os.path.join(analysis_dir,'sketchpad_basic_pilot2_group_data.csv'))\n",
    "DUNFIL = pd.read_csv(os.path.join(analysis_dir,'sketchpad_basic_pilot2_group_data_unfiltered.csv'))\n",
    "\n",
    "# filter out incorrect and invalid trials as well\n",
    "incorrects = pd.read_csv('./incorrect_trial_paths_pilot2.txt',header=None)[0].values\n",
    "invalids = pd.read_csv('./invalid_trial_paths_pilot2.txt',header=None)[0].values\n",
    "\n",
    "def add_fnames(D):\n",
    "    fname = []\n",
    "    for i,_d in D.iterrows():\n",
    "        fname.append('gameID_' + _d['gameID'] + '_trial_' + str(_d['trialNum']) + '_' + _d['target'] +'.png')    \n",
    "    D = D.assign(fname=pd.Series(fname).values)  \n",
    "\n",
    "    fname_no_target = []\n",
    "    for i,_d in D.iterrows():\n",
    "        fname_no_target.append('gameID_' + _d['gameID'] + '_trial_' + str(_d['trialNum']) +'.png')    \n",
    "    D = D.assign(fname_no_target=pd.Series(fname_no_target).values) \n",
    "    return D\n",
    "\n",
    "def filter_out_incorrect(D, incorrects):\n",
    "    D = D[~D['fname'].isin(incorrects)]\n",
    "    return D\n",
    "\n",
    "def filter_out_invalids(D, invalids):\n",
    "    D = D[~D['fname_no_target'].isin(invalids)] \n",
    "    return D\n",
    "    \n",
    "## add some filename columns\n",
    "D = add_fnames(D)\n",
    "DUNFIL = add_fnames(DUNFIL) ## version of dataframe with ALL trials, garbage games, incorrect trials, invalid trials\n",
    "\n",
    "DNOINC = filter_out_incorrect(DUNFIL, incorrects) ## save version of D containing with incorrect trials filtered out only\n",
    "DNOINV = filter_out_invalids(DUNFIL, invalids) ## save version of D containing with invalid trials filtered out only\n",
    "D = filter_out_invalids(filter_out_incorrect(D, incorrects), invalids) ## both kinds of garbage filtered out\n",
    "\n",
    "print np.shape(D)\n",
    "print str(np.shape(D)[0]) + ' records in merged dataframe'\n",
    "\n",
    "print '{} incorrect trials'.format(len(incorrects))\n",
    "print '{} invalid trials'.format(len(invalids))"
   ]
  },
  {
   "cell_type": "code",
   "execution_count": 98,
   "metadata": {
    "collapsed": false
   },
   "outputs": [
    {
     "name": "stdout",
     "output_type": "stream",
     "text": [
      "3072 trials with NO GARBAGE filtered out\n",
      "2878 trials with incorrects filtered out\n",
      "2940 trials with invalids filtered out\n",
      "2682 trials with ALL GARBAGE filtered out\n"
     ]
    }
   ],
   "source": [
    "print '{} trials with NO GARBAGE filtered out'.format(DUNFIL.shape[0])\n",
    "print '{} trials with incorrects filtered out'.format(DNOINC.shape[0])\n",
    "print '{} trials with invalids filtered out'.format(DNOINV.shape[0])\n",
    "print '{} trials with ALL GARBAGE filtered out'.format(D.shape[0])"
   ]
  },
  {
   "cell_type": "code",
   "execution_count": null,
   "metadata": {
    "collapsed": true
   },
   "outputs": [],
   "source": []
  },
  {
   "cell_type": "code",
   "execution_count": null,
   "metadata": {
    "collapsed": true
   },
   "outputs": [],
   "source": []
  },
  {
   "cell_type": "code",
   "execution_count": 99,
   "metadata": {
    "collapsed": true
   },
   "outputs": [],
   "source": [
    "## now assign sketch_label and class_label for the other versions of D\n",
    "def add_extra_label_columns(D):\n",
    "    sketch_label = [(i[-12:] + '_' + str(j)) for i,j in zip(D['gameID'].values,D['trialNum'].values)]\n",
    "    D = D.assign(sketch_label=pd.Series(sketch_label).values)\n",
    "\n",
    "    # add class label\n",
    "    category = []\n",
    "    classes = ['bird','car','chair','dog']\n",
    "    for i,d in D.iterrows():\n",
    "        category.append(h.objcat[d['target']])\n",
    "    D = D.assign(category=pd.Series(category).values)\n",
    "    return D\n",
    "\n",
    "D = add_extra_label_columns(D)\n",
    "DUNFIL = add_extra_label_columns(DUNFIL)\n",
    "DNOINC = add_extra_label_columns(DNOINC)\n",
    "DNOINV = add_extra_label_columns(DNOINV)"
   ]
  },
  {
   "cell_type": "code",
   "execution_count": null,
   "metadata": {
    "collapsed": true
   },
   "outputs": [],
   "source": []
  },
  {
   "cell_type": "code",
   "execution_count": null,
   "metadata": {
    "collapsed": true
   },
   "outputs": [],
   "source": []
  },
  {
   "cell_type": "markdown",
   "metadata": {
    "scrolled": false
   },
   "source": [
    "### Visualize distance distributions"
   ]
  },
  {
   "cell_type": "code",
   "execution_count": 100,
   "metadata": {
    "collapsed": false
   },
   "outputs": [],
   "source": [
    "path_to_dists = './strict-similarity-pragmatics-fixedpose-augmented-splitbycontext_conv4_2.json'\n",
    "_dists = pd.read_json(path_to_dists)\n",
    "dists = _dists.transpose()\n",
    "x = _dists.columns.values\n",
    "y = [i.split('_')[-1] for i in x]\n",
    "lookup_table = dict(zip(y,x))\n",
    "reverse_lookup = dict(zip(x,y))"
   ]
  },
  {
   "cell_type": "code",
   "execution_count": null,
   "metadata": {
    "collapsed": false
   },
   "outputs": [],
   "source": [
    "dT = []\n",
    "dD1 = []\n",
    "dD2 = []\n",
    "dD3 = []\n",
    "for i, _d in D.iterrows():\n",
    "    sketch = _d['sketch_label']\n",
    "    pose = int(_d['pose'])\n",
    "    target = lookup_table[_d['target']]\n",
    "    distractor1 = lookup_table[_d['Distractor1']]\n",
    "    distractor2 = lookup_table[_d['Distractor2']]\n",
    "    distractor3 = lookup_table[_d['Distractor3']]\n",
    "    dT.append(dists[sketch][target])\n",
    "    dD1.append(dists[sketch][distractor1])\n",
    "    dD2.append(dists[sketch][distractor2])\n",
    "    dD3.append(dists[sketch][distractor3])"
   ]
  },
  {
   "cell_type": "code",
   "execution_count": null,
   "metadata": {
    "collapsed": false
   },
   "outputs": [],
   "source": [
    "D = D.assign(dT=pd.Series(dT).values)\n",
    "D = D.assign(dD1=pd.Series(dD1).values)\n",
    "D = D.assign(dD2=pd.Series(dD2).values)\n",
    "D = D.assign(dD3=pd.Series(dD3).values)"
   ]
  },
  {
   "cell_type": "code",
   "execution_count": null,
   "metadata": {
    "collapsed": false
   },
   "outputs": [],
   "source": []
  },
  {
   "cell_type": "code",
   "execution_count": null,
   "metadata": {
    "collapsed": false
   },
   "outputs": [],
   "source": [
    "# filter out training examples\n",
    "# test_examples = pd.read_csv('./pilot2_augmented2_test_examples.txt',header=None)[0].values\n",
    "# test_examples = [i.split('.')[0] + '.png' for i in test_examples]"
   ]
  },
  {
   "cell_type": "code",
   "execution_count": null,
   "metadata": {
    "collapsed": false
   },
   "outputs": [],
   "source": []
  },
  {
   "cell_type": "code",
   "execution_count": null,
   "metadata": {
    "collapsed": false
   },
   "outputs": [],
   "source": []
  },
  {
   "cell_type": "code",
   "execution_count": null,
   "metadata": {
    "collapsed": false
   },
   "outputs": [],
   "source": [
    "sns.set_context('talk')\n",
    "plt.figure(figsize=(12,6))\n",
    "plt.subplot(1,2,1)\n",
    "_D = D[(D.condition=='closer') & (D['fname'].isin(test_examples))]\n",
    "distractor_dists = np.hstack((_D.dD1.values,_D.dD2.values,_D.dD3.values))\n",
    "sns.kdeplot(distractor_dists, shade=True, color=(0.3,0.3,0.3),label='distractors')\n",
    "sns.kdeplot(_D.dT.values, shade=True, color=(0.9,0.7,0.1),label='target')\n",
    "plt.ylim([0,7])\n",
    "plt.xlim([-1,1])\n",
    "plt.xlabel('distance')\n",
    "plt.title('close')\n",
    "\n",
    "plt.subplot(1,2,2)\n",
    "_D = D[(D.condition=='further') & (D['fname'].isin(test_examples))]\n",
    "distractor_dists = np.hstack((_D.dD1.values,_D.dD2.values,_D.dD3.values))\n",
    "sns.kdeplot(distractor_dists, shade=True, color=(0.3,0.3,0.3),label='distractors')\n",
    "sns.kdeplot(_D.dT.values, shade=True, color=(0.9,0.7,0.1),label='target')\n",
    "plt.ylim([0,7])\n",
    "plt.xlim([-1,1])\n",
    "plt.xlabel('distance')\n",
    "plt.title('far')\n",
    "\n",
    "plt.suptitle('fixedpose - augmented - splitbycontext - test')"
   ]
  },
  {
   "cell_type": "code",
   "execution_count": null,
   "metadata": {
    "collapsed": false
   },
   "outputs": [],
   "source": []
  },
  {
   "cell_type": "code",
   "execution_count": null,
   "metadata": {
    "collapsed": false
   },
   "outputs": [],
   "source": [
    "sns.set_context('talk')\n",
    "plt.figure(figsize=(12,12))\n",
    "for i,cl in enumerate(classes):\n",
    "    plt.subplot(2,2,i+1)\n",
    "    _D = D[(D['fname'].isin(test_examples)) & (D['category']==cl)]\n",
    "    distractor_dists = np.hstack((_D.dD1.values,_D.dD2.values,_D.dD3.values))\n",
    "    sns.kdeplot(distractor_dists, shade=True, color=(0.3,0.3,0.3),label='distractors')\n",
    "    sns.kdeplot(_D.dT.values, shade=True, color=(0.9,0.7,0.1),label='target')\n",
    "    plt.ylim([0,7])\n",
    "    plt.xlim([-1,1])\n",
    "    if i>1:\n",
    "        plt.xlabel('distance')\n",
    "    plt.title('{}'.format(cl))"
   ]
  },
  {
   "cell_type": "code",
   "execution_count": null,
   "metadata": {
    "collapsed": false
   },
   "outputs": [],
   "source": []
  },
  {
   "cell_type": "markdown",
   "metadata": {},
   "source": [
    "### Preprocessing to make bdaInput csv"
   ]
  },
  {
   "cell_type": "code",
   "execution_count": 101,
   "metadata": {
    "collapsed": false
   },
   "outputs": [],
   "source": [
    "def generate_bdaInput_csv(D,filtration_level):\n",
    "    # filter out training examples\n",
    "    test_examples = pd.read_csv('./pilot2_augmented_splitbycontext_test_examples.txt',header=None)[0].values\n",
    "    test_examples = [i.split('.')[0] + '.png' for i in test_examples]\n",
    "    keep_examples = test_examples\n",
    "\n",
    "    D0 = D[D['fname'].isin(keep_examples)]\n",
    "    print('Shape of D0: {}'.format(D0.shape))\n",
    "\n",
    "    ## generate lists to compose new bdaInput CSV\n",
    "    _sketchLabel = []\n",
    "    _Condition = []\n",
    "    _Target = []\n",
    "    _Distractor1 = []\n",
    "    _Distractor2 = []\n",
    "    _Distractor3 = []\n",
    "    _coarseGrainedSketchInfo = [] # condition_objectName ... e.g., further_knob\n",
    "    for i, _d in D0.iterrows():\n",
    "        _sketchLabel.append(_d['sketch_label'])\n",
    "        _Condition.append(_d['condition'])    \n",
    "        _Target.append(lookup_table[_d['target']])\n",
    "        distractor1 = lookup_table[_d['Distractor1']]\n",
    "        distractor2 = lookup_table[_d['Distractor2']]\n",
    "        distractor3 = lookup_table[_d['Distractor3']]\n",
    "        d_list = sorted([distractor1, distractor2, distractor3])\n",
    "        _Distractor1.append(d_list[0])\n",
    "        _Distractor2.append(d_list[1])    \n",
    "        _Distractor3.append(d_list[2])  \n",
    "        _coarseGrainedSketchInfo.append('{}_{}'.format(_d['condition'],_d['target'])) \n",
    "\n",
    "    D2 = pd.DataFrame([_Condition,_sketchLabel,_Target,_Distractor1,_Distractor2,_Distractor3,_coarseGrainedSketchInfo])\n",
    "    D2 = D2.transpose()\n",
    "    D2.columns = ['condition','sketchLabel','Target','Distractor1','Distractor2','Distractor3','coarseGrainedSketchInfo']\n",
    "    if len(filtration_level)==0:\n",
    "        D2.to_csv('../models/bdaInput/sketchData_fixedPose_splitbycontext_augmented2_pilot2.csv')\n",
    "    else:  \n",
    "        D2.to_csv('../models/bdaInput/sketchData_fixedPose_splitbycontext_augmented2_pilot2_{}.csv'.format(filtration_level))\n",
    "    print 'Saved out bdaInput CSV ... {}'.format(filtration_level) "
   ]
  },
  {
   "cell_type": "code",
   "execution_count": 102,
   "metadata": {
    "collapsed": false
   },
   "outputs": [
    {
     "name": "stdout",
     "output_type": "stream",
     "text": [
      "Shape of D0: (1035, 24)\n",
      "Saved out bdaInput CSV ... \n",
      "Shape of D0: (1128, 24)\n",
      "Saved out bdaInput CSV ... no_incorrect\n",
      "Shape of D0: (1147, 24)\n",
      "Saved out bdaInput CSV ... no_invalid\n",
      "Shape of D0: (1212, 24)\n",
      "Saved out bdaInput CSV ... unfiltered\n"
     ]
    }
   ],
   "source": [
    "generate_bdaInput_csv(D,'')\n",
    "generate_bdaInput_csv(DNOINC,'no_incorrect')\n",
    "generate_bdaInput_csv(DNOINV,'no_invalid')\n",
    "generate_bdaInput_csv(DUNFIL,'unfiltered')"
   ]
  },
  {
   "cell_type": "code",
   "execution_count": null,
   "metadata": {
    "collapsed": false
   },
   "outputs": [],
   "source": []
  },
  {
   "cell_type": "code",
   "execution_count": 62,
   "metadata": {
    "collapsed": true
   },
   "outputs": [],
   "source": [
    "R = pd.read_csv('../models/bdaInput/sketchData_fixedPose_splitbycontext_augmented2_pilot2.csv')"
   ]
  },
  {
   "cell_type": "code",
   "execution_count": null,
   "metadata": {
    "collapsed": false
   },
   "outputs": [],
   "source": []
  },
  {
   "cell_type": "code",
   "execution_count": null,
   "metadata": {
    "collapsed": false
   },
   "outputs": [],
   "source": []
  },
  {
   "cell_type": "code",
   "execution_count": null,
   "metadata": {
    "collapsed": true
   },
   "outputs": [],
   "source": []
  },
  {
   "cell_type": "code",
   "execution_count": null,
   "metadata": {
    "collapsed": true
   },
   "outputs": [],
   "source": []
  },
  {
   "cell_type": "markdown",
   "metadata": {},
   "source": [
    "## Model comparison"
   ]
  },
  {
   "cell_type": "code",
   "execution_count": null,
   "metadata": {
    "collapsed": false
   },
   "outputs": [],
   "source": [
    "def sumlogprob(a,b):\n",
    "    if (a > b):\n",
    "        return a + np.log1p(np.exp(b-a))\n",
    "    else:\n",
    "        return b + np.log1p(np.exp(a-b))    "
   ]
  },
  {
   "cell_type": "code",
   "execution_count": null,
   "metadata": {
    "collapsed": false
   },
   "outputs": [],
   "source": []
  },
  {
   "cell_type": "code",
   "execution_count": null,
   "metadata": {
    "collapsed": false
   },
   "outputs": [],
   "source": [
    "which_feat = 'fixedpose_aug2_alldata'\n",
    "\n",
    "if which_feat == 'varypose_nonaug':\n",
    "    P = pd.read_csv('./RSA/bdaOutput/testingParams_alldata.csv')\n",
    "elif which_feat == 'fixedpose_nonaug_closeonly':\n",
    "    P = pd.read_csv('./RSA/bdaOutput/testingParams_closeonly_fixedpose.csv')\n",
    "elif which_feat == 'fixedpose_aug_closeonly':\n",
    "    P = pd.read_csv('./RSA/bdaOutput/testingParams_closeonly_fixedpose_augmented.csv')\n",
    "elif which_feat == 'fixedpose_aug2_alldata':\n",
    "    P = pd.read_csv('./RSA/bdaOutput/testingParams_testdata_fixedpose_augmented2.csv')\n",
    "    \n",
    "# filter out rows where posterior probability is -Infinity\n",
    "# P = P[P.posteriorProb!='-Infinity']\n",
    "print np.shape(P)\n",
    "\n",
    "X = P.groupby(['similarityMetric', 'speakerModel'])['logLikelihood']\n",
    "Y = X.apply(lambda x: reduce(sumlogprob,x) - np.log(len(x)))\n",
    "Y = pd.DataFrame(Y)\n",
    "\n",
    "sns.set_context('poster')\n",
    "colors = sns.color_palette(\"Paired\")\n",
    "fig = plt.figure(figsize=(26,8))\n",
    "seq = [('strict-mid-pragmatics-augmented2','S0'),('strict-mid-pragmatics-augmented2','S1'),('nonstrict-high-sketchy','S0'),('nonstrict-high-sketchy','S1')]\n",
    "sns.barplot(data=Y.transpose(),palette=colors, order = seq)\n",
    "# plt.ylim([-1400,-600])\n",
    "plt.ylabel('log likelihood')\n",
    "plt.title('model comparison: all test data',fontsize=24)\n",
    "plt.show()"
   ]
  },
  {
   "cell_type": "code",
   "execution_count": null,
   "metadata": {
    "collapsed": false
   },
   "outputs": [],
   "source": [
    "Y"
   ]
  },
  {
   "cell_type": "code",
   "execution_count": null,
   "metadata": {
    "collapsed": false
   },
   "outputs": [],
   "source": [
    "# P = pd.read_csv('./RSA/bdaOutput/testingParams_testdata_fixedpose.csv')\n",
    "# # filter out rows where posterior probability is -Infinity\n",
    "# # P = P[P.posteriorProb!='-Infinity']\n",
    "# print np.shape(P)\n",
    "\n",
    "# X = P.groupby(['similarityMetric', 'speakerModel'])['logLikelihood']\n",
    "# Y = X.apply(lambda x: reduce(sumlogprob,x) - np.log(len(x)))\n",
    "# Y = pd.DataFrame(Y)\n",
    "\n",
    "# sns.set_context('talk')\n",
    "# colors = sns.color_palette(\"Paired\")\n",
    "# fig = plt.figure(figsize=(16,4))\n",
    "# seq = [('strict-mid-pragmatics-augmented','S0'),('strict-mid-pragmatics-augmented','S1'),('strict-mid-pragmatics','S0'),('strict-mid-pragmatics','S1'),('nonstrict-high-sketchy','S0'),('nonstrict-high-sketchy','S1')]\n",
    "# sns.barplot(data=Y.transpose(),palette=colors, order = seq)\n",
    "# plt.ylim([-9000,-8000])\n",
    "# plt.ylabel('log likelihood')\n",
    "# plt.title('model comparison: held out data (majority far trials)',fontsize=24)\n",
    "# plt.show()"
   ]
  },
  {
   "cell_type": "code",
   "execution_count": 145,
   "metadata": {
    "collapsed": false
   },
   "outputs": [],
   "source": [
    "### latest set of S1/S0 model log-likelihoods\n",
    "# S0: -6870.844\n",
    "# S1: -6738.278\n",
    "\n",
    "S0 = -6870.844\n",
    "S1 = -6738.278\n",
    "\n",
    "LL = pd.DataFrame([S0,S1])\n",
    "LL = LL.transpose()\n",
    "LL.columns = ['S0','S1']"
   ]
  },
  {
   "cell_type": "code",
   "execution_count": 151,
   "metadata": {
    "collapsed": false
   },
   "outputs": [
    {
     "data": {
      "text/plain": [
       "(-7000, -6500)"
      ]
     },
     "execution_count": 151,
     "metadata": {},
     "output_type": "execute_result"
    },
    {
     "data": {
      "image/png": "[encoded data removed]",
      "text/plain": [
       "<matplotlib.figure.Figure at 0x12323fe10>"
      ]
     },
     "metadata": {},
     "output_type": "display_data"
    }
   ],
   "source": [
    "plt.figure(figsize=(2.5,4))\n",
    "sns.barplot(data=LL)\n",
    "plt.ylim([-7000,-6500])\n"
   ]
  },
  {
   "cell_type": "code",
   "execution_count": null,
   "metadata": {
    "collapsed": true
   },
   "outputs": [],
   "source": []
  }
 ],
 "metadata": {
  "kernelspec": {
   "display_name": "Python 2",
   "language": "python",
   "name": "python2"
  },
  "language_info": {
   "codemirror_mode": {
    "name": "ipython",
    "version": 2
   },
   "file_extension": ".py",
   "mimetype": "text/x-python",
   "name": "python",
   "nbconvert_exporter": "python",
   "pygments_lexer": "ipython2",
   "version": "2.7.12"
  }
 },
 "nbformat": 4,
 "nbformat_minor": 1
}
