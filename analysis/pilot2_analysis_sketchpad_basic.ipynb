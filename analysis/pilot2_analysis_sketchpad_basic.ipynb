{
 "cells": [
  {
   "cell_type": "code",
   "execution_count": 1,
   "metadata": {
    "collapsed": false
   },
   "outputs": [
    {
     "data": {
      "text/plain": [
       "<module 'analysis_helpers' from 'analysis_helpers.pyc'>"
      ]
     },
     "execution_count": 1,
     "metadata": {},
     "output_type": "execute_result"
    }
   ],
   "source": [
    "import os\n",
    "import urllib, cStringIO\n",
    "\n",
    "import pymongo as pm\n",
    "\n",
    "import matplotlib\n",
    "from matplotlib import pylab, mlab, pyplot\n",
    "%matplotlib inline\n",
    "from IPython.core.pylabtools import figsize, getfigs\n",
    "plt = pyplot\n",
    "import seaborn as sns\n",
    "sns.set_context('poster')\n",
    "sns.set_style('white')\n",
    "\n",
    "import numpy as np\n",
    "from __future__ import division\n",
    "import scipy.stats as stats\n",
    "import pandas as pd\n",
    "import json\n",
    "import re\n",
    "\n",
    "from PIL import Image\n",
    "import base64\n",
    "\n",
    "import analysis_helpers as h\n",
    "reload(h)"
   ]
  },
  {
   "cell_type": "code",
   "execution_count": 2,
   "metadata": {
    "collapsed": false
   },
   "outputs": [],
   "source": [
    "# directory & file hierarchy\n",
    "iterationName = 'pilot2'\n",
    "exp_path = './'\n",
    "analysis_dir = os.getcwd()\n",
    "data_dir = os.path.abspath(os.path.join(os.getcwd(),'../../..','data',exp_path))\n",
    "exp_dir = './'\n",
    "sketch_dir = os.path.abspath(os.path.join(os.getcwd(),'../../..','analysis',exp_path,'sketches','pilot2'))"
   ]
  },
  {
   "cell_type": "code",
   "execution_count": 3,
   "metadata": {
    "collapsed": false
   },
   "outputs": [],
   "source": [
    "# set vars \n",
    "auth = pd.read_csv('auth.txt', header = None) # this auth.txt file contains the password for the sketchloop user\n",
    "pswd = auth.values[0][0]\n",
    "user = 'sketchloop'\n",
    "host = 'rxdhawkins.me' ## cocolab ip address\n",
    "\n",
    "# have to fix this to be able to analyze from local\n",
    "import pymongo as pm\n",
    "conn = pm.MongoClient('mongodb://sketchloop:' + pswd + '@127.0.0.1')\n",
    "db = conn['3dObjects']\n",
    "coll = db['sketchpad_basic']"
   ]
  },
  {
   "cell_type": "code",
   "execution_count": 5,
   "metadata": {
    "collapsed": false
   },
   "outputs": [
    {
     "name": "stdout",
     "output_type": "stream",
     "text": [
      "34620 stroke records in the database.\n",
      "3220 clickedObj records in the database.\n"
     ]
    }
   ],
   "source": [
    "S = coll.find({ '$and': [{'iterationName':'pilot2'}, {'eventType': 'stroke'}]}).sort('time')\n",
    "C = coll.find({ '$and': [{'iterationName':'pilot2'}, {'eventType': 'clickedObj'}]}).sort('time')\n",
    "print str(S.count()) + ' stroke records in the database.'\n",
    "print str(C.count()) + ' clickedObj records in the database.'"
   ]
  },
  {
   "cell_type": "code",
   "execution_count": 6,
   "metadata": {
    "collapsed": false
   },
   "outputs": [],
   "source": [
    "# print unique gameid's\n",
    "unique_gameids = coll.find({ '$and': [{'iterationName':'pilot2'}, {'eventType': 'clickedObj'}]}).sort('time').distinct('gameid')\n",
    "# print map(str,unique_gameids)\n",
    "\n",
    "# filter out  records that match researcher ID's\n",
    "jefan = ['A1MMCS8S8CTWKU','A1MMCS8S8CTWKV','A1MMCS8S8CTWKS']\n",
    "hawkrobe = ['A1BOIDKD33QSDK']\n",
    "researchers = jefan + hawkrobe\n",
    "workers = [i for i in coll.find({'iterationName':'pilot2'}).distinct('workerId') if i not in researchers]"
   ]
  },
  {
   "cell_type": "code",
   "execution_count": 7,
   "metadata": {
    "collapsed": false,
    "scrolled": false
   },
   "outputs": [
    {
     "name": "stdout",
     "output_type": "stream",
     "text": [
      "0  6 stroke\n",
      "2 A3FC 32 stroke\n",
      "2 A1PT 32 clickedObj\n",
      "3 A2CF 32 stroke\n",
      "3 A1DI 32 clickedObj\n",
      "4 A2IK 32 stroke\n",
      "4 A3AN 32 clickedObj\n",
      "5 AW49 32 stroke\n",
      "5 A2EY 32 clickedObj\n",
      "6 A1LD 32 stroke\n",
      "6 A2FY 32 clickedObj\n",
      "7 A3T9 32 stroke\n",
      "7 A3SD 32 clickedObj\n",
      "8 A3P5 32 stroke\n",
      "8 A2H0 32 clickedObj\n",
      "9 A1YB 32 stroke\n",
      "9 A1WJ 32 clickedObj\n",
      "10 A1H9 32 stroke\n",
      "10 A3W4 32 clickedObj\n",
      "11 A2Q3 32 stroke\n",
      "11 A30V 32 clickedObj\n",
      "12 ANVX 32 stroke\n",
      "12 A1F8 32 clickedObj\n",
      "13 AMPM 2 stroke\n",
      "13 AK77 1 clickedObj\n",
      "14 A2AM 32 stroke\n",
      "14 A2HG 32 clickedObj\n",
      "15 A2ET 32 stroke\n",
      "15 A3NV 32 clickedObj\n",
      "16 A319 32 stroke\n",
      "16 A1WI 32 clickedObj\n",
      "17 AU34 32 stroke\n",
      "17 A1JX 32 clickedObj\n",
      "18 A3F6 32 stroke\n",
      "18 A1KJ 32 clickedObj\n",
      "19 A23B 32 stroke\n",
      "19 A3NK 32 clickedObj\n",
      "20 A1PM 32 stroke\n",
      "20 A3BK 32 clickedObj\n",
      "21 A1US 32 stroke\n",
      "21 A3RX 32 clickedObj\n",
      "22 A22Q 32 stroke\n",
      "22 A1TG 32 clickedObj\n",
      "23 AX9D 32 stroke\n",
      "23 AO33 32 clickedObj\n",
      "24 A3MY 32 stroke\n",
      "24 A3MY 32 clickedObj\n",
      "25 A1AK 32 stroke\n",
      "25 A3JF 32 clickedObj\n",
      "26 A2OJ 32 stroke\n",
      "26 AFWK 32 clickedObj\n",
      "27 A1A1 32 stroke\n",
      "27 A3BU 32 clickedObj\n",
      "28 A1QH 32 stroke\n",
      "28 A4J7 32 clickedObj\n",
      "29 A1WY 32 stroke\n",
      "29 A1CU 32 clickedObj\n",
      "30 A1H1 32 stroke\n",
      "30 A27Z 32 clickedObj\n",
      "31 A120 32 stroke\n",
      "31 A12M 32 clickedObj\n",
      "32 A161 5 stroke\n",
      "32 A1H4 4 clickedObj\n",
      "33 A3O5 32 stroke\n",
      "33 ABL3 32 clickedObj\n",
      "34 A3EW 32 stroke\n",
      "34 ASIB 32 clickedObj\n",
      "35 A1NZ 32 stroke\n",
      "35 AYSG 32 clickedObj\n",
      "36 A23B 32 stroke\n",
      "36 A1SI 32 clickedObj\n",
      "37 AAEZ 32 stroke\n",
      "37 AZJT 32 clickedObj\n",
      "38 A3F9 14 stroke\n",
      "38 A2DL 13 clickedObj\n",
      "39 AVQI 32 stroke\n",
      "39 A3OB 32 clickedObj\n",
      "40 A1MD 18 stroke\n",
      "40 A397 18 clickedObj\n",
      "41 AVI7 4 stroke\n",
      "41 A1UJ 4 clickedObj\n",
      "42 AVBR 32 stroke\n",
      "42 A110 32 clickedObj\n",
      "43 A19I 32 stroke\n",
      "43 A3MY 32 clickedObj\n",
      "44 AOTS 32 stroke\n",
      "44 AQGQ 32 clickedObj\n",
      "45 A1ZW 32 stroke\n",
      "45 A1O4 32 clickedObj\n",
      "46 A3TD 32 stroke\n",
      "46 A2RK 32 clickedObj\n",
      "47 A3EQ 32 stroke\n",
      "47 A37E 32 clickedObj\n",
      "48 A24U 32 stroke\n",
      "48 A2OL 32 clickedObj\n",
      "49 A35N 32 stroke\n",
      "49 A1MT 32 clickedObj\n",
      "50 A2PY 32 stroke\n",
      "50 A24H 32 clickedObj\n",
      "51 A23T 32 stroke\n",
      "51 AHPQ 32 clickedObj\n",
      "52 A3F9 32 stroke\n",
      "52 A1US 32 clickedObj\n",
      "53 A1W0 32 stroke\n",
      "53 AII1 32 clickedObj\n",
      "54 ATHS 32 stroke\n",
      "54 A2BQ 32 clickedObj\n",
      "55 A2EO 32 stroke\n",
      "55 A2XV 32 clickedObj\n",
      "56 A1OL 32 stroke\n",
      "56 AOPX 32 clickedObj\n",
      "57 A1ZI 32 stroke\n",
      "57 A34Q 32 clickedObj\n",
      "58 A2BP 32 stroke\n",
      "58 A1VF 32 clickedObj\n",
      "59 A2N3 32 stroke\n",
      "59 A2GO 32 clickedObj\n",
      "60 A14Y 32 stroke\n",
      "60 A2M6 32 clickedObj\n",
      "61 A38L 32 stroke\n",
      "61 A3PP 32 clickedObj\n",
      "62 A2M6 15 stroke\n",
      "62 A3MI 14 clickedObj\n",
      "63 AVCL 32 stroke\n",
      "63 A166 32 clickedObj\n",
      "64 A331 32 stroke\n",
      "64 A1RZ 32 clickedObj\n",
      "65 A3U6 32 stroke\n",
      "65 A3EL 32 clickedObj\n",
      "66 ATOV 32 stroke\n",
      "66 A3TX 32 clickedObj\n",
      "67 AE5Q 32 stroke\n",
      "67 A1NL 32 clickedObj\n",
      "68 A2LM 32 stroke\n",
      "68 AOMT 32 clickedObj\n",
      "69 A3IG 7 stroke\n",
      "69 A1HY 6 clickedObj\n",
      "70 A1F1 32 stroke\n",
      "70 A2RP 32 clickedObj\n",
      "71 A2V2 32 stroke\n",
      "71 A1AK 32 clickedObj\n",
      "72  1 stroke\n",
      "73 A2LG 32 stroke\n",
      "73 A1EK 32 clickedObj\n",
      "74 A1VO 2 stroke\n",
      "74 A2SM 1 clickedObj\n",
      "75 A2MZ 32 stroke\n",
      "75 A1L9 32 clickedObj\n",
      "76 A2D7 32 stroke\n",
      "76 A1LO 32 clickedObj\n",
      "77 A18N 32 stroke\n",
      "77 A1P3 32 clickedObj\n",
      "78 A12I 32 stroke\n",
      "78 AIW8 32 clickedObj\n",
      "79 A31Y 32 stroke\n",
      "79 A23K 32 clickedObj\n",
      "80 A1P0 32 stroke\n",
      "80 A1UZ 32 clickedObj\n",
      "81 A230 32 stroke\n",
      "81 A30B 32 clickedObj\n",
      "82 AYLY 32 stroke\n",
      "82 A3KE 32 clickedObj\n",
      "83 A26M 32 stroke\n",
      "83 AZJE 32 clickedObj\n",
      "84 A3UE 32 stroke\n",
      "84 A1Z3 32 clickedObj\n",
      "85 A38N 32 stroke\n",
      "85 AHZP 32 clickedObj\n",
      "86 A1CS 32 stroke\n",
      "86 ACGZ 32 clickedObj\n",
      "87 A3RU 32 stroke\n",
      "87 A1KR 32 clickedObj\n",
      "88 A2FI 32 stroke\n",
      "88 APF1 32 clickedObj\n",
      "89 A1DI 32 stroke\n",
      "89 A2AG 32 clickedObj\n",
      "90 A1MS 32 stroke\n",
      "90 AZ2H 32 clickedObj\n",
      "91 AT3N 32 stroke\n",
      "91 A2SS 32 clickedObj\n",
      "92 A1YC 32 stroke\n",
      "92 A1OP 32 clickedObj\n",
      "93 A1Z2 32 stroke\n",
      "93 A17P 32 clickedObj\n",
      "94 A2AY 32 stroke\n",
      "94 A3HN 32 clickedObj\n",
      "95 A27A 32 stroke\n",
      "95 A2WC 32 clickedObj\n",
      "96 A2Z7 32 stroke\n",
      "96 A1DL 32 clickedObj\n",
      "97 ABEJ 32 stroke\n",
      "97 A385 32 clickedObj\n",
      "98 A13U 32 stroke\n",
      "98 A2KJ 32 clickedObj\n",
      "99 A3CQ 32 stroke\n",
      "99 A3LT 32 clickedObj\n",
      "100 AEF9 32 stroke\n",
      "100 A17J 32 clickedObj\n",
      "101 AALU 3 stroke\n",
      "101 A3DY 2 clickedObj\n",
      "102 A2MD 13 stroke\n",
      "102 A31M 12 clickedObj\n",
      "103 AXZB 32 stroke\n",
      "103 A1GK 32 clickedObj\n",
      "104 A1H5 32 stroke\n",
      "104 A15O 32 clickedObj\n",
      "105 A24N 13 stroke\n",
      "105 AFQG 13 clickedObj\n",
      "106 A2ZS 8 stroke\n",
      "106 A1U3 8 clickedObj\n",
      "107 A2GB 12 stroke\n",
      "107 A3JG 12 clickedObj\n",
      "108 A2SH 8 stroke\n",
      "108 A2DF 8 clickedObj\n",
      "109 A3IJ 9 stroke\n",
      "109 A24L 8 clickedObj\n",
      "110 A4T5 9 stroke\n",
      "110 A1IQ 8 clickedObj\n",
      "111 A1CY 6 stroke\n",
      "111 A2DV 5 clickedObj\n",
      "112 ALKQ 3 stroke\n",
      "112 A3OE 2 clickedObj\n",
      "113 A30J 32 stroke\n",
      "113 A3W6 32 clickedObj\n",
      "114 A2VW 32 stroke\n",
      "114 A2OV 32 clickedObj\n",
      "115 A101 32 stroke\n",
      "115 AX17 32 clickedObj\n",
      "116 A3HS 32 stroke\n",
      "116 A11T 32 clickedObj\n",
      "   ===========   \n",
      "93 valid gameIDs (# complete games).\n"
     ]
    }
   ],
   "source": [
    "valid_gameids = []\n",
    "for i,g in enumerate(unique_gameids):\n",
    "    W = coll.find({ '$and': [{'gameid': g}]}).distinct('workerId')\n",
    "    for w in W:\n",
    "        if w in workers:\n",
    "            X = coll.find({ '$and': [{'workerId': w}, {'gameid': g}]}).distinct('trialNum') ## # of trials completed\n",
    "            eventType = coll.find({ '$and': [{'workerId': w}]}).distinct('eventType')\n",
    "            print i, w[:4], len(X), str(eventType[0])\n",
    "            if (str(eventType[0])=='clickedObj') & (len(X)==32):\n",
    "                valid_gameids.append(g)\n",
    "print '   ===========   '\n",
    "\n",
    "## filter if the pair cheated by writing words or using other symbols\n",
    "cheaty = ['8155-e46a25a3-9259-4b76-80e9-5bd79b6bdd97','6224-ab96ed5c-2a98-477c-aae2-7398b9e5b237',\\\n",
    "         '5595-a00b8109-1910-43c4-9f14-00eb4945ac70','1697-7ab5b295-fae8-4f62-8cbd-72aa0e23b10e']\n",
    "motor = ['2829-820b338d-5720-4964-bd22-8ba38329569d'] # this person made multiples in several of their sketches, and appeared to suffer from strong tremors\n",
    "unfiltered_gameids = valid_gameids\n",
    "valid_gameids = [i for i in valid_gameids if i not in cheaty]\n",
    "valid_gameids = [i for i in valid_gameids if i not in motor]\n",
    "\n",
    "print str(len(valid_gameids)) + ' valid gameIDs (# complete games).'\n",
    "\n",
    "df = pd.DataFrame([valid_gameids])\n",
    "df = df.transpose()\n",
    "df.columns=['valid_gameids']\n",
    "df.to_csv('valid_gameids_pilot2.csv')\n",
    "\n",
    "df = pd.DataFrame([unfiltered_gameids])\n",
    "df = df.transpose()\n",
    "df.columns=['unfiltered_gameids']\n",
    "df.to_csv('unfiltered_gameids_pilot2.csv')"
   ]
  },
  {
   "cell_type": "code",
   "execution_count": null,
   "metadata": {
    "collapsed": false
   },
   "outputs": [],
   "source": []
  },
  {
   "cell_type": "code",
   "execution_count": null,
   "metadata": {
    "collapsed": false
   },
   "outputs": [],
   "source": []
  },
  {
   "cell_type": "code",
   "execution_count": 10,
   "metadata": {
    "collapsed": false
   },
   "outputs": [
    {
     "name": "stdout",
     "output_type": "stream",
     "text": [
      "Analyzing game:  7004-6ff0964c-ff95-40f9-8696-d6a8931c94d5\n",
      "Analyzing game:  6224-40ab6004-b7c1-4d1d-a308-a061099290fc\n",
      "Analyzing game:  8690-8b4e0b59-f3f2-4e43-b4a0-66caff2a72e4\n",
      "Analyzing game:  3230-d1aa5a54-b0ce-4d0d-be06-e49efb324a4b\n",
      "Analyzing game:  6786-9c3169eb-962e-468b-8922-b99247975eb2\n",
      "Analyzing game:  5708-fd15d921-aa1b-46e4-ad51-e0c743c2db0d\n",
      "Analyzing game:  4099-cfa19d59-4f8b-4d34-bd3f-23a1e8c79e67\n",
      "Analyzing game:  9229-923201c3-dd68-4362-8eec-77cb88a647c4\n",
      "Analyzing game:  5331-d3bd334d-3d8c-400e-b3b2-44cd69623cb7\n",
      "Analyzing game:  1593-3cebc49a-ef16-451d-a5a9-aad9b5ac4695\n",
      "Analyzing game:  2323-a9c585ff-0096-4f9c-8be4-e202993c654f\n",
      "Analyzing game:  8154-5d8b5091-2c29-4502-9719-1b295ff55c49\n",
      "Analyzing game:  6592-d354ecd6-f421-4200-98e1-8d7c0ee48a43\n",
      "Analyzing game:  9903-d6e6a9ff-a878-4bee-b2d5-26e2e239460a\n",
      "Analyzing game:  5412-7dc95fb9-5b93-4d9a-bf13-7d349722b687\n",
      "Analyzing game:  5650-cb4a9e85-a383-43f6-83e6-331e286811d1\n",
      "Analyzing game:  3058-fb4fe740-d862-453b-a08f-44375a040165\n",
      "Analyzing game:  0225-fd115f45-542e-4c76-9672-54e60295fc00\n",
      "Analyzing game:  1752-fba5d4af-f103-4e3a-b100-d479bb0a2d11\n",
      "Analyzing game:  6373-a60ef7ba-4340-4fc3-b549-bf974318f61d\n",
      "Analyzing game:  4088-45a9d4bd-2ce2-4404-8743-5d9a30dc38e2\n",
      "Analyzing game:  9451-6c7f6084-1fb9-47c6-a7c2-36a20f2951c5\n",
      "Analyzing game:  1970-1377644d-0742-4343-ae91-737a5b0fbd1f\n",
      "Analyzing game:  4409-c993cc06-d675-4acb-881f-b5377cf24d71\n",
      "Analyzing game:  8196-ad38e7de-f882-4af8-8645-0934a9585321\n",
      "Analyzing game:  0927-5d6c38c2-51c0-44b7-a26e-28ff79b4f377\n",
      "Analyzing game:  7567-ce474df0-a84b-46aa-b23d-c238f8234641\n",
      "Analyzing game:  8297-39d66207-4fb6-430c-8e2b-4f95213b6a55\n",
      "Analyzing game:  6097-bd18a2a0-7f23-4304-890f-cb44cf334fe4\n",
      "Analyzing game:  4471-2bd3bf63-be9f-4c2b-8cf2-a27d10269baa\n",
      "Analyzing game:  3897-71f63429-f74c-42ea-a48e-f21b736affde\n",
      "Analyzing game:  9840-46b175c7-8715-49fe-99a6-0dae8776ef1b\n",
      "Analyzing game:  1610-56ada1db-89be-40bc-a0f2-61e9769b6987\n",
      "Analyzing game:  9488-b896538b-6d64-46b2-b5ff-a4509fb4d9a0\n",
      "Analyzing game:  8033-46b51efe-5b34-4a26-a7f0-a5d08708618a\n",
      "Analyzing game:  3169-1a552a49-44e5-4a78-bed6-72a6aca82625\n",
      "Analyzing game:  7584-c7bb6a5e-cd82-45fc-823a-ada7595a25c5\n",
      "Analyzing game:  8621-ca1f4a87-da08-43dd-96fb-948482e4d94c\n",
      "Analyzing game:  2121-a3dd33f4-82fc-4913-991c-1d372f6923f0\n",
      "Analyzing game:  3257-2f4b83dc-a618-4194-a666-67e8a3f5539d\n",
      "Analyzing game:  7285-f99d9991-de84-43cc-b359-e9de387ab0b5\n",
      "Analyzing game:  1682-6ebee481-ec2e-4624-a5d2-2e74803e940d\n",
      "Analyzing game:  3444-a337b178-b097-4a79-bbf3-e7e2225bac12\n",
      "Analyzing game:  3572-0843efc9-9dec-40f1-879f-2a61d8a3622d\n",
      "Analyzing game:  0075-ad14e50c-f328-451b-82b0-2a7d3b392127\n",
      "Analyzing game:  1227-b0df7616-c762-4bb6-8c0e-fcb7cf68ddba\n",
      "Analyzing game:  3741-3d676fa8-13ae-4785-8a62-7cc820eaccb0\n",
      "Analyzing game:  4546-1d43f895-aec3-43e5-83dd-8069d67a2b47\n",
      "Analyzing game:  5325-5c1c06e3-3674-4ae6-add2-d188a9a7c4b5\n",
      "Analyzing game:  8486-a0a44a5f-4eb9-4924-b2b6-247478e1ce8d\n",
      "Analyzing game:  8901-cec404f6-c1b9-458f-8ab5-3fac34c1563f\n",
      "Analyzing game:  6698-4fc0cc09-7c7a-4adf-95d7-af88c375d43a\n",
      "Analyzing game:  0647-bfcd78e5-085c-4631-a47c-0f3dadf71345\n",
      "Analyzing game:  1695-dcc9fa2e-386a-42cc-a4cb-fbb1a309c5d9\n",
      "Analyzing game:  2829-820b338d-5720-4964-bd22-8ba38329569d\n",
      "Analyzing game:  6500-391008be-12c2-4a97-a943-7bf13a56bbb7\n",
      "Analyzing game:  2475-56c56a85-8926-4355-b02d-9fe236623033\n",
      "Analyzing game:  5707-49e9e7c8-5fe1-4469-9905-4ba89ccde7dd\n"
     ]
    },
    {
     "ename": "AutoReconnect",
     "evalue": "connection closed",
     "output_type": "error",
     "traceback": [
      "\u001b[0;31m----------------------------------------------------------------\u001b[0m",
      "\u001b[0;31mAutoReconnect\u001b[0m                  Traceback (most recent call last)",
      "\u001b[0;32m<ipython-input-10-6b6cad5c05cf>\u001b[0m in \u001b[0;36m<module>\u001b[0;34m()\u001b[0m\n\u001b[1;32m     39\u001b[0m         \u001b[0mz\u001b[0m \u001b[0;34m=\u001b[0m \u001b[0mcoll\u001b[0m\u001b[0;34m.\u001b[0m\u001b[0mfind\u001b[0m\u001b[0;34m(\u001b[0m\u001b[0;34m{\u001b[0m \u001b[0;34m'$and'\u001b[0m\u001b[0;34m:\u001b[0m \u001b[0;34m[\u001b[0m\u001b[0;34m{\u001b[0m\u001b[0;34m'gameid'\u001b[0m\u001b[0;34m:\u001b[0m \u001b[0mg\u001b[0m\u001b[0;34m}\u001b[0m\u001b[0;34m,\u001b[0m \u001b[0;34m{\u001b[0m\u001b[0;34m'eventType'\u001b[0m\u001b[0;34m:\u001b[0m \u001b[0;34m'clickedObj'\u001b[0m\u001b[0;34m}\u001b[0m\u001b[0;34m,\u001b[0m \u001b[0;34m{\u001b[0m\u001b[0;34m'trialNum'\u001b[0m\u001b[0;34m:\u001b[0m \u001b[0mt\u001b[0m\u001b[0;34m[\u001b[0m\u001b[0;34m'trialNum'\u001b[0m\u001b[0;34m]\u001b[0m\u001b[0;34m}\u001b[0m\u001b[0;34m]\u001b[0m\u001b[0;34m}\u001b[0m\u001b[0;34m)\u001b[0m\u001b[0;34m.\u001b[0m\u001b[0msort\u001b[0m\u001b[0;34m(\u001b[0m\u001b[0;34m'time'\u001b[0m\u001b[0;34m)\u001b[0m\u001b[0;34m\u001b[0m\u001b[0m\n\u001b[1;32m     40\u001b[0m         \u001b[0mviewerRT\u001b[0m\u001b[0;34m.\u001b[0m\u001b[0mappend\u001b[0m\u001b[0;34m(\u001b[0m\u001b[0;34m(\u001b[0m\u001b[0mz\u001b[0m\u001b[0;34m.\u001b[0m\u001b[0m__getitem__\u001b[0m\u001b[0;34m(\u001b[0m\u001b[0;36m0\u001b[0m\u001b[0;34m)\u001b[0m\u001b[0;34m[\u001b[0m\u001b[0;34m'time'\u001b[0m\u001b[0;34m]\u001b[0m \u001b[0;34m-\u001b[0m \u001b[0my\u001b[0m\u001b[0;34m.\u001b[0m\u001b[0m__getitem__\u001b[0m\u001b[0;34m(\u001b[0m\u001b[0mns\u001b[0m\u001b[0;34m-\u001b[0m\u001b[0;36m1\u001b[0m\u001b[0;34m)\u001b[0m\u001b[0;34m[\u001b[0m\u001b[0;34m'time'\u001b[0m\u001b[0;34m]\u001b[0m\u001b[0;34m)\u001b[0m\u001b[0;34m/\u001b[0m\u001b[0;36m1000\u001b[0m\u001b[0;34m)\u001b[0m\u001b[0;34m\u001b[0m\u001b[0m\n\u001b[0;32m---> 41\u001b[0;31m         \u001b[0mls\u001b[0m \u001b[0;34m=\u001b[0m \u001b[0;34m[\u001b[0m\u001b[0mlen\u001b[0m\u001b[0;34m(\u001b[0m\u001b[0m_y\u001b[0m\u001b[0;34m[\u001b[0m\u001b[0;34m'svgData'\u001b[0m\u001b[0;34m]\u001b[0m\u001b[0;34m)\u001b[0m \u001b[0;32mfor\u001b[0m \u001b[0m_y\u001b[0m \u001b[0;32min\u001b[0m \u001b[0my\u001b[0m\u001b[0;34m]\u001b[0m\u001b[0;34m\u001b[0m\u001b[0m\n\u001b[0m\u001b[1;32m     42\u001b[0m         \u001b[0msvgStringLength\u001b[0m\u001b[0;34m.\u001b[0m\u001b[0mappend\u001b[0m\u001b[0;34m(\u001b[0m\u001b[0mreduce\u001b[0m\u001b[0;34m(\u001b[0m\u001b[0;32mlambda\u001b[0m \u001b[0mx\u001b[0m\u001b[0;34m,\u001b[0m \u001b[0my\u001b[0m\u001b[0;34m:\u001b[0m \u001b[0mx\u001b[0m \u001b[0;34m+\u001b[0m \u001b[0my\u001b[0m\u001b[0;34m,\u001b[0m \u001b[0mls\u001b[0m\u001b[0;34m)\u001b[0m\u001b[0;34m)\u001b[0m\u001b[0;34m\u001b[0m\u001b[0m\n\u001b[1;32m     43\u001b[0m         \u001b[0my\u001b[0m \u001b[0;34m=\u001b[0m \u001b[0mcoll\u001b[0m\u001b[0;34m.\u001b[0m\u001b[0mfind\u001b[0m\u001b[0;34m(\u001b[0m\u001b[0;34m{\u001b[0m \u001b[0;34m'$and'\u001b[0m\u001b[0;34m:\u001b[0m \u001b[0;34m[\u001b[0m\u001b[0;34m{\u001b[0m\u001b[0;34m'gameid'\u001b[0m\u001b[0;34m:\u001b[0m \u001b[0mg\u001b[0m\u001b[0;34m}\u001b[0m\u001b[0;34m,\u001b[0m \u001b[0;34m{\u001b[0m\u001b[0;34m'eventType'\u001b[0m\u001b[0;34m:\u001b[0m \u001b[0;34m'stroke'\u001b[0m\u001b[0;34m}\u001b[0m\u001b[0;34m,\u001b[0m \u001b[0;34m{\u001b[0m\u001b[0;34m'trialNum'\u001b[0m\u001b[0;34m:\u001b[0m \u001b[0mt\u001b[0m\u001b[0;34m[\u001b[0m\u001b[0;34m'trialNum'\u001b[0m\u001b[0;34m]\u001b[0m\u001b[0;34m}\u001b[0m\u001b[0;34m]\u001b[0m\u001b[0;34m}\u001b[0m\u001b[0;34m)\u001b[0m\u001b[0;34m.\u001b[0m\u001b[0msort\u001b[0m\u001b[0;34m(\u001b[0m\u001b[0;34m'time'\u001b[0m\u001b[0;34m)\u001b[0m\u001b[0;34m\u001b[0m\u001b[0m\n",
      "\u001b[0;32m/Users/judithfan/Library/Python/2.7/lib/python/site-packages/pymongo/cursor.pyc\u001b[0m in \u001b[0;36mnext\u001b[0;34m(self)\u001b[0m\n\u001b[1;32m   1130\u001b[0m         \u001b[0;32mif\u001b[0m \u001b[0mself\u001b[0m\u001b[0;34m.\u001b[0m\u001b[0m__empty\u001b[0m\u001b[0;34m:\u001b[0m\u001b[0;34m\u001b[0m\u001b[0m\n\u001b[1;32m   1131\u001b[0m             \u001b[0;32mraise\u001b[0m \u001b[0mStopIteration\u001b[0m\u001b[0;34m\u001b[0m\u001b[0m\n\u001b[0;32m-> 1132\u001b[0;31m         \u001b[0;32mif\u001b[0m \u001b[0mlen\u001b[0m\u001b[0;34m(\u001b[0m\u001b[0mself\u001b[0m\u001b[0;34m.\u001b[0m\u001b[0m__data\u001b[0m\u001b[0;34m)\u001b[0m \u001b[0;32mor\u001b[0m \u001b[0mself\u001b[0m\u001b[0;34m.\u001b[0m\u001b[0m_refresh\u001b[0m\u001b[0;34m(\u001b[0m\u001b[0;34m)\u001b[0m\u001b[0;34m:\u001b[0m\u001b[0;34m\u001b[0m\u001b[0m\n\u001b[0m\u001b[1;32m   1133\u001b[0m             \u001b[0;32mif\u001b[0m \u001b[0mself\u001b[0m\u001b[0;34m.\u001b[0m\u001b[0m__manipulate\u001b[0m\u001b[0;34m:\u001b[0m\u001b[0;34m\u001b[0m\u001b[0m\n\u001b[1;32m   1134\u001b[0m                 \u001b[0m_db\u001b[0m \u001b[0;34m=\u001b[0m \u001b[0mself\u001b[0m\u001b[0;34m.\u001b[0m\u001b[0m__collection\u001b[0m\u001b[0;34m.\u001b[0m\u001b[0mdatabase\u001b[0m\u001b[0;34m\u001b[0m\u001b[0m\n",
      "\u001b[0;32m/Users/judithfan/Library/Python/2.7/lib/python/site-packages/pymongo/cursor.pyc\u001b[0m in \u001b[0;36m_refresh\u001b[0;34m(self)\u001b[0m\n\u001b[1;32m   1053\u001b[0m                                        \u001b[0mself\u001b[0m\u001b[0;34m.\u001b[0m\u001b[0m__batch_size\u001b[0m\u001b[0;34m,\u001b[0m\u001b[0;34m\u001b[0m\u001b[0m\n\u001b[1;32m   1054\u001b[0m                                        \u001b[0mself\u001b[0m\u001b[0;34m.\u001b[0m\u001b[0m__read_concern\u001b[0m\u001b[0;34m,\u001b[0m\u001b[0;34m\u001b[0m\u001b[0m\n\u001b[0;32m-> 1055\u001b[0;31m                                        self.__collation))\n\u001b[0m\u001b[1;32m   1056\u001b[0m             \u001b[0;32mif\u001b[0m \u001b[0;32mnot\u001b[0m \u001b[0mself\u001b[0m\u001b[0;34m.\u001b[0m\u001b[0m__id\u001b[0m\u001b[0;34m:\u001b[0m\u001b[0;34m\u001b[0m\u001b[0m\n\u001b[1;32m   1057\u001b[0m                 \u001b[0mself\u001b[0m\u001b[0;34m.\u001b[0m\u001b[0m__killed\u001b[0m \u001b[0;34m=\u001b[0m \u001b[0mTrue\u001b[0m\u001b[0;34m\u001b[0m\u001b[0m\n",
      "\u001b[0;32m/Users/judithfan/Library/Python/2.7/lib/python/site-packages/pymongo/cursor.pyc\u001b[0m in \u001b[0;36m__send_message\u001b[0;34m(self, operation)\u001b[0m\n\u001b[1;32m    890\u001b[0m             \u001b[0;32mtry\u001b[0m\u001b[0;34m:\u001b[0m\u001b[0;34m\u001b[0m\u001b[0m\n\u001b[1;32m    891\u001b[0m                 response = client._send_message_with_response(operation,\n\u001b[0;32m--> 892\u001b[0;31m                                                               **kwargs)\n\u001b[0m\u001b[1;32m    893\u001b[0m                 \u001b[0mself\u001b[0m\u001b[0;34m.\u001b[0m\u001b[0m__address\u001b[0m \u001b[0;34m=\u001b[0m \u001b[0mresponse\u001b[0m\u001b[0;34m.\u001b[0m\u001b[0maddress\u001b[0m\u001b[0;34m\u001b[0m\u001b[0m\n\u001b[1;32m    894\u001b[0m                 \u001b[0;32mif\u001b[0m \u001b[0mself\u001b[0m\u001b[0;34m.\u001b[0m\u001b[0m__exhaust\u001b[0m\u001b[0;34m:\u001b[0m\u001b[0;34m\u001b[0m\u001b[0m\n",
      "\u001b[0;32m/Users/judithfan/Library/Python/2.7/lib/python/site-packages/pymongo/mongo_client.pyc\u001b[0m in \u001b[0;36m_send_message_with_response\u001b[0;34m(self, operation, read_preference, exhaust, address)\u001b[0m\n\u001b[1;32m    948\u001b[0m             \u001b[0mself\u001b[0m\u001b[0;34m.\u001b[0m\u001b[0m__all_credentials\u001b[0m\u001b[0;34m,\u001b[0m\u001b[0;34m\u001b[0m\u001b[0m\n\u001b[1;32m    949\u001b[0m             \u001b[0mself\u001b[0m\u001b[0;34m.\u001b[0m\u001b[0m_event_listeners\u001b[0m\u001b[0;34m,\u001b[0m\u001b[0;34m\u001b[0m\u001b[0m\n\u001b[0;32m--> 950\u001b[0;31m             exhaust)\n\u001b[0m\u001b[1;32m    951\u001b[0m \u001b[0;34m\u001b[0m\u001b[0m\n\u001b[1;32m    952\u001b[0m     \u001b[0;32mdef\u001b[0m \u001b[0m_reset_on_error\u001b[0m\u001b[0;34m(\u001b[0m\u001b[0mself\u001b[0m\u001b[0;34m,\u001b[0m \u001b[0mserver\u001b[0m\u001b[0;34m,\u001b[0m \u001b[0mfunc\u001b[0m\u001b[0;34m,\u001b[0m \u001b[0;34m*\u001b[0m\u001b[0margs\u001b[0m\u001b[0;34m,\u001b[0m \u001b[0;34m**\u001b[0m\u001b[0mkwargs\u001b[0m\u001b[0;34m)\u001b[0m\u001b[0;34m:\u001b[0m\u001b[0;34m\u001b[0m\u001b[0m\n",
      "\u001b[0;32m/Users/judithfan/Library/Python/2.7/lib/python/site-packages/pymongo/mongo_client.pyc\u001b[0m in \u001b[0;36m_reset_on_error\u001b[0;34m(self, server, func, *args, **kwargs)\u001b[0m\n\u001b[1;32m    959\u001b[0m         \"\"\"\n\u001b[1;32m    960\u001b[0m         \u001b[0;32mtry\u001b[0m\u001b[0;34m:\u001b[0m\u001b[0;34m\u001b[0m\u001b[0m\n\u001b[0;32m--> 961\u001b[0;31m             \u001b[0;32mreturn\u001b[0m \u001b[0mfunc\u001b[0m\u001b[0;34m(\u001b[0m\u001b[0;34m*\u001b[0m\u001b[0margs\u001b[0m\u001b[0;34m,\u001b[0m \u001b[0;34m**\u001b[0m\u001b[0mkwargs\u001b[0m\u001b[0;34m)\u001b[0m\u001b[0;34m\u001b[0m\u001b[0m\n\u001b[0m\u001b[1;32m    962\u001b[0m         \u001b[0;32mexcept\u001b[0m \u001b[0mNetworkTimeout\u001b[0m\u001b[0;34m:\u001b[0m\u001b[0;34m\u001b[0m\u001b[0m\n\u001b[1;32m    963\u001b[0m             \u001b[0;31m# The socket has been closed. Don't reset the server.\u001b[0m\u001b[0;34m\u001b[0m\u001b[0;34m\u001b[0m\u001b[0m\n",
      "\u001b[0;32m/Users/judithfan/Library/Python/2.7/lib/python/site-packages/pymongo/server.pyc\u001b[0m in \u001b[0;36msend_message_with_response\u001b[0;34m(self, operation, set_slave_okay, all_credentials, listeners, exhaust)\u001b[0m\n\u001b[1;32m    134\u001b[0m             \u001b[0;32mtry\u001b[0m\u001b[0;34m:\u001b[0m\u001b[0;34m\u001b[0m\u001b[0m\n\u001b[1;32m    135\u001b[0m                 \u001b[0msock_info\u001b[0m\u001b[0;34m.\u001b[0m\u001b[0msend_message\u001b[0m\u001b[0;34m(\u001b[0m\u001b[0mdata\u001b[0m\u001b[0;34m,\u001b[0m \u001b[0mmax_doc_size\u001b[0m\u001b[0;34m)\u001b[0m\u001b[0;34m\u001b[0m\u001b[0m\n\u001b[0;32m--> 136\u001b[0;31m                 \u001b[0mresponse_data\u001b[0m \u001b[0;34m=\u001b[0m \u001b[0msock_info\u001b[0m\u001b[0;34m.\u001b[0m\u001b[0mreceive_message\u001b[0m\u001b[0;34m(\u001b[0m\u001b[0;36m1\u001b[0m\u001b[0;34m,\u001b[0m \u001b[0mrequest_id\u001b[0m\u001b[0;34m)\u001b[0m\u001b[0;34m\u001b[0m\u001b[0m\n\u001b[0m\u001b[1;32m    137\u001b[0m             \u001b[0;32mexcept\u001b[0m \u001b[0mException\u001b[0m \u001b[0;32mas\u001b[0m \u001b[0mexc\u001b[0m\u001b[0;34m:\u001b[0m\u001b[0;34m\u001b[0m\u001b[0m\n\u001b[1;32m    138\u001b[0m                 \u001b[0;32mif\u001b[0m \u001b[0mpublish\u001b[0m\u001b[0;34m:\u001b[0m\u001b[0;34m\u001b[0m\u001b[0m\n",
      "\u001b[0;32m/Users/judithfan/Library/Python/2.7/lib/python/site-packages/pymongo/pool.pyc\u001b[0m in \u001b[0;36mreceive_message\u001b[0;34m(self, operation, request_id)\u001b[0m\n\u001b[1;32m    508\u001b[0m                 self.sock, operation, request_id, self.max_message_size)\n\u001b[1;32m    509\u001b[0m         \u001b[0;32mexcept\u001b[0m \u001b[0mBaseException\u001b[0m \u001b[0;32mas\u001b[0m \u001b[0merror\u001b[0m\u001b[0;34m:\u001b[0m\u001b[0;34m\u001b[0m\u001b[0m\n\u001b[0;32m--> 510\u001b[0;31m             \u001b[0mself\u001b[0m\u001b[0;34m.\u001b[0m\u001b[0m_raise_connection_failure\u001b[0m\u001b[0;34m(\u001b[0m\u001b[0merror\u001b[0m\u001b[0;34m)\u001b[0m\u001b[0;34m\u001b[0m\u001b[0m\n\u001b[0m\u001b[1;32m    511\u001b[0m \u001b[0;34m\u001b[0m\u001b[0m\n\u001b[1;32m    512\u001b[0m     \u001b[0;32mdef\u001b[0m \u001b[0mlegacy_write\u001b[0m\u001b[0;34m(\u001b[0m\u001b[0mself\u001b[0m\u001b[0;34m,\u001b[0m \u001b[0mrequest_id\u001b[0m\u001b[0;34m,\u001b[0m \u001b[0mmsg\u001b[0m\u001b[0;34m,\u001b[0m \u001b[0mmax_doc_size\u001b[0m\u001b[0;34m,\u001b[0m \u001b[0mwith_last_error\u001b[0m\u001b[0;34m)\u001b[0m\u001b[0;34m:\u001b[0m\u001b[0;34m\u001b[0m\u001b[0m\n",
      "\u001b[0;32m/Users/judithfan/Library/Python/2.7/lib/python/site-packages/pymongo/pool.pyc\u001b[0m in \u001b[0;36m_raise_connection_failure\u001b[0;34m(self, error)\u001b[0m\n\u001b[1;32m    608\u001b[0m             \u001b[0m_raise_connection_failure\u001b[0m\u001b[0;34m(\u001b[0m\u001b[0mself\u001b[0m\u001b[0;34m.\u001b[0m\u001b[0maddress\u001b[0m\u001b[0;34m,\u001b[0m \u001b[0merror\u001b[0m\u001b[0;34m)\u001b[0m\u001b[0;34m\u001b[0m\u001b[0m\n\u001b[1;32m    609\u001b[0m         \u001b[0;32melse\u001b[0m\u001b[0;34m:\u001b[0m\u001b[0;34m\u001b[0m\u001b[0m\n\u001b[0;32m--> 610\u001b[0;31m             \u001b[0;32mraise\u001b[0m \u001b[0merror\u001b[0m\u001b[0;34m\u001b[0m\u001b[0m\n\u001b[0m\u001b[1;32m    611\u001b[0m \u001b[0;34m\u001b[0m\u001b[0m\n\u001b[1;32m    612\u001b[0m     \u001b[0;32mdef\u001b[0m \u001b[0m__eq__\u001b[0m\u001b[0;34m(\u001b[0m\u001b[0mself\u001b[0m\u001b[0;34m,\u001b[0m \u001b[0mother\u001b[0m\u001b[0;34m)\u001b[0m\u001b[0;34m:\u001b[0m\u001b[0;34m\u001b[0m\u001b[0m\n",
      "\u001b[0;31mAutoReconnect\u001b[0m: connection closed"
     ]
    }
   ],
   "source": [
    "TrialNum = []\n",
    "GameID = []\n",
    "Condition = []\n",
    "Target = []\n",
    "Distractor1 = []\n",
    "Distractor2 = []\n",
    "Distractor3 = []\n",
    "Outcome = []\n",
    "Response = []\n",
    "numStrokes = []\n",
    "drawDuration = [] # in seconds\n",
    "viewerRT = []\n",
    "svgStringLength = [] # sum of svg string for whole sketch\n",
    "svgStringLengthPerStroke = [] # svg string length per stroke\n",
    "numCurvesPerSketch = [] # number of curve segments per sketch\n",
    "numCurvesPerStroke = [] # mean number of curve segments per stroke\n",
    "svgStringStd = [] # std of svg string length across strokes for this sketch\n",
    "Outcome = []\n",
    "Pose = []\n",
    "Svg = []\n",
    "\n",
    "these_gameids = unfiltered_gameids\n",
    "\n",
    "for g in these_gameids:\n",
    "    print 'Analyzing game: ', g\n",
    "\n",
    "    X = coll.find({ '$and': [{'gameid': g}, {'eventType': 'clickedObj'}]}).sort('time')\n",
    "    Y = coll.find({ '$and': [{'gameid': g}, {'eventType': 'stroke'}]}).sort('time')\n",
    "\n",
    "    for t in X:\n",
    "        targetname = t['intendedName']\n",
    "        distractors = [t['object2Name'],t['object3Name'],t['object4Name']]\n",
    "        full_list = [t['intendedName'],t['object2Name'],t['object3Name'],t['object4Name']] \n",
    "        y = coll.find({ '$and': [{'gameid': g}, {'eventType': 'stroke'}, {'trialNum': t['trialNum']}]}).sort('time')\n",
    "        ns = y.count()\n",
    "        numStrokes.append(ns)\n",
    "        drawDuration.append((y.__getitem__(ns-1)['time'] - y.__getitem__(0)['time'])/1000) # in seconds  \n",
    "        y = coll.find({ '$and': [{'gameid': g}, {'eventType': 'stroke'}, {'trialNum': t['trialNum']}]}).sort('time')        \n",
    "        z = coll.find({ '$and': [{'gameid': g}, {'eventType': 'clickedObj'}, {'trialNum': t['trialNum']}]}).sort('time')\n",
    "        viewerRT.append((z.__getitem__(0)['time'] - y.__getitem__(ns-1)['time'])/1000)\n",
    "        ls = [len(_y['svgData']) for _y in y]\n",
    "        svgStringLength.append(reduce(lambda x, y: x + y, ls))\n",
    "        y = coll.find({ '$and': [{'gameid': g}, {'eventType': 'stroke'}, {'trialNum': t['trialNum']}]}).sort('time')\n",
    "        num_curves = [len([m.start() for m in re.finditer('c', _y['svgData'])]) for _y in y]\n",
    "        y = coll.find({ '$and': [{'gameid': g}, {'eventType': 'stroke'}, {'trialNum': t['trialNum']}]}).sort('time')        \n",
    "        _svg = []\n",
    "        for _y in y:\n",
    "            _svg.append(_y['svgData'])\n",
    "        Svg.append(_svg)\n",
    "        numCurvesPerSketch.append(reduce(lambda x, y: x + y, num_curves))\n",
    "        numCurvesPerStroke.append(reduce(lambda x, y: x + y, num_curves)/ns)\n",
    "        svgStringLengthPerStroke.append(reduce(lambda x, y: x + y, ls)/ns)\n",
    "        svgStringStd.append(np.std(ls))\n",
    "        ### aggregate game metadata\n",
    "        TrialNum.append(t['trialNum'])\n",
    "        GameID.append(t['gameid'])        \n",
    "        Target.append(targetname)\n",
    "        Condition.append(t['condition'])\n",
    "        Response.append(t['clickedName'])\n",
    "        Outcome.append(t['correct'])\n",
    "        Distractor1.append(distractors[0])\n",
    "        Distractor2.append(distractors[1])\n",
    "        Distractor3.append(distractors[2])\n",
    "        Pose.append(t['pose'])\n",
    "        "
   ]
  },
  {
   "cell_type": "code",
   "execution_count": null,
   "metadata": {
    "collapsed": false
   },
   "outputs": [],
   "source": [
    "## compose pandas dataframe from lists\n",
    "iteration = ['pilot2']*len(GameID)\n",
    "\n",
    "_D = pd.DataFrame([GameID,TrialNum,Condition, Target, drawDuration, Outcome, Response, numStrokes, \\\n",
    "                  svgStringLength, svgStringLengthPerStroke, svgStringStd, Distractor1, Distractor2, \\\n",
    "                   Distractor3, Pose, iteration, Svg, viewerRT]) \\\n",
    "\n",
    "D =_D.transpose()\n",
    "D.columns = ['gameID','trialNum','condition', 'target', 'drawDuration','outcome', 'response', \\\n",
    "             'numStrokes', 'svgStringLength', 'svgStringLengthPerStroke', 'svgStringStd', \\\n",
    "            'Distractor1', 'Distractor2', 'Distractor3', 'pose', 'iteration', 'svg','viewerRT']"
   ]
  },
  {
   "cell_type": "code",
   "execution_count": null,
   "metadata": {
    "collapsed": false
   },
   "outputs": [],
   "source": []
  },
  {
   "cell_type": "code",
   "execution_count": null,
   "metadata": {
    "collapsed": false
   },
   "outputs": [],
   "source": [
    "## add png to D dataframe\n",
    "png = []\n",
    "for g in these_gameids:\n",
    "    X = coll.find({ '$and': [{'gameid': g}, {'eventType': 'clickedObj'}]}).sort('time')\n",
    "    Y = coll.find({ '$and': [{'gameid': g}, {'eventType': 'stroke'}]}).sort('time')\n",
    "    # print out sketches from all trials from this game\n",
    "    for t in X: \n",
    "        png.append(t['pngString'])\n",
    "D = D.assign(png=pd.Series(png).values)\n",
    "\n",
    "iteration = ['pilot2']*len(D['gameID'].values)\n",
    "D = D.assign(iteration=pd.Series(iteration).values)\n",
    "\n",
    "## add another cost-related dependent measure: mean pixel intensity (amount of ink spilled) -- to handle\n",
    "## some weird glitches in the num stroke count\n",
    "mean_intensity = []\n",
    "imsize = 100\n",
    "numpix = imsize**2\n",
    "thresh = 250\n",
    "\n",
    "for i,_d in D.iterrows():\n",
    "    imgData = _d['png']\n",
    "    filestr = base64.b64decode(imgData)\n",
    "    fname = os.path.join('sketch.png')\n",
    "    with open(fname, \"wb\") as fh:\n",
    "        fh.write(imgData.decode('base64'))\n",
    "    im = Image.open(fname).resize((imsize,imsize))\n",
    "    _im = np.array(im)\n",
    "    mean_intensity.append(len(np.where(_im[:,:,3].flatten()>thresh)[0])/numpix)\n",
    "    \n",
    "# add mean_intensity to the main D dataframe \n",
    "### btw: mean_intensity and numStrokes is about 0.43 spearman correlated.\n",
    "D = D.assign(mean_intensity=pd.Series(mean_intensity).values)\n",
    "print stats.spearmanr(D['mean_intensity'].values,D['numStrokes'].values)\n",
    "\n",
    "category = [h.objcat[t] for t in D.target.values]\n",
    "D = D.assign(category=pd.Series(category).values)\n"
   ]
  },
  {
   "cell_type": "code",
   "execution_count": null,
   "metadata": {
    "collapsed": false
   },
   "outputs": [],
   "source": [
    "# save D out as group_data.csv \n",
    "if len(np.unique(D.gameID.values))==len(valid_gameids):\n",
    "    D.to_csv(os.path.join(analysis_dir,'sketchpad_basic_pilot2_group_data.csv'))\n",
    "    print 'Saving out valid games csv'\n",
    "elif len(np.unique(D.gameID.values))==len(unfiltered_gameids):\n",
    "    D.to_csv(os.path.join(analysis_dir,'sketchpad_basic_pilot2_group_data_unfiltered.csv'))\n",
    "    print 'Saving out unfiltered games csv'    "
   ]
  },
  {
   "cell_type": "code",
   "execution_count": null,
   "metadata": {
    "collapsed": false
   },
   "outputs": [],
   "source": []
  },
  {
   "cell_type": "code",
   "execution_count": null,
   "metadata": {
    "collapsed": false
   },
   "outputs": [],
   "source": []
  },
  {
   "cell_type": "code",
   "execution_count": null,
   "metadata": {
    "collapsed": false
   },
   "outputs": [],
   "source": []
  },
  {
   "cell_type": "code",
   "execution_count": null,
   "metadata": {
    "collapsed": false
   },
   "outputs": [],
   "source": []
  },
  {
   "cell_type": "markdown",
   "metadata": {},
   "source": [
    "### Visualize summary stats"
   ]
  },
  {
   "cell_type": "code",
   "execution_count": 104,
   "metadata": {
    "collapsed": false
   },
   "outputs": [],
   "source": [
    "# read group data csv in as D\n",
    "D = pd.read_csv(os.path.join(analysis_dir,'sketchpad_basic_pilot2_group_data.csv'))"
   ]
  },
  {
   "cell_type": "code",
   "execution_count": 105,
   "metadata": {
    "collapsed": false
   },
   "outputs": [],
   "source": [
    "# get summary statistics\n",
    "all_games = np.unique(D['gameID'])\n",
    "further_strokes = []\n",
    "closer_strokes = []\n",
    "further_svgLength = []\n",
    "closer_svgLength = []\n",
    "further_svgStd = []\n",
    "closer_svgStd = []\n",
    "further_svgLengthPS = []\n",
    "closer_svgLengthPS = []\n",
    "further_drawDuration = []\n",
    "closer_drawDuration = []\n",
    "further_accuracy = []\n",
    "closer_accuracy = []\n",
    "closer_meanintensity = []\n",
    "further_meanintensity = []\n",
    "closer_viewerRT = []\n",
    "further_viewerRT = []\n",
    "\n",
    "for game in all_games:    \n",
    "    further_strokes.append(D[(D['gameID']== game) & (D['condition'] == 'further')]['numStrokes'].mean())\n",
    "    closer_strokes.append(D[(D['gameID']== game) & (D['condition'] == 'closer')]['numStrokes'].mean())\n",
    "    further_svgLength.append(D[(D['gameID']== game) & (D['condition'] == 'further')]['svgStringLength'].mean())\n",
    "    closer_svgLength.append(D[(D['gameID']== game) & (D['condition'] == 'closer')]['svgStringLength'].mean())\n",
    "    further_svgStd.append(D[(D['gameID']== game) & (D['condition'] == 'further')]['svgStringStd'].mean())\n",
    "    closer_svgStd.append(D[(D['gameID']== game) & (D['condition'] == 'closer')]['svgStringStd'].mean())    \n",
    "    further_svgLengthPS.append(D[(D['gameID']== game) & (D['condition'] == 'further')]['svgStringLengthPerStroke'].mean())\n",
    "    closer_svgLengthPS.append(D[(D['gameID']== game) & (D['condition'] == 'closer')]['svgStringLengthPerStroke'].mean())\n",
    "    further_drawDuration.append(D[(D['gameID']== game) & (D['condition'] == 'further')]['drawDuration'].mean())\n",
    "    closer_drawDuration.append(D[(D['gameID']== game) & (D['condition'] == 'closer')]['drawDuration'].mean())\n",
    "    further_accuracy.append(D[(D['gameID']== game) & (D['condition'] == 'further')]['outcome'].mean())\n",
    "    closer_accuracy.append(D[(D['gameID']== game) & (D['condition'] == 'closer')]['outcome'].mean())\n",
    "    closer_meanintensity.append(D[(D['gameID']== game) & (D['condition'] == 'closer')]['mean_intensity'].mean())    \n",
    "    further_meanintensity.append(D[(D['gameID']== game) & (D['condition'] == 'further')]['mean_intensity'].mean())        \n",
    "    closer_viewerRT.append(D[(D['gameID']== game) & (D['condition'] == 'closer')]['viewerRT'].mean())    \n",
    "    further_viewerRT.append(D[(D['gameID']== game) & (D['condition'] == 'further')]['viewerRT'].mean())     \n",
    "    \n",
    "further_strokes, closer_strokes, further_svgLength, closer_svgLength, \\\n",
    "further_svgStd, closer_svgStd, further_svgLengthPS, closer_svgLengthPS, \\\n",
    "further_drawDuration, closer_drawDuration, further_accuracy, closer_accuracy, \\\n",
    "closer_meanintensity,further_meanintensity, closer_viewerRT, further_viewerRT = map(np.array, \\\n",
    "[further_strokes, closer_strokes, further_svgLength, closer_svgLength,\\\n",
    " further_svgStd, closer_svgStd, further_svgLengthPS, closer_svgLengthPS, \\\n",
    "further_drawDuration, closer_drawDuration, further_accuracy, closer_accuracy, \\\n",
    "closer_meanintensity, further_meanintensity, closer_viewerRT, further_viewerRT])"
   ]
  },
  {
   "cell_type": "code",
   "execution_count": null,
   "metadata": {
    "collapsed": false
   },
   "outputs": [],
   "source": []
  },
  {
   "cell_type": "code",
   "execution_count": 106,
   "metadata": {
    "collapsed": false
   },
   "outputs": [
    {
     "name": "stdout",
     "output_type": "stream",
     "text": [
      "condition\n",
      "closer     13.538306\n",
      "further     8.077285\n",
      "Name: numStrokes, dtype: float64\n",
      "condition\n",
      "closer     0.053560\n",
      "further    0.041718\n",
      "Name: mean_intensity, dtype: float64\n",
      "condition\n",
      "closer     30.647843\n",
      "further    13.873610\n",
      "Name: drawDuration, dtype: float64\n",
      "condition\n",
      "closer     0.879032\n",
      "further    0.996640\n",
      "Name: outcome, dtype: float64\n",
      "condition\n",
      "closer     8.320626\n",
      "further    6.319662\n",
      "Name: viewerRT, dtype: float64\n"
     ]
    }
   ],
   "source": [
    "def trim_outliers(x):\n",
    "    mu = np.mean(x)\n",
    "    sd = np.std(x)\n",
    "    thresh = mu + sd*3\n",
    "    y = [i for i in x if i<thresh]\n",
    "    return y\n",
    "\n",
    "def bootstrap(w,nIter=50000):\n",
    "    boot = []\n",
    "    for i in np.arange(nIter):\n",
    "        boot.append(np.mean(np.random.choice(w,len(w),replace=True)))\n",
    "    boot = np.array(boot) \n",
    "    p = sum(boot<0)/len(boot)*2\n",
    "    lb = np.percentile(boot,2.5)\n",
    "    ub = np.percentile(boot,97.5)\n",
    "    print 'p = ' + str(sum(boot<0)/len(boot)*2)\n",
    "    return boot, p, lb, ub\n",
    "\n",
    "print D.groupby('condition')['numStrokes'].mean()\n",
    "print D.groupby('condition')['mean_intensity'].mean()\n",
    "print D.groupby('condition')['drawDuration'].mean()\n",
    "print D.groupby('condition')['outcome'].mean()\n",
    "print D.groupby('condition')['viewerRT'].mean()"
   ]
  },
  {
   "cell_type": "code",
   "execution_count": 111,
   "metadata": {
    "collapsed": false
   },
   "outputs": [
    {
     "ename": "IOError",
     "evalue": "[Errno 2] No such file or directory: '../manuscript/figures_raw/sketchpad_basic_taskperformance.pdf'",
     "output_type": "error",
     "traceback": [
      "\u001b[0;31m----------------------------------------------------\u001b[0m",
      "\u001b[0;31mIOError\u001b[0m            Traceback (most recent call last)",
      "\u001b[0;32m<ipython-input-111-aa7531b34f39>\u001b[0m in \u001b[0;36m<module>\u001b[0;34m()\u001b[0m\n\u001b[1;32m     21\u001b[0m     \u001b[0mos\u001b[0m\u001b[0;34m.\u001b[0m\u001b[0mmakedirs\u001b[0m\u001b[0;34m(\u001b[0m\u001b[0;34m'./plots'\u001b[0m\u001b[0;34m)\u001b[0m\u001b[0;34m\u001b[0m\u001b[0m\n\u001b[1;32m     22\u001b[0m \u001b[0mplt\u001b[0m\u001b[0;34m.\u001b[0m\u001b[0msavefig\u001b[0m\u001b[0;34m(\u001b[0m\u001b[0;34m'./plots/sketchpad_basic_pilot2_taskperformance.pdf'\u001b[0m\u001b[0;34m)\u001b[0m\u001b[0;34m\u001b[0m\u001b[0m\n\u001b[0;32m---> 23\u001b[0;31m \u001b[0mplt\u001b[0m\u001b[0;34m.\u001b[0m\u001b[0msavefig\u001b[0m\u001b[0;34m(\u001b[0m\u001b[0;34m'../manuscript/figures_raw/sketchpad_basic_taskperformance.pdf'\u001b[0m\u001b[0;34m)\u001b[0m\u001b[0;34m\u001b[0m\u001b[0m\n\u001b[0m",
      "\u001b[0;32m/Users/judithfan/Library/Python/2.7/lib/python/site-packages/matplotlib/pyplot.pyc\u001b[0m in \u001b[0;36msavefig\u001b[0;34m(*args, **kwargs)\u001b[0m\n\u001b[1;32m    699\u001b[0m \u001b[0;32mdef\u001b[0m \u001b[0msavefig\u001b[0m\u001b[0;34m(\u001b[0m\u001b[0;34m*\u001b[0m\u001b[0margs\u001b[0m\u001b[0;34m,\u001b[0m \u001b[0;34m**\u001b[0m\u001b[0mkwargs\u001b[0m\u001b[0;34m)\u001b[0m\u001b[0;34m:\u001b[0m\u001b[0;34m\u001b[0m\u001b[0m\n\u001b[1;32m    700\u001b[0m     \u001b[0mfig\u001b[0m \u001b[0;34m=\u001b[0m \u001b[0mgcf\u001b[0m\u001b[0;34m(\u001b[0m\u001b[0;34m)\u001b[0m\u001b[0;34m\u001b[0m\u001b[0m\n\u001b[0;32m--> 701\u001b[0;31m     \u001b[0mres\u001b[0m \u001b[0;34m=\u001b[0m \u001b[0mfig\u001b[0m\u001b[0;34m.\u001b[0m\u001b[0msavefig\u001b[0m\u001b[0;34m(\u001b[0m\u001b[0;34m*\u001b[0m\u001b[0margs\u001b[0m\u001b[0;34m,\u001b[0m \u001b[0;34m**\u001b[0m\u001b[0mkwargs\u001b[0m\u001b[0;34m)\u001b[0m\u001b[0;34m\u001b[0m\u001b[0m\n\u001b[0m\u001b[1;32m    702\u001b[0m     \u001b[0mfig\u001b[0m\u001b[0;34m.\u001b[0m\u001b[0mcanvas\u001b[0m\u001b[0;34m.\u001b[0m\u001b[0mdraw_idle\u001b[0m\u001b[0;34m(\u001b[0m\u001b[0;34m)\u001b[0m   \u001b[0;31m# need this if 'transparent=True' to reset colors\u001b[0m\u001b[0;34m\u001b[0m\u001b[0m\n\u001b[1;32m    703\u001b[0m     \u001b[0;32mreturn\u001b[0m \u001b[0mres\u001b[0m\u001b[0;34m\u001b[0m\u001b[0m\n",
      "\u001b[0;32m/Users/judithfan/Library/Python/2.7/lib/python/site-packages/matplotlib/figure.pyc\u001b[0m in \u001b[0;36msavefig\u001b[0;34m(self, fname, **kwargs)\u001b[0m\n\u001b[1;32m   1832\u001b[0m             \u001b[0mself\u001b[0m\u001b[0;34m.\u001b[0m\u001b[0mset_frameon\u001b[0m\u001b[0;34m(\u001b[0m\u001b[0mframeon\u001b[0m\u001b[0;34m)\u001b[0m\u001b[0;34m\u001b[0m\u001b[0m\n\u001b[1;32m   1833\u001b[0m \u001b[0;34m\u001b[0m\u001b[0m\n\u001b[0;32m-> 1834\u001b[0;31m         \u001b[0mself\u001b[0m\u001b[0;34m.\u001b[0m\u001b[0mcanvas\u001b[0m\u001b[0;34m.\u001b[0m\u001b[0mprint_figure\u001b[0m\u001b[0;34m(\u001b[0m\u001b[0mfname\u001b[0m\u001b[0;34m,\u001b[0m \u001b[0;34m**\u001b[0m\u001b[0mkwargs\u001b[0m\u001b[0;34m)\u001b[0m\u001b[0;34m\u001b[0m\u001b[0m\n\u001b[0m\u001b[1;32m   1835\u001b[0m \u001b[0;34m\u001b[0m\u001b[0m\n\u001b[1;32m   1836\u001b[0m         \u001b[0;32mif\u001b[0m \u001b[0mframeon\u001b[0m\u001b[0;34m:\u001b[0m\u001b[0;34m\u001b[0m\u001b[0m\n",
      "\u001b[0;32m/Users/judithfan/Library/Python/2.7/lib/python/site-packages/matplotlib/backend_bases.pyc\u001b[0m in \u001b[0;36mprint_figure\u001b[0;34m(self, filename, dpi, facecolor, edgecolor, orientation, format, **kwargs)\u001b[0m\n\u001b[1;32m   2265\u001b[0m                 \u001b[0morientation\u001b[0m\u001b[0;34m=\u001b[0m\u001b[0morientation\u001b[0m\u001b[0;34m,\u001b[0m\u001b[0;34m\u001b[0m\u001b[0m\n\u001b[1;32m   2266\u001b[0m                 \u001b[0mbbox_inches_restore\u001b[0m\u001b[0;34m=\u001b[0m\u001b[0m_bbox_inches_restore\u001b[0m\u001b[0;34m,\u001b[0m\u001b[0;34m\u001b[0m\u001b[0m\n\u001b[0;32m-> 2267\u001b[0;31m                 **kwargs)\n\u001b[0m\u001b[1;32m   2268\u001b[0m         \u001b[0;32mfinally\u001b[0m\u001b[0;34m:\u001b[0m\u001b[0;34m\u001b[0m\u001b[0m\n\u001b[1;32m   2269\u001b[0m             \u001b[0;32mif\u001b[0m \u001b[0mbbox_inches\u001b[0m \u001b[0;32mand\u001b[0m \u001b[0mrestore_bbox\u001b[0m\u001b[0;34m:\u001b[0m\u001b[0;34m\u001b[0m\u001b[0m\n",
      "\u001b[0;32m/Users/judithfan/Library/Python/2.7/lib/python/site-packages/matplotlib/backends/backend_pdf.pyc\u001b[0m in \u001b[0;36mprint_pdf\u001b[0;34m(self, filename, **kwargs)\u001b[0m\n\u001b[1;32m   2582\u001b[0m             \u001b[0mfile\u001b[0m \u001b[0;34m=\u001b[0m \u001b[0mfilename\u001b[0m\u001b[0;34m.\u001b[0m\u001b[0m_file\u001b[0m\u001b[0;34m\u001b[0m\u001b[0m\n\u001b[1;32m   2583\u001b[0m         \u001b[0;32melse\u001b[0m\u001b[0;34m:\u001b[0m\u001b[0;34m\u001b[0m\u001b[0m\n\u001b[0;32m-> 2584\u001b[0;31m             \u001b[0mfile\u001b[0m \u001b[0;34m=\u001b[0m \u001b[0mPdfFile\u001b[0m\u001b[0;34m(\u001b[0m\u001b[0mfilename\u001b[0m\u001b[0;34m,\u001b[0m \u001b[0mmetadata\u001b[0m\u001b[0;34m=\u001b[0m\u001b[0mkwargs\u001b[0m\u001b[0;34m.\u001b[0m\u001b[0mpop\u001b[0m\u001b[0;34m(\u001b[0m\u001b[0;34m\"metadata\"\u001b[0m\u001b[0;34m,\u001b[0m \u001b[0mNone\u001b[0m\u001b[0;34m)\u001b[0m\u001b[0;34m)\u001b[0m\u001b[0;34m\u001b[0m\u001b[0m\n\u001b[0m\u001b[1;32m   2585\u001b[0m         \u001b[0;32mtry\u001b[0m\u001b[0;34m:\u001b[0m\u001b[0;34m\u001b[0m\u001b[0m\n\u001b[1;32m   2586\u001b[0m             \u001b[0mfile\u001b[0m\u001b[0;34m.\u001b[0m\u001b[0mnewPage\u001b[0m\u001b[0;34m(\u001b[0m\u001b[0mwidth\u001b[0m\u001b[0;34m,\u001b[0m \u001b[0mheight\u001b[0m\u001b[0;34m)\u001b[0m\u001b[0;34m\u001b[0m\u001b[0m\n",
      "\u001b[0;32m/Users/judithfan/Library/Python/2.7/lib/python/site-packages/matplotlib/backends/backend_pdf.pyc\u001b[0m in \u001b[0;36m__init__\u001b[0;34m(self, filename, metadata)\u001b[0m\n\u001b[1;32m    437\u001b[0m         \u001b[0mself\u001b[0m\u001b[0;34m.\u001b[0m\u001b[0mtell_base\u001b[0m \u001b[0;34m=\u001b[0m \u001b[0;36m0\u001b[0m\u001b[0;34m\u001b[0m\u001b[0m\n\u001b[1;32m    438\u001b[0m         \u001b[0;32mif\u001b[0m \u001b[0misinstance\u001b[0m\u001b[0;34m(\u001b[0m\u001b[0mfilename\u001b[0m\u001b[0;34m,\u001b[0m \u001b[0msix\u001b[0m\u001b[0;34m.\u001b[0m\u001b[0mstring_types\u001b[0m\u001b[0;34m)\u001b[0m\u001b[0;34m:\u001b[0m\u001b[0;34m\u001b[0m\u001b[0m\n\u001b[0;32m--> 439\u001b[0;31m             \u001b[0mfh\u001b[0m \u001b[0;34m=\u001b[0m \u001b[0mopen\u001b[0m\u001b[0;34m(\u001b[0m\u001b[0mfilename\u001b[0m\u001b[0;34m,\u001b[0m \u001b[0;34m'wb'\u001b[0m\u001b[0;34m)\u001b[0m\u001b[0;34m\u001b[0m\u001b[0m\n\u001b[0m\u001b[1;32m    440\u001b[0m         \u001b[0;32melif\u001b[0m \u001b[0mis_writable_file_like\u001b[0m\u001b[0;34m(\u001b[0m\u001b[0mfilename\u001b[0m\u001b[0;34m)\u001b[0m\u001b[0;34m:\u001b[0m\u001b[0;34m\u001b[0m\u001b[0m\n\u001b[1;32m    441\u001b[0m             \u001b[0;32mtry\u001b[0m\u001b[0;34m:\u001b[0m\u001b[0;34m\u001b[0m\u001b[0m\n",
      "\u001b[0;31mIOError\u001b[0m: [Errno 2] No such file or directory: '../manuscript/figures_raw/sketchpad_basic_taskperformance.pdf'"
     ]
    },
    {
     "data": {
      "image/png": "[encoded data removed]",
      "text/plain": [
       "<matplotlib.figure.Figure at 0x10f100f90>"
      ]
     },
     "metadata": {},
     "output_type": "display_data"
    }
   ],
   "source": [
    "plt.figure(figsize=(12,4))\n",
    "plt.subplot(1,5,1)\n",
    "ax = sns.barplot(data=D,x='condition',y='numStrokes')\n",
    "plt.ylabel('num strokes')\n",
    "plt.subplot(1,5,2)\n",
    "sns.barplot(data=D,x='condition',y='mean_intensity')\n",
    "plt.ylabel('mean pixel intensity')\n",
    "plt.subplot(1,5,3)\n",
    "sns.barplot(data=D,x='condition',y='outcome')\n",
    "plt.ylabel('accuracy')\n",
    "plt.ylim([0,1.01])\n",
    "plt.subplot(1,5,4)\n",
    "sns.barplot(data=D,x='condition',y='drawDuration')\n",
    "plt.ylabel('draw duration (s)')\n",
    "plt.subplot(1,5,5)\n",
    "ax = sns.barplot(data=D,x='condition',y='viewerRT')\n",
    "plt.ylabel('viewer RT (s)')\n",
    "plt.ylim(0,10)\n",
    "plt.tight_layout()\n",
    "if not os.path.exists('./plots'):\n",
    "    os.makedirs('./plots')\n",
    "plt.savefig('./plots/sketchpad_basic_pilot2_taskperformance.pdf')\n",
    "plt.savefig('../manuscript/figures/raw/sketchpad_basic_taskperformance.pdf')"
   ]
  },
  {
   "cell_type": "code",
   "execution_count": null,
   "metadata": {
    "collapsed": false
   },
   "outputs": [],
   "source": []
  },
  {
   "cell_type": "code",
   "execution_count": 317,
   "metadata": {
    "collapsed": false
   },
   "outputs": [
    {
     "data": {
      "text/plain": [
       "93"
      ]
     },
     "execution_count": 317,
     "metadata": {},
     "output_type": "execute_result"
    }
   ],
   "source": [
    "len(np.unique(D.gameID.values))"
   ]
  },
  {
   "cell_type": "code",
   "execution_count": null,
   "metadata": {
    "collapsed": false
   },
   "outputs": [],
   "source": []
  },
  {
   "cell_type": "code",
   "execution_count": null,
   "metadata": {
    "collapsed": false
   },
   "outputs": [],
   "source": [
    "## bootstrapped CI's on main task performance measures\n",
    "boot, p, lb, ub = bootstrap(closer_strokes - further_strokes)\n",
    "print p,lb,ub\n",
    "\n",
    "boot, p, lb, ub = bootstrap(closer_meanintensity - further_meanintensity)\n",
    "print p,lb,ub\n",
    "\n",
    "boot, p, lb, ub = bootstrap(closer_drawDuration - further_drawDuration)\n",
    "print p,lb,ub\n",
    "\n",
    "boot, p, lb, ub = bootstrap(closer_drawDuration - further_drawDuration)\n",
    "print p,lb,ub\n",
    "\n",
    "boot, p, lb, ub = bootstrap(closer_viewerRT - further_viewerRT)\n",
    "print p,lb,ub"
   ]
  },
  {
   "cell_type": "code",
   "execution_count": null,
   "metadata": {
    "collapsed": false
   },
   "outputs": [],
   "source": []
  },
  {
   "cell_type": "code",
   "execution_count": null,
   "metadata": {
    "collapsed": false
   },
   "outputs": [],
   "source": []
  },
  {
   "cell_type": "code",
   "execution_count": null,
   "metadata": {
    "collapsed": false
   },
   "outputs": [],
   "source": [
    "fig = plt.figure(figsize=(10,10))\n",
    "plt.subplot(2,2,1)\n",
    "lb = 0\n",
    "ub = 24\n",
    "plt.plot([lb,ub],[lb,ub],'k--')\n",
    "plt.scatter(closer_strokes,further_strokes,64,(0.8,0.4,0.4))\n",
    "plt.xlim([lb,ub])\n",
    "plt.ylim([lb,ub])\n",
    "plt.title('number of strokes')\n",
    "plt.xlabel('closer')\n",
    "plt.ylabel('further')\n",
    "plt.subplot(2,2,2)\n",
    "lb = 0\n",
    "ub = 3000\n",
    "plt.plot([lb,ub],[lb,ub],'k--')\n",
    "plt.scatter(closer_svgLength,further_svgLength,64,(0.8,0.4,0.4))\n",
    "plt.xlim([lb,ub])\n",
    "plt.ylim([lb,ub])\n",
    "plt.tight_layout()\n",
    "plt.title('svg string length')\n",
    "plt.xlabel('closer')\n",
    "plt.ylabel('further')\n",
    "plt.subplot(2,2,3)\n",
    "lb = 0\n",
    "ub = 300\n",
    "plt.plot([lb,ub],[lb,ub],'k--')\n",
    "plt.scatter(closer_svgStd,further_svgStd,64,(0.8,0.4,0.4))\n",
    "plt.xlim([lb,ub])\n",
    "plt.ylim([lb,ub])\n",
    "plt.title('stroke variability')\n",
    "plt.xlabel('closer')\n",
    "plt.ylabel('further')\n",
    "plt.subplot(2,2,4)\n",
    "lb = 0\n",
    "ub = 300\n",
    "plt.plot([lb,ub],[lb,ub],'k--')\n",
    "plt.scatter(closer_svgLengthPS,further_svgLengthPS,64,(0.8,0.4,0.4))\n",
    "plt.xlim([lb,ub])\n",
    "plt.ylim([lb,ub])\n",
    "plt.tight_layout()\n",
    "plt.title('svg length per stroke')\n",
    "plt.xlabel('closer')\n",
    "plt.ylabel('further')\n",
    "save_out = 1\n",
    "if not os.path.exists('plots'):\n",
    "    os.makedirs('plots')\n",
    "if save_out:\n",
    "    save('plots/svg_summary_scatter_{}'.format(iterationName), ext='pdf', close=False, verbose=True)"
   ]
  },
  {
   "cell_type": "code",
   "execution_count": null,
   "metadata": {
    "collapsed": false
   },
   "outputs": [],
   "source": [
    "fig = plt.figure(figsize=(8,4))\n",
    "lb = 0\n",
    "ub = 1.03\n",
    "plt.subplot(1,2,1)\n",
    "plt.plot([lb,ub],[lb,ub],'k--')\n",
    "plt.scatter(closer_accuracy,further_accuracy,64,(0.8,0.4,0.4))\n",
    "plt.xlim([lb,ub])\n",
    "plt.ylim([lb,ub])\n",
    "plt.title('accuracy')\n",
    "plt.xlabel('closer')\n",
    "plt.ylabel('further')\n",
    "plt.subplot(1,2,2)\n",
    "lb = 0\n",
    "ub = 36\n",
    "plt.plot([lb,ub],[lb,ub],'k--')\n",
    "plt.scatter(closer_drawDuration,further_drawDuration,64,(0.75,0.3,0.2))\n",
    "plt.xlim([lb,ub])\n",
    "plt.ylim([lb,ub])\n",
    "plt.title('draw duration')\n",
    "plt.xlabel('closer')\n",
    "plt.ylabel('further')\n",
    "plt.tight_layout()\n",
    "save_out = 1\n",
    "if save_out:\n",
    "    save('plots/performance_summary_scatter_{}'.format(iterationName), ext='pdf', close=False, verbose=True)"
   ]
  },
  {
   "cell_type": "code",
   "execution_count": null,
   "metadata": {
    "collapsed": false
   },
   "outputs": [],
   "source": [
    "def get_canonical(category):    \n",
    "    stimFile = os.path.join(exp_dir,'stimList_subord.js')\n",
    "    with open(stimFile) as f:\n",
    "        stimList = json.load(f)    \n",
    "    allviews = [i['filename'] for i in stimList if i['basic']==category]\n",
    "    canonical = [a for a in allviews if a[-8:]=='0035.png']    \n",
    "    return canonical\n",
    "\n",
    "def get_actual_pose(subordinate,pose):\n",
    "    stimFile = os.path.join(exp_dir,'stimList_subord.js')\n",
    "    with open(stimFile) as f:\n",
    "        stimList = json.load(f)\n",
    "    inpose = [i['filename'] for i in stimList if (i['subordinate']==subordinate) and (i['pose']==pose)]\n",
    "    return inpose\n",
    "    \n",
    "def get_subord_names(category):\n",
    "    full_names = get_canonical(category)    \n",
    "    return [c.split('_')[2] for c in full_names]\n",
    "\n",
    "def get_basic_names(subordinate):\n",
    "    stimFile = os.path.join(exp_dir,'stimList_subord.js')\n",
    "    with open(stimFile) as f:\n",
    "        stimList = json.load(f)   \n",
    "    allviews = [i['filename'] for i in stimList if i['subordinate']==subordinate]\n",
    "    canonical = [a for a in allviews if a[-8:]=='0035.png']      \n",
    "    return canonical[0].split('_')[0]\n",
    "\n",
    "def build_url_from_category(category):\n",
    "    full_names = get_canonical(category)\n",
    "    url_prefix = 'https://s3.amazonaws.com/sketchloop-images-subord/'\n",
    "    urls = []\n",
    "    for f in full_names:\n",
    "        urls.append(url_prefix + f)\n",
    "    return urls\n",
    "\n",
    "def build_url_from_filenames(filenames):\n",
    "    url_prefix = 'https://s3.amazonaws.com/sketchloop-images-subord/'\n",
    "    urls = []\n",
    "    for f in filenames:\n",
    "        urls.append(url_prefix + f)\n",
    "    return urls\n",
    "\n",
    "def plot_from_url(URL):\n",
    "    file = cStringIO.StringIO(urllib.urlopen(URL).read())\n",
    "    img = Image.open(file)    \n",
    "\n",
    "def plot_gallery(category):\n",
    "    import matplotlib.pyplot as plt\n",
    "    import matplotlib.gridspec as gridspec\n",
    "\n",
    "    plt.figure(figsize = (8,8))\n",
    "    gs1 = gridspec.GridSpec(8, 8)\n",
    "    gs1.update(wspace=0.025, hspace=0.05)\n",
    "\n",
    "    url_prefix = 'https://s3.amazonaws.com/sketchloop-images-subord/'\n",
    "    for (i,c) in enumerate(category):\n",
    "        URL = url_prefix + c\n",
    "        file = cStringIO.StringIO(urllib.urlopen(URL).read())\n",
    "        img = Image.open(file)\n",
    "        p = plt.subplot(3,3,i+1)\n",
    "        plt.imshow(img)\n",
    "        p.get_xaxis().set_ticklabels([])\n",
    "        p.get_yaxis().set_ticklabels([])\n",
    "        p.get_xaxis().set_ticks([])\n",
    "        p.get_yaxis().set_ticks([])\n",
    "        p.set_aspect('equal')\n",
    "        subord = c.split('_')[2]\n",
    "        plt.title(subord)\n",
    "    plt.tight_layout()\n",
    "    "
   ]
  },
  {
   "cell_type": "code",
   "execution_count": null,
   "metadata": {
    "collapsed": false
   },
   "outputs": [],
   "source": []
  },
  {
   "cell_type": "code",
   "execution_count": null,
   "metadata": {
    "collapsed": false
   },
   "outputs": [],
   "source": [
    "## print out sketches with target & distractors from this game\n",
    "import traceback\n",
    "backup_path_images = '/Users/judithfan/Dropbox/stimuli_repository/subordinate_allrotations_6_minified'\n",
    "\n",
    "_valid_gameids = valid_gameids[:3]\n",
    "\n",
    "## get list of all incorrect sketch path names\n",
    "incorrect_trial_paths = []\n",
    "\n",
    "run_this = 0\n",
    "if run_this:\n",
    "#     all_games = click_files\n",
    "    for g in valid_gameids:\n",
    "        print 'Printing out sketches from game: ' + g\n",
    "        _D = D[(D.gameID==g)]\n",
    "        _D = _D.sort_values(by=['target'])\n",
    "        _i = 1\n",
    "        textsize=12\n",
    "        fig = plt.figure(figsize=(16,6))        \n",
    "        for i,_d in _D.iterrows():\n",
    "            imgData = _d['png']\n",
    "            filestr = base64.b64decode(imgData)\n",
    "            target_sketch_dir = os.path.join(analysis_dir,'sketches_pilot2','sketch')\n",
    "            if not os.path.exists(target_sketch_dir):\n",
    "                os.makedirs(target_sketch_dir)\n",
    "            fname = os.path.join(target_sketch_dir,'gameID_' + _d['gameID'] + '_trial_' + str(_d['trialNum']) + '.png')\n",
    "            with open(fname, \"wb\") as fh:\n",
    "                fh.write(imgData.decode('base64'))\n",
    "            textsize = 16\n",
    "            # first plot the target\n",
    "            im = Image.open(fname)\n",
    "            p = plt.subplot(2,4,1)\n",
    "            plt.imshow(im)\n",
    "            sns.set_style('white')\n",
    "            k = p.get_xaxis().set_ticklabels([])\n",
    "            k = p.get_yaxis().set_ticklabels([])\n",
    "            k = p.get_xaxis().set_ticks([])\n",
    "            k = p.get_yaxis().set_ticks([])        \n",
    "            targetname = _d['target']\n",
    "            distractors = [_d['Distractor1'],_d['Distractor2'],_d['Distractor3']]\n",
    "            full_list = [_d['target'],_d['Distractor1'],_d['Distractor2'],_d['Distractor3']] \n",
    "            outcome = _d['outcome']\n",
    "            if _d['outcome']==0:\n",
    "                incorrect_trial_paths.append('gameID_' + _d['gameID'] + '_trial_' + str(_d['trialNum']) + '_' + _d['target'] + '.png')            \n",
    "                        \n",
    "            response = _d['response']        \n",
    "            if outcome == 1:\n",
    "                sides = ['bottom','top','right','left']\n",
    "                for s in sides:\n",
    "                    p.spines[s].set_color((0.4,0.8,0.4))\n",
    "                    p.spines[s].set_linewidth(4)                               \n",
    "            else:\n",
    "                sides = ['bottom','top','right','left']\n",
    "                for s in sides:\n",
    "                    p.spines[s].set_color((0.9,0.2,0.2))\n",
    "                    p.spines[s].set_linewidth(4)                      \n",
    "            plt.title(targetname,fontsize=textsize)\n",
    "            plt.ylabel('v:' + response,fontsize=textsize-2)        \n",
    "        \n",
    "            # fig = plt.figure(figsize=(8,3))\n",
    "            for (i,d) in enumerate(full_list):\n",
    "                if os.path.exists(backup_path_images):\n",
    "                    if hasattr(t, 'pose'):\n",
    "                        fn = os.path.join(backup_path_images,get_actual_pose(d,pose)[0])\n",
    "                    else:\n",
    "                        fn = os.path.join(backup_path_images,get_actual_pose(d,35)[0])\n",
    "                else:\n",
    "                    if hasattr(t, 'pose'):\n",
    "                        pose = t['pose']\n",
    "                        URL = build_url_from_filenames(get_actual_pose(d,pose)[0])\n",
    "                    else:\n",
    "                        URL = full_dict[d]\n",
    "                    fn = cStringIO.StringIO(urllib.urlopen(URL).read())\n",
    "                img = Image.open(fn)\n",
    "                p = plt.subplot(2,4,i+5)\n",
    "                plt.imshow(img)\n",
    "                p.get_xaxis().set_ticklabels([])\n",
    "                p.get_yaxis().set_ticklabels([])\n",
    "                p.get_xaxis().set_ticks([])\n",
    "                p.get_yaxis().set_ticks([])\n",
    "                p.set_aspect('equal')   \n",
    "                plt.title(d)\n",
    "\n",
    "            sketch_dir = os.path.join(analysis_dir,'sketches_pilot2','full_display')\n",
    "            if not os.path.exists(sketch_dir):\n",
    "                os.makedirs(os.path.join(analysis_dir,'sketches_pilot2','full_display'))\n",
    "            filepath = os.path.join(sketch_dir,'gameID_' + _d['gameID'] + '_trial_' + str(_d['trialNum']))\n",
    "            save(filepath, ext='png', close=True, verbose=False)"
   ]
  },
  {
   "cell_type": "code",
   "execution_count": null,
   "metadata": {
    "collapsed": false
   },
   "outputs": [],
   "source": [
    "## save out number of incorrect trial paths\n",
    "print \"Number of incorrect trial paths: {}\".format(str(len(incorrect_trial_paths)))\n",
    "with open('incorrect_trial_paths_pilot2.txt', 'w') as f:\n",
    "    for path in incorrect_trial_paths:\n",
    "        f.write(path + '\\n')"
   ]
  },
  {
   "cell_type": "code",
   "execution_count": null,
   "metadata": {
    "collapsed": false
   },
   "outputs": [],
   "source": []
  },
  {
   "cell_type": "markdown",
   "metadata": {},
   "source": [
    "### Print out sketches in separate folders"
   ]
  },
  {
   "cell_type": "code",
   "execution_count": null,
   "metadata": {
    "collapsed": false
   },
   "outputs": [],
   "source": []
  },
  {
   "cell_type": "code",
   "execution_count": null,
   "metadata": {
    "collapsed": false
   },
   "outputs": [],
   "source": [
    "## print out sketches with target & distractors from this game in separate folders\n",
    "import traceback\n",
    "backup_path_images = '/Users/judithfan/Dropbox/stimuli_repository/subordinate_allrotations_6_minified'\n",
    "\n",
    "_valid_gameids = valid_gameids[:3]\n",
    "\n",
    "target_sketch_dir = os.path.join(analysis_dir,'sketches_pilot2','sketch')\n",
    "target_3D_dir = os.path.join(analysis_dir,'sketches_pilot2','target')\n",
    "distractor1_3D_dir = os.path.join(analysis_dir,'sketches_pilot2','distractor1')\n",
    "distractor2_3D_dir = os.path.join(analysis_dir,'sketches_pilot2','distractor2')\n",
    "distractor3_3D_dir = os.path.join(analysis_dir,'sketches_pilot2','distractor3')\n",
    "out_paths = [target_3D_dir,distractor1_3D_dir,distractor2_3D_dir,distractor3_3D_dir]\n",
    "\n",
    "\n",
    "if not os.path.exists(target_3D_dir):\n",
    "    os.makedirs(os.path.join(analysis_dir,'sketches_pilot2','target'))\n",
    "    os.makedirs(os.path.join(analysis_dir,'sketches_pilot2','distractor1'))\n",
    "    os.makedirs(os.path.join(analysis_dir,'sketches_pilot2','distractor2'))\n",
    "    os.makedirs(os.path.join(analysis_dir,'sketches_pilot2','distractor3'))\n",
    "    os.makedirs(os.path.join(analysis_dir,'sketches_pilot2','sketch'))    \n",
    "\n",
    "run_this = 1\n",
    "if run_this:\n",
    "    for g in valid_gameids:\n",
    "        print 'Printing out sketches from game: ' + g\n",
    "        _D = D[(D.gameID==g)]\n",
    "        _D = _D.sort_values(by=['target'])\n",
    "        _i = 1\n",
    "        textsize=12\n",
    "        fig = plt.figure(figsize=(16,6))        \n",
    "        for i,_d in _D.iterrows():\n",
    "            imgData = _d['png']\n",
    "            filestr = base64.b64decode(imgData)\n",
    "            if not os.path.exists(target_sketch_dir):\n",
    "                os.makedirs(target_sketch_dir)\n",
    "            fname = os.path.join(target_sketch_dir,'gameID_' + _d['gameID'] + '_trial_' + str(_d['trialNum']) + '.png')\n",
    "            with open(fname, \"wb\") as fh:\n",
    "                fh.write(imgData.decode('base64'))\n",
    "            im = Image.open(fname)\n",
    "            im.save(fname)\n",
    "\n",
    "            targetname = _d['target']\n",
    "            distractors = [_d['Distractor1'],_d['Distractor2'],_d['Distractor3']]\n",
    "            full_list = [_d['target'],_d['Distractor1'],_d['Distractor2'],_d['Distractor3']]         \n",
    "            \n",
    "            for (i,d) in enumerate(full_list):\n",
    "                if os.path.exists(backup_path_images):\n",
    "                    if hasattr(t, 'pose'):\n",
    "                        fn = os.path.join(backup_path_images,get_actual_pose(d,pose)[0])\n",
    "                    else:\n",
    "                        fn = os.path.join(backup_path_images,get_actual_pose(d,35)[0])\n",
    "                else:\n",
    "                    if hasattr(t, 'pose'):\n",
    "                        pose = _d['pose']\n",
    "                        URL = build_url_from_filenames(get_actual_pose(d,pose)[0])\n",
    "                    else:\n",
    "                        URL = full_dict[d]\n",
    "                    fn = cStringIO.StringIO(urllib.urlopen(URL).read())\n",
    "                fig = plt.figure(figsize=(8,8))                    \n",
    "                im = Image.open(fn)\n",
    "                im = im.resize((256,256), Image.ANTIALIAS).convert('RGB')                                \n",
    "                out_dirs = [target_3D_dir,distractor1_3D_dir,distractor2_3D_dir,distractor3_3D_dir]                \n",
    "                out_path = os.path.join(out_dirs[i],'gameID_' + _d['gameID'] + '_trial_' + str(_d['trialNum']) + '_' + d + '.png')\n",
    "                im.save(out_path)\n",
    "\n"
   ]
  },
  {
   "cell_type": "code",
   "execution_count": null,
   "metadata": {
    "collapsed": false
   },
   "outputs": [],
   "source": []
  },
  {
   "cell_type": "code",
   "execution_count": null,
   "metadata": {
    "collapsed": false
   },
   "outputs": [],
   "source": []
  },
  {
   "cell_type": "markdown",
   "metadata": {},
   "source": [
    "## Load in data again to prep for model comparison"
   ]
  },
  {
   "cell_type": "code",
   "execution_count": 3,
   "metadata": {
    "collapsed": false
   },
   "outputs": [
    {
     "name": "stdout",
     "output_type": "stream",
     "text": [
      "(2682, 24)\n",
      "2682 records in merged dataframe\n",
      "194 incorrect trials\n",
      "132 invalid trials\n"
     ]
    }
   ],
   "source": [
    "D = pd.read_csv(os.path.join(analysis_dir,'sketchpad_basic_pilot2_group_data.csv'))\n",
    "DUNFIL = pd.read_csv(os.path.join(analysis_dir,'sketchpad_basic_pilot2_group_data_unfiltered.csv'))\n",
    "\n",
    "# filter out incorrect and invalid trials as well\n",
    "incorrects = pd.read_csv('./incorrect_trial_paths_pilot2.txt',header=None)[0].values\n",
    "invalids = pd.read_csv('./invalid_trial_paths_pilot2.txt',header=None)[0].values\n",
    "\n",
    "def add_fnames(D):\n",
    "    fname = []\n",
    "    for i,_d in D.iterrows():\n",
    "        fname.append('gameID_' + _d['gameID'] + '_trial_' + str(_d['trialNum']) + '_' + _d['target'] +'.png')    \n",
    "    D = D.assign(fname=pd.Series(fname).values)  \n",
    "\n",
    "    fname_no_target = []\n",
    "    for i,_d in D.iterrows():\n",
    "        fname_no_target.append('gameID_' + _d['gameID'] + '_trial_' + str(_d['trialNum']) +'.png')    \n",
    "    D = D.assign(fname_no_target=pd.Series(fname_no_target).values) \n",
    "    return D\n",
    "\n",
    "def filter_out_incorrect(D, incorrects):\n",
    "    D = D[~D['fname'].isin(incorrects)]\n",
    "    return D\n",
    "\n",
    "def filter_out_invalids(D, invalids):\n",
    "    D = D[~D['fname_no_target'].isin(invalids)] \n",
    "    return D\n",
    "    \n",
    "## add some filename columns\n",
    "D = add_fnames(D)\n",
    "DUNFIL = add_fnames(DUNFIL) ## version of dataframe with ALL trials, garbage games, incorrect trials, invalid trials\n",
    "\n",
    "DNOINC = filter_out_incorrect(DUNFIL, incorrects) ## save version of D containing with incorrect trials filtered out only\n",
    "DNOINV = filter_out_invalids(DUNFIL, invalids) ## save version of D containing with invalid trials filtered out only\n",
    "D = filter_out_invalids(filter_out_incorrect(D, incorrects), invalids) ## both kinds of garbage filtered out\n",
    "\n",
    "print np.shape(D)\n",
    "print str(np.shape(D)[0]) + ' records in merged dataframe'\n",
    "\n",
    "print '{} incorrect trials'.format(len(incorrects))\n",
    "print '{} invalid trials'.format(len(invalids))"
   ]
  },
  {
   "cell_type": "code",
   "execution_count": 4,
   "metadata": {
    "collapsed": false
   },
   "outputs": [
    {
     "name": "stdout",
     "output_type": "stream",
     "text": [
      "3072 trials with NO GARBAGE filtered out\n",
      "2878 trials with incorrects filtered out\n",
      "2940 trials with invalids filtered out\n",
      "2682 trials with ALL GARBAGE filtered out\n"
     ]
    }
   ],
   "source": [
    "print '{} trials with NO GARBAGE filtered out'.format(DUNFIL.shape[0])\n",
    "print '{} trials with incorrects filtered out'.format(DNOINC.shape[0])\n",
    "print '{} trials with invalids filtered out'.format(DNOINV.shape[0])\n",
    "print '{} trials with ALL GARBAGE filtered out'.format(D.shape[0])"
   ]
  },
  {
   "cell_type": "code",
   "execution_count": null,
   "metadata": {
    "collapsed": false
   },
   "outputs": [],
   "source": []
  },
  {
   "cell_type": "code",
   "execution_count": null,
   "metadata": {
    "collapsed": false
   },
   "outputs": [],
   "source": []
  },
  {
   "cell_type": "code",
   "execution_count": 5,
   "metadata": {
    "collapsed": false
   },
   "outputs": [],
   "source": [
    "## now assign sketch_label and class_label for the other versions of D\n",
    "def add_extra_label_columns(D):\n",
    "    sketch_label = [(i[-12:] + '_' + str(j)) for i,j in zip(D['gameID'].values,D['trialNum'].values)]\n",
    "    D = D.assign(sketch_label=pd.Series(sketch_label).values)\n",
    "\n",
    "    # add class label\n",
    "    category = []\n",
    "    classes = ['bird','car','chair','dog']\n",
    "    for i,d in D.iterrows():\n",
    "        category.append(h.objcat[d['target']])\n",
    "    D = D.assign(category=pd.Series(category).values)\n",
    "    return D\n",
    "\n",
    "D = add_extra_label_columns(D)\n",
    "DUNFIL = add_extra_label_columns(DUNFIL)\n",
    "DNOINC = add_extra_label_columns(DNOINC)\n",
    "DNOINV = add_extra_label_columns(DNOINV)"
   ]
  },
  {
   "cell_type": "code",
   "execution_count": null,
   "metadata": {
    "collapsed": false
   },
   "outputs": [],
   "source": []
  },
  {
   "cell_type": "code",
   "execution_count": null,
   "metadata": {
    "collapsed": false
   },
   "outputs": [],
   "source": []
  },
  {
   "cell_type": "markdown",
   "metadata": {
    "scrolled": false
   },
   "source": [
    "### Visualize distance distributions"
   ]
  },
  {
   "cell_type": "code",
   "execution_count": 17,
   "metadata": {
    "collapsed": false
   },
   "outputs": [],
   "source": [
    "##### this block is just to generate the lookup table for sketch ID's, e.g., {'trial_10_beetle': u'beetle'}\n",
    "path_to_dists = './strict-similarity-pragmatics-fixedpose-augmented-splitbycontext_conv4_2.json'\n",
    "#### path_to_dists = '../models/refModule/json/similarity-splitbyobject-sketch_unroll_synthetic.json'\n",
    "_dists = pd.read_json(path_to_dists)\n",
    "dists = _dists.transpose()\n",
    "x = _dists.columns.values\n",
    "y = [i.split('_')[-1] for i in x]\n",
    "lookup_table = dict(zip(y,x))\n",
    "reverse_lookup = dict(zip(x,y))"
   ]
  },
  {
   "cell_type": "code",
   "execution_count": 68,
   "metadata": {
    "collapsed": false
   },
   "outputs": [
    {
     "data": {
      "text/plain": [
       "'d6a8931c94d5_1'"
      ]
     },
     "execution_count": 68,
     "metadata": {},
     "output_type": "execute_result"
    }
   ],
   "source": [
    "_d['sketch_label']"
   ]
  },
  {
   "cell_type": "code",
   "execution_count": 69,
   "metadata": {
    "collapsed": false
   },
   "outputs": [],
   "source": [
    "reallyRun = 0\n",
    "if reallyRun:\n",
    "    dT = []\n",
    "    dD1 = []\n",
    "    dD2 = []\n",
    "    dD3 = []\n",
    "    for i, _d in D.iterrows():\n",
    "        sketch = _d['sketch_label']\n",
    "        pose = int(_d['pose'])\n",
    "        target = lookup_table[_d['target']]\n",
    "        distractor1 = lookup_table[_d['Distractor1']]\n",
    "        distractor2 = lookup_table[_d['Distractor2']]\n",
    "        distractor3 = lookup_table[_d['Distractor3']]\n",
    "\n",
    "        dT.append(dists[sketch][target])\n",
    "        dD1.append(dists[sketch][distractor1])\n",
    "        dD2.append(dists[sketch][distractor2])\n",
    "        dD3.append(dists[sketch][distractor3])\n",
    "        \n",
    "    D = D.assign(dT=pd.Series(dT).values)\n",
    "    D = D.assign(dD1=pd.Series(dD1).values)\n",
    "    D = D.assign(dD2=pd.Series(dD2).values)\n",
    "    D = D.assign(dD3=pd.Series(dD3).values)        "
   ]
  },
  {
   "cell_type": "code",
   "execution_count": 22,
   "metadata": {
    "collapsed": false
   },
   "outputs": [],
   "source": []
  },
  {
   "cell_type": "code",
   "execution_count": null,
   "metadata": {
    "collapsed": false
   },
   "outputs": [],
   "source": []
  },
  {
   "cell_type": "code",
   "execution_count": 37,
   "metadata": {
    "collapsed": false
   },
   "outputs": [],
   "source": []
  },
  {
   "cell_type": "code",
   "execution_count": 34,
   "metadata": {
    "collapsed": false
   },
   "outputs": [],
   "source": []
  },
  {
   "cell_type": "code",
   "execution_count": null,
   "metadata": {
    "collapsed": false
   },
   "outputs": [],
   "source": []
  },
  {
   "cell_type": "code",
   "execution_count": null,
   "metadata": {
    "collapsed": false
   },
   "outputs": [],
   "source": [
    "# filter out training examples\n",
    "# test_examples = pd.read_csv('./pilot2_augmented2_test_examples.txt',header=None)[0].values\n",
    "# test_examples = [i.split('.')[0] + '.png' for i in test_examples]"
   ]
  },
  {
   "cell_type": "code",
   "execution_count": null,
   "metadata": {
    "collapsed": false
   },
   "outputs": [],
   "source": []
  },
  {
   "cell_type": "code",
   "execution_count": null,
   "metadata": {
    "collapsed": false
   },
   "outputs": [],
   "source": []
  },
  {
   "cell_type": "code",
   "execution_count": null,
   "metadata": {
    "collapsed": false
   },
   "outputs": [],
   "source": [
    "sns.set_context('talk')\n",
    "plt.figure(figsize=(12,6))\n",
    "plt.subplot(1,2,1)\n",
    "_D = D[(D.condition=='closer') & (D['fname'].isin(test_examples))]\n",
    "distractor_dists = np.hstack((_D.dD1.values,_D.dD2.values,_D.dD3.values))\n",
    "sns.kdeplot(distractor_dists, shade=True, color=(0.3,0.3,0.3),label='distractors')\n",
    "sns.kdeplot(_D.dT.values, shade=True, color=(0.9,0.7,0.1),label='target')\n",
    "plt.ylim([0,7])\n",
    "plt.xlim([-1,1])\n",
    "plt.xlabel('distance')\n",
    "plt.title('close')\n",
    "\n",
    "plt.subplot(1,2,2)\n",
    "_D = D[(D.condition=='further') & (D['fname'].isin(test_examples))]\n",
    "distractor_dists = np.hstack((_D.dD1.values,_D.dD2.values,_D.dD3.values))\n",
    "sns.kdeplot(distractor_dists, shade=True, color=(0.3,0.3,0.3),label='distractors')\n",
    "sns.kdeplot(_D.dT.values, shade=True, color=(0.9,0.7,0.1),label='target')\n",
    "plt.ylim([0,7])\n",
    "plt.xlim([-1,1])\n",
    "plt.xlabel('distance')\n",
    "plt.title('far')\n",
    "\n",
    "plt.suptitle('fixedpose - augmented - splitbycontext - test')"
   ]
  },
  {
   "cell_type": "code",
   "execution_count": null,
   "metadata": {
    "collapsed": false
   },
   "outputs": [],
   "source": []
  },
  {
   "cell_type": "code",
   "execution_count": null,
   "metadata": {
    "collapsed": false
   },
   "outputs": [],
   "source": [
    "sns.set_context('talk')\n",
    "plt.figure(figsize=(12,12))\n",
    "for i,cl in enumerate(classes):\n",
    "    plt.subplot(2,2,i+1)\n",
    "    _D = D[(D['fname'].isin(test_examples)) & (D['category']==cl)]\n",
    "    distractor_dists = np.hstack((_D.dD1.values,_D.dD2.values,_D.dD3.values))\n",
    "    sns.kdeplot(distractor_dists, shade=True, color=(0.3,0.3,0.3),label='distractors')\n",
    "    sns.kdeplot(_D.dT.values, shade=True, color=(0.9,0.7,0.1),label='target')\n",
    "    plt.ylim([0,7])\n",
    "    plt.xlim([-1,1])\n",
    "    if i>1:\n",
    "        plt.xlabel('distance')\n",
    "    plt.title('{}'.format(cl))"
   ]
  },
  {
   "cell_type": "code",
   "execution_count": null,
   "metadata": {
    "collapsed": false
   },
   "outputs": [],
   "source": []
  },
  {
   "cell_type": "markdown",
   "metadata": {},
   "source": [
    "### Preprocessing to make bdaInput csv"
   ]
  },
  {
   "cell_type": "code",
   "execution_count": 97,
   "metadata": {
    "collapsed": true
   },
   "outputs": [],
   "source": [
    "path_to_dists = './strict-similarity-pragmatics-fixedpose-augmented-splitbycontext_conv4_2.json'\n",
    "_dists = pd.read_json(path_to_dists)\n",
    "dists = _dists.transpose()\n",
    "x = _dists.columns.values\n",
    "y = [i.split('_')[-1] for i in x]\n",
    "lookup_table = dict(zip(y,x))\n",
    "reverse_lookup = dict(zip(x,y))"
   ]
  },
  {
   "cell_type": "code",
   "execution_count": 98,
   "metadata": {
    "collapsed": false
   },
   "outputs": [
    {
     "name": "stdout",
     "output_type": "stream",
     "text": [
      "608 test examples.\n"
     ]
    }
   ],
   "source": [
    "### filter out training examples ### NEW SPLIT ON OBJECT 4/23/2018\n",
    "test_examples = pd.read_json('pilot2_sketch_avg_full25k_test_examples.json',orient='records')\n",
    "test_examples = list(test_examples[0].values)\n",
    "test_examples = [i.split('.')[0] + '.png' for i in test_examples] \n",
    "print '{} test examples.'.format(len(np.unique(test_examples)))"
   ]
  },
  {
   "cell_type": "code",
   "execution_count": null,
   "metadata": {
    "collapsed": true
   },
   "outputs": [],
   "source": []
  },
  {
   "cell_type": "code",
   "execution_count": 101,
   "metadata": {
    "collapsed": false
   },
   "outputs": [],
   "source": [
    "def generate_bdaInput_csv(D,filtration_level,train_test_split=True,\n",
    "                          adaptor_type='sketch_avg_full25k',\n",
    "                          split_type='splitbyobject'):\n",
    "#     # filter out training examples #### OLD SPLIT ON CONTEXT MAY REUSE\n",
    "#     test_examples = pd.read_csv('./pilot2_augmented_splitbycontext_test_examples.txt',header=None)[0].values\n",
    "#     test_examples = [i.split('.')[0] + '.png' for i in test_examples]\n",
    "    \n",
    "    ### filter out training examples ### NEW SPLIT ON OBJECT 4/23/2018\n",
    "    test_examples = pd.read_json('pilot2_{}_test_examples.json'.format(adaptor_type),orient='records')\n",
    "    test_examples = list(test_examples[0].values)\n",
    "    test_examples = [i.split('.')[0] + '.png' for i in test_examples]    \n",
    "\n",
    "    if train_test_split==True:\n",
    "        keep_examples = test_examples \n",
    "    else:\n",
    "        keep_examples = D['fname_no_target'].values ## keep all datapoints\n",
    "\n",
    "    D0 = D[D['fname_no_target'].isin(keep_examples)]\n",
    "    print('Shape of D0: {}'.format(D0.shape))\n",
    "\n",
    "    ## generate lists to compose new bdaInput CSV\n",
    "    _sketchLabel = []\n",
    "    _Condition = []\n",
    "    _Target = []\n",
    "    _Distractor1 = []\n",
    "    _Distractor2 = []\n",
    "    _Distractor3 = []\n",
    "    _coarseGrainedSketchInfo = [] # condition_objectName ... e.g., further_knob\n",
    "    for i, _d in D0.iterrows():\n",
    "        _sketchLabel.append(_d['sketch_label'])\n",
    "        _Condition.append(_d['condition']) \n",
    "        ###### in more recent versions of similarity jsons, dropping the weird trial_20_basset thing\n",
    "#         _Target.append(lookup_table[_d['target']])\n",
    "#         distractor1 = lookup_table[_d['Distractor1']]\n",
    "#         distractor2 = lookup_table[_d['Distractor2']]\n",
    "#         distractor3 = lookup_table[_d['Distractor3']]\n",
    "        _Target.append(_d['target'])\n",
    "        distractor1 = _d['Distractor1']\n",
    "        distractor2 = _d['Distractor2']\n",
    "        distractor3 = _d['Distractor3']      \n",
    "        \n",
    "        d_list = sorted([distractor1, distractor2, distractor3])\n",
    "        _Distractor1.append(d_list[0])\n",
    "        _Distractor2.append(d_list[1])    \n",
    "        _Distractor3.append(d_list[2])  \n",
    "        _coarseGrainedSketchInfo.append('{}_{}'.format(_d['condition'],_d['target'])) \n",
    "\n",
    "    D2 = pd.DataFrame([_Condition,_sketchLabel,_Target,_Distractor1,_Distractor2,_Distractor3,_coarseGrainedSketchInfo])\n",
    "    D2 = D2.transpose()\n",
    "    D2.columns = ['condition','sketchLabel','Target','Distractor1','Distractor2','Distractor3','coarseGrainedSketchInfo']\n",
    "    print D2.shape\n",
    "    if train_test_split==True:\n",
    "        print 'saving CSV with only test data'\n",
    "        if len(filtration_level)==0:\n",
    "            D2.to_csv('../models/bdaInput/sketchData_fixedPose_{}_{}_pilot2.csv'.format(split_type,adaptor_type))\n",
    "        else:  \n",
    "            D2.to_csv('../models/bdaInput/sketchData_fixedPose_{}_{}_pilot2_{}.csv'.format(split_type,adaptor_type,filtration_level))\n",
    "    else: ## run bda on ALL datapoints (not just test split)\n",
    "        print 'saving CSV including all datapoints'\n",
    "        if len(filtration_level)==0:\n",
    "            D2.to_csv('../models/bdaInput/sketchData_fixedPose_alldata_{}_pilot2.csv'.format(adaptor_type))\n",
    "        else:  \n",
    "            D2.to_csv('../models/bdaInput/sketchData_fixedPose_alldata_{}_pilot2_{}.csv'.format(adaptor_type,filtration_level))        \n",
    "    print 'Saved out bdaInput CSV ... {}'.format(filtration_level) "
   ]
  },
  {
   "cell_type": "code",
   "execution_count": 102,
   "metadata": {
    "collapsed": false
   },
   "outputs": [
    {
     "name": "stdout",
     "output_type": "stream",
     "text": [
      "Shape of D0: (544, 29)\n",
      "(544, 7)\n",
      "saving CSV with only test data\n",
      "Saved out bdaInput CSV ... \n",
      "Shape of D0: (573, 24)\n",
      "(573, 7)\n",
      "saving CSV with only test data\n",
      "Saved out bdaInput CSV ... no_incorrect\n",
      "Shape of D0: (574, 24)\n",
      "(574, 7)\n",
      "saving CSV with only test data\n",
      "Saved out bdaInput CSV ... no_invalid\n",
      "Shape of D0: (608, 24)\n",
      "(608, 7)\n",
      "saving CSV with only test data\n",
      "Saved out bdaInput CSV ... unfiltered\n"
     ]
    }
   ],
   "source": [
    "generate_bdaInput_csv(D,'')\n",
    "generate_bdaInput_csv(DNOINC,'no_incorrect')\n",
    "generate_bdaInput_csv(DNOINV,'no_invalid')\n",
    "generate_bdaInput_csv(DUNFIL,'unfiltered')"
   ]
  },
  {
   "cell_type": "code",
   "execution_count": null,
   "metadata": {
    "collapsed": false
   },
   "outputs": [],
   "source": []
  },
  {
   "cell_type": "code",
   "execution_count": 103,
   "metadata": {
    "collapsed": false
   },
   "outputs": [
    {
     "name": "stdout",
     "output_type": "stream",
     "text": [
      "Shape of D0: (2682, 29)\n",
      "(2682, 7)\n",
      "saving CSV including all datapoints\n",
      "Saved out bdaInput CSV ... \n",
      "Shape of D0: (2878, 24)\n",
      "(2878, 7)\n",
      "saving CSV including all datapoints\n",
      "Saved out bdaInput CSV ... no_incorrect\n",
      "Shape of D0: (2940, 24)\n",
      "(2940, 7)\n",
      "saving CSV including all datapoints\n",
      "Saved out bdaInput CSV ... no_invalid\n",
      "Shape of D0: (3072, 24)\n",
      "(3072, 7)\n",
      "saving CSV including all datapoints\n",
      "Saved out bdaInput CSV ... unfiltered\n"
     ]
    }
   ],
   "source": [
    "generate_bdaInput_csv(D,'',train_test_split=False)\n",
    "generate_bdaInput_csv(DNOINC,'no_incorrect',train_test_split=False)\n",
    "generate_bdaInput_csv(DNOINV,'no_invalid',train_test_split=False)\n",
    "generate_bdaInput_csv(DUNFIL,'unfiltered',train_test_split=False)\n",
    "\n",
    "### jefan note: to remove cost outliers, go to pilot2_analysis_sketchpad_basic_recog.ipynb"
   ]
  },
  {
   "cell_type": "code",
   "execution_count": null,
   "metadata": {
    "collapsed": false
   },
   "outputs": [],
   "source": []
  },
  {
   "cell_type": "code",
   "execution_count": null,
   "metadata": {
    "collapsed": false
   },
   "outputs": [],
   "source": []
  },
  {
   "cell_type": "markdown",
   "metadata": {},
   "source": [
    "## Model comparison"
   ]
  },
  {
   "cell_type": "code",
   "execution_count": null,
   "metadata": {
    "collapsed": false
   },
   "outputs": [],
   "source": [
    "def sumlogprob(a,b):\n",
    "    if (a > b):\n",
    "        return a + np.log1p(np.exp(b-a))\n",
    "    else:\n",
    "        return b + np.log1p(np.exp(a-b))    "
   ]
  },
  {
   "cell_type": "code",
   "execution_count": null,
   "metadata": {
    "collapsed": false
   },
   "outputs": [],
   "source": []
  },
  {
   "cell_type": "code",
   "execution_count": null,
   "metadata": {
    "collapsed": false
   },
   "outputs": [],
   "source": [
    "which_feat = 'fixedpose_aug2_alldata'\n",
    "\n",
    "if which_feat == 'varypose_nonaug':\n",
    "    P = pd.read_csv('./RSA/bdaOutput/testingParams_alldata.csv')\n",
    "elif which_feat == 'fixedpose_nonaug_closeonly':\n",
    "    P = pd.read_csv('./RSA/bdaOutput/testingParams_closeonly_fixedpose.csv')\n",
    "elif which_feat == 'fixedpose_aug_closeonly':\n",
    "    P = pd.read_csv('./RSA/bdaOutput/testingParams_closeonly_fixedpose_augmented.csv')\n",
    "elif which_feat == 'fixedpose_aug2_alldata':\n",
    "    P = pd.read_csv('./RSA/bdaOutput/testingParams_testdata_fixedpose_augmented2.csv')\n",
    "    \n",
    "# filter out rows where posterior probability is -Infinity\n",
    "# P = P[P.posteriorProb!='-Infinity']\n",
    "print np.shape(P)colo\n",
    "\n",
    "X = P.groupby(['similarityMetric', 'speakerModel'])['logLikelihood']\n",
    "Y = X\n",
    "Y = pd.DataFrame(Y)\n",
    "\n",
    "sns.set_context('poster')\n",
    "colors = sns.color_palette(\"Paired\")\n",
    "fig = plt.figure(figsize=(26,8))\n",
    "seq = [('strict-mid-pragmatics-augmented2','S0'),('strict-mid-pragmatics-augmented2','S1'),('nonstrict-high-sketchy','S0'),('nonstrict-high-sketchy','S1')]\n",
    "sns.barplot(data=Y.transpose(),palette=colors, order = seq)\n",
    "# plt.ylim([-1400,-600])\n",
    "plt.ylabel('log likelihood')\n",
    "plt.title('model comparison: all test data',fontsize=24)\n",
    "plt.show()"
   ]
  },
  {
   "cell_type": "code",
   "execution_count": null,
   "metadata": {
    "collapsed": false
   },
   "outputs": [],
   "source": []
  },
  {
   "cell_type": "code",
   "execution_count": null,
   "metadata": {
    "collapsed": false
   },
   "outputs": [],
   "source": [
    "# P = pd.read_csv('./RSA/bdaOutput/testingParams_testdata_fixedpose.csv')\n",
    "# # filter out rows where posterior probability is -Infinity\n",
    "# # P = P[P.posteriorProb!='-Infinity']\n",
    "# print np.shape(P)\n",
    "\n",
    "# X = P.groupby(['similarityMetric', 'speakerModel'])['logLikelihood']\n",
    "# Y = X.apply(lambda x: reduce(sumlogprob,x) - np.log(len(x)))\n",
    "# Y = pd.DataFrame(Y)\n",
    "\n",
    "# sns.set_context('talk')\n",
    "# colors = sns.color_palette(\"Paired\")\n",
    "# fig = plt.figure(figsize=(16,4))\n",
    "# seq = [('strict-mid-pragmatics-augmented','S0'),('strict-mid-pragmatics-augmented','S1'),('strict-mid-pragmatics','S0'),('strict-mid-pragmatics','S1'),('nonstrict-high-sketchy','S0'),('nonstrict-high-sketchy','S1')]\n",
    "# sns.barplot(data=Y.transpose(),palette=colors, order = seq)\n",
    "# plt.ylim([-9000,-8000])\n",
    "# plt.ylabel('log likelihood')\n",
    "# plt.title('model comparison: held out data (majority far trials)',fontsize=24)\n",
    "# plt.show()"
   ]
  },
  {
   "cell_type": "code",
   "execution_count": 203,
   "metadata": {
    "collapsed": false
   },
   "outputs": [
    {
     "data": {
      "image/png": "[encoded data removed]",
      "text/plain": [
       "<matplotlib.figure.Figure at 0x122f94650>"
      ]
     },
     "metadata": {},
     "output_type": "display_data"
    }
   ],
   "source": [
    "### latest set of S1/S0 model log-likelihoods\n",
    "\n",
    "combined= -6658\n",
    "S1= -6720\n",
    "S0= -6734\n",
    "\n",
    "S0_AIC = -2*S0\n",
    "S1_AIC = -2*S1\n",
    "combined_AIC = 2 - 2*combined\n",
    "\n",
    "LL = pd.DataFrame([combined,S0,S1])\n",
    "LL = LL.transpose()\n",
    "LL.columns = ['communicative','figurative','contrastive']\n",
    "\n",
    "AIC = pd.DataFrame([combined_AIC,S0_AIC,S1_AIC])\n",
    "AIC = AIC.transpose()\n",
    "AIC.columns = ['communicative','figurative','contrastive']\n",
    "\n",
    "\n",
    "fig = plt.figure(figsize=(6,4))\n",
    "plt.subplot(111)\n",
    "sns.barplot(data=AIC)\n",
    "plt.ylim([13000,13500])\n",
    "plt.ylabel('AIC')\n",
    "plt.tight_layout()\n",
    "plt.savefig('./plots/model_comparison_for_vss_abstract.pdf')"
   ]
  },
  {
   "cell_type": "code",
   "execution_count": 34,
   "metadata": {
    "collapsed": false
   },
   "outputs": [
    {
     "data": {
      "image/png": "[encoded data removed]",
      "text/plain": [
       "<matplotlib.figure.Figure at 0x10f40acd0>"
      ]
     },
     "metadata": {},
     "output_type": "display_data"
    },
    {
     "data": {
      "image/png": "[encoded data removed]",
      "text/plain": [
       "<matplotlib.figure.Figure at 0x10f8fc610>"
      ]
     },
     "metadata": {},
     "output_type": "display_data"
    }
   ],
   "source": [
    "### latest set of S1/S0 model log-likelihoods\n",
    "\n",
    "full = pd.read_csv('../models/bdaOutput/combined_MCMC_mid-layer-augmented_wcostParamsParams.csv')\n",
    "S1 = pd.read_csv('../models/bdaOutput/S1_MCMC_mid-layer-augmented_wcostParamsParams.csv')\n",
    "S0 = pd.read_csv('../models/bdaOutput/S0_MCMC_mid-layer-augmented_wcostParamsParams.csv')\n",
    "null = pd.read_csv('../models/bdaOutput/combined_MCMC_early-layer_wcostParamsParams.csv')\n",
    "\n",
    "# likelihood ratio\n",
    "full_like = full['logLikelihood'].values[0]\n",
    "S1_like = S1['logLikelihood'].values[0]\n",
    "S0_like = S0['logLikelihood'].values[0]\n",
    "null_like = null['logLikelihood'].values[0]\n",
    "\n",
    "full_null = full_like - null_like\n",
    "S1_null = S1_like - null_like\n",
    "S0_null = S0_like - null_like\n",
    "full_S1 = full_like - S1_like\n",
    "full_S0 = full_like - S0_like\n",
    "\n",
    "LR = pd.DataFrame([full_null,S1_null,S0_null])\n",
    "LR = LR.transpose()\n",
    "LR.columns = ['full','S1','S0']\n",
    "\n",
    "LR2 = pd.DataFrame([full_S1, full_S0])\n",
    "LR2 = LR2.transpose()\n",
    "LR2.columns = ['vs. S1', 'vs. S0']\n",
    "\n",
    "from scipy.stats import chi2\n",
    "crit_val = chi2.isf(q=0.001, df=1) / 2 ## because we are plotting raw Likelihood Ratio, instead of 2*LR, which follows chisquare\n",
    "\n",
    "fig = plt.figure(figsize=(3,4))\n",
    "plt.subplot(111)\n",
    "sns.barplot(data=LR)\n",
    "plt.axhline(y=crit_val,ls='dashed')\n",
    "plt.ylabel('likelihood ratio')\n",
    "plt.ylim([0,1000])\n",
    "plt.tight_layout()\n",
    "plt.savefig('./plots/model_comparison_for_january_talks_vsnull.pdf')\n",
    "\n",
    "fig = plt.figure(figsize=(2.5,4))\n",
    "plt.subplot(111)\n",
    "sns.barplot(data=LR2)\n",
    "plt.axhline(y=crit_val,ls='dashed',color=(0,0,0))\n",
    "plt.ylim([0,100])\n",
    "plt.ylabel('likelihood ratio')\n",
    "plt.tight_layout()\n",
    "plt.savefig('./plots/model_comparison_for_january_talks_vsS1S0.pdf')"
   ]
  },
  {
   "cell_type": "code",
   "execution_count": null,
   "metadata": {
    "collapsed": false
   },
   "outputs": [],
   "source": []
  },
  {
   "cell_type": "markdown",
   "metadata": {},
   "source": [
    "## Analyzing RDMs"
   ]
  },
  {
   "cell_type": "code",
   "execution_count": 241,
   "metadata": {
    "collapsed": false
   },
   "outputs": [],
   "source": [
    "x = np.load('rdm_triplet_random_negatives.npy')\n",
    "labels = np.load('triplet_rdm_axis_labels.npy')\n",
    "close = x[:32,32:64]\n",
    "far = x[:32,64:96]"
   ]
  },
  {
   "cell_type": "code",
   "execution_count": 242,
   "metadata": {
    "collapsed": false
   },
   "outputs": [
    {
     "data": {
      "text/plain": [
       "<matplotlib.colorbar.Colorbar at 0x135fbb210>"
      ]
     },
     "execution_count": 242,
     "metadata": {},
     "output_type": "execute_result"
    },
    {
     "data": {
      "image/png": "[encoded data removed]",
      "text/plain": [
       "<matplotlib.figure.Figure at 0x135fbb290>"
      ]
     },
     "metadata": {},
     "output_type": "display_data"
    }
   ],
   "source": [
    "plt.matshow(close-far)\n",
    "plt.colorbar()"
   ]
  },
  {
   "cell_type": "code",
   "execution_count": 285,
   "metadata": {
    "collapsed": false
   },
   "outputs": [],
   "source": [
    "## get contrast between on-diagonal and other elements in the column\n",
    "from __future__ import division\n",
    "def softmax(x):\n",
    "    denom = np.sum(map(np.exp,x))\n",
    "    return [i/denom for i in x]\n",
    "        \n",
    "def get_superblock_bounds(M_shape,block_size):\n",
    "    bounds = np.linspace(0,M_shape,M_shape/block_size+1)\n",
    "    bound_tuples = []\n",
    "    for i,j in enumerate(bounds[:len(bounds)-1]):\n",
    "        bound_tuples.append(tuple((int(bounds[i]), np.int(bounds[i+1]))))\n",
    "    return bound_tuples\n",
    "\n",
    "    \n",
    "def get_superblocks(M,num_cats):\n",
    "    '''\n",
    "    accepts: \n",
    "        square similarity matrix M of dim (m,m)\n",
    "        num_cats: number of categories (dim of superblock is m/num_cats)\n",
    "    '''\n",
    "    M_shape = M.shape[0]\n",
    "    block_size = M_shape/num_cats\n",
    "    bound_tuples = get_superblock_bounds(M_shape,block_size)\n",
    "    _M = []\n",
    "    for block in bound_tuples:\n",
    "        _M.append(M[block[0]:block[1]])\n",
    "        "
   ]
  },
  {
   "cell_type": "code",
   "execution_count": 286,
   "metadata": {
    "collapsed": false
   },
   "outputs": [
    {
     "name": "stdout",
     "output_type": "stream",
     "text": [
      "[array([[ 0.88933742,  0.656222  ,  0.84275024,  0.614339  ,  0.65271597,\n",
      "         0.66089313,  0.70622475,  0.70143999, -0.17178838, -0.17493993,\n",
      "        -0.31190633, -0.29600326, -0.48622522, -0.38795748, -0.3686948 ,\n",
      "        -0.19630455, -0.11920085, -0.10966624, -0.26509653, -0.33197405,\n",
      "        -0.19296392, -0.22173388, -0.14703464, -0.04047838, -0.41726085,\n",
      "        -0.34105312, -0.23217916, -0.14078966, -0.05733335, -0.23960213,\n",
      "        -0.14274601, -0.1726628 ],\n",
      "       [ 0.61021243,  0.90466361,  0.60323999,  0.53226391,  0.75735665,\n",
      "         0.67417391,  0.610182  ,  0.62451166, -0.17881535, -0.24652286,\n",
      "        -0.28453616, -0.39774374, -0.37132643, -0.48461393, -0.46091663,\n",
      "        -0.28497298, -0.10220365,  0.01624705, -0.12369626, -0.16298476,\n",
      "        -0.0237127 , -0.11587892, -0.02163459,  0.24681852, -0.34862329,\n",
      "        -0.29434134, -0.31403347, -0.21515299, -0.14724607, -0.37414661,\n",
      "        -0.25446259, -0.29375385],\n",
      "       [ 0.53924242,  0.51322388,  0.86172927,  0.4818273 ,  0.59314743,\n",
      "         0.57980135,  0.46854447,  0.57144227, -0.28094303, -0.23547404,\n",
      "        -0.33623533, -0.41723135, -0.40672916, -0.39526409, -0.44239458,\n",
      "        -0.22717469,  0.00223454, -0.12087282, -0.17428282, -0.11781571,\n",
      "        -0.09544328, -0.15401553, -0.05899004, -0.07281561, -0.1943668 ,\n",
      "        -0.28579173, -0.06165115, -0.14717373, -0.06664986, -0.08953029,\n",
      "        -0.18105452, -0.12426799],\n",
      "       [ 0.72618078,  0.75571467,  0.71366411,  0.92528981,  0.67217063,\n",
      "         0.75149536,  0.76400159,  0.77992984, -0.01340609, -0.03063892,\n",
      "        -0.19980812, -0.21475166, -0.23728935, -0.40272595, -0.2390541 ,\n",
      "        -0.01264075, -0.24394685, -0.25165539, -0.29383843, -0.46784472,\n",
      "        -0.28616567, -0.25119852, -0.14556193,  0.02831356, -0.3935577 ,\n",
      "        -0.29372804, -0.22679405, -0.27755428, -0.34207013, -0.33698649,\n",
      "        -0.25225371, -0.30402567],\n",
      "       [ 0.43524999,  0.57017157,  0.60322126,  0.43174976,  0.9257075 ,\n",
      "         0.62150716,  0.40215659,  0.54774631, -0.00426986, -0.14200268,\n",
      "        -0.18448433, -0.3287163 , -0.29645944, -0.40253228, -0.36701122,\n",
      "        -0.18997715, -0.21311046, -0.07925243, -0.24416738, -0.14816888,\n",
      "        -0.13309514, -0.17605838,  0.00442051,  0.05911398, -0.38634527,\n",
      "        -0.41215393, -0.29784507, -0.49671261, -0.15382444, -0.38514074,\n",
      "        -0.37114947, -0.30800612],\n",
      "       [ 0.61758906,  0.74401519,  0.70052485,  0.58657319,  0.85893842,\n",
      "         0.88328174,  0.57876112,  0.67793154, -0.13148822, -0.11164408,\n",
      "        -0.11429585, -0.27673304, -0.44872946, -0.42287769, -0.33952932,\n",
      "        -0.2001667 , -0.1880387 , -0.09609555, -0.2280557 , -0.19546205,\n",
      "        -0.12535736, -0.16344005, -0.13061277,  0.13078312, -0.44205052,\n",
      "        -0.39470694, -0.29826393, -0.36511798, -0.20698802, -0.44845764,\n",
      "        -0.43866434, -0.33547588],\n",
      "       [ 0.8218395 ,  0.76410123,  0.77956894,  0.80654285,  0.75678338,\n",
      "         0.83797165,  0.91107787,  0.83420798,  0.00343487,  0.03524208,\n",
      "        -0.10495053, -0.19766016, -0.34997925, -0.28213496, -0.20353611,\n",
      "        -0.08221778, -0.21879256, -0.128821  , -0.33129659, -0.42945119,\n",
      "        -0.27768249, -0.31859731, -0.21297477,  0.07738637, -0.53682008,\n",
      "        -0.31677068, -0.26333417, -0.30787331, -0.24752051, -0.41071261,\n",
      "        -0.27777593, -0.3113242 ],\n",
      "       [ 0.73719231,  0.80210114,  0.77003896,  0.78205985,  0.79956877,\n",
      "         0.85563671,  0.77202343,  0.91007117, -0.01675997,  0.023789  ,\n",
      "        -0.03971976, -0.18449695, -0.30306121, -0.29128585, -0.22504211,\n",
      "        -0.01845512, -0.2345794 , -0.1955167 , -0.25969065, -0.37423639,\n",
      "        -0.25585803, -0.26741519, -0.11490723,  0.09665824, -0.4643119 ,\n",
      "        -0.42519458, -0.24718928, -0.40899168, -0.27971048, -0.42897709,\n",
      "        -0.39914969, -0.28733737]]), array([[-0.20183946, -0.41714606, -0.39493425, -0.25321212, -0.2486109 ,\n",
      "        -0.24920538, -0.23616896, -0.30260422,  0.85555534,  0.49084365,\n",
      "         0.56884933,  0.58461754,  0.65447042,  0.56168878,  0.56603068,\n",
      "         0.50070874, -0.12936645,  0.100285  , -0.11917301, -0.09764022,\n",
      "        -0.17822507, -0.06028279,  0.10157954, -0.0123574 , -0.12668038,\n",
      "        -0.23183626, -0.27029302, -0.23802603, -0.35247733, -0.18014167,\n",
      "        -0.16530369, -0.26772655],\n",
      "       [-0.04515396, -0.22281327, -0.16998146, -0.1111161 , -0.34825605,\n",
      "        -0.14528969, -0.00330627, -0.13091334,  0.64845998,  0.88006271,\n",
      "         0.74245834,  0.72248634,  0.62570279,  0.76869122,  0.81291503,\n",
      "         0.75803928, -0.58178912, -0.40290355, -0.42373699, -0.38327251,\n",
      "        -0.58648432, -0.49495251, -0.37699503, -0.40104559,  0.14525671,\n",
      "         0.11405203,  0.08287822,  0.0018089 , -0.15820574,  0.08054959,\n",
      "         0.0284176 ,  0.04901031],\n",
      "       [-0.09454108, -0.22278732, -0.18983414, -0.15599787, -0.18388442,\n",
      "        -0.01967177, -0.0616702 , -0.07720807,  0.64758492,  0.7205782 ,\n",
      "         0.89944295,  0.67387587,  0.52504625,  0.68329886,  0.64976934,\n",
      "         0.60227026, -0.41353605, -0.23669463, -0.25031985, -0.18561066,\n",
      "        -0.38419775, -0.32110332, -0.27306137, -0.11174629, -0.02233022,\n",
      "        -0.11800351, -0.11632045, -0.191419  , -0.30595519, -0.09441468,\n",
      "        -0.17687175, -0.06565684],\n",
      "       [-0.09363099, -0.27456126, -0.27246333, -0.18236848, -0.33861082,\n",
      "        -0.18498154, -0.15627641, -0.18642259,  0.65734051,  0.69832883,\n",
      "         0.74642698,  0.90860106,  0.59381577,  0.71554931,  0.69027698,\n",
      "         0.69814528, -0.35970867, -0.37236799, -0.22331416, -0.1611898 ,\n",
      "        -0.41310702, -0.23609972, -0.24872361, -0.13240069, -0.06443993,\n",
      "        -0.13691478, -0.1091582 , -0.22094661, -0.3080422 , -0.17844954,\n",
      "        -0.10608161, -0.20763551],\n",
      "       [-0.11213378, -0.22801933, -0.26234399, -0.11548261, -0.29724311,\n",
      "        -0.225401  , -0.07903655, -0.17252912,  0.78351367,  0.69602168,\n",
      "         0.56878728,  0.58286857,  0.8988393 ,  0.63661054,  0.65903543,\n",
      "         0.725499  , -0.29951138, -0.10335436, -0.18525916, -0.210312  ,\n",
      "        -0.3495459 , -0.2399448 ,  0.06592282, -0.08388943, -0.05622466,\n",
      "        -0.12556655, -0.17458816, -0.17956262, -0.43528719, -0.1048125 ,\n",
      "        -0.17170727, -0.1845995 ],\n",
      "       [-0.18787658, -0.48749532, -0.27203286, -0.41300026, -0.47440221,\n",
      "        -0.43208899, -0.22949283, -0.3109641 ,  0.43602757,  0.47560803,\n",
      "         0.46540607,  0.61165176,  0.48687846,  0.8670861 ,  0.60451954,\n",
      "         0.46664637, -0.11980427, -0.14856604, -0.14374397, -0.08795875,\n",
      "        -0.35696661, -0.19631081, -0.22039748, -0.2466709 ,  0.18267065,\n",
      "         0.16660784,  0.12441493,  0.07198822,  0.07916539,  0.18472298,\n",
      "         0.25245973,  0.1045704 ],\n",
      "       [-0.26761423, -0.47113628, -0.37624413, -0.27418447, -0.55989015,\n",
      "        -0.39767196, -0.23662308, -0.31164192,  0.53443302,  0.68616208,\n",
      "         0.6092587 ,  0.65586011,  0.61042889,  0.74769867,  0.8747451 ,\n",
      "         0.71169563, -0.3342641 , -0.26083194, -0.19516373, -0.23731178,\n",
      "        -0.39519878, -0.25486792, -0.20674076, -0.31516776,  0.28522627,\n",
      "         0.22256526,  0.13934139,  0.08563983, -0.04210139,  0.15725767,\n",
      "         0.13569002,  0.1666922 ],\n",
      "       [ 0.12920599, -0.06011912,  0.00611754,  0.13095778, -0.18140736,\n",
      "         0.03824249,  0.08976339,  0.08950866,  0.7065247 ,  0.8083762 ,\n",
      "         0.67533532,  0.70598597,  0.70867323,  0.65344106,  0.79288237,\n",
      "         0.93540113, -0.50129054, -0.38241593, -0.2732439 , -0.40510423,\n",
      "        -0.54573076, -0.38561831, -0.12753601, -0.22651002, -0.07365403,\n",
      "        -0.23310338, -0.16991561, -0.27688282, -0.43800631, -0.15937449,\n",
      "        -0.26770806, -0.20500184]]), array([[ -1.60303245e-01,  -1.83762478e-01,  -1.45584102e-01,\n",
      "         -2.24365583e-01,  -8.38998196e-02,  -1.86694743e-01,\n",
      "         -2.01035388e-01,  -1.54528416e-01,  -4.16945794e-01,\n",
      "         -6.79497298e-01,  -5.96754051e-01,  -4.65832015e-01,\n",
      "         -2.96757004e-01,  -3.66474256e-01,  -5.49671293e-01,\n",
      "         -5.86212603e-01,   9.44180439e-01,   6.14283935e-01,\n",
      "          5.37426698e-01,   5.48703350e-01,   7.01867217e-01,\n",
      "          7.67204960e-01,   5.27141682e-01,   5.49160203e-01,\n",
      "         -2.05664968e-01,  -1.67123765e-01,  -2.24565330e-01,\n",
      "         -6.49868706e-02,   5.20771136e-02,  -1.57884778e-01,\n",
      "         -1.25190801e-01,  -1.91323802e-01],\n",
      "       [ -2.86839200e-01,  -3.05480366e-01,  -3.94611032e-01,\n",
      "         -3.58747515e-01,  -1.16407914e-01,  -2.89507049e-01,\n",
      "         -2.75422177e-01,  -2.73534575e-01,   2.20521529e-02,\n",
      "         -4.22210610e-01,  -3.00562223e-01,  -3.38528874e-01,\n",
      "         -3.47244614e-03,  -1.55458098e-01,  -2.52366235e-01,\n",
      "         -3.79024898e-01,   6.93717573e-01,   9.34765058e-01,\n",
      "          4.61023707e-01,   4.74387629e-01,   6.91815952e-01,\n",
      "          5.81645879e-01,   6.30807804e-01,   4.83533619e-01,\n",
      "         -1.77616857e-01,  -2.15261982e-01,  -3.01656450e-01,\n",
      "         -1.19965786e-01,  -7.38712961e-04,  -1.16904601e-01,\n",
      "         -1.47569175e-01,  -1.66257129e-01],\n",
      "       [ -1.96070044e-01,  -3.24967031e-01,  -2.55419478e-01,\n",
      "         -1.79922920e-01,  -2.73993240e-01,  -2.28104006e-01,\n",
      "         -3.04853114e-01,  -1.61159670e-01,  -2.83976613e-01,\n",
      "         -3.51078895e-01,  -2.09147340e-01,  -1.74294822e-01,\n",
      "         -4.65165331e-02,  -1.11919272e-01,  -1.71953956e-01,\n",
      "         -1.81234520e-01,   5.88052301e-01,   3.28560941e-01,\n",
      "          9.22018451e-01,   6.55918575e-01,   5.96797494e-01,\n",
      "          6.30826046e-01,   5.99537593e-01,   4.62195301e-01,\n",
      "         -3.49444847e-01,  -3.27550695e-01,  -3.30504326e-01,\n",
      "         -1.90868676e-01,  -1.92648360e-01,  -1.96500148e-01,\n",
      "         -2.80186918e-01,  -2.72026518e-01],\n",
      "       [ -4.64682171e-01,  -5.25885062e-01,  -4.85269830e-01,\n",
      "         -5.81716212e-01,  -3.06565780e-01,  -4.48750514e-01,\n",
      "         -5.93187559e-01,  -4.88206063e-01,  -1.84158246e-01,\n",
      "         -4.06032393e-01,  -2.52757733e-01,  -1.82602114e-01,\n",
      "         -4.88398233e-03,  -1.21506779e-01,  -2.34524286e-01,\n",
      "         -3.43641922e-01,   6.97518994e-01,   5.60367477e-01,\n",
      "          7.71815923e-01,   9.27850266e-01,   7.09907998e-01,\n",
      "          7.56213139e-01,   6.44605379e-01,   4.27788601e-01,\n",
      "         -2.21417116e-01,  -2.68869933e-01,  -4.08450559e-01,\n",
      "         -2.77287935e-01,  -1.09973809e-01,  -1.93732534e-01,\n",
      "         -2.73515437e-01,  -2.62015516e-01],\n",
      "       [  4.19870841e-02,   2.41498444e-02,  -8.23340463e-02,\n",
      "          1.33652945e-02,   1.46848893e-01,   9.69067704e-02,\n",
      "         -9.95568918e-02,  -9.38566171e-03,  -2.70165103e-01,\n",
      "         -4.77663063e-01,  -3.92287841e-01,  -3.17428318e-01,\n",
      "         -3.64978529e-01,  -4.83992726e-01,  -3.62531438e-01,\n",
      "         -4.10865533e-01,   5.71607338e-01,   5.53612421e-01,\n",
      "          4.49501086e-01,   3.78357842e-01,   8.59922508e-01,\n",
      "          6.33581982e-01,   4.82597359e-01,   5.31089304e-01,\n",
      "         -3.42010165e-01,  -4.45685082e-01,  -3.90799440e-01,\n",
      "         -1.95070219e-01,  -4.20583003e-02,  -4.10025096e-01,\n",
      "         -2.64745831e-01,  -4.24503422e-01],\n",
      "       [ -9.08677178e-02,  -1.85778552e-01,  -2.48288523e-01,\n",
      "         -1.19879107e-01,   1.15299061e-01,   2.53782443e-02,\n",
      "         -2.71374720e-01,  -8.01702833e-02,  -2.71014140e-02,\n",
      "         -3.62338982e-01,  -2.13527947e-01,  -1.61545825e-01,\n",
      "         -5.68945289e-02,  -2.37437629e-01,  -2.43589570e-01,\n",
      "         -2.55742501e-01,   7.05773176e-01,   5.28996298e-01,\n",
      "          6.18731864e-01,   5.98513233e-01,   6.58204789e-01,\n",
      "          8.88436577e-01,   6.27963115e-01,   6.74101689e-01,\n",
      "         -5.67608486e-01,  -6.30360208e-01,  -7.61039944e-01,\n",
      "         -5.96090307e-01,  -4.42838099e-01,  -6.47766880e-01,\n",
      "         -6.24308869e-01,  -6.51790130e-01],\n",
      "       [ -3.47081111e-01,  -3.64096029e-01,  -4.88948412e-01,\n",
      "         -3.53261439e-01,  -3.53772471e-01,  -4.18663254e-01,\n",
      "         -3.98337397e-01,  -3.90288251e-01,   4.28236842e-02,\n",
      "         -3.53398426e-01,  -3.04047024e-01,  -3.16926692e-01,\n",
      "          2.22427772e-01,  -2.22743753e-01,  -2.24819540e-01,\n",
      "         -1.75387372e-01,   5.75122873e-01,   7.13939494e-01,\n",
      "          6.05490450e-01,   5.08510773e-01,   6.61862580e-01,\n",
      "          5.71809823e-01,   8.55372864e-01,   3.70856925e-01,\n",
      "         -9.25500941e-02,  -2.55549452e-01,  -3.12398883e-01,\n",
      "         -9.44737248e-02,  -2.09124468e-01,   1.07882564e-03,\n",
      "         -2.31344141e-01,  -1.32203708e-01],\n",
      "       [  6.97971431e-02,   1.60557485e-01,  -1.13362591e-01,\n",
      "          1.70317408e-01,   1.95244460e-01,   1.50091982e-01,\n",
      "          1.00325582e-01,   1.47978771e-01,  -7.20821352e-02,\n",
      "         -3.59425762e-01,  -2.26942520e-01,  -2.29072049e-01,\n",
      "         -6.42466406e-02,  -2.29354347e-01,  -2.57204306e-01,\n",
      "         -2.82469722e-01,   6.21472159e-01,   4.76203100e-01,\n",
      "          4.77992903e-01,   2.63879691e-01,   5.15901276e-01,\n",
      "          6.03057978e-01,   4.39821080e-01,   9.11110317e-01,\n",
      "         -5.64731786e-01,  -3.57733952e-01,  -5.15370827e-01,\n",
      "         -4.02003912e-01,  -3.92845303e-01,  -5.15216448e-01,\n",
      "         -3.62098101e-01,  -5.08149655e-01]]), array([[ -6.73994838e-01,  -4.07234470e-01,  -4.79751843e-01,\n",
      "         -6.31390080e-01,  -4.02364721e-01,  -5.81598561e-01,\n",
      "         -6.04469642e-01,  -6.16581557e-01,  -1.56053149e-01,\n",
      "         -1.11562551e-01,   3.49803156e-02,  -9.30033240e-02,\n",
      "          7.50757578e-02,   7.41931930e-02,  -6.43409525e-02,\n",
      "         -1.44940772e-01,  -8.81986725e-02,  -4.80254823e-02,\n",
      "         -1.25408386e-01,   1.66289728e-01,  -8.59823834e-03,\n",
      "         -4.55090095e-02,  -1.50640503e-01,  -3.83436554e-01,\n",
      "          8.68867911e-01,   6.11706164e-01,   4.85804799e-01,\n",
      "          4.78578999e-01,   4.30905071e-01,   6.30313030e-01,\n",
      "          4.42394809e-01,   6.11158865e-01],\n",
      "       [ -3.91248779e-01,  -2.09528218e-01,  -2.52219414e-01,\n",
      "         -2.64598835e-01,  -3.05898031e-01,  -3.57037106e-01,\n",
      "         -2.20790256e-01,  -3.70687129e-01,  -3.26507160e-01,\n",
      "         -3.90843742e-02,  -8.80236903e-02,  -1.57773738e-01,\n",
      "         -9.25316262e-02,   2.18128210e-02,  -4.40817478e-02,\n",
      "         -1.43604558e-01,  -3.51733021e-01,  -3.08396677e-01,\n",
      "         -3.28390262e-01,  -1.97883309e-01,  -3.81107140e-01,\n",
      "         -3.87048662e-01,  -4.65423872e-01,  -5.29661834e-01,\n",
      "          7.34841771e-01,   9.40300964e-01,   7.76039488e-01,\n",
      "          6.57111199e-01,   4.90223496e-01,   7.78496621e-01,\n",
      "          6.08628107e-01,   7.85033681e-01],\n",
      "       [ -3.54319020e-01,  -1.70371410e-01,  -1.45622767e-01,\n",
      "         -1.25566132e-01,  -1.91246756e-01,  -2.43979940e-01,\n",
      "         -1.83873406e-01,  -2.00294201e-01,  -2.56128364e-01,\n",
      "         -9.69962008e-03,  -7.30977067e-02,  -1.23615457e-01,\n",
      "         -1.00040447e-01,  -4.38278558e-02,  -6.40657918e-02,\n",
      "         -6.36027384e-02,  -3.80557355e-01,  -3.19206272e-01,\n",
      "         -3.55215073e-01,  -2.93455240e-01,  -3.44820651e-01,\n",
      "         -4.30879501e-01,  -3.38806142e-01,  -5.31821641e-01,\n",
      "          6.35538982e-01,   6.97393736e-01,   9.03659066e-01,\n",
      "          5.50175442e-01,   4.90167720e-01,   6.91790255e-01,\n",
      "          4.83468551e-01,   7.22528870e-01],\n",
      "       [ -3.02183487e-01,  -1.63060698e-01,  -1.95234612e-01,\n",
      "         -3.43375369e-01,  -3.69460336e-01,  -3.82948600e-01,\n",
      "         -2.79205288e-01,  -4.43472412e-01,  -3.48447646e-01,\n",
      "         -1.89213318e-01,  -2.11908899e-01,  -2.64055542e-01,\n",
      "         -1.43584808e-01,  -1.49871867e-01,  -1.81680071e-01,\n",
      "         -2.47093633e-01,  -1.06731613e-01,  -4.61903747e-02,\n",
      "         -1.46270490e-01,  -1.05821762e-01,  -7.47736860e-02,\n",
      "         -1.80073759e-01,  -2.56719803e-01,  -4.22313077e-01,\n",
      "          6.96957980e-01,   7.13727151e-01,   6.60552337e-01,\n",
      "          9.21630178e-01,   5.92807971e-01,   7.23825556e-01,\n",
      "          6.09908086e-01,   6.98683776e-01],\n",
      "       [ -3.02512203e-01,  -2.12584998e-01,  -1.33791589e-01,\n",
      "         -4.77258902e-01,  -2.01186098e-01,  -4.50795469e-01,\n",
      "         -3.04033298e-01,  -3.88414135e-01,  -4.58828115e-01,\n",
      "         -3.01715958e-01,  -3.22778176e-01,  -2.23212672e-01,\n",
      "         -4.06184841e-01,  -1.21406961e-01,  -2.15059730e-01,\n",
      "         -3.87221218e-01,   3.96984730e-04,  -6.02193043e-02,\n",
      "         -1.50852635e-01,  -2.61380219e-04,  -4.18933674e-02,\n",
      "         -1.36923198e-01,  -3.07887462e-01,  -4.40125646e-01,\n",
      "          5.94575570e-01,   6.07188978e-01,   6.13811664e-01,\n",
      "          6.44968290e-01,   9.76111035e-01,   5.67996289e-01,\n",
      "          6.93050655e-01,   6.60377910e-01],\n",
      "       [ -3.54086028e-01,  -3.46633217e-01,  -1.85075069e-01,\n",
      "         -2.76030198e-01,  -3.94739156e-01,  -4.01860617e-01,\n",
      "         -2.69228883e-01,  -3.84979957e-01,  -3.07026951e-01,\n",
      "         -1.29483957e-01,  -1.19900362e-01,  -2.23154579e-01,\n",
      "         -1.08353094e-01,   8.73715647e-03,  -1.35988116e-01,\n",
      "         -1.69837771e-01,  -2.41519928e-01,  -1.49957584e-01,\n",
      "         -2.06093280e-01,  -9.40427806e-02,  -2.55696544e-01,\n",
      "         -3.30884391e-01,  -3.00291530e-01,  -5.72571047e-01,\n",
      "          7.07848347e-01,   7.51432537e-01,   6.93837717e-01,\n",
      "          6.20671169e-01,   4.35464386e-01,   9.32795500e-01,\n",
      "          6.41265213e-01,   7.77001378e-01],\n",
      "       [ -3.79021502e-01,  -2.90131411e-01,  -2.90143528e-01,\n",
      "         -4.35160485e-01,  -3.47123474e-01,  -6.13627406e-01,\n",
      "         -3.39571992e-01,  -4.73215321e-01,  -3.13767508e-01,\n",
      "         -3.63570249e-01,  -3.07068858e-01,  -1.86683274e-01,\n",
      "         -1.87841808e-01,  -6.43980890e-02,  -2.36304692e-01,\n",
      "         -3.77014488e-01,   6.51016069e-02,   4.55068629e-02,\n",
      "         -5.54394621e-02,   6.58750181e-02,   7.66058065e-02,\n",
      "         -3.89999231e-02,  -1.94280810e-01,  -2.71425522e-01,\n",
      "          5.97273554e-01,   6.20616898e-01,   5.07447471e-01,\n",
      "          6.20622939e-01,   6.48784767e-01,   6.54000134e-01,\n",
      "          8.80066257e-01,   5.75027003e-01],\n",
      "       [ -3.05748190e-01,  -1.22757370e-01,  -8.45385352e-02,\n",
      "         -2.10839613e-01,  -2.01059592e-01,  -2.86160451e-01,\n",
      "         -1.88326499e-01,  -1.59162850e-01,  -3.85104019e-01,\n",
      "         -1.34462143e-01,  -8.11072326e-02,  -3.17582911e-01,\n",
      "         -1.55108717e-01,  -1.19312985e-01,  -2.06995870e-01,\n",
      "         -1.55483170e-01,  -3.12586742e-01,  -2.47836355e-01,\n",
      "         -2.29881131e-01,  -1.64782910e-01,  -2.96570574e-01,\n",
      "         -3.81473601e-01,  -2.47958627e-01,  -5.37465641e-01,\n",
      "          7.44717926e-01,   6.94576248e-01,   7.51418218e-01,\n",
      "          5.83164497e-01,   5.08219744e-01,   8.23790406e-01,\n",
      "          4.85953585e-01,   9.18393914e-01]])]\n"
     ]
    },
    {
     "name": "stderr",
     "output_type": "stream",
     "text": [
      "/Users/judithfan/anaconda/lib/python2.7/site-packages/ipykernel/__main__.py:8: DeprecationWarning: object of type <type 'float'> cannot be safely interpreted as an integer.\n"
     ]
    }
   ],
   "source": [
    "bound_tuples = get_superblock_bounds(32,8)\n",
    "_M = []\n",
    "for block in bound_tuples:\n",
    "    _M.append(M[block[0]:block[1]])\n",
    "# print _M"
   ]
  },
  {
   "cell_type": "code",
   "execution_count": 283,
   "metadata": {
    "collapsed": false
   },
   "outputs": [
    {
     "data": {
      "text/plain": [
       "0.0"
      ]
     },
     "execution_count": 283,
     "metadata": {},
     "output_type": "execute_result"
    }
   ],
   "source": [
    "x = bound_tuples[0]\n",
    "x[0]"
   ]
  },
  {
   "cell_type": "code",
   "execution_count": 238,
   "metadata": {
    "collapsed": false
   },
   "outputs": [
    {
     "data": {
      "text/plain": [
       "<matplotlib.image.AxesImage at 0x1359ab150>"
      ]
     },
     "execution_count": 238,
     "metadata": {},
     "output_type": "execute_result"
    },
    {
     "data": {
      "image/png": "[encoded data removed]",
      "text/plain": [
       "<matplotlib.figure.Figure at 0x122f179d0>"
      ]
     },
     "metadata": {},
     "output_type": "display_data"
    }
   ],
   "source": [
    "plt.matshow(close)"
   ]
  },
  {
   "cell_type": "code",
   "execution_count": null,
   "metadata": {
    "collapsed": true
   },
   "outputs": [],
   "source": []
  },
  {
   "cell_type": "code",
   "execution_count": 236,
   "metadata": {
    "collapsed": false
   },
   "outputs": [
    {
     "data": {
      "image/png": "[encoded data removed]",
      "text/plain": [
       "<matplotlib.figure.Figure at 0x136176050>"
      ]
     },
     "metadata": {},
     "output_type": "display_data"
    }
   ],
   "source": [
    "fig = plt.figure(figsize=(4,4))\n",
    "h = plt.hist(np.diag(close) - np.diag(far))"
   ]
  },
  {
   "cell_type": "code",
   "execution_count": null,
   "metadata": {
    "collapsed": true
   },
   "outputs": [],
   "source": []
  },
  {
   "cell_type": "code",
   "execution_count": 6,
   "metadata": {
    "collapsed": false
   },
   "outputs": [],
   "source": [
    "# zip(labels[:32],np.diag(close) - np.diag(far))"
   ]
  },
  {
   "cell_type": "code",
   "execution_count": 7,
   "metadata": {
    "collapsed": false
   },
   "outputs": [],
   "source": [
    "# plt.plot(np.arange(32),np.diag(close) - np.diag(far))"
   ]
  },
  {
   "cell_type": "code",
   "execution_count": 8,
   "metadata": {
    "collapsed": true
   },
   "outputs": [],
   "source": [
    "# x = np.diag(close) - np.diag(far)"
   ]
  },
  {
   "cell_type": "code",
   "execution_count": 9,
   "metadata": {
    "collapsed": false
   },
   "outputs": [],
   "source": [
    "# np.where(x<0)"
   ]
  },
  {
   "cell_type": "code",
   "execution_count": 10,
   "metadata": {
    "collapsed": false
   },
   "outputs": [],
   "source": [
    "# def compare_on_vs_off(mat):"
   ]
  },
  {
   "cell_type": "code",
   "execution_count": 11,
   "metadata": {
    "collapsed": false
   },
   "outputs": [],
   "source": [
    "# np.diag(close)"
   ]
  },
  {
   "cell_type": "code",
   "execution_count": 12,
   "metadata": {
    "collapsed": false
   },
   "outputs": [],
   "source": [
    "# plt.hist(np.diag(far))"
   ]
  },
  {
   "cell_type": "code",
   "execution_count": null,
   "metadata": {
    "collapsed": true
   },
   "outputs": [],
   "source": []
  }
 ],
 "metadata": {
  "kernelspec": {
   "display_name": "Python 2",
   "language": "python",
   "name": "python2"
  },
  "language_info": {
   "codemirror_mode": {
    "name": "ipython",
    "version": 2
   },
   "file_extension": ".py",
   "mimetype": "text/x-python",
   "name": "python",
   "nbconvert_exporter": "python",
   "pygments_lexer": "ipython2",
   "version": "2.7.13"
  }
 },
 "nbformat": 4,
 "nbformat_minor": 1
}
