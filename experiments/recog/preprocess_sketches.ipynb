{
 "cells": [
  {
   "cell_type": "code",
   "execution_count": 4,
   "metadata": {
    "collapsed": true
   },
   "outputs": [],
   "source": [
    "%matplotlib inline\n",
    "from skimage import data, io, filters\n",
    "import os\n",
    "import numpy as np\n",
    "from PIL import Image\n",
    "import matplotlib\n",
    "from matplotlib import pyplot,pylab\n",
    "plt = pyplot\n",
    "import scipy\n",
    "from __future__ import division\n",
    "import seaborn as sns\n",
    "sns.set_style('white')\n",
    "import string\n",
    "import pandas as pd"
   ]
  },
  {
   "cell_type": "markdown",
   "metadata": {},
   "source": [
    "## purpose"
   ]
  },
  {
   "cell_type": "markdown",
   "metadata": {},
   "source": [
    "* upload sketches to S3\n",
    "* build stimulus dictionary and write to database"
   ]
  },
  {
   "cell_type": "markdown",
   "metadata": {},
   "source": [
    "## upload sketches to s3"
   ]
  },
  {
   "cell_type": "code",
   "execution_count": 1,
   "metadata": {
    "collapsed": true
   },
   "outputs": [],
   "source": [
    "upload_dir = './sketch'"
   ]
  },
  {
   "cell_type": "code",
   "execution_count": 2,
   "metadata": {
    "collapsed": false
   },
   "outputs": [],
   "source": [
    "import boto\n",
    "runThis = 0\n",
    "if runThis:\n",
    "    conn = boto.connect_s3()\n",
    "    b = conn.create_bucket('sketchpad_basic_pilot2_sketches')\n",
    "    all_files = [i for i in os.listdir(upload_dir) if i != '.DS_Store']\n",
    "    for a in all_files:\n",
    "        print a\n",
    "        k = b.new_key(a)\n",
    "        k.set_contents_from_filename(os.path.join(upload_dir,a))\n",
    "        k.set_acl('public-read')"
   ]
  },
  {
   "cell_type": "markdown",
   "metadata": {},
   "source": [
    "## build stimulus dictionary"
   ]
  },
  {
   "cell_type": "code",
   "execution_count": 8,
   "metadata": {
    "collapsed": false
   },
   "outputs": [],
   "source": [
    "## read in experimental metadata file\n",
    "path_to_metadata = '../../analysis/sketchpad_basic_pilot2_group_data.csv'\n",
    "meta = pd.read_csv(path_to_metadata)"
   ]
  },
  {
   "cell_type": "code",
   "execution_count": 9,
   "metadata": {
    "collapsed": true
   },
   "outputs": [],
   "source": [
    "## clean up and add filename column\n",
    "meta2 = meta.drop(['svg','png','Unnamed: 0'],axis=1)\n",
    "filename = []\n",
    "games = []\n",
    "for i,row in meta2.iterrows():\n",
    "    filename.append('gameID_{}_trial_{}.png'.format(row['gameID'],row['trialNum']))\n",
    "    games.append([])\n",
    "meta2['filename'] = filename\n",
    "meta2['games'] = games"
   ]
  },
  {
   "cell_type": "code",
   "execution_count": null,
   "metadata": {
    "collapsed": false
   },
   "outputs": [],
   "source": []
  },
  {
   "cell_type": "code",
   "execution_count": 22,
   "metadata": {
    "collapsed": false
   },
   "outputs": [],
   "source": [
    "## write out metadata to json file\n",
    "stimdict = meta2.to_dict(orient='records')\n",
    "import json\n",
    "with open('sketchpad_basic_recog_meta.js', 'w') as fout:\n",
    "    json.dump(stimdict, fout)"
   ]
  },
  {
   "cell_type": "code",
   "execution_count": 12,
   "metadata": {
    "collapsed": false
   },
   "outputs": [],
   "source": [
    "J = json.loads(open('sketchpad_basic_recog_meta.js',mode='ru').read())\n",
    "assert len(J)==len(meta2)"
   ]
  },
  {
   "cell_type": "code",
   "execution_count": 13,
   "metadata": {
    "collapsed": false
   },
   "outputs": [
    {
     "data": {
      "text/plain": [
       "'93 unique games.'"
      ]
     },
     "execution_count": 13,
     "metadata": {},
     "output_type": "execute_result"
    }
   ],
   "source": [
    "'{} unique games.'.format(len(np.unique(meta2.gameID.values)))"
   ]
  },
  {
   "cell_type": "code",
   "execution_count": null,
   "metadata": {
    "collapsed": false
   },
   "outputs": [],
   "source": []
  },
  {
   "cell_type": "markdown",
   "metadata": {},
   "source": [
    "### upload stim dictionary to mongo (db = 'stimuli', collection='sketchpad_basic_recog')"
   ]
  },
  {
   "cell_type": "code",
   "execution_count": 26,
   "metadata": {
    "collapsed": true
   },
   "outputs": [],
   "source": [
    "# set vars \n",
    "auth = pd.read_csv('auth.txt', header = None) # this auth.txt file contains the password for the sketchloop user\n",
    "pswd = auth.values[0][0]\n",
    "user = 'sketchloop'\n",
    "host = 'rxdhawkins.me' ## cocolab ip address\n",
    "\n",
    "# have to fix this to be able to analyze from local\n",
    "import pymongo as pm\n",
    "conn = pm.MongoClient('mongodb://sketchloop:' + pswd + '@127.0.0.1')"
   ]
  },
  {
   "cell_type": "code",
   "execution_count": 27,
   "metadata": {
    "collapsed": false
   },
   "outputs": [],
   "source": [
    "db = conn['stimuli']\n",
    "coll = db['sketchpad_basic_pilot2_sketches']"
   ]
  },
  {
   "cell_type": "code",
   "execution_count": 28,
   "metadata": {
    "collapsed": false
   },
   "outputs": [
    {
     "name": "stdout",
     "output_type": "stream",
     "text": [
      "0 of 2976\n",
      "100 of 2976\n",
      "200 of 2976\n",
      "300 of 2976\n",
      "400 of 2976\n",
      "500 of 2976\n",
      "600 of 2976\n",
      "700 of 2976\n",
      "800 of 2976\n",
      "900 of 2976\n",
      "1000 of 2976\n",
      "1100 of 2976\n",
      "1200 of 2976\n",
      "1300 of 2976\n",
      "1400 of 2976\n",
      "1500 of 2976\n",
      "1600 of 2976\n",
      "1700 of 2976\n",
      "1800 of 2976\n",
      "1900 of 2976\n",
      "2000 of 2976\n",
      "2100 of 2976\n",
      "2200 of 2976\n",
      "2300 of 2976\n",
      "2400 of 2976\n",
      "2500 of 2976\n",
      "2600 of 2976\n",
      "2700 of 2976\n",
      "2800 of 2976\n",
      "2900 of 2976\n"
     ]
    }
   ],
   "source": [
    "## actually add data now to the database\n",
    "for (i,j) in enumerate(J):\n",
    "    if i%100==0:\n",
    "        print ('%d of %d' % (i,len(J)))\n",
    "    coll.insert_one(j)"
   ]
  },
  {
   "cell_type": "code",
   "execution_count": 29,
   "metadata": {
    "collapsed": false
   },
   "outputs": [
    {
     "data": {
      "text/plain": [
       "{u'Distractor1': u'crow',\n",
       " u'Distractor2': u'redsport',\n",
       " u'Distractor3': u'basset',\n",
       " u'_id': ObjectId('5a84f478a5319bcb0bb66227'),\n",
       " u'category': u'chair',\n",
       " u'condition': u'further',\n",
       " u'drawDuration': 18.389,\n",
       " u'filename': u'gameID_7004-6ff0964c-ff95-40f9-8696-d6a8931c94d5_trial_1.png',\n",
       " u'gameID': u'7004-6ff0964c-ff95-40f9-8696-d6a8931c94d5',\n",
       " u'games': [],\n",
       " u'iteration': u'pilot2',\n",
       " u'mean_intensity': 0.0347,\n",
       " u'numStrokes': 7,\n",
       " u'outcome': True,\n",
       " u'pose': 35,\n",
       " u'response': u'knob',\n",
       " u'svgStringLength': 566,\n",
       " u'svgStringLengthPerStroke': 80.85714285714286,\n",
       " u'svgStringStd': 22.87499302999782,\n",
       " u'target': u'knob',\n",
       " u'trialNum': 1,\n",
       " u'viewerRT': 6.656000000000001}"
      ]
     },
     "execution_count": 29,
     "metadata": {},
     "output_type": "execute_result"
    }
   ],
   "source": [
    "coll.find_one()"
   ]
  },
  {
   "cell_type": "code",
   "execution_count": null,
   "metadata": {
    "collapsed": false
   },
   "outputs": [],
   "source": []
  },
  {
   "cell_type": "code",
   "execution_count": 41,
   "metadata": {
    "collapsed": false
   },
   "outputs": [],
   "source": [
    "a = list(coll.aggregate([\n",
    "        { '$addFields' : { 'numGames': { \"$size\": '$games'} } }, \n",
    "        { '$sort' : { 'numGames' : 1} },  \n",
    "        { '$limit' : 10 }\n",
    "    ]))\n",
    "        "
   ]
  },
  {
   "cell_type": "code",
   "execution_count": 43,
   "metadata": {
    "collapsed": false
   },
   "outputs": [
    {
     "data": {
      "text/plain": [
       "[{u'Distractor1': u'leather',\n",
       "  u'Distractor2': u'inlay',\n",
       "  u'Distractor3': u'squat',\n",
       "  u'_id': ObjectId('5a84f478a5319bcb0bb6622f'),\n",
       "  u'category': u'chair',\n",
       "  u'condition': u'closer',\n",
       "  u'drawDuration': 21.246,\n",
       "  u'filename': u'gameID_7004-6ff0964c-ff95-40f9-8696-d6a8931c94d5_trial_9.png',\n",
       "  u'gameID': u'7004-6ff0964c-ff95-40f9-8696-d6a8931c94d5',\n",
       "  u'games': [],\n",
       "  u'iteration': u'pilot2',\n",
       "  u'mean_intensity': 0.0722,\n",
       "  u'numGames': 0,\n",
       "  u'numStrokes': 11,\n",
       "  u'outcome': True,\n",
       "  u'pose': 35,\n",
       "  u'response': u'waiting',\n",
       "  u'svgStringLength': 1950,\n",
       "  u'svgStringLengthPerStroke': 177.27272727272728,\n",
       "  u'svgStringStd': 214.87590114426976,\n",
       "  u'target': u'waiting',\n",
       "  u'trialNum': 9,\n",
       "  u'viewerRT': 1.7930000000000001},\n",
       " {u'Distractor1': u'leather',\n",
       "  u'Distractor2': u'waiting',\n",
       "  u'Distractor3': u'squat',\n",
       "  u'_id': ObjectId('5a84f478a5319bcb0bb66230'),\n",
       "  u'category': u'chair',\n",
       "  u'condition': u'closer',\n",
       "  u'drawDuration': 25.374000000000002,\n",
       "  u'filename': u'gameID_7004-6ff0964c-ff95-40f9-8696-d6a8931c94d5_trial_10.png',\n",
       "  u'gameID': u'7004-6ff0964c-ff95-40f9-8696-d6a8931c94d5',\n",
       "  u'games': [],\n",
       "  u'iteration': u'pilot2',\n",
       "  u'mean_intensity': 0.0566,\n",
       "  u'numGames': 0,\n",
       "  u'numStrokes': 14,\n",
       "  u'outcome': True,\n",
       "  u'pose': 35,\n",
       "  u'response': u'inlay',\n",
       "  u'svgStringLength': 1853,\n",
       "  u'svgStringLengthPerStroke': 132.35714285714286,\n",
       "  u'svgStringStd': 130.3460269233162,\n",
       "  u'target': u'inlay',\n",
       "  u'trialNum': 10,\n",
       "  u'viewerRT': 1.847},\n",
       " {u'Distractor1': u'weimaraner',\n",
       "  u'Distractor2': u'doberman',\n",
       "  u'Distractor3': u'chihuahua',\n",
       "  u'_id': ObjectId('5a84f478a5319bcb0bb6622b'),\n",
       "  u'category': u'dog',\n",
       "  u'condition': u'closer',\n",
       "  u'drawDuration': 34.26,\n",
       "  u'filename': u'gameID_7004-6ff0964c-ff95-40f9-8696-d6a8931c94d5_trial_5.png',\n",
       "  u'gameID': u'7004-6ff0964c-ff95-40f9-8696-d6a8931c94d5',\n",
       "  u'games': [],\n",
       "  u'iteration': u'pilot2',\n",
       "  u'mean_intensity': 0.0381,\n",
       "  u'numGames': 0,\n",
       "  u'numStrokes': 12,\n",
       "  u'outcome': False,\n",
       "  u'pose': 35,\n",
       "  u'response': u'chihuahua',\n",
       "  u'svgStringLength': 1280,\n",
       "  u'svgStringLengthPerStroke': 106.66666666666669,\n",
       "  u'svgStringStd': 55.52677032046995,\n",
       "  u'target': u'pug',\n",
       "  u'trialNum': 5,\n",
       "  u'viewerRT': 5.739},\n",
       " {u'Distractor1': u'crow',\n",
       "  u'Distractor2': u'redsport',\n",
       "  u'Distractor3': u'knob',\n",
       "  u'_id': ObjectId('5a84f478a5319bcb0bb6622e'),\n",
       "  u'category': u'dog',\n",
       "  u'condition': u'further',\n",
       "  u'drawDuration': 10.582,\n",
       "  u'filename': u'gameID_7004-6ff0964c-ff95-40f9-8696-d6a8931c94d5_trial_8.png',\n",
       "  u'gameID': u'7004-6ff0964c-ff95-40f9-8696-d6a8931c94d5',\n",
       "  u'games': [],\n",
       "  u'iteration': u'pilot2',\n",
       "  u'mean_intensity': 0.0453,\n",
       "  u'numGames': 0,\n",
       "  u'numStrokes': 8,\n",
       "  u'outcome': True,\n",
       "  u'pose': 35,\n",
       "  u'response': u'basset',\n",
       "  u'svgStringLength': 1124,\n",
       "  u'svgStringLengthPerStroke': 140.5,\n",
       "  u'svgStringStd': 73.07359304153587,\n",
       "  u'target': u'basset',\n",
       "  u'trialNum': 8,\n",
       "  u'viewerRT': 3.965},\n",
       " {u'Distractor1': u'doberman',\n",
       "  u'Distractor2': u'chihuahua',\n",
       "  u'Distractor3': u'pug',\n",
       "  u'_id': ObjectId('5a84f478a5319bcb0bb6622c'),\n",
       "  u'category': u'dog',\n",
       "  u'condition': u'closer',\n",
       "  u'drawDuration': 27.287,\n",
       "  u'filename': u'gameID_7004-6ff0964c-ff95-40f9-8696-d6a8931c94d5_trial_6.png',\n",
       "  u'gameID': u'7004-6ff0964c-ff95-40f9-8696-d6a8931c94d5',\n",
       "  u'games': [],\n",
       "  u'iteration': u'pilot2',\n",
       "  u'mean_intensity': 0.0496,\n",
       "  u'numGames': 0,\n",
       "  u'numStrokes': 15,\n",
       "  u'outcome': False,\n",
       "  u'pose': 35,\n",
       "  u'response': u'doberman',\n",
       "  u'svgStringLength': 1165,\n",
       "  u'svgStringLengthPerStroke': 77.66666666666667,\n",
       "  u'svgStringStd': 46.28558690948572,\n",
       "  u'target': u'weimaraner',\n",
       "  u'trialNum': 6,\n",
       "  u'viewerRT': 2.241},\n",
       " {u'Distractor1': u'weimaraner',\n",
       "  u'Distractor2': u'doberman',\n",
       "  u'Distractor3': u'pug',\n",
       "  u'_id': ObjectId('5a84f478a5319bcb0bb6622a'),\n",
       "  u'category': u'dog',\n",
       "  u'condition': u'closer',\n",
       "  u'drawDuration': 24.122,\n",
       "  u'filename': u'gameID_7004-6ff0964c-ff95-40f9-8696-d6a8931c94d5_trial_4.png',\n",
       "  u'gameID': u'7004-6ff0964c-ff95-40f9-8696-d6a8931c94d5',\n",
       "  u'games': [],\n",
       "  u'iteration': u'pilot2',\n",
       "  u'mean_intensity': 0.0371,\n",
       "  u'numGames': 0,\n",
       "  u'numStrokes': 14,\n",
       "  u'outcome': True,\n",
       "  u'pose': 35,\n",
       "  u'response': u'chihuahua',\n",
       "  u'svgStringLength': 1129,\n",
       "  u'svgStringLengthPerStroke': 80.64285714285714,\n",
       "  u'svgStringStd': 46.75866175351463,\n",
       "  u'target': u'chihuahua',\n",
       "  u'trialNum': 4,\n",
       "  u'viewerRT': 3.133},\n",
       " {u'Distractor1': u'crow',\n",
       "  u'Distractor2': u'knob',\n",
       "  u'Distractor3': u'basset',\n",
       "  u'_id': ObjectId('5a84f478a5319bcb0bb66228'),\n",
       "  u'category': u'car',\n",
       "  u'condition': u'further',\n",
       "  u'drawDuration': 2.82,\n",
       "  u'filename': u'gameID_7004-6ff0964c-ff95-40f9-8696-d6a8931c94d5_trial_2.png',\n",
       "  u'gameID': u'7004-6ff0964c-ff95-40f9-8696-d6a8931c94d5',\n",
       "  u'games': [],\n",
       "  u'iteration': u'pilot2',\n",
       "  u'mean_intensity': 0.032,\n",
       "  u'numGames': 0,\n",
       "  u'numStrokes': 3,\n",
       "  u'outcome': True,\n",
       "  u'pose': 35,\n",
       "  u'response': u'redsport',\n",
       "  u'svgStringLength': 587,\n",
       "  u'svgStringLengthPerStroke': 195.66666666666663,\n",
       "  u'svgStringStd': 118.44079627485719,\n",
       "  u'target': u'redsport',\n",
       "  u'trialNum': 2,\n",
       "  u'viewerRT': 5.607},\n",
       " {u'Distractor1': u'crow',\n",
       "  u'Distractor2': u'redsport',\n",
       "  u'Distractor3': u'basset',\n",
       "  u'_id': ObjectId('5a84f478a5319bcb0bb66227'),\n",
       "  u'category': u'chair',\n",
       "  u'condition': u'further',\n",
       "  u'drawDuration': 18.389,\n",
       "  u'filename': u'gameID_7004-6ff0964c-ff95-40f9-8696-d6a8931c94d5_trial_1.png',\n",
       "  u'gameID': u'7004-6ff0964c-ff95-40f9-8696-d6a8931c94d5',\n",
       "  u'games': [],\n",
       "  u'iteration': u'pilot2',\n",
       "  u'mean_intensity': 0.0347,\n",
       "  u'numGames': 0,\n",
       "  u'numStrokes': 7,\n",
       "  u'outcome': True,\n",
       "  u'pose': 35,\n",
       "  u'response': u'knob',\n",
       "  u'svgStringLength': 566,\n",
       "  u'svgStringLengthPerStroke': 80.85714285714286,\n",
       "  u'svgStringStd': 22.87499302999782,\n",
       "  u'target': u'knob',\n",
       "  u'trialNum': 1,\n",
       "  u'viewerRT': 6.656000000000001},\n",
       " {u'Distractor1': u'beetle',\n",
       "  u'Distractor2': u'hatchback',\n",
       "  u'Distractor3': u'bluesedan',\n",
       "  u'_id': ObjectId('5a84f478a5319bcb0bb66229'),\n",
       "  u'category': u'car',\n",
       "  u'condition': u'closer',\n",
       "  u'drawDuration': 22.093000000000004,\n",
       "  u'filename': u'gameID_7004-6ff0964c-ff95-40f9-8696-d6a8931c94d5_trial_3.png',\n",
       "  u'gameID': u'7004-6ff0964c-ff95-40f9-8696-d6a8931c94d5',\n",
       "  u'games': [],\n",
       "  u'iteration': u'pilot2',\n",
       "  u'mean_intensity': 0.0466,\n",
       "  u'numGames': 0,\n",
       "  u'numStrokes': 5,\n",
       "  u'outcome': False,\n",
       "  u'pose': 35,\n",
       "  u'response': u'beetle',\n",
       "  u'svgStringLength': 1284,\n",
       "  u'svgStringLengthPerStroke': 256.8,\n",
       "  u'svgStringStd': 173.53431937227865,\n",
       "  u'target': u'bluesport',\n",
       "  u'trialNum': 3,\n",
       "  u'viewerRT': 6.695},\n",
       " {u'Distractor1': u'robin',\n",
       "  u'Distractor2': u'sling',\n",
       "  u'Distractor3': u'bullmastiff',\n",
       "  u'_id': ObjectId('5a84f478a5319bcb0bb6622d'),\n",
       "  u'category': u'car',\n",
       "  u'condition': u'further',\n",
       "  u'drawDuration': 4.3919999999999995,\n",
       "  u'filename': u'gameID_7004-6ff0964c-ff95-40f9-8696-d6a8931c94d5_trial_7.png',\n",
       "  u'gameID': u'7004-6ff0964c-ff95-40f9-8696-d6a8931c94d5',\n",
       "  u'games': [],\n",
       "  u'iteration': u'pilot2',\n",
       "  u'mean_intensity': 0.039,\n",
       "  u'numGames': 0,\n",
       "  u'numStrokes': 4,\n",
       "  u'outcome': True,\n",
       "  u'pose': 35,\n",
       "  u'response': u'redantique',\n",
       "  u'svgStringLength': 714,\n",
       "  u'svgStringLengthPerStroke': 178.5,\n",
       "  u'svgStringStd': 139.02967309175406,\n",
       "  u'target': u'redantique',\n",
       "  u'trialNum': 7,\n",
       "  u'viewerRT': 2.127}]"
      ]
     },
     "execution_count": 43,
     "metadata": {},
     "output_type": "execute_result"
    }
   ],
   "source": [
    "a"
   ]
  },
  {
   "cell_type": "code",
   "execution_count": null,
   "metadata": {
    "collapsed": true
   },
   "outputs": [],
   "source": []
  }
 ],
 "metadata": {
  "kernelspec": {
   "display_name": "Python 2",
   "language": "python",
   "name": "python2"
  },
  "language_info": {
   "codemirror_mode": {
    "name": "ipython",
    "version": 2
   },
   "file_extension": ".py",
   "mimetype": "text/x-python",
   "name": "python",
   "nbconvert_exporter": "python",
   "pygments_lexer": "ipython2",
   "version": "2.7.12"
  }
 },
 "nbformat": 4,
 "nbformat_minor": 0
}
