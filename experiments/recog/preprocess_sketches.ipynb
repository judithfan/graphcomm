{
 "cells": [
  {
   "cell_type": "code",
   "execution_count": 4,
   "metadata": {
    "collapsed": true
   },
   "outputs": [],
   "source": [
    "%matplotlib inline\n",
    "from skimage import data, io, filters\n",
    "import os\n",
    "import numpy as np\n",
    "from PIL import Image\n",
    "import matplotlib\n",
    "from matplotlib import pyplot,pylab\n",
    "plt = pyplot\n",
    "import scipy\n",
    "from __future__ import division\n",
    "import seaborn as sns\n",
    "sns.set_style('white')\n",
    "import string\n",
    "import pandas as pd"
   ]
  },
  {
   "cell_type": "markdown",
   "metadata": {},
   "source": [
    "## purpose"
   ]
  },
  {
   "cell_type": "markdown",
   "metadata": {},
   "source": [
    "* upload sketches to S3\n",
    "* build stimulus dictionary and write to database"
   ]
  },
  {
   "cell_type": "markdown",
   "metadata": {},
   "source": [
    "## upload sketches to s3"
   ]
  },
  {
   "cell_type": "code",
   "execution_count": 1,
   "metadata": {
    "collapsed": true
   },
   "outputs": [],
   "source": [
    "upload_dir = './sketch'"
   ]
  },
  {
   "cell_type": "code",
   "execution_count": 2,
   "metadata": {
    "collapsed": false
   },
   "outputs": [],
   "source": [
    "import boto\n",
    "runThis = 0\n",
    "if runThis:\n",
    "    conn = boto.connect_s3()\n",
    "    b = conn.create_bucket('sketchpad_basic_pilot2_sketches')\n",
    "    all_files = [i for i in os.listdir(upload_dir) if i != '.DS_Store']\n",
    "    for a in all_files:\n",
    "        print a\n",
    "        k = b.new_key(a)\n",
    "        k.set_contents_from_filename(os.path.join(upload_dir,a))\n",
    "        k.set_acl('public-read')"
   ]
  },
  {
   "cell_type": "markdown",
   "metadata": {},
   "source": [
    "## build stimulus dictionary"
   ]
  },
  {
   "cell_type": "code",
   "execution_count": 8,
   "metadata": {
    "collapsed": false
   },
   "outputs": [],
   "source": [
    "## read in experimental metadata file\n",
    "path_to_metadata = '../../analysis/sketchpad_basic_pilot2_group_data.csv'\n",
    "meta = pd.read_csv(path_to_metadata)"
   ]
  },
  {
   "cell_type": "code",
   "execution_count": 9,
   "metadata": {
    "collapsed": true
   },
   "outputs": [],
   "source": [
    "## clean up and add filename column\n",
    "meta2 = meta.drop(['svg','png','Unnamed: 0'],axis=1)\n",
    "filename = []\n",
    "games = []\n",
    "for i,row in meta2.iterrows():\n",
    "    filename.append('gameID_{}_trial_{}.png'.format(row['gameID'],row['trialNum']))\n",
    "    games.append([])\n",
    "meta2['filename'] = filename\n",
    "meta2['games'] = games"
   ]
  },
  {
   "cell_type": "code",
   "execution_count": null,
   "metadata": {
    "collapsed": false
   },
   "outputs": [],
   "source": []
  },
  {
   "cell_type": "code",
   "execution_count": 22,
   "metadata": {
    "collapsed": false
   },
   "outputs": [],
   "source": [
    "## write out metadata to json file\n",
    "stimdict = meta2.to_dict(orient='records')\n",
    "import json\n",
    "with open('sketchpad_basic_recog_meta.js', 'w') as fout:\n",
    "    json.dump(stimdict, fout)"
   ]
  },
  {
   "cell_type": "code",
   "execution_count": 12,
   "metadata": {
    "collapsed": false
   },
   "outputs": [],
   "source": [
    "J = json.loads(open('sketchpad_basic_recog_meta.js',mode='ru').read())\n",
    "assert len(J)==len(meta2)"
   ]
  },
  {
   "cell_type": "code",
   "execution_count": 13,
   "metadata": {
    "collapsed": false
   },
   "outputs": [
    {
     "data": {
      "text/plain": [
       "'93 unique games.'"
      ]
     },
     "execution_count": 13,
     "metadata": {},
     "output_type": "execute_result"
    }
   ],
   "source": [
    "'{} unique games.'.format(len(np.unique(meta2.gameID.values)))"
   ]
  },
  {
   "cell_type": "code",
   "execution_count": null,
   "metadata": {
    "collapsed": false
   },
   "outputs": [],
   "source": []
  },
  {
   "cell_type": "markdown",
   "metadata": {},
   "source": [
    "### upload stim dictionary to mongo (db = 'stimuli', collection='sketchpad_basic_recog')"
   ]
  },
  {
   "cell_type": "code",
   "execution_count": 57,
   "metadata": {
    "collapsed": true
   },
   "outputs": [],
   "source": [
    "# set vars \n",
    "auth = pd.read_csv('auth.txt', header = None) # this auth.txt file contains the password for the sketchloop user\n",
    "pswd = auth.values[0][0]\n",
    "user = 'sketchloop'\n",
    "host = 'rxdhawkins.me' ## cocolab ip address\n",
    "\n",
    "# have to fix this to be able to analyze from local\n",
    "import pymongo as pm\n",
    "conn = pm.MongoClient('mongodb://sketchloop:' + pswd + '@127.0.0.1')"
   ]
  },
  {
   "cell_type": "code",
   "execution_count": 58,
   "metadata": {
    "collapsed": false
   },
   "outputs": [],
   "source": [
    "db = conn['stimuli']\n",
    "coll = db['sketchpad_basic_pilot2_sketches']"
   ]
  },
  {
   "cell_type": "code",
   "execution_count": 60,
   "metadata": {
    "collapsed": false
   },
   "outputs": [
    {
     "name": "stdout",
     "output_type": "stream",
     "text": [
      "0 of 2976\n",
      "100 of 2976\n",
      "200 of 2976\n",
      "300 of 2976\n",
      "400 of 2976\n",
      "500 of 2976\n",
      "600 of 2976\n",
      "700 of 2976\n",
      "800 of 2976\n",
      "900 of 2976\n",
      "1000 of 2976\n",
      "1100 of 2976\n",
      "1200 of 2976\n",
      "1300 of 2976\n",
      "1400 of 2976\n",
      "1500 of 2976\n",
      "1600 of 2976\n",
      "1700 of 2976\n",
      "1800 of 2976\n",
      "1900 of 2976\n",
      "2000 of 2976\n",
      "2100 of 2976\n",
      "2200 of 2976\n",
      "2300 of 2976\n",
      "2400 of 2976\n",
      "2500 of 2976\n",
      "2600 of 2976\n",
      "2700 of 2976\n",
      "2800 of 2976\n",
      "2900 of 2976\n"
     ]
    }
   ],
   "source": [
    "## actually add data now to the database\n",
    "for (i,j) in enumerate(J):\n",
    "    if i%100==0:\n",
    "        print ('%d of %d' % (i,len(J)))\n",
    "    coll.insert_one(j)"
   ]
  },
  {
   "cell_type": "code",
   "execution_count": 61,
   "metadata": {
    "collapsed": false
   },
   "outputs": [
    {
     "data": {
      "text/plain": [
       "{u'Distractor1': u'crow',\n",
       " u'Distractor2': u'redsport',\n",
       " u'Distractor3': u'basset',\n",
       " u'_id': ObjectId('5a84f478a5319bcb0bb66227'),\n",
       " u'category': u'chair',\n",
       " u'condition': u'further',\n",
       " u'drawDuration': 18.389,\n",
       " u'filename': u'gameID_7004-6ff0964c-ff95-40f9-8696-d6a8931c94d5_trial_1.png',\n",
       " u'gameID': u'7004-6ff0964c-ff95-40f9-8696-d6a8931c94d5',\n",
       " u'games': [u'0792-015a7438-4b37-4259-8f9d-f938ef0ca60e',\n",
       "  u'8151-02a9384f-111a-4eb1-973d-9ea5e81faefa'],\n",
       " u'iteration': u'pilot2',\n",
       " u'mean_intensity': 0.0347,\n",
       " u'numGames': 2,\n",
       " u'numStrokes': 7,\n",
       " u'outcome': True,\n",
       " u'pose': 35,\n",
       " u'response': u'knob',\n",
       " u'svgStringLength': 566,\n",
       " u'svgStringLengthPerStroke': 80.85714285714286,\n",
       " u'svgStringStd': 22.87499302999782,\n",
       " u'target': u'knob',\n",
       " u'trialNum': 1,\n",
       " u'viewerRT': 6.656000000000001}"
      ]
     },
     "execution_count": 61,
     "metadata": {},
     "output_type": "execute_result"
    }
   ],
   "source": [
    "coll.find_one()"
   ]
  },
  {
   "cell_type": "code",
   "execution_count": 62,
   "metadata": {
    "collapsed": false
   },
   "outputs": [
    {
     "data": {
      "text/plain": [
       "2976"
      ]
     },
     "execution_count": 62,
     "metadata": {},
     "output_type": "execute_result"
    }
   ],
   "source": [
    "coll.count()"
   ]
  },
  {
   "cell_type": "code",
   "execution_count": 41,
   "metadata": {
    "collapsed": false
   },
   "outputs": [],
   "source": [
    "# a = list(coll.aggregate([\n",
    "#         { '$addFields' : { 'numGames': { \"$size\": '$games'} } }, \n",
    "#         { '$sort' : { 'numGames' : 1} },  \n",
    "#         { '$limit' : 10 }\n",
    "#     ]))        "
   ]
  },
  {
   "cell_type": "markdown",
   "metadata": {},
   "source": [
    "### crop 3d objects \n"
   ]
  },
  {
   "cell_type": "code",
   "execution_count": 139,
   "metadata": {
    "collapsed": false
   },
   "outputs": [],
   "source": [
    "import os\n",
    "from PIL import Image\n",
    "\n",
    "def RGBA2RGB(image, color=(255, 255, 255)):\n",
    "    \"\"\"Alpha composite an RGBA Image with a specified color.\n",
    "\n",
    "    Simpler, faster version than the solutions above.\n",
    "\n",
    "    Source: http://stackoverflow.com/a/9459208/284318\n",
    "\n",
    "    Keyword Arguments:\n",
    "    image -- PIL RGBA Image object\n",
    "    color -- Tuple r, g, b (default 255, 255, 255)\n",
    "\n",
    "    \"\"\"\n",
    "    image.load()  # needed for split()\n",
    "    background = Image.new('RGB', image.size, color)\n",
    "    background.paste(image, mask=image.split()[3])  # 3 is the alpha channel\n",
    "    return background\n",
    "\n",
    "def load_and_crop_image(path, dest='object_cropped', imsize=224):\n",
    "    im = Image.open(path)\n",
    "    if np.array(im).shape[-1] == 4:\n",
    "        im = RGBA2RGB(im)\n",
    "    \n",
    "    # crop to sketch only (eliminate white space)\n",
    "    arr = np.asarray(im)\n",
    "    if len(arr.shape)==2:\n",
    "        w,h = np.where(arr<255)\n",
    "    else:\n",
    "        w,h,d = np.where(arr<255) # where the image is not white        \n",
    "    if len(h)==0:\n",
    "        print(path)            \n",
    "    xlb = min(h)\n",
    "    xub = max(h)\n",
    "    ylb = min(w)\n",
    "    yub = max(w)\n",
    "    lb = min([xlb,ylb])\n",
    "    ub = max([xub,yub])            \n",
    "    im = im.crop((lb, lb, ub, ub))  \n",
    "    im = im.resize((imsize, imsize), Image.ANTIALIAS)\n",
    "    objname = path.split('/')[-1]\n",
    "    if not os.path.exists(dest):\n",
    "        os.makedirs(dest)\n",
    "    im.save(os.path.join(dest,objname))"
   ]
  },
  {
   "cell_type": "code",
   "execution_count": null,
   "metadata": {
    "collapsed": false
   },
   "outputs": [],
   "source": []
  },
  {
   "cell_type": "code",
   "execution_count": 140,
   "metadata": {
    "collapsed": false
   },
   "outputs": [],
   "source": [
    "## actually crop images now\n",
    "data_dir = './object'\n",
    "allobjs = ['./object/' + i for i in os.listdir(data_dir)]\n",
    "for o in allobjs:\n",
    "    load_and_crop_image(o)"
   ]
  },
  {
   "cell_type": "code",
   "execution_count": 136,
   "metadata": {
    "collapsed": false
   },
   "outputs": [],
   "source": []
  },
  {
   "cell_type": "code",
   "execution_count": null,
   "metadata": {
    "collapsed": false
   },
   "outputs": [],
   "source": []
  },
  {
   "cell_type": "code",
   "execution_count": null,
   "metadata": {
    "collapsed": true
   },
   "outputs": [],
   "source": []
  }
 ],
 "metadata": {
  "kernelspec": {
   "display_name": "Python 2",
   "language": "python",
   "name": "python2"
  },
  "language_info": {
   "codemirror_mode": {
    "name": "ipython",
    "version": 2
   },
   "file_extension": ".py",
   "mimetype": "text/x-python",
   "name": "python",
   "nbconvert_exporter": "python",
   "pygments_lexer": "ipython2",
   "version": "2.7.12"
  }
 },
 "nbformat": 4,
 "nbformat_minor": 0
}
